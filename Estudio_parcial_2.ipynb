{
  "nbformat": 4,
  "nbformat_minor": 0,
  "metadata": {
    "colab": {
      "provenance": [],
      "toc_visible": true,
      "authorship_tag": "ABX9TyN7M5tOzFu3ba46JzIHdRog",
      "include_colab_link": true
    },
    "kernelspec": {
      "name": "python3",
      "display_name": "Python 3"
    },
    "language_info": {
      "name": "python"
    }
  },
  "cells": [
    {
      "cell_type": "markdown",
      "metadata": {
        "id": "view-in-github",
        "colab_type": "text"
      },
      "source": [
        "<a href=\"https://colab.research.google.com/github/fcochaux/estudio_parcial_2/blob/main/Estudio_parcial_2.ipynb\" target=\"_parent\"><img src=\"https://colab.research.google.com/assets/colab-badge.svg\" alt=\"Open In Colab\"/></a>"
      ]
    },
    {
      "cell_type": "markdown",
      "source": [
        "Acceso a repositorio:"
      ],
      "metadata": {
        "id": "fsJfKj3KQcfF"
      }
    },
    {
      "cell_type": "code",
      "source": [
        "!git clone \"https://github.com/fcochaux/estudio_parcial_2.git\""
      ],
      "metadata": {
        "colab": {
          "base_uri": "https://localhost:8080/"
        },
        "id": "2_4rg2RzQfmO",
        "outputId": "76362857-ab71-4905-93d3-920e795ceb3a"
      },
      "execution_count": null,
      "outputs": [
        {
          "output_type": "stream",
          "name": "stdout",
          "text": [
            "Cloning into 'estudio_parcial_2'...\n",
            "remote: Enumerating objects: 29, done.\u001b[K\n",
            "remote: Counting objects: 100% (29/29), done.\u001b[K\n",
            "remote: Compressing objects: 100% (23/23), done.\u001b[K\n",
            "remote: Total 29 (delta 3), reused 0 (delta 0), pack-reused 0\u001b[K\n",
            "Unpacking objects: 100% (29/29), done.\n"
          ]
        }
      ]
    },
    {
      "cell_type": "markdown",
      "source": [
        "El siguiente código impide la generación de mensajes de advertencia:"
      ],
      "metadata": {
        "id": "my4hHL22NbkF"
      }
    },
    {
      "cell_type": "code",
      "source": [
        "import warnings\n",
        "warnings.filterwarnings('ignore')"
      ],
      "metadata": {
        "id": "Tjfqm2bjNepc"
      },
      "execution_count": null,
      "outputs": []
    },
    {
      "cell_type": "markdown",
      "source": [
        "Carga de librerías:"
      ],
      "metadata": {
        "id": "vi4NG2iyGNV9"
      }
    },
    {
      "cell_type": "code",
      "source": [
        "# procesamiento\n",
        "\n",
        "import numpy as np\n",
        "import pandas as pd\n",
        "\n",
        "# visualización\n",
        "\n",
        "import matplotlib.pyplot as plt\n",
        "import seaborn as sns\n",
        "\n",
        "# aprendizaje\n",
        "\n",
        "from sklearn.model_selection import train_test_split\n",
        "from sklearn.preprocessing import StandardScaler, OneHotEncoder, PolynomialFeatures, MinMaxScaler\n",
        "from sklearn.pipeline import Pipeline\n",
        "from sklearn.model_selection import GridSearchCV\n",
        "from sklearn.metrics import confusion_matrix, ConfusionMatrixDisplay, precision_score, recall_score, f1_score\n",
        "from sklearn.linear_model import LogisticRegression\n",
        "from sklearn.svm import SVC\n",
        "from sklearn.decomposition import PCA\n",
        "from sklearn.tree import DecisionTreeClassifier\n",
        "from sklearn.ensemble import RandomForestClassifier\n",
        "from sklearn.neural_network import MLPClassifier\n",
        "import xgboost as xgb"
      ],
      "metadata": {
        "id": "-udaYqdnGQcJ"
      },
      "execution_count": null,
      "outputs": []
    },
    {
      "cell_type": "markdown",
      "source": [
        "# 1) Preparación del conjunto de datos\n",
        "\n",
        "Lectura de la base de datos:\n",
        "\n",
        "__Fuente de información__: https://www.kaggle.com/datasets/rashikrahmanpritom/heart-attack-analysis-prediction-dataset"
      ],
      "metadata": {
        "id": "YWLB1c5iHQWF"
      }
    },
    {
      "cell_type": "code",
      "source": [
        "# lectura del conjunto de datos\n",
        "df = pd.read_csv('/content/estudio_parcial_2/datos/heart.csv')\n",
        "# convierte nombres a minúsculas\n",
        "df.columns = df.columns.str.lower()\n",
        "# revisa 5 casos al azar\n",
        "df.sample(5)"
      ],
      "metadata": {
        "colab": {
          "base_uri": "https://localhost:8080/",
          "height": 270
        },
        "id": "K-qbhvzhHVkd",
        "outputId": "4be7fe18-9534-4881-889a-d6a4ae69fc97"
      },
      "execution_count": null,
      "outputs": [
        {
          "output_type": "execute_result",
          "data": {
            "text/plain": [
              "     age  sex  cp  trtbps  chol  fbs  restecg  thalachh  exng  oldpeak  slp  \\\n",
              "268   54    1   0     122   286    0        0       116     1      3.2    1   \n",
              "189   41    1   0     110   172    0        0       158     0      0.0    2   \n",
              "24    40    1   3     140   199    0        1       178     1      1.4    2   \n",
              "69    62    0   0     124   209    0        1       163     0      0.0    2   \n",
              "61    54    1   1     108   309    0        1       156     0      0.0    2   \n",
              "\n",
              "     caa  thall  output  \n",
              "268    2      2       0  \n",
              "189    0      3       0  \n",
              "24     0      3       1  \n",
              "69     0      2       1  \n",
              "61     0      3       1  "
            ],
            "text/html": [
              "\n",
              "  <div id=\"df-70576290-3775-4a15-8f63-ae02da5099a9\">\n",
              "    <div class=\"colab-df-container\">\n",
              "      <div>\n",
              "<style scoped>\n",
              "    .dataframe tbody tr th:only-of-type {\n",
              "        vertical-align: middle;\n",
              "    }\n",
              "\n",
              "    .dataframe tbody tr th {\n",
              "        vertical-align: top;\n",
              "    }\n",
              "\n",
              "    .dataframe thead th {\n",
              "        text-align: right;\n",
              "    }\n",
              "</style>\n",
              "<table border=\"1\" class=\"dataframe\">\n",
              "  <thead>\n",
              "    <tr style=\"text-align: right;\">\n",
              "      <th></th>\n",
              "      <th>age</th>\n",
              "      <th>sex</th>\n",
              "      <th>cp</th>\n",
              "      <th>trtbps</th>\n",
              "      <th>chol</th>\n",
              "      <th>fbs</th>\n",
              "      <th>restecg</th>\n",
              "      <th>thalachh</th>\n",
              "      <th>exng</th>\n",
              "      <th>oldpeak</th>\n",
              "      <th>slp</th>\n",
              "      <th>caa</th>\n",
              "      <th>thall</th>\n",
              "      <th>output</th>\n",
              "    </tr>\n",
              "  </thead>\n",
              "  <tbody>\n",
              "    <tr>\n",
              "      <th>268</th>\n",
              "      <td>54</td>\n",
              "      <td>1</td>\n",
              "      <td>0</td>\n",
              "      <td>122</td>\n",
              "      <td>286</td>\n",
              "      <td>0</td>\n",
              "      <td>0</td>\n",
              "      <td>116</td>\n",
              "      <td>1</td>\n",
              "      <td>3.2</td>\n",
              "      <td>1</td>\n",
              "      <td>2</td>\n",
              "      <td>2</td>\n",
              "      <td>0</td>\n",
              "    </tr>\n",
              "    <tr>\n",
              "      <th>189</th>\n",
              "      <td>41</td>\n",
              "      <td>1</td>\n",
              "      <td>0</td>\n",
              "      <td>110</td>\n",
              "      <td>172</td>\n",
              "      <td>0</td>\n",
              "      <td>0</td>\n",
              "      <td>158</td>\n",
              "      <td>0</td>\n",
              "      <td>0.0</td>\n",
              "      <td>2</td>\n",
              "      <td>0</td>\n",
              "      <td>3</td>\n",
              "      <td>0</td>\n",
              "    </tr>\n",
              "    <tr>\n",
              "      <th>24</th>\n",
              "      <td>40</td>\n",
              "      <td>1</td>\n",
              "      <td>3</td>\n",
              "      <td>140</td>\n",
              "      <td>199</td>\n",
              "      <td>0</td>\n",
              "      <td>1</td>\n",
              "      <td>178</td>\n",
              "      <td>1</td>\n",
              "      <td>1.4</td>\n",
              "      <td>2</td>\n",
              "      <td>0</td>\n",
              "      <td>3</td>\n",
              "      <td>1</td>\n",
              "    </tr>\n",
              "    <tr>\n",
              "      <th>69</th>\n",
              "      <td>62</td>\n",
              "      <td>0</td>\n",
              "      <td>0</td>\n",
              "      <td>124</td>\n",
              "      <td>209</td>\n",
              "      <td>0</td>\n",
              "      <td>1</td>\n",
              "      <td>163</td>\n",
              "      <td>0</td>\n",
              "      <td>0.0</td>\n",
              "      <td>2</td>\n",
              "      <td>0</td>\n",
              "      <td>2</td>\n",
              "      <td>1</td>\n",
              "    </tr>\n",
              "    <tr>\n",
              "      <th>61</th>\n",
              "      <td>54</td>\n",
              "      <td>1</td>\n",
              "      <td>1</td>\n",
              "      <td>108</td>\n",
              "      <td>309</td>\n",
              "      <td>0</td>\n",
              "      <td>1</td>\n",
              "      <td>156</td>\n",
              "      <td>0</td>\n",
              "      <td>0.0</td>\n",
              "      <td>2</td>\n",
              "      <td>0</td>\n",
              "      <td>3</td>\n",
              "      <td>1</td>\n",
              "    </tr>\n",
              "  </tbody>\n",
              "</table>\n",
              "</div>\n",
              "      <button class=\"colab-df-convert\" onclick=\"convertToInteractive('df-70576290-3775-4a15-8f63-ae02da5099a9')\"\n",
              "              title=\"Convert this dataframe to an interactive table.\"\n",
              "              style=\"display:none;\">\n",
              "        \n",
              "  <svg xmlns=\"http://www.w3.org/2000/svg\" height=\"24px\"viewBox=\"0 0 24 24\"\n",
              "       width=\"24px\">\n",
              "    <path d=\"M0 0h24v24H0V0z\" fill=\"none\"/>\n",
              "    <path d=\"M18.56 5.44l.94 2.06.94-2.06 2.06-.94-2.06-.94-.94-2.06-.94 2.06-2.06.94zm-11 1L8.5 8.5l.94-2.06 2.06-.94-2.06-.94L8.5 2.5l-.94 2.06-2.06.94zm10 10l.94 2.06.94-2.06 2.06-.94-2.06-.94-.94-2.06-.94 2.06-2.06.94z\"/><path d=\"M17.41 7.96l-1.37-1.37c-.4-.4-.92-.59-1.43-.59-.52 0-1.04.2-1.43.59L10.3 9.45l-7.72 7.72c-.78.78-.78 2.05 0 2.83L4 21.41c.39.39.9.59 1.41.59.51 0 1.02-.2 1.41-.59l7.78-7.78 2.81-2.81c.8-.78.8-2.07 0-2.86zM5.41 20L4 18.59l7.72-7.72 1.47 1.35L5.41 20z\"/>\n",
              "  </svg>\n",
              "      </button>\n",
              "      \n",
              "  <style>\n",
              "    .colab-df-container {\n",
              "      display:flex;\n",
              "      flex-wrap:wrap;\n",
              "      gap: 12px;\n",
              "    }\n",
              "\n",
              "    .colab-df-convert {\n",
              "      background-color: #E8F0FE;\n",
              "      border: none;\n",
              "      border-radius: 50%;\n",
              "      cursor: pointer;\n",
              "      display: none;\n",
              "      fill: #1967D2;\n",
              "      height: 32px;\n",
              "      padding: 0 0 0 0;\n",
              "      width: 32px;\n",
              "    }\n",
              "\n",
              "    .colab-df-convert:hover {\n",
              "      background-color: #E2EBFA;\n",
              "      box-shadow: 0px 1px 2px rgba(60, 64, 67, 0.3), 0px 1px 3px 1px rgba(60, 64, 67, 0.15);\n",
              "      fill: #174EA6;\n",
              "    }\n",
              "\n",
              "    [theme=dark] .colab-df-convert {\n",
              "      background-color: #3B4455;\n",
              "      fill: #D2E3FC;\n",
              "    }\n",
              "\n",
              "    [theme=dark] .colab-df-convert:hover {\n",
              "      background-color: #434B5C;\n",
              "      box-shadow: 0px 1px 3px 1px rgba(0, 0, 0, 0.15);\n",
              "      filter: drop-shadow(0px 1px 2px rgba(0, 0, 0, 0.3));\n",
              "      fill: #FFFFFF;\n",
              "    }\n",
              "  </style>\n",
              "\n",
              "      <script>\n",
              "        const buttonEl =\n",
              "          document.querySelector('#df-70576290-3775-4a15-8f63-ae02da5099a9 button.colab-df-convert');\n",
              "        buttonEl.style.display =\n",
              "          google.colab.kernel.accessAllowed ? 'block' : 'none';\n",
              "\n",
              "        async function convertToInteractive(key) {\n",
              "          const element = document.querySelector('#df-70576290-3775-4a15-8f63-ae02da5099a9');\n",
              "          const dataTable =\n",
              "            await google.colab.kernel.invokeFunction('convertToInteractive',\n",
              "                                                     [key], {});\n",
              "          if (!dataTable) return;\n",
              "\n",
              "          const docLinkHtml = 'Like what you see? Visit the ' +\n",
              "            '<a target=\"_blank\" href=https://colab.research.google.com/notebooks/data_table.ipynb>data table notebook</a>'\n",
              "            + ' to learn more about interactive tables.';\n",
              "          element.innerHTML = '';\n",
              "          dataTable['output_type'] = 'display_data';\n",
              "          await google.colab.output.renderOutput(dataTable, element);\n",
              "          const docLink = document.createElement('div');\n",
              "          docLink.innerHTML = docLinkHtml;\n",
              "          element.appendChild(docLink);\n",
              "        }\n",
              "      </script>\n",
              "    </div>\n",
              "  </div>\n",
              "  "
            ]
          },
          "metadata": {},
          "execution_count": 4
        }
      ]
    },
    {
      "cell_type": "markdown",
      "source": [
        "Revisión de características de la base:"
      ],
      "metadata": {
        "id": "fbLwFXmGIOMH"
      }
    },
    {
      "cell_type": "code",
      "source": [
        "df.info()"
      ],
      "metadata": {
        "colab": {
          "base_uri": "https://localhost:8080/"
        },
        "id": "zki5QeraINVg",
        "outputId": "b9246d7b-3ced-4e0b-dfa7-161854494b93"
      },
      "execution_count": null,
      "outputs": [
        {
          "output_type": "stream",
          "name": "stdout",
          "text": [
            "<class 'pandas.core.frame.DataFrame'>\n",
            "RangeIndex: 303 entries, 0 to 302\n",
            "Data columns (total 14 columns):\n",
            " #   Column    Non-Null Count  Dtype  \n",
            "---  ------    --------------  -----  \n",
            " 0   age       303 non-null    int64  \n",
            " 1   sex       303 non-null    int64  \n",
            " 2   cp        303 non-null    int64  \n",
            " 3   trtbps    303 non-null    int64  \n",
            " 4   chol      303 non-null    int64  \n",
            " 5   fbs       303 non-null    int64  \n",
            " 6   restecg   303 non-null    int64  \n",
            " 7   thalachh  303 non-null    int64  \n",
            " 8   exng      303 non-null    int64  \n",
            " 9   oldpeak   303 non-null    float64\n",
            " 10  slp       303 non-null    int64  \n",
            " 11  caa       303 non-null    int64  \n",
            " 12  thall     303 non-null    int64  \n",
            " 13  output    303 non-null    int64  \n",
            "dtypes: float64(1), int64(13)\n",
            "memory usage: 33.3 KB\n"
          ]
        }
      ]
    },
    {
      "cell_type": "markdown",
      "source": [
        "La base tiene 303 observaciones y 14 variables. En ningún caso se presentaron faltantes. A continuación, realizo histogramas de las variables numéricas para detectar cualquier particularidad:"
      ],
      "metadata": {
        "id": "GpqC2_bNIw_A"
      }
    },
    {
      "cell_type": "code",
      "source": [
        "figure, axis = plt.subplots(4, 4, figsize=(20, 20))\n",
        "fila = -1\n",
        "columna = -1\n",
        "for k in df.describe().columns:\n",
        "  columna = columna + 1\n",
        "  if columna == 4:\n",
        "    columna = 0\n",
        "  if columna == 0:\n",
        "    fila = fila + 1\n",
        "  if fila == 4:\n",
        "    fila = 0\n",
        "  sns.histplot(df[k], ax=axis[fila,columna])\n",
        "figure.delaxes(axis[3,2])\n",
        "figure.delaxes(axis[3,3])\n",
        "sns.despine(figure)"
      ],
      "metadata": {
        "colab": {
          "base_uri": "https://localhost:8080/",
          "height": 723
        },
        "id": "bwUjApf4RGt-",
        "outputId": "74af8be0-94d4-45d9-b15b-8d03b58d61af"
      },
      "execution_count": null,
      "outputs": [
        {
          "output_type": "display_data",
          "data": {
            "text/plain": [
              "<Figure size 1440x1440 with 14 Axes>"
            ],
            "image/png": "[encoded data removed]"
          },
          "metadata": {
            "needs_background": "light"
          }
        }
      ]
    },
    {
      "cell_type": "markdown",
      "source": [
        "Se observa lo siguiente:\n",
        "1. Las variables `sex`, `fbs`, `exng` y `output` son binarias.\n",
        "2. Las variables `cp`, `restecg`, `slp`, `caa` y `thall` deben tener tratamiento de variables enteras.\n",
        "\n",
        "Es posible que las variables de segundo grupo incluyan variables categóricas. Revisando el diccionario, se confirma esta situación para los siguientes casos: `cp` y `rest_ecg`. Las otras, parece, habrá que dejarlas como numéricas.\n",
        "\n",
        "Ahora, sin haber variables de identificación, se revisan los posibles duplicados:"
      ],
      "metadata": {
        "id": "hRcOw5qdRseH"
      }
    },
    {
      "cell_type": "code",
      "source": [
        "df[df.duplicated()]"
      ],
      "metadata": {
        "colab": {
          "base_uri": "https://localhost:8080/",
          "height": 145
        },
        "id": "4cMYwwV08I50",
        "outputId": "11651988-cb76-4ad8-d2b8-f7156b12ec9f"
      },
      "execution_count": null,
      "outputs": [
        {
          "output_type": "execute_result",
          "data": {
            "text/plain": [
              "     age  sex  cp  trtbps  chol  fbs  restecg  thalachh  exng  oldpeak  slp  \\\n",
              "164   38    1   2     138   175    0        1       173     0      0.0    2   \n",
              "\n",
              "     caa  thall  output  \n",
              "164    4      2       1  "
            ],
            "text/html": [
              "\n",
              "  <div id=\"df-eb0c56a0-237f-456f-b4e3-31aac35444b7\">\n",
              "    <div class=\"colab-df-container\">\n",
              "      <div>\n",
              "<style scoped>\n",
              "    .dataframe tbody tr th:only-of-type {\n",
              "        vertical-align: middle;\n",
              "    }\n",
              "\n",
              "    .dataframe tbody tr th {\n",
              "        vertical-align: top;\n",
              "    }\n",
              "\n",
              "    .dataframe thead th {\n",
              "        text-align: right;\n",
              "    }\n",
              "</style>\n",
              "<table border=\"1\" class=\"dataframe\">\n",
              "  <thead>\n",
              "    <tr style=\"text-align: right;\">\n",
              "      <th></th>\n",
              "      <th>age</th>\n",
              "      <th>sex</th>\n",
              "      <th>cp</th>\n",
              "      <th>trtbps</th>\n",
              "      <th>chol</th>\n",
              "      <th>fbs</th>\n",
              "      <th>restecg</th>\n",
              "      <th>thalachh</th>\n",
              "      <th>exng</th>\n",
              "      <th>oldpeak</th>\n",
              "      <th>slp</th>\n",
              "      <th>caa</th>\n",
              "      <th>thall</th>\n",
              "      <th>output</th>\n",
              "    </tr>\n",
              "  </thead>\n",
              "  <tbody>\n",
              "    <tr>\n",
              "      <th>164</th>\n",
              "      <td>38</td>\n",
              "      <td>1</td>\n",
              "      <td>2</td>\n",
              "      <td>138</td>\n",
              "      <td>175</td>\n",
              "      <td>0</td>\n",
              "      <td>1</td>\n",
              "      <td>173</td>\n",
              "      <td>0</td>\n",
              "      <td>0.0</td>\n",
              "      <td>2</td>\n",
              "      <td>4</td>\n",
              "      <td>2</td>\n",
              "      <td>1</td>\n",
              "    </tr>\n",
              "  </tbody>\n",
              "</table>\n",
              "</div>\n",
              "      <button class=\"colab-df-convert\" onclick=\"convertToInteractive('df-eb0c56a0-237f-456f-b4e3-31aac35444b7')\"\n",
              "              title=\"Convert this dataframe to an interactive table.\"\n",
              "              style=\"display:none;\">\n",
              "        \n",
              "  <svg xmlns=\"http://www.w3.org/2000/svg\" height=\"24px\"viewBox=\"0 0 24 24\"\n",
              "       width=\"24px\">\n",
              "    <path d=\"M0 0h24v24H0V0z\" fill=\"none\"/>\n",
              "    <path d=\"M18.56 5.44l.94 2.06.94-2.06 2.06-.94-2.06-.94-.94-2.06-.94 2.06-2.06.94zm-11 1L8.5 8.5l.94-2.06 2.06-.94-2.06-.94L8.5 2.5l-.94 2.06-2.06.94zm10 10l.94 2.06.94-2.06 2.06-.94-2.06-.94-.94-2.06-.94 2.06-2.06.94z\"/><path d=\"M17.41 7.96l-1.37-1.37c-.4-.4-.92-.59-1.43-.59-.52 0-1.04.2-1.43.59L10.3 9.45l-7.72 7.72c-.78.78-.78 2.05 0 2.83L4 21.41c.39.39.9.59 1.41.59.51 0 1.02-.2 1.41-.59l7.78-7.78 2.81-2.81c.8-.78.8-2.07 0-2.86zM5.41 20L4 18.59l7.72-7.72 1.47 1.35L5.41 20z\"/>\n",
              "  </svg>\n",
              "      </button>\n",
              "      \n",
              "  <style>\n",
              "    .colab-df-container {\n",
              "      display:flex;\n",
              "      flex-wrap:wrap;\n",
              "      gap: 12px;\n",
              "    }\n",
              "\n",
              "    .colab-df-convert {\n",
              "      background-color: #E8F0FE;\n",
              "      border: none;\n",
              "      border-radius: 50%;\n",
              "      cursor: pointer;\n",
              "      display: none;\n",
              "      fill: #1967D2;\n",
              "      height: 32px;\n",
              "      padding: 0 0 0 0;\n",
              "      width: 32px;\n",
              "    }\n",
              "\n",
              "    .colab-df-convert:hover {\n",
              "      background-color: #E2EBFA;\n",
              "      box-shadow: 0px 1px 2px rgba(60, 64, 67, 0.3), 0px 1px 3px 1px rgba(60, 64, 67, 0.15);\n",
              "      fill: #174EA6;\n",
              "    }\n",
              "\n",
              "    [theme=dark] .colab-df-convert {\n",
              "      background-color: #3B4455;\n",
              "      fill: #D2E3FC;\n",
              "    }\n",
              "\n",
              "    [theme=dark] .colab-df-convert:hover {\n",
              "      background-color: #434B5C;\n",
              "      box-shadow: 0px 1px 3px 1px rgba(0, 0, 0, 0.15);\n",
              "      filter: drop-shadow(0px 1px 2px rgba(0, 0, 0, 0.3));\n",
              "      fill: #FFFFFF;\n",
              "    }\n",
              "  </style>\n",
              "\n",
              "      <script>\n",
              "        const buttonEl =\n",
              "          document.querySelector('#df-eb0c56a0-237f-456f-b4e3-31aac35444b7 button.colab-df-convert');\n",
              "        buttonEl.style.display =\n",
              "          google.colab.kernel.accessAllowed ? 'block' : 'none';\n",
              "\n",
              "        async function convertToInteractive(key) {\n",
              "          const element = document.querySelector('#df-eb0c56a0-237f-456f-b4e3-31aac35444b7');\n",
              "          const dataTable =\n",
              "            await google.colab.kernel.invokeFunction('convertToInteractive',\n",
              "                                                     [key], {});\n",
              "          if (!dataTable) return;\n",
              "\n",
              "          const docLinkHtml = 'Like what you see? Visit the ' +\n",
              "            '<a target=\"_blank\" href=https://colab.research.google.com/notebooks/data_table.ipynb>data table notebook</a>'\n",
              "            + ' to learn more about interactive tables.';\n",
              "          element.innerHTML = '';\n",
              "          dataTable['output_type'] = 'display_data';\n",
              "          await google.colab.output.renderOutput(dataTable, element);\n",
              "          const docLink = document.createElement('div');\n",
              "          docLink.innerHTML = docLinkHtml;\n",
              "          element.appendChild(docLink);\n",
              "        }\n",
              "      </script>\n",
              "    </div>\n",
              "  </div>\n",
              "  "
            ]
          },
          "metadata": {},
          "execution_count": 7
        }
      ]
    },
    {
      "cell_type": "markdown",
      "source": [
        "Se encuentró un duplicado, el cual se elimina de inmediato:"
      ],
      "metadata": {
        "id": "lvKV2xpg8SDY"
      }
    },
    {
      "cell_type": "code",
      "source": [
        "print(f'Antes de eliminar duplicados: {df.shape[0]} observaciones.')\n",
        "df = df.drop_duplicates()\n",
        "print(f'Después de eliminar duplicados: {df.shape[0]} observaciones.')"
      ],
      "metadata": {
        "colab": {
          "base_uri": "https://localhost:8080/"
        },
        "id": "q9BWJe7P8bio",
        "outputId": "ed3f0066-1709-4387-9760-70aea459a85a"
      },
      "execution_count": null,
      "outputs": [
        {
          "output_type": "stream",
          "name": "stdout",
          "text": [
            "Antes de eliminar duplicados: 303 observaciones.\n",
            "Después de eliminar duplicados: 302 observaciones.\n"
          ]
        }
      ]
    },
    {
      "cell_type": "markdown",
      "source": [
        "Es posible que las variables `chol` y `oldpeak` tengan valores atípicos, por lo que se revisan sus diagramas de caja:"
      ],
      "metadata": {
        "id": "Oxspa6IS8vme"
      }
    },
    {
      "cell_type": "code",
      "source": [
        "figure, axis = plt.subplots(1, 2, figsize=(10, 4))\n",
        "sns.boxplot(df['chol'], ax=axis[0], showmeans=True,\n",
        "              meanprops={\"marker\":\"s\",\"markerfacecolor\":\"white\",\n",
        "                         \"markeredgecolor\":\"blue\"})\n",
        "sns.boxplot(df['oldpeak'], ax=axis[1], showmeans=True,\n",
        "              meanprops={\"marker\":\"s\",\"markerfacecolor\":\"white\",\n",
        "                         \"markeredgecolor\":\"blue\"})\n",
        "sns.despine(figure)"
      ],
      "metadata": {
        "colab": {
          "base_uri": "https://localhost:8080/",
          "height": 279
        },
        "id": "lUPYWyA49Pta",
        "outputId": "145c0d35-c9ad-403d-cef9-29d466feb4f2"
      },
      "execution_count": null,
      "outputs": [
        {
          "output_type": "display_data",
          "data": {
            "text/plain": [
              "<Figure size 720x288 with 2 Axes>"
            ],
            "image/png": "[encoded data removed]"
          },
          "metadata": {
            "needs_background": "light"
          }
        }
      ]
    },
    {
      "cell_type": "markdown",
      "source": [
        "Se identifican los valores atípicos usando el criterio de rango intercuantílico, convirtiendolos a nulo:"
      ],
      "metadata": {
        "id": "XyLGm22p-C5w"
      }
    },
    {
      "cell_type": "code",
      "source": [
        "df['chol'] = df['chol'][df['chol'].between(\n",
        "    df['chol'].quantile(.25) - 1.5 * (df['chol'].quantile(.75) - df['chol'].quantile(.25)),\n",
        "     df['chol'].quantile(.75) + 1.5 * (df['chol'].quantile(.75) - df['chol'].quantile(.25)),\n",
        "     inclusive=True)]\n",
        "df['oldpeak'] = df['oldpeak'][df['oldpeak'].between(\n",
        "    df['oldpeak'].quantile(.25) - 1.5 * (df['oldpeak'].quantile(.75) - df['oldpeak'].quantile(.25)),\n",
        "     df['oldpeak'].quantile(.75) + 1.5 * (df['oldpeak'].quantile(.75) - df['oldpeak'].quantile(.25)),\n",
        "     inclusive=True)]\n",
        "df.info()"
      ],
      "metadata": {
        "colab": {
          "base_uri": "https://localhost:8080/"
        },
        "id": "yhdFI5SW-L2M",
        "outputId": "781e981f-ecb6-46db-a261-c65da47a2053"
      },
      "execution_count": null,
      "outputs": [
        {
          "output_type": "stream",
          "name": "stdout",
          "text": [
            "<class 'pandas.core.frame.DataFrame'>\n",
            "Int64Index: 302 entries, 0 to 302\n",
            "Data columns (total 14 columns):\n",
            " #   Column    Non-Null Count  Dtype  \n",
            "---  ------    --------------  -----  \n",
            " 0   age       302 non-null    int64  \n",
            " 1   sex       302 non-null    int64  \n",
            " 2   cp        302 non-null    int64  \n",
            " 3   trtbps    302 non-null    int64  \n",
            " 4   chol      297 non-null    float64\n",
            " 5   fbs       302 non-null    int64  \n",
            " 6   restecg   302 non-null    int64  \n",
            " 7   thalachh  302 non-null    int64  \n",
            " 8   exng      302 non-null    int64  \n",
            " 9   oldpeak   297 non-null    float64\n",
            " 10  slp       302 non-null    int64  \n",
            " 11  caa       302 non-null    int64  \n",
            " 12  thall     302 non-null    int64  \n",
            " 13  output    302 non-null    int64  \n",
            "dtypes: float64(2), int64(12)\n",
            "memory usage: 35.4 KB\n"
          ]
        }
      ]
    },
    {
      "cell_type": "markdown",
      "source": [
        "Como se perderían cerca del 1% de observaciones, se decide eliminar los casos detectados como atípicos:"
      ],
      "metadata": {
        "id": "L2PTXWKP-iMr"
      }
    },
    {
      "cell_type": "code",
      "source": [
        "df = df.dropna()\n",
        "df.info()"
      ],
      "metadata": {
        "colab": {
          "base_uri": "https://localhost:8080/"
        },
        "id": "8xnOjdxe-pFz",
        "outputId": "69fa6916-edcf-4e2d-deed-8b312a6fdf74"
      },
      "execution_count": null,
      "outputs": [
        {
          "output_type": "stream",
          "name": "stdout",
          "text": [
            "<class 'pandas.core.frame.DataFrame'>\n",
            "Int64Index: 292 entries, 0 to 302\n",
            "Data columns (total 14 columns):\n",
            " #   Column    Non-Null Count  Dtype  \n",
            "---  ------    --------------  -----  \n",
            " 0   age       292 non-null    int64  \n",
            " 1   sex       292 non-null    int64  \n",
            " 2   cp        292 non-null    int64  \n",
            " 3   trtbps    292 non-null    int64  \n",
            " 4   chol      292 non-null    float64\n",
            " 5   fbs       292 non-null    int64  \n",
            " 6   restecg   292 non-null    int64  \n",
            " 7   thalachh  292 non-null    int64  \n",
            " 8   exng      292 non-null    int64  \n",
            " 9   oldpeak   292 non-null    float64\n",
            " 10  slp       292 non-null    int64  \n",
            " 11  caa       292 non-null    int64  \n",
            " 12  thall     292 non-null    int64  \n",
            " 13  output    292 non-null    int64  \n",
            "dtypes: float64(2), int64(12)\n",
            "memory usage: 34.2 KB\n"
          ]
        }
      ]
    },
    {
      "cell_type": "markdown",
      "source": [
        "Verificación:"
      ],
      "metadata": {
        "id": "HK8mdkcH-7Jc"
      }
    },
    {
      "cell_type": "code",
      "source": [
        "figure, axis = plt.subplots(1, 2, figsize=(10, 4))\n",
        "sns.boxplot(df['chol'], ax=axis[0], showmeans=True,\n",
        "              meanprops={\"marker\":\"s\",\"markerfacecolor\":\"white\",\n",
        "                         \"markeredgecolor\":\"blue\"})\n",
        "sns.boxplot(df['oldpeak'], ax=axis[1], showmeans=True,\n",
        "              meanprops={\"marker\":\"s\",\"markerfacecolor\":\"white\",\n",
        "                         \"markeredgecolor\":\"blue\"})\n",
        "sns.despine(figure)"
      ],
      "metadata": {
        "colab": {
          "base_uri": "https://localhost:8080/",
          "height": 279
        },
        "id": "gzgMy2Oj-81K",
        "outputId": "688353bc-2b31-4f1b-d216-ec3e455f3979"
      },
      "execution_count": null,
      "outputs": [
        {
          "output_type": "display_data",
          "data": {
            "text/plain": [
              "<Figure size 720x288 with 2 Axes>"
            ],
            "image/png": "[encoded data removed]"
          },
          "metadata": {
            "needs_background": "light"
          }
        }
      ]
    },
    {
      "cell_type": "markdown",
      "source": [
        "Finalmente, reviso las frecuencias en las variables categóricas:"
      ],
      "metadata": {
        "id": "DoeuGxRK_Kn6"
      }
    },
    {
      "cell_type": "code",
      "source": [
        "figure, axis = plt.subplots(2, 3, figsize=(30, 20))\n",
        "fila = -1\n",
        "columna = -1\n",
        "for k in ['sex','fbs','exng','output','cp','restecg']:\n",
        "  columna = columna + 1\n",
        "  if columna == 3:\n",
        "    columna = 0\n",
        "  if columna == 0:\n",
        "    fila = fila + 1\n",
        "  if fila == 2:\n",
        "    fila = 0\n",
        "  cuadro = df[[k]].groupby(k)[k] \\\n",
        "                  .count() \\\n",
        "                  .reset_index(name='cantidad')\n",
        "  cuadro[k] = cuadro[k].astype(str)\n",
        "  sns.barplot(data = cuadro, y = k, x = 'cantidad', ax=axis[fila,columna])\n",
        "#figure.delaxes(axis[4,1])\n",
        "sns.despine(figure)"
      ],
      "metadata": {
        "colab": {
          "base_uri": "https://localhost:8080/",
          "height": 498
        },
        "id": "TbB1HMbA_OiJ",
        "outputId": "2c283807-33bb-4133-ee5d-9260d3a039da"
      },
      "execution_count": null,
      "outputs": [
        {
          "output_type": "display_data",
          "data": {
            "text/plain": [
              "<Figure size 2160x1440 with 6 Axes>"
            ],
            "image/png": "[encoded data removed]"
          },
          "metadata": {
            "needs_background": "light"
          }
        }
      ]
    },
    {
      "cell_type": "markdown",
      "source": [
        "En ningún caso parece haber problema.\n",
        "\n",
        "Para convertir las variables categóricas, realizo su conversión a variables binarias:"
      ],
      "metadata": {
        "id": "yBUcBYoABrrr"
      }
    },
    {
      "cell_type": "code",
      "source": [
        "for k in ['sex','fbs','exng','cp','restecg']:\n",
        "          onehotencoder = OneHotEncoder()\n",
        "          var = onehotencoder.fit_transform(df[[k]])\n",
        "          nombres = np.array([k + str(h) for h in onehotencoder.categories_[0]])\n",
        "          df[nombres] = var.toarray()\n",
        "          del df[k]\n",
        "df.sample(5)"
      ],
      "metadata": {
        "colab": {
          "base_uri": "https://localhost:8080/",
          "height": 299
        },
        "id": "GDAsm7lZKgtx",
        "outputId": "172e5eeb-adb7-4489-b054-8863a08d2899"
      },
      "execution_count": null,
      "outputs": [
        {
          "output_type": "execute_result",
          "data": {
            "text/plain": [
              "     age  trtbps   chol  thalachh  oldpeak  slp  caa  thall  output  sex0  \\\n",
              "192   54     120  188.0       113      1.4    1    1      3       0   0.0   \n",
              "31    65     120  177.0       140      0.4    2    0      3       1   0.0   \n",
              "148   44     120  226.0       169      0.0    2    0      2       1   0.0   \n",
              "242   64     145  212.0       132      2.0    1    2      1       0   0.0   \n",
              "41    48     130  245.0       180      0.2    1    0      2       1   0.0   \n",
              "\n",
              "     ...  fbs1  exng0  exng1  cp0  cp1  cp2  cp3  restecg0  restecg1  restecg2  \n",
              "192  ...   0.0    1.0    0.0  1.0  0.0  0.0  0.0       0.0       1.0       0.0  \n",
              "31   ...   0.0    1.0    0.0  1.0  0.0  0.0  0.0       0.0       1.0       0.0  \n",
              "148  ...   0.0    1.0    0.0  0.0  0.0  1.0  0.0       0.0       1.0       0.0  \n",
              "242  ...   0.0    1.0    0.0  1.0  0.0  0.0  0.0       1.0       0.0       0.0  \n",
              "41   ...   0.0    1.0    0.0  0.0  1.0  0.0  0.0       1.0       0.0       0.0  \n",
              "\n",
              "[5 rows x 22 columns]"
            ],
            "text/html": [
              "\n",
              "  <div id=\"df-56a06853-5646-40f5-bfaf-01f46d374fe7\">\n",
              "    <div class=\"colab-df-container\">\n",
              "      <div>\n",
              "<style scoped>\n",
              "    .dataframe tbody tr th:only-of-type {\n",
              "        vertical-align: middle;\n",
              "    }\n",
              "\n",
              "    .dataframe tbody tr th {\n",
              "        vertical-align: top;\n",
              "    }\n",
              "\n",
              "    .dataframe thead th {\n",
              "        text-align: right;\n",
              "    }\n",
              "</style>\n",
              "<table border=\"1\" class=\"dataframe\">\n",
              "  <thead>\n",
              "    <tr style=\"text-align: right;\">\n",
              "      <th></th>\n",
              "      <th>age</th>\n",
              "      <th>trtbps</th>\n",
              "      <th>chol</th>\n",
              "      <th>thalachh</th>\n",
              "      <th>oldpeak</th>\n",
              "      <th>slp</th>\n",
              "      <th>caa</th>\n",
              "      <th>thall</th>\n",
              "      <th>output</th>\n",
              "      <th>sex0</th>\n",
              "      <th>...</th>\n",
              "      <th>fbs1</th>\n",
              "      <th>exng0</th>\n",
              "      <th>exng1</th>\n",
              "      <th>cp0</th>\n",
              "      <th>cp1</th>\n",
              "      <th>cp2</th>\n",
              "      <th>cp3</th>\n",
              "      <th>restecg0</th>\n",
              "      <th>restecg1</th>\n",
              "      <th>restecg2</th>\n",
              "    </tr>\n",
              "  </thead>\n",
              "  <tbody>\n",
              "    <tr>\n",
              "      <th>192</th>\n",
              "      <td>54</td>\n",
              "      <td>120</td>\n",
              "      <td>188.0</td>\n",
              "      <td>113</td>\n",
              "      <td>1.4</td>\n",
              "      <td>1</td>\n",
              "      <td>1</td>\n",
              "      <td>3</td>\n",
              "      <td>0</td>\n",
              "      <td>0.0</td>\n",
              "      <td>...</td>\n",
              "      <td>0.0</td>\n",
              "      <td>1.0</td>\n",
              "      <td>0.0</td>\n",
              "      <td>1.0</td>\n",
              "      <td>0.0</td>\n",
              "      <td>0.0</td>\n",
              "      <td>0.0</td>\n",
              "      <td>0.0</td>\n",
              "      <td>1.0</td>\n",
              "      <td>0.0</td>\n",
              "    </tr>\n",
              "    <tr>\n",
              "      <th>31</th>\n",
              "      <td>65</td>\n",
              "      <td>120</td>\n",
              "      <td>177.0</td>\n",
              "      <td>140</td>\n",
              "      <td>0.4</td>\n",
              "      <td>2</td>\n",
              "      <td>0</td>\n",
              "      <td>3</td>\n",
              "      <td>1</td>\n",
              "      <td>0.0</td>\n",
              "      <td>...</td>\n",
              "      <td>0.0</td>\n",
              "      <td>1.0</td>\n",
              "      <td>0.0</td>\n",
              "      <td>1.0</td>\n",
              "      <td>0.0</td>\n",
              "      <td>0.0</td>\n",
              "      <td>0.0</td>\n",
              "      <td>0.0</td>\n",
              "      <td>1.0</td>\n",
              "      <td>0.0</td>\n",
              "    </tr>\n",
              "    <tr>\n",
              "      <th>148</th>\n",
              "      <td>44</td>\n",
              "      <td>120</td>\n",
              "      <td>226.0</td>\n",
              "      <td>169</td>\n",
              "      <td>0.0</td>\n",
              "      <td>2</td>\n",
              "      <td>0</td>\n",
              "      <td>2</td>\n",
              "      <td>1</td>\n",
              "      <td>0.0</td>\n",
              "      <td>...</td>\n",
              "      <td>0.0</td>\n",
              "      <td>1.0</td>\n",
              "      <td>0.0</td>\n",
              "      <td>0.0</td>\n",
              "      <td>0.0</td>\n",
              "      <td>1.0</td>\n",
              "      <td>0.0</td>\n",
              "      <td>0.0</td>\n",
              "      <td>1.0</td>\n",
              "      <td>0.0</td>\n",
              "    </tr>\n",
              "    <tr>\n",
              "      <th>242</th>\n",
              "      <td>64</td>\n",
              "      <td>145</td>\n",
              "      <td>212.0</td>\n",
              "      <td>132</td>\n",
              "      <td>2.0</td>\n",
              "      <td>1</td>\n",
              "      <td>2</td>\n",
              "      <td>1</td>\n",
              "      <td>0</td>\n",
              "      <td>0.0</td>\n",
              "      <td>...</td>\n",
              "      <td>0.0</td>\n",
              "      <td>1.0</td>\n",
              "      <td>0.0</td>\n",
              "      <td>1.0</td>\n",
              "      <td>0.0</td>\n",
              "      <td>0.0</td>\n",
              "      <td>0.0</td>\n",
              "      <td>1.0</td>\n",
              "      <td>0.0</td>\n",
              "      <td>0.0</td>\n",
              "    </tr>\n",
              "    <tr>\n",
              "      <th>41</th>\n",
              "      <td>48</td>\n",
              "      <td>130</td>\n",
              "      <td>245.0</td>\n",
              "      <td>180</td>\n",
              "      <td>0.2</td>\n",
              "      <td>1</td>\n",
              "      <td>0</td>\n",
              "      <td>2</td>\n",
              "      <td>1</td>\n",
              "      <td>0.0</td>\n",
              "      <td>...</td>\n",
              "      <td>0.0</td>\n",
              "      <td>1.0</td>\n",
              "      <td>0.0</td>\n",
              "      <td>0.0</td>\n",
              "      <td>1.0</td>\n",
              "      <td>0.0</td>\n",
              "      <td>0.0</td>\n",
              "      <td>1.0</td>\n",
              "      <td>0.0</td>\n",
              "      <td>0.0</td>\n",
              "    </tr>\n",
              "  </tbody>\n",
              "</table>\n",
              "<p>5 rows × 22 columns</p>\n",
              "</div>\n",
              "      <button class=\"colab-df-convert\" onclick=\"convertToInteractive('df-56a06853-5646-40f5-bfaf-01f46d374fe7')\"\n",
              "              title=\"Convert this dataframe to an interactive table.\"\n",
              "              style=\"display:none;\">\n",
              "        \n",
              "  <svg xmlns=\"http://www.w3.org/2000/svg\" height=\"24px\"viewBox=\"0 0 24 24\"\n",
              "       width=\"24px\">\n",
              "    <path d=\"M0 0h24v24H0V0z\" fill=\"none\"/>\n",
              "    <path d=\"M18.56 5.44l.94 2.06.94-2.06 2.06-.94-2.06-.94-.94-2.06-.94 2.06-2.06.94zm-11 1L8.5 8.5l.94-2.06 2.06-.94-2.06-.94L8.5 2.5l-.94 2.06-2.06.94zm10 10l.94 2.06.94-2.06 2.06-.94-2.06-.94-.94-2.06-.94 2.06-2.06.94z\"/><path d=\"M17.41 7.96l-1.37-1.37c-.4-.4-.92-.59-1.43-.59-.52 0-1.04.2-1.43.59L10.3 9.45l-7.72 7.72c-.78.78-.78 2.05 0 2.83L4 21.41c.39.39.9.59 1.41.59.51 0 1.02-.2 1.41-.59l7.78-7.78 2.81-2.81c.8-.78.8-2.07 0-2.86zM5.41 20L4 18.59l7.72-7.72 1.47 1.35L5.41 20z\"/>\n",
              "  </svg>\n",
              "      </button>\n",
              "      \n",
              "  <style>\n",
              "    .colab-df-container {\n",
              "      display:flex;\n",
              "      flex-wrap:wrap;\n",
              "      gap: 12px;\n",
              "    }\n",
              "\n",
              "    .colab-df-convert {\n",
              "      background-color: #E8F0FE;\n",
              "      border: none;\n",
              "      border-radius: 50%;\n",
              "      cursor: pointer;\n",
              "      display: none;\n",
              "      fill: #1967D2;\n",
              "      height: 32px;\n",
              "      padding: 0 0 0 0;\n",
              "      width: 32px;\n",
              "    }\n",
              "\n",
              "    .colab-df-convert:hover {\n",
              "      background-color: #E2EBFA;\n",
              "      box-shadow: 0px 1px 2px rgba(60, 64, 67, 0.3), 0px 1px 3px 1px rgba(60, 64, 67, 0.15);\n",
              "      fill: #174EA6;\n",
              "    }\n",
              "\n",
              "    [theme=dark] .colab-df-convert {\n",
              "      background-color: #3B4455;\n",
              "      fill: #D2E3FC;\n",
              "    }\n",
              "\n",
              "    [theme=dark] .colab-df-convert:hover {\n",
              "      background-color: #434B5C;\n",
              "      box-shadow: 0px 1px 3px 1px rgba(0, 0, 0, 0.15);\n",
              "      filter: drop-shadow(0px 1px 2px rgba(0, 0, 0, 0.3));\n",
              "      fill: #FFFFFF;\n",
              "    }\n",
              "  </style>\n",
              "\n",
              "      <script>\n",
              "        const buttonEl =\n",
              "          document.querySelector('#df-56a06853-5646-40f5-bfaf-01f46d374fe7 button.colab-df-convert');\n",
              "        buttonEl.style.display =\n",
              "          google.colab.kernel.accessAllowed ? 'block' : 'none';\n",
              "\n",
              "        async function convertToInteractive(key) {\n",
              "          const element = document.querySelector('#df-56a06853-5646-40f5-bfaf-01f46d374fe7');\n",
              "          const dataTable =\n",
              "            await google.colab.kernel.invokeFunction('convertToInteractive',\n",
              "                                                     [key], {});\n",
              "          if (!dataTable) return;\n",
              "\n",
              "          const docLinkHtml = 'Like what you see? Visit the ' +\n",
              "            '<a target=\"_blank\" href=https://colab.research.google.com/notebooks/data_table.ipynb>data table notebook</a>'\n",
              "            + ' to learn more about interactive tables.';\n",
              "          element.innerHTML = '';\n",
              "          dataTable['output_type'] = 'display_data';\n",
              "          await google.colab.output.renderOutput(dataTable, element);\n",
              "          const docLink = document.createElement('div');\n",
              "          docLink.innerHTML = docLinkHtml;\n",
              "          element.appendChild(docLink);\n",
              "        }\n",
              "      </script>\n",
              "    </div>\n",
              "  </div>\n",
              "  "
            ]
          },
          "metadata": {},
          "execution_count": 14
        }
      ]
    },
    {
      "cell_type": "markdown",
      "source": [
        "# 2) Modelamiento\n",
        "\n",
        "División de datos:"
      ],
      "metadata": {
        "id": "yWMga63hNpPu"
      }
    },
    {
      "cell_type": "code",
      "source": [
        "X = df.loc[:, ~df.columns.isin(['output'])]\n",
        "Y = df['output']\n",
        "X_train, X_test, Y_train, Y_test = train_test_split(X, Y, test_size = 0.3, stratify = Y)"
      ],
      "metadata": {
        "id": "xri0MQx1PBLu"
      },
      "execution_count": null,
      "outputs": []
    },
    {
      "cell_type": "markdown",
      "source": [
        "Pipeline para escoger el mejor modelo:"
      ],
      "metadata": {
        "id": "GdH8GBrCROiK"
      }
    },
    {
      "cell_type": "code",
      "source": [
        "pipeline = Pipeline([\n",
        "    ('poly', 'passthrough'),\n",
        "    ('normalizer', StandardScaler()),\n",
        "    ('classifier',  LogisticRegression(multi_class='multinomial', solver='lbfgs'))\n",
        "])"
      ],
      "metadata": {
        "id": "OLZE6Z_URWO1"
      },
      "execution_count": null,
      "outputs": []
    },
    {
      "cell_type": "markdown",
      "source": [
        "## 2.1) Regresión logística\n",
        "\n",
        "Espacio para los hiperparámetros:"
      ],
      "metadata": {
        "id": "kNTKxnooO9dC"
      }
    },
    {
      "cell_type": "code",
      "source": [
        "param_grid = [\n",
        "    {\n",
        "        'poly': [PolynomialFeatures()],\n",
        "        'poly__degree': [1, 2, 3],\n",
        "        'normalizer': [StandardScaler(), MinMaxScaler()],\n",
        "        'classifier__penalty': ['none', 'l1', 'l2'],\n",
        "        'classifier__C': [0.01, 0.1, 1.],\n",
        "        'classifier__class_weight': ['balanced', None]\n",
        "    }\n",
        "]"
      ],
      "metadata": {
        "id": "MP5Puu3aOAlQ"
      },
      "execution_count": null,
      "outputs": []
    },
    {
      "cell_type": "markdown",
      "source": [
        "Función para búsqueda del mejor modelo:"
      ],
      "metadata": {
        "id": "Yz7T9w9kOLVm"
      }
    },
    {
      "cell_type": "code",
      "source": [
        "grid = GridSearchCV(estimator = pipeline, param_grid = param_grid, scoring = ['precision', 'recall', 'f1'],\n",
        "                    n_jobs = 1, refit = 'f1', cv = 5, return_train_score = True, verbose = 2)"
      ],
      "metadata": {
        "id": "w78Yl_VNONQo"
      },
      "execution_count": null,
      "outputs": []
    },
    {
      "cell_type": "markdown",
      "source": [
        "Búsqueda del mejor modelo:"
      ],
      "metadata": {
        "id": "7WHz6OvaQCh2"
      }
    },
    {
      "cell_type": "code",
      "source": [
        "grid.fit(X_train, Y_train)"
      ],
      "metadata": {
        "colab": {
          "base_uri": "https://localhost:8080/"
        },
        "id": "mkK5ByTiQD6P",
        "outputId": "2ebc27f8-82b7-4e91-818e-2f9c0a2eac95"
      },
      "execution_count": null,
      "outputs": [
        {
          "output_type": "stream",
          "name": "stdout",
          "text": [
            "Fitting 5 folds for each of 108 candidates, totalling 540 fits\n",
            "[CV] END classifier__C=0.01, classifier__class_weight=balanced, classifier__penalty=none, normalizer=StandardScaler(), poly=PolynomialFeatures(), poly__degree=1; total time=   0.0s\n",
            "[CV] END classifier__C=0.01, classifier__class_weight=balanced, classifier__penalty=none, normalizer=StandardScaler(), poly=PolynomialFeatures(), poly__degree=1; total time=   0.0s\n",
            "[CV] END classifier__C=0.01, classifier__class_weight=balanced, classifier__penalty=none, normalizer=StandardScaler(), poly=PolynomialFeatures(), poly__degree=1; total time=   0.0s\n",
            "[CV] END classifier__C=0.01, classifier__class_weight=balanced, classifier__penalty=none, normalizer=StandardScaler(), poly=PolynomialFeatures(), poly__degree=1; total time=   0.1s\n",
            "[CV] END classifier__C=0.01, classifier__class_weight=balanced, classifier__penalty=none, normalizer=StandardScaler(), poly=PolynomialFeatures(), poly__degree=1; total time=   0.0s\n",
            "[CV] END classifier__C=0.01, classifier__class_weight=balanced, classifier__penalty=none, normalizer=StandardScaler(), poly=PolynomialFeatures(), poly__degree=2; total time=   0.1s\n",
            "[CV] END classifier__C=0.01, classifier__class_weight=balanced, classifier__penalty=none, normalizer=StandardScaler(), poly=PolynomialFeatures(), poly__degree=2; total time=   0.1s\n",
            "[CV] END classifier__C=0.01, classifier__class_weight=balanced, classifier__penalty=none, normalizer=StandardScaler(), poly=PolynomialFeatures(), poly__degree=2; total time=   0.1s\n",
            "[CV] END classifier__C=0.01, classifier__class_weight=balanced, classifier__penalty=none, normalizer=StandardScaler(), poly=PolynomialFeatures(), poly__degree=2; total time=   0.1s\n",
            "[CV] END classifier__C=0.01, classifier__class_weight=balanced, classifier__penalty=none, normalizer=StandardScaler(), poly=PolynomialFeatures(), poly__degree=2; total time=   0.1s\n",
            "[CV] END classifier__C=0.01, classifier__class_weight=balanced, classifier__penalty=none, normalizer=StandardScaler(), poly=PolynomialFeatures(), poly__degree=3; total time=   0.2s\n",
            "[CV] END classifier__C=0.01, classifier__class_weight=balanced, classifier__penalty=none, normalizer=StandardScaler(), poly=PolynomialFeatures(), poly__degree=3; total time=   0.3s\n",
            "[CV] END classifier__C=0.01, classifier__class_weight=balanced, classifier__penalty=none, normalizer=StandardScaler(), poly=PolynomialFeatures(), poly__degree=3; total time=   0.4s\n",
            "[CV] END classifier__C=0.01, classifier__class_weight=balanced, classifier__penalty=none, normalizer=StandardScaler(), poly=PolynomialFeatures(), poly__degree=3; total time=   0.3s\n",
            "[CV] END classifier__C=0.01, classifier__class_weight=balanced, classifier__penalty=none, normalizer=StandardScaler(), poly=PolynomialFeatures(), poly__degree=3; total time=   0.4s\n",
            "[CV] END classifier__C=0.01, classifier__class_weight=balanced, classifier__penalty=none, normalizer=MinMaxScaler(), poly=PolynomialFeatures(), poly__degree=1; total time=   0.1s\n",
            "[CV] END classifier__C=0.01, classifier__class_weight=balanced, classifier__penalty=none, normalizer=MinMaxScaler(), poly=PolynomialFeatures(), poly__degree=1; total time=   0.1s\n",
            "[CV] END classifier__C=0.01, classifier__class_weight=balanced, classifier__penalty=none, normalizer=MinMaxScaler(), poly=PolynomialFeatures(), poly__degree=1; total time=   0.1s\n",
            "[CV] END classifier__C=0.01, classifier__class_weight=balanced, classifier__penalty=none, normalizer=MinMaxScaler(), poly=PolynomialFeatures(), poly__degree=1; total time=   0.1s\n",
            "[CV] END classifier__C=0.01, classifier__class_weight=balanced, classifier__penalty=none, normalizer=MinMaxScaler(), poly=PolynomialFeatures(), poly__degree=1; total time=   0.1s\n",
            "[CV] END classifier__C=0.01, classifier__class_weight=balanced, classifier__penalty=none, normalizer=MinMaxScaler(), poly=PolynomialFeatures(), poly__degree=2; total time=   0.1s\n",
            "[CV] END classifier__C=0.01, classifier__class_weight=balanced, classifier__penalty=none, normalizer=MinMaxScaler(), poly=PolynomialFeatures(), poly__degree=2; total time=   0.3s\n",
            "[CV] END classifier__C=0.01, classifier__class_weight=balanced, classifier__penalty=none, normalizer=MinMaxScaler(), poly=PolynomialFeatures(), poly__degree=2; total time=   0.3s\n",
            "[CV] END classifier__C=0.01, classifier__class_weight=balanced, classifier__penalty=none, normalizer=MinMaxScaler(), poly=PolynomialFeatures(), poly__degree=2; total time=   0.1s\n",
            "[CV] END classifier__C=0.01, classifier__class_weight=balanced, classifier__penalty=none, normalizer=MinMaxScaler(), poly=PolynomialFeatures(), poly__degree=2; total time=   0.2s\n",
            "[CV] END classifier__C=0.01, classifier__class_weight=balanced, classifier__penalty=none, normalizer=MinMaxScaler(), poly=PolynomialFeatures(), poly__degree=3; total time=   0.1s\n",
            "[CV] END classifier__C=0.01, classifier__class_weight=balanced, classifier__penalty=none, normalizer=MinMaxScaler(), poly=PolynomialFeatures(), poly__degree=3; total time=   0.1s\n",
            "[CV] END classifier__C=0.01, classifier__class_weight=balanced, classifier__penalty=none, normalizer=MinMaxScaler(), poly=PolynomialFeatures(), poly__degree=3; total time=   0.1s\n",
            "[CV] END classifier__C=0.01, classifier__class_weight=balanced, classifier__penalty=none, normalizer=MinMaxScaler(), poly=PolynomialFeatures(), poly__degree=3; total time=   0.1s\n",
            "[CV] END classifier__C=0.01, classifier__class_weight=balanced, classifier__penalty=none, normalizer=MinMaxScaler(), poly=PolynomialFeatures(), poly__degree=3; total time=   0.1s\n",
            "[CV] END classifier__C=0.01, classifier__class_weight=balanced, classifier__penalty=l1, normalizer=StandardScaler(), poly=PolynomialFeatures(), poly__degree=1; total time=   0.0s\n",
            "[CV] END classifier__C=0.01, classifier__class_weight=balanced, classifier__penalty=l1, normalizer=StandardScaler(), poly=PolynomialFeatures(), poly__degree=1; total time=   0.0s\n",
            "[CV] END classifier__C=0.01, classifier__class_weight=balanced, classifier__penalty=l1, normalizer=StandardScaler(), poly=PolynomialFeatures(), poly__degree=1; total time=   0.0s\n",
            "[CV] END classifier__C=0.01, classifier__class_weight=balanced, classifier__penalty=l1, normalizer=StandardScaler(), poly=PolynomialFeatures(), poly__degree=1; total time=   0.0s\n",
            "[CV] END classifier__C=0.01, classifier__class_weight=balanced, classifier__penalty=l1, normalizer=StandardScaler(), poly=PolynomialFeatures(), poly__degree=1; total time=   0.0s\n",
            "[CV] END classifier__C=0.01, classifier__class_weight=balanced, classifier__penalty=l1, normalizer=StandardScaler(), poly=PolynomialFeatures(), poly__degree=2; total time=   0.0s\n",
            "[CV] END classifier__C=0.01, classifier__class_weight=balanced, classifier__penalty=l1, normalizer=StandardScaler(), poly=PolynomialFeatures(), poly__degree=2; total time=   0.0s\n",
            "[CV] END classifier__C=0.01, classifier__class_weight=balanced, classifier__penalty=l1, normalizer=StandardScaler(), poly=PolynomialFeatures(), poly__degree=2; total time=   0.0s\n",
            "[CV] END classifier__C=0.01, classifier__class_weight=balanced, classifier__penalty=l1, normalizer=StandardScaler(), poly=PolynomialFeatures(), poly__degree=2; total time=   0.0s\n",
            "[CV] END classifier__C=0.01, classifier__class_weight=balanced, classifier__penalty=l1, normalizer=StandardScaler(), poly=PolynomialFeatures(), poly__degree=2; total time=   0.0s\n",
            "[CV] END classifier__C=0.01, classifier__class_weight=balanced, classifier__penalty=l1, normalizer=StandardScaler(), poly=PolynomialFeatures(), poly__degree=3; total time=   0.0s\n",
            "[CV] END classifier__C=0.01, classifier__class_weight=balanced, classifier__penalty=l1, normalizer=StandardScaler(), poly=PolynomialFeatures(), poly__degree=3; total time=   0.0s\n",
            "[CV] END classifier__C=0.01, classifier__class_weight=balanced, classifier__penalty=l1, normalizer=StandardScaler(), poly=PolynomialFeatures(), poly__degree=3; total time=   0.0s\n",
            "[CV] END classifier__C=0.01, classifier__class_weight=balanced, classifier__penalty=l1, normalizer=StandardScaler(), poly=PolynomialFeatures(), poly__degree=3; total time=   0.0s\n",
            "[CV] END classifier__C=0.01, classifier__class_weight=balanced, classifier__penalty=l1, normalizer=StandardScaler(), poly=PolynomialFeatures(), poly__degree=3; total time=   0.0s\n",
            "[CV] END classifier__C=0.01, classifier__class_weight=balanced, classifier__penalty=l1, normalizer=MinMaxScaler(), poly=PolynomialFeatures(), poly__degree=1; total time=   0.0s\n",
            "[CV] END classifier__C=0.01, classifier__class_weight=balanced, classifier__penalty=l1, normalizer=MinMaxScaler(), poly=PolynomialFeatures(), poly__degree=1; total time=   0.0s\n",
            "[CV] END classifier__C=0.01, classifier__class_weight=balanced, classifier__penalty=l1, normalizer=MinMaxScaler(), poly=PolynomialFeatures(), poly__degree=1; total time=   0.0s\n",
            "[CV] END classifier__C=0.01, classifier__class_weight=balanced, classifier__penalty=l1, normalizer=MinMaxScaler(), poly=PolynomialFeatures(), poly__degree=1; total time=   0.0s\n",
            "[CV] END classifier__C=0.01, classifier__class_weight=balanced, classifier__penalty=l1, normalizer=MinMaxScaler(), poly=PolynomialFeatures(), poly__degree=1; total time=   0.0s\n",
            "[CV] END classifier__C=0.01, classifier__class_weight=balanced, classifier__penalty=l1, normalizer=MinMaxScaler(), poly=PolynomialFeatures(), poly__degree=2; total time=   0.0s\n",
            "[CV] END classifier__C=0.01, classifier__class_weight=balanced, classifier__penalty=l1, normalizer=MinMaxScaler(), poly=PolynomialFeatures(), poly__degree=2; total time=   0.0s\n",
            "[CV] END classifier__C=0.01, classifier__class_weight=balanced, classifier__penalty=l1, normalizer=MinMaxScaler(), poly=PolynomialFeatures(), poly__degree=2; total time=   0.0s\n",
            "[CV] END classifier__C=0.01, classifier__class_weight=balanced, classifier__penalty=l1, normalizer=MinMaxScaler(), poly=PolynomialFeatures(), poly__degree=2; total time=   0.0s\n",
            "[CV] END classifier__C=0.01, classifier__class_weight=balanced, classifier__penalty=l1, normalizer=MinMaxScaler(), poly=PolynomialFeatures(), poly__degree=2; total time=   0.0s\n",
            "[CV] END classifier__C=0.01, classifier__class_weight=balanced, classifier__penalty=l1, normalizer=MinMaxScaler(), poly=PolynomialFeatures(), poly__degree=3; total time=   0.0s\n",
            "[CV] END classifier__C=0.01, classifier__class_weight=balanced, classifier__penalty=l1, normalizer=MinMaxScaler(), poly=PolynomialFeatures(), poly__degree=3; total time=   0.0s\n",
            "[CV] END classifier__C=0.01, classifier__class_weight=balanced, classifier__penalty=l1, normalizer=MinMaxScaler(), poly=PolynomialFeatures(), poly__degree=3; total time=   0.0s\n",
            "[CV] END classifier__C=0.01, classifier__class_weight=balanced, classifier__penalty=l1, normalizer=MinMaxScaler(), poly=PolynomialFeatures(), poly__degree=3; total time=   0.0s\n",
            "[CV] END classifier__C=0.01, classifier__class_weight=balanced, classifier__penalty=l1, normalizer=MinMaxScaler(), poly=PolynomialFeatures(), poly__degree=3; total time=   0.0s\n",
            "[CV] END classifier__C=0.01, classifier__class_weight=balanced, classifier__penalty=l2, normalizer=StandardScaler(), poly=PolynomialFeatures(), poly__degree=1; total time=   0.0s\n",
            "[CV] END classifier__C=0.01, classifier__class_weight=balanced, classifier__penalty=l2, normalizer=StandardScaler(), poly=PolynomialFeatures(), poly__degree=1; total time=   0.0s\n",
            "[CV] END classifier__C=0.01, classifier__class_weight=balanced, classifier__penalty=l2, normalizer=StandardScaler(), poly=PolynomialFeatures(), poly__degree=1; total time=   0.0s\n",
            "[CV] END classifier__C=0.01, classifier__class_weight=balanced, classifier__penalty=l2, normalizer=StandardScaler(), poly=PolynomialFeatures(), poly__degree=1; total time=   0.0s\n",
            "[CV] END classifier__C=0.01, classifier__class_weight=balanced, classifier__penalty=l2, normalizer=StandardScaler(), poly=PolynomialFeatures(), poly__degree=1; total time=   0.0s\n",
            "[CV] END classifier__C=0.01, classifier__class_weight=balanced, classifier__penalty=l2, normalizer=StandardScaler(), poly=PolynomialFeatures(), poly__degree=2; total time=   0.0s\n",
            "[CV] END classifier__C=0.01, classifier__class_weight=balanced, classifier__penalty=l2, normalizer=StandardScaler(), poly=PolynomialFeatures(), poly__degree=2; total time=   0.0s\n",
            "[CV] END classifier__C=0.01, classifier__class_weight=balanced, classifier__penalty=l2, normalizer=StandardScaler(), poly=PolynomialFeatures(), poly__degree=2; total time=   0.0s\n",
            "[CV] END classifier__C=0.01, classifier__class_weight=balanced, classifier__penalty=l2, normalizer=StandardScaler(), poly=PolynomialFeatures(), poly__degree=2; total time=   0.0s\n",
            "[CV] END classifier__C=0.01, classifier__class_weight=balanced, classifier__penalty=l2, normalizer=StandardScaler(), poly=PolynomialFeatures(), poly__degree=2; total time=   0.0s\n",
            "[CV] END classifier__C=0.01, classifier__class_weight=balanced, classifier__penalty=l2, normalizer=StandardScaler(), poly=PolynomialFeatures(), poly__degree=3; total time=   0.1s\n",
            "[CV] END classifier__C=0.01, classifier__class_weight=balanced, classifier__penalty=l2, normalizer=StandardScaler(), poly=PolynomialFeatures(), poly__degree=3; total time=   0.1s\n",
            "[CV] END classifier__C=0.01, classifier__class_weight=balanced, classifier__penalty=l2, normalizer=StandardScaler(), poly=PolynomialFeatures(), poly__degree=3; total time=   0.1s\n",
            "[CV] END classifier__C=0.01, classifier__class_weight=balanced, classifier__penalty=l2, normalizer=StandardScaler(), poly=PolynomialFeatures(), poly__degree=3; total time=   0.1s\n",
            "[CV] END classifier__C=0.01, classifier__class_weight=balanced, classifier__penalty=l2, normalizer=StandardScaler(), poly=PolynomialFeatures(), poly__degree=3; total time=   0.1s\n",
            "[CV] END classifier__C=0.01, classifier__class_weight=balanced, classifier__penalty=l2, normalizer=MinMaxScaler(), poly=PolynomialFeatures(), poly__degree=1; total time=   0.0s\n",
            "[CV] END classifier__C=0.01, classifier__class_weight=balanced, classifier__penalty=l2, normalizer=MinMaxScaler(), poly=PolynomialFeatures(), poly__degree=1; total time=   0.0s\n",
            "[CV] END classifier__C=0.01, classifier__class_weight=balanced, classifier__penalty=l2, normalizer=MinMaxScaler(), poly=PolynomialFeatures(), poly__degree=1; total time=   0.0s\n",
            "[CV] END classifier__C=0.01, classifier__class_weight=balanced, classifier__penalty=l2, normalizer=MinMaxScaler(), poly=PolynomialFeatures(), poly__degree=1; total time=   0.0s\n",
            "[CV] END classifier__C=0.01, classifier__class_weight=balanced, classifier__penalty=l2, normalizer=MinMaxScaler(), poly=PolynomialFeatures(), poly__degree=1; total time=   0.0s\n",
            "[CV] END classifier__C=0.01, classifier__class_weight=balanced, classifier__penalty=l2, normalizer=MinMaxScaler(), poly=PolynomialFeatures(), poly__degree=2; total time=   0.0s\n",
            "[CV] END classifier__C=0.01, classifier__class_weight=balanced, classifier__penalty=l2, normalizer=MinMaxScaler(), poly=PolynomialFeatures(), poly__degree=2; total time=   0.0s\n",
            "[CV] END classifier__C=0.01, classifier__class_weight=balanced, classifier__penalty=l2, normalizer=MinMaxScaler(), poly=PolynomialFeatures(), poly__degree=2; total time=   0.0s\n",
            "[CV] END classifier__C=0.01, classifier__class_weight=balanced, classifier__penalty=l2, normalizer=MinMaxScaler(), poly=PolynomialFeatures(), poly__degree=2; total time=   0.0s\n",
            "[CV] END classifier__C=0.01, classifier__class_weight=balanced, classifier__penalty=l2, normalizer=MinMaxScaler(), poly=PolynomialFeatures(), poly__degree=2; total time=   0.0s\n",
            "[CV] END classifier__C=0.01, classifier__class_weight=balanced, classifier__penalty=l2, normalizer=MinMaxScaler(), poly=PolynomialFeatures(), poly__degree=3; total time=   0.2s\n",
            "[CV] END classifier__C=0.01, classifier__class_weight=balanced, classifier__penalty=l2, normalizer=MinMaxScaler(), poly=PolynomialFeatures(), poly__degree=3; total time=   0.1s\n",
            "[CV] END classifier__C=0.01, classifier__class_weight=balanced, classifier__penalty=l2, normalizer=MinMaxScaler(), poly=PolynomialFeatures(), poly__degree=3; total time=   0.1s\n",
            "[CV] END classifier__C=0.01, classifier__class_weight=balanced, classifier__penalty=l2, normalizer=MinMaxScaler(), poly=PolynomialFeatures(), poly__degree=3; total time=   0.1s\n",
            "[CV] END classifier__C=0.01, classifier__class_weight=balanced, classifier__penalty=l2, normalizer=MinMaxScaler(), poly=PolynomialFeatures(), poly__degree=3; total time=   0.1s\n",
            "[CV] END classifier__C=0.01, classifier__class_weight=None, classifier__penalty=none, normalizer=StandardScaler(), poly=PolynomialFeatures(), poly__degree=1; total time=   0.0s\n",
            "[CV] END classifier__C=0.01, classifier__class_weight=None, classifier__penalty=none, normalizer=StandardScaler(), poly=PolynomialFeatures(), poly__degree=1; total time=   0.0s\n",
            "[CV] END classifier__C=0.01, classifier__class_weight=None, classifier__penalty=none, normalizer=StandardScaler(), poly=PolynomialFeatures(), poly__degree=1; total time=   0.0s\n",
            "[CV] END classifier__C=0.01, classifier__class_weight=None, classifier__penalty=none, normalizer=StandardScaler(), poly=PolynomialFeatures(), poly__degree=1; total time=   0.0s\n",
            "[CV] END classifier__C=0.01, classifier__class_weight=None, classifier__penalty=none, normalizer=StandardScaler(), poly=PolynomialFeatures(), poly__degree=1; total time=   0.0s\n",
            "[CV] END classifier__C=0.01, classifier__class_weight=None, classifier__penalty=none, normalizer=StandardScaler(), poly=PolynomialFeatures(), poly__degree=2; total time=   0.0s\n",
            "[CV] END classifier__C=0.01, classifier__class_weight=None, classifier__penalty=none, normalizer=StandardScaler(), poly=PolynomialFeatures(), poly__degree=2; total time=   0.0s\n",
            "[CV] END classifier__C=0.01, classifier__class_weight=None, classifier__penalty=none, normalizer=StandardScaler(), poly=PolynomialFeatures(), poly__degree=2; total time=   0.1s\n",
            "[CV] END classifier__C=0.01, classifier__class_weight=None, classifier__penalty=none, normalizer=StandardScaler(), poly=PolynomialFeatures(), poly__degree=2; total time=   0.0s\n",
            "[CV] END classifier__C=0.01, classifier__class_weight=None, classifier__penalty=none, normalizer=StandardScaler(), poly=PolynomialFeatures(), poly__degree=2; total time=   0.0s\n",
            "[CV] END classifier__C=0.01, classifier__class_weight=None, classifier__penalty=none, normalizer=StandardScaler(), poly=PolynomialFeatures(), poly__degree=3; total time=   0.1s\n",
            "[CV] END classifier__C=0.01, classifier__class_weight=None, classifier__penalty=none, normalizer=StandardScaler(), poly=PolynomialFeatures(), poly__degree=3; total time=   0.1s\n",
            "[CV] END classifier__C=0.01, classifier__class_weight=None, classifier__penalty=none, normalizer=StandardScaler(), poly=PolynomialFeatures(), poly__degree=3; total time=   0.1s\n",
            "[CV] END classifier__C=0.01, classifier__class_weight=None, classifier__penalty=none, normalizer=StandardScaler(), poly=PolynomialFeatures(), poly__degree=3; total time=   0.1s\n",
            "[CV] END classifier__C=0.01, classifier__class_weight=None, classifier__penalty=none, normalizer=StandardScaler(), poly=PolynomialFeatures(), poly__degree=3; total time=   0.1s\n",
            "[CV] END classifier__C=0.01, classifier__class_weight=None, classifier__penalty=none, normalizer=MinMaxScaler(), poly=PolynomialFeatures(), poly__degree=1; total time=   0.0s\n",
            "[CV] END classifier__C=0.01, classifier__class_weight=None, classifier__penalty=none, normalizer=MinMaxScaler(), poly=PolynomialFeatures(), poly__degree=1; total time=   0.1s\n",
            "[CV] END classifier__C=0.01, classifier__class_weight=None, classifier__penalty=none, normalizer=MinMaxScaler(), poly=PolynomialFeatures(), poly__degree=1; total time=   0.0s\n",
            "[CV] END classifier__C=0.01, classifier__class_weight=None, classifier__penalty=none, normalizer=MinMaxScaler(), poly=PolynomialFeatures(), poly__degree=1; total time=   0.0s\n",
            "[CV] END classifier__C=0.01, classifier__class_weight=None, classifier__penalty=none, normalizer=MinMaxScaler(), poly=PolynomialFeatures(), poly__degree=1; total time=   0.0s\n",
            "[CV] END classifier__C=0.01, classifier__class_weight=None, classifier__penalty=none, normalizer=MinMaxScaler(), poly=PolynomialFeatures(), poly__degree=2; total time=   0.1s\n",
            "[CV] END classifier__C=0.01, classifier__class_weight=None, classifier__penalty=none, normalizer=MinMaxScaler(), poly=PolynomialFeatures(), poly__degree=2; total time=   0.1s\n",
            "[CV] END classifier__C=0.01, classifier__class_weight=None, classifier__penalty=none, normalizer=MinMaxScaler(), poly=PolynomialFeatures(), poly__degree=2; total time=   0.1s\n",
            "[CV] END classifier__C=0.01, classifier__class_weight=None, classifier__penalty=none, normalizer=MinMaxScaler(), poly=PolynomialFeatures(), poly__degree=2; total time=   0.1s\n",
            "[CV] END classifier__C=0.01, classifier__class_weight=None, classifier__penalty=none, normalizer=MinMaxScaler(), poly=PolynomialFeatures(), poly__degree=2; total time=   0.1s\n",
            "[CV] END classifier__C=0.01, classifier__class_weight=None, classifier__penalty=none, normalizer=MinMaxScaler(), poly=PolynomialFeatures(), poly__degree=3; total time=   0.1s\n",
            "[CV] END classifier__C=0.01, classifier__class_weight=None, classifier__penalty=none, normalizer=MinMaxScaler(), poly=PolynomialFeatures(), poly__degree=3; total time=   0.2s\n",
            "[CV] END classifier__C=0.01, classifier__class_weight=None, classifier__penalty=none, normalizer=MinMaxScaler(), poly=PolynomialFeatures(), poly__degree=3; total time=   0.1s\n",
            "[CV] END classifier__C=0.01, classifier__class_weight=None, classifier__penalty=none, normalizer=MinMaxScaler(), poly=PolynomialFeatures(), poly__degree=3; total time=   0.1s\n",
            "[CV] END classifier__C=0.01, classifier__class_weight=None, classifier__penalty=none, normalizer=MinMaxScaler(), poly=PolynomialFeatures(), poly__degree=3; total time=   0.1s\n",
            "[CV] END classifier__C=0.01, classifier__class_weight=None, classifier__penalty=l1, normalizer=StandardScaler(), poly=PolynomialFeatures(), poly__degree=1; total time=   0.0s\n",
            "[CV] END classifier__C=0.01, classifier__class_weight=None, classifier__penalty=l1, normalizer=StandardScaler(), poly=PolynomialFeatures(), poly__degree=1; total time=   0.0s\n",
            "[CV] END classifier__C=0.01, classifier__class_weight=None, classifier__penalty=l1, normalizer=StandardScaler(), poly=PolynomialFeatures(), poly__degree=1; total time=   0.0s\n",
            "[CV] END classifier__C=0.01, classifier__class_weight=None, classifier__penalty=l1, normalizer=StandardScaler(), poly=PolynomialFeatures(), poly__degree=1; total time=   0.0s\n",
            "[CV] END classifier__C=0.01, classifier__class_weight=None, classifier__penalty=l1, normalizer=StandardScaler(), poly=PolynomialFeatures(), poly__degree=1; total time=   0.0s\n",
            "[CV] END classifier__C=0.01, classifier__class_weight=None, classifier__penalty=l1, normalizer=StandardScaler(), poly=PolynomialFeatures(), poly__degree=2; total time=   0.0s\n",
            "[CV] END classifier__C=0.01, classifier__class_weight=None, classifier__penalty=l1, normalizer=StandardScaler(), poly=PolynomialFeatures(), poly__degree=2; total time=   0.0s\n",
            "[CV] END classifier__C=0.01, classifier__class_weight=None, classifier__penalty=l1, normalizer=StandardScaler(), poly=PolynomialFeatures(), poly__degree=2; total time=   0.0s\n",
            "[CV] END classifier__C=0.01, classifier__class_weight=None, classifier__penalty=l1, normalizer=StandardScaler(), poly=PolynomialFeatures(), poly__degree=2; total time=   0.0s\n",
            "[CV] END classifier__C=0.01, classifier__class_weight=None, classifier__penalty=l1, normalizer=StandardScaler(), poly=PolynomialFeatures(), poly__degree=2; total time=   0.0s\n",
            "[CV] END classifier__C=0.01, classifier__class_weight=None, classifier__penalty=l1, normalizer=StandardScaler(), poly=PolynomialFeatures(), poly__degree=3; total time=   0.0s\n",
            "[CV] END classifier__C=0.01, classifier__class_weight=None, classifier__penalty=l1, normalizer=StandardScaler(), poly=PolynomialFeatures(), poly__degree=3; total time=   0.0s\n",
            "[CV] END classifier__C=0.01, classifier__class_weight=None, classifier__penalty=l1, normalizer=StandardScaler(), poly=PolynomialFeatures(), poly__degree=3; total time=   0.0s\n",
            "[CV] END classifier__C=0.01, classifier__class_weight=None, classifier__penalty=l1, normalizer=StandardScaler(), poly=PolynomialFeatures(), poly__degree=3; total time=   0.0s\n",
            "[CV] END classifier__C=0.01, classifier__class_weight=None, classifier__penalty=l1, normalizer=StandardScaler(), poly=PolynomialFeatures(), poly__degree=3; total time=   0.0s\n",
            "[CV] END classifier__C=0.01, classifier__class_weight=None, classifier__penalty=l1, normalizer=MinMaxScaler(), poly=PolynomialFeatures(), poly__degree=1; total time=   0.0s\n",
            "[CV] END classifier__C=0.01, classifier__class_weight=None, classifier__penalty=l1, normalizer=MinMaxScaler(), poly=PolynomialFeatures(), poly__degree=1; total time=   0.0s\n",
            "[CV] END classifier__C=0.01, classifier__class_weight=None, classifier__penalty=l1, normalizer=MinMaxScaler(), poly=PolynomialFeatures(), poly__degree=1; total time=   0.0s\n",
            "[CV] END classifier__C=0.01, classifier__class_weight=None, classifier__penalty=l1, normalizer=MinMaxScaler(), poly=PolynomialFeatures(), poly__degree=1; total time=   0.0s\n",
            "[CV] END classifier__C=0.01, classifier__class_weight=None, classifier__penalty=l1, normalizer=MinMaxScaler(), poly=PolynomialFeatures(), poly__degree=1; total time=   0.0s\n",
            "[CV] END classifier__C=0.01, classifier__class_weight=None, classifier__penalty=l1, normalizer=MinMaxScaler(), poly=PolynomialFeatures(), poly__degree=2; total time=   0.0s\n",
            "[CV] END classifier__C=0.01, classifier__class_weight=None, classifier__penalty=l1, normalizer=MinMaxScaler(), poly=PolynomialFeatures(), poly__degree=2; total time=   0.0s\n",
            "[CV] END classifier__C=0.01, classifier__class_weight=None, classifier__penalty=l1, normalizer=MinMaxScaler(), poly=PolynomialFeatures(), poly__degree=2; total time=   0.0s\n",
            "[CV] END classifier__C=0.01, classifier__class_weight=None, classifier__penalty=l1, normalizer=MinMaxScaler(), poly=PolynomialFeatures(), poly__degree=2; total time=   0.0s\n",
            "[CV] END classifier__C=0.01, classifier__class_weight=None, classifier__penalty=l1, normalizer=MinMaxScaler(), poly=PolynomialFeatures(), poly__degree=2; total time=   0.0s\n",
            "[CV] END classifier__C=0.01, classifier__class_weight=None, classifier__penalty=l1, normalizer=MinMaxScaler(), poly=PolynomialFeatures(), poly__degree=3; total time=   0.0s\n",
            "[CV] END classifier__C=0.01, classifier__class_weight=None, classifier__penalty=l1, normalizer=MinMaxScaler(), poly=PolynomialFeatures(), poly__degree=3; total time=   0.0s\n",
            "[CV] END classifier__C=0.01, classifier__class_weight=None, classifier__penalty=l1, normalizer=MinMaxScaler(), poly=PolynomialFeatures(), poly__degree=3; total time=   0.0s\n",
            "[CV] END classifier__C=0.01, classifier__class_weight=None, classifier__penalty=l1, normalizer=MinMaxScaler(), poly=PolynomialFeatures(), poly__degree=3; total time=   0.0s\n",
            "[CV] END classifier__C=0.01, classifier__class_weight=None, classifier__penalty=l1, normalizer=MinMaxScaler(), poly=PolynomialFeatures(), poly__degree=3; total time=   0.0s\n",
            "[CV] END classifier__C=0.01, classifier__class_weight=None, classifier__penalty=l2, normalizer=StandardScaler(), poly=PolynomialFeatures(), poly__degree=1; total time=   0.0s\n",
            "[CV] END classifier__C=0.01, classifier__class_weight=None, classifier__penalty=l2, normalizer=StandardScaler(), poly=PolynomialFeatures(), poly__degree=1; total time=   0.0s\n",
            "[CV] END classifier__C=0.01, classifier__class_weight=None, classifier__penalty=l2, normalizer=StandardScaler(), poly=PolynomialFeatures(), poly__degree=1; total time=   0.0s\n",
            "[CV] END classifier__C=0.01, classifier__class_weight=None, classifier__penalty=l2, normalizer=StandardScaler(), poly=PolynomialFeatures(), poly__degree=1; total time=   0.0s\n",
            "[CV] END classifier__C=0.01, classifier__class_weight=None, classifier__penalty=l2, normalizer=StandardScaler(), poly=PolynomialFeatures(), poly__degree=1; total time=   0.0s\n",
            "[CV] END classifier__C=0.01, classifier__class_weight=None, classifier__penalty=l2, normalizer=StandardScaler(), poly=PolynomialFeatures(), poly__degree=2; total time=   0.0s\n",
            "[CV] END classifier__C=0.01, classifier__class_weight=None, classifier__penalty=l2, normalizer=StandardScaler(), poly=PolynomialFeatures(), poly__degree=2; total time=   0.0s\n",
            "[CV] END classifier__C=0.01, classifier__class_weight=None, classifier__penalty=l2, normalizer=StandardScaler(), poly=PolynomialFeatures(), poly__degree=2; total time=   0.0s\n",
            "[CV] END classifier__C=0.01, classifier__class_weight=None, classifier__penalty=l2, normalizer=StandardScaler(), poly=PolynomialFeatures(), poly__degree=2; total time=   0.0s\n",
            "[CV] END classifier__C=0.01, classifier__class_weight=None, classifier__penalty=l2, normalizer=StandardScaler(), poly=PolynomialFeatures(), poly__degree=2; total time=   0.0s\n",
            "[CV] END classifier__C=0.01, classifier__class_weight=None, classifier__penalty=l2, normalizer=StandardScaler(), poly=PolynomialFeatures(), poly__degree=3; total time=   0.1s\n",
            "[CV] END classifier__C=0.01, classifier__class_weight=None, classifier__penalty=l2, normalizer=StandardScaler(), poly=PolynomialFeatures(), poly__degree=3; total time=   0.1s\n",
            "[CV] END classifier__C=0.01, classifier__class_weight=None, classifier__penalty=l2, normalizer=StandardScaler(), poly=PolynomialFeatures(), poly__degree=3; total time=   0.1s\n",
            "[CV] END classifier__C=0.01, classifier__class_weight=None, classifier__penalty=l2, normalizer=StandardScaler(), poly=PolynomialFeatures(), poly__degree=3; total time=   0.1s\n",
            "[CV] END classifier__C=0.01, classifier__class_weight=None, classifier__penalty=l2, normalizer=StandardScaler(), poly=PolynomialFeatures(), poly__degree=3; total time=   0.2s\n",
            "[CV] END classifier__C=0.01, classifier__class_weight=None, classifier__penalty=l2, normalizer=MinMaxScaler(), poly=PolynomialFeatures(), poly__degree=1; total time=   0.0s\n",
            "[CV] END classifier__C=0.01, classifier__class_weight=None, classifier__penalty=l2, normalizer=MinMaxScaler(), poly=PolynomialFeatures(), poly__degree=1; total time=   0.0s\n",
            "[CV] END classifier__C=0.01, classifier__class_weight=None, classifier__penalty=l2, normalizer=MinMaxScaler(), poly=PolynomialFeatures(), poly__degree=1; total time=   0.0s\n",
            "[CV] END classifier__C=0.01, classifier__class_weight=None, classifier__penalty=l2, normalizer=MinMaxScaler(), poly=PolynomialFeatures(), poly__degree=1; total time=   0.0s\n",
            "[CV] END classifier__C=0.01, classifier__class_weight=None, classifier__penalty=l2, normalizer=MinMaxScaler(), poly=PolynomialFeatures(), poly__degree=1; total time=   0.0s\n",
            "[CV] END classifier__C=0.01, classifier__class_weight=None, classifier__penalty=l2, normalizer=MinMaxScaler(), poly=PolynomialFeatures(), poly__degree=2; total time=   0.0s\n",
            "[CV] END classifier__C=0.01, classifier__class_weight=None, classifier__penalty=l2, normalizer=MinMaxScaler(), poly=PolynomialFeatures(), poly__degree=2; total time=   0.0s\n",
            "[CV] END classifier__C=0.01, classifier__class_weight=None, classifier__penalty=l2, normalizer=MinMaxScaler(), poly=PolynomialFeatures(), poly__degree=2; total time=   0.0s\n",
            "[CV] END classifier__C=0.01, classifier__class_weight=None, classifier__penalty=l2, normalizer=MinMaxScaler(), poly=PolynomialFeatures(), poly__degree=2; total time=   0.0s\n",
            "[CV] END classifier__C=0.01, classifier__class_weight=None, classifier__penalty=l2, normalizer=MinMaxScaler(), poly=PolynomialFeatures(), poly__degree=2; total time=   0.0s\n",
            "[CV] END classifier__C=0.01, classifier__class_weight=None, classifier__penalty=l2, normalizer=MinMaxScaler(), poly=PolynomialFeatures(), poly__degree=3; total time=   0.1s\n",
            "[CV] END classifier__C=0.01, classifier__class_weight=None, classifier__penalty=l2, normalizer=MinMaxScaler(), poly=PolynomialFeatures(), poly__degree=3; total time=   0.1s\n",
            "[CV] END classifier__C=0.01, classifier__class_weight=None, classifier__penalty=l2, normalizer=MinMaxScaler(), poly=PolynomialFeatures(), poly__degree=3; total time=   0.1s\n",
            "[CV] END classifier__C=0.01, classifier__class_weight=None, classifier__penalty=l2, normalizer=MinMaxScaler(), poly=PolynomialFeatures(), poly__degree=3; total time=   0.2s\n",
            "[CV] END classifier__C=0.01, classifier__class_weight=None, classifier__penalty=l2, normalizer=MinMaxScaler(), poly=PolynomialFeatures(), poly__degree=3; total time=   0.2s\n",
            "[CV] END classifier__C=0.1, classifier__class_weight=balanced, classifier__penalty=none, normalizer=StandardScaler(), poly=PolynomialFeatures(), poly__degree=1; total time=   0.0s\n",
            "[CV] END classifier__C=0.1, classifier__class_weight=balanced, classifier__penalty=none, normalizer=StandardScaler(), poly=PolynomialFeatures(), poly__degree=1; total time=   0.0s\n",
            "[CV] END classifier__C=0.1, classifier__class_weight=balanced, classifier__penalty=none, normalizer=StandardScaler(), poly=PolynomialFeatures(), poly__degree=1; total time=   0.0s\n",
            "[CV] END classifier__C=0.1, classifier__class_weight=balanced, classifier__penalty=none, normalizer=StandardScaler(), poly=PolynomialFeatures(), poly__degree=1; total time=   0.0s\n",
            "[CV] END classifier__C=0.1, classifier__class_weight=balanced, classifier__penalty=none, normalizer=StandardScaler(), poly=PolynomialFeatures(), poly__degree=1; total time=   0.0s\n",
            "[CV] END classifier__C=0.1, classifier__class_weight=balanced, classifier__penalty=none, normalizer=StandardScaler(), poly=PolynomialFeatures(), poly__degree=2; total time=   0.1s\n",
            "[CV] END classifier__C=0.1, classifier__class_weight=balanced, classifier__penalty=none, normalizer=StandardScaler(), poly=PolynomialFeatures(), poly__degree=2; total time=   0.1s\n",
            "[CV] END classifier__C=0.1, classifier__class_weight=balanced, classifier__penalty=none, normalizer=StandardScaler(), poly=PolynomialFeatures(), poly__degree=2; total time=   0.1s\n",
            "[CV] END classifier__C=0.1, classifier__class_weight=balanced, classifier__penalty=none, normalizer=StandardScaler(), poly=PolynomialFeatures(), poly__degree=2; total time=   0.0s\n",
            "[CV] END classifier__C=0.1, classifier__class_weight=balanced, classifier__penalty=none, normalizer=StandardScaler(), poly=PolynomialFeatures(), poly__degree=2; total time=   0.1s\n",
            "[CV] END classifier__C=0.1, classifier__class_weight=balanced, classifier__penalty=none, normalizer=StandardScaler(), poly=PolynomialFeatures(), poly__degree=3; total time=   0.3s\n",
            "[CV] END classifier__C=0.1, classifier__class_weight=balanced, classifier__penalty=none, normalizer=StandardScaler(), poly=PolynomialFeatures(), poly__degree=3; total time=   0.3s\n",
            "[CV] END classifier__C=0.1, classifier__class_weight=balanced, classifier__penalty=none, normalizer=StandardScaler(), poly=PolynomialFeatures(), poly__degree=3; total time=   0.2s\n",
            "[CV] END classifier__C=0.1, classifier__class_weight=balanced, classifier__penalty=none, normalizer=StandardScaler(), poly=PolynomialFeatures(), poly__degree=3; total time=   0.2s\n",
            "[CV] END classifier__C=0.1, classifier__class_weight=balanced, classifier__penalty=none, normalizer=StandardScaler(), poly=PolynomialFeatures(), poly__degree=3; total time=   0.2s\n",
            "[CV] END classifier__C=0.1, classifier__class_weight=balanced, classifier__penalty=none, normalizer=MinMaxScaler(), poly=PolynomialFeatures(), poly__degree=1; total time=   0.1s\n",
            "[CV] END classifier__C=0.1, classifier__class_weight=balanced, classifier__penalty=none, normalizer=MinMaxScaler(), poly=PolynomialFeatures(), poly__degree=1; total time=   0.1s\n",
            "[CV] END classifier__C=0.1, classifier__class_weight=balanced, classifier__penalty=none, normalizer=MinMaxScaler(), poly=PolynomialFeatures(), poly__degree=1; total time=   0.1s\n",
            "[CV] END classifier__C=0.1, classifier__class_weight=balanced, classifier__penalty=none, normalizer=MinMaxScaler(), poly=PolynomialFeatures(), poly__degree=1; total time=   0.0s\n",
            "[CV] END classifier__C=0.1, classifier__class_weight=balanced, classifier__penalty=none, normalizer=MinMaxScaler(), poly=PolynomialFeatures(), poly__degree=1; total time=   0.1s\n",
            "[CV] END classifier__C=0.1, classifier__class_weight=balanced, classifier__penalty=none, normalizer=MinMaxScaler(), poly=PolynomialFeatures(), poly__degree=2; total time=   0.1s\n",
            "[CV] END classifier__C=0.1, classifier__class_weight=balanced, classifier__penalty=none, normalizer=MinMaxScaler(), poly=PolynomialFeatures(), poly__degree=2; total time=   0.1s\n",
            "[CV] END classifier__C=0.1, classifier__class_weight=balanced, classifier__penalty=none, normalizer=MinMaxScaler(), poly=PolynomialFeatures(), poly__degree=2; total time=   0.1s\n",
            "[CV] END classifier__C=0.1, classifier__class_weight=balanced, classifier__penalty=none, normalizer=MinMaxScaler(), poly=PolynomialFeatures(), poly__degree=2; total time=   0.1s\n",
            "[CV] END classifier__C=0.1, classifier__class_weight=balanced, classifier__penalty=none, normalizer=MinMaxScaler(), poly=PolynomialFeatures(), poly__degree=2; total time=   0.1s\n",
            "[CV] END classifier__C=0.1, classifier__class_weight=balanced, classifier__penalty=none, normalizer=MinMaxScaler(), poly=PolynomialFeatures(), poly__degree=3; total time=   0.1s\n",
            "[CV] END classifier__C=0.1, classifier__class_weight=balanced, classifier__penalty=none, normalizer=MinMaxScaler(), poly=PolynomialFeatures(), poly__degree=3; total time=   0.1s\n",
            "[CV] END classifier__C=0.1, classifier__class_weight=balanced, classifier__penalty=none, normalizer=MinMaxScaler(), poly=PolynomialFeatures(), poly__degree=3; total time=   0.1s\n",
            "[CV] END classifier__C=0.1, classifier__class_weight=balanced, classifier__penalty=none, normalizer=MinMaxScaler(), poly=PolynomialFeatures(), poly__degree=3; total time=   0.1s\n",
            "[CV] END classifier__C=0.1, classifier__class_weight=balanced, classifier__penalty=none, normalizer=MinMaxScaler(), poly=PolynomialFeatures(), poly__degree=3; total time=   0.1s\n",
            "[CV] END classifier__C=0.1, classifier__class_weight=balanced, classifier__penalty=l1, normalizer=StandardScaler(), poly=PolynomialFeatures(), poly__degree=1; total time=   0.0s\n",
            "[CV] END classifier__C=0.1, classifier__class_weight=balanced, classifier__penalty=l1, normalizer=StandardScaler(), poly=PolynomialFeatures(), poly__degree=1; total time=   0.0s\n",
            "[CV] END classifier__C=0.1, classifier__class_weight=balanced, classifier__penalty=l1, normalizer=StandardScaler(), poly=PolynomialFeatures(), poly__degree=1; total time=   0.0s\n",
            "[CV] END classifier__C=0.1, classifier__class_weight=balanced, classifier__penalty=l1, normalizer=StandardScaler(), poly=PolynomialFeatures(), poly__degree=1; total time=   0.0s\n",
            "[CV] END classifier__C=0.1, classifier__class_weight=balanced, classifier__penalty=l1, normalizer=StandardScaler(), poly=PolynomialFeatures(), poly__degree=1; total time=   0.0s\n",
            "[CV] END classifier__C=0.1, classifier__class_weight=balanced, classifier__penalty=l1, normalizer=StandardScaler(), poly=PolynomialFeatures(), poly__degree=2; total time=   0.0s\n",
            "[CV] END classifier__C=0.1, classifier__class_weight=balanced, classifier__penalty=l1, normalizer=StandardScaler(), poly=PolynomialFeatures(), poly__degree=2; total time=   0.0s\n",
            "[CV] END classifier__C=0.1, classifier__class_weight=balanced, classifier__penalty=l1, normalizer=StandardScaler(), poly=PolynomialFeatures(), poly__degree=2; total time=   0.0s\n",
            "[CV] END classifier__C=0.1, classifier__class_weight=balanced, classifier__penalty=l1, normalizer=StandardScaler(), poly=PolynomialFeatures(), poly__degree=2; total time=   0.0s\n",
            "[CV] END classifier__C=0.1, classifier__class_weight=balanced, classifier__penalty=l1, normalizer=StandardScaler(), poly=PolynomialFeatures(), poly__degree=2; total time=   0.0s\n",
            "[CV] END classifier__C=0.1, classifier__class_weight=balanced, classifier__penalty=l1, normalizer=StandardScaler(), poly=PolynomialFeatures(), poly__degree=3; total time=   0.0s\n",
            "[CV] END classifier__C=0.1, classifier__class_weight=balanced, classifier__penalty=l1, normalizer=StandardScaler(), poly=PolynomialFeatures(), poly__degree=3; total time=   0.0s\n",
            "[CV] END classifier__C=0.1, classifier__class_weight=balanced, classifier__penalty=l1, normalizer=StandardScaler(), poly=PolynomialFeatures(), poly__degree=3; total time=   0.0s\n",
            "[CV] END classifier__C=0.1, classifier__class_weight=balanced, classifier__penalty=l1, normalizer=StandardScaler(), poly=PolynomialFeatures(), poly__degree=3; total time=   0.0s\n",
            "[CV] END classifier__C=0.1, classifier__class_weight=balanced, classifier__penalty=l1, normalizer=StandardScaler(), poly=PolynomialFeatures(), poly__degree=3; total time=   0.0s\n",
            "[CV] END classifier__C=0.1, classifier__class_weight=balanced, classifier__penalty=l1, normalizer=MinMaxScaler(), poly=PolynomialFeatures(), poly__degree=1; total time=   0.0s\n",
            "[CV] END classifier__C=0.1, classifier__class_weight=balanced, classifier__penalty=l1, normalizer=MinMaxScaler(), poly=PolynomialFeatures(), poly__degree=1; total time=   0.0s\n",
            "[CV] END classifier__C=0.1, classifier__class_weight=balanced, classifier__penalty=l1, normalizer=MinMaxScaler(), poly=PolynomialFeatures(), poly__degree=1; total time=   0.0s\n",
            "[CV] END classifier__C=0.1, classifier__class_weight=balanced, classifier__penalty=l1, normalizer=MinMaxScaler(), poly=PolynomialFeatures(), poly__degree=1; total time=   0.0s\n",
            "[CV] END classifier__C=0.1, classifier__class_weight=balanced, classifier__penalty=l1, normalizer=MinMaxScaler(), poly=PolynomialFeatures(), poly__degree=1; total time=   0.0s\n",
            "[CV] END classifier__C=0.1, classifier__class_weight=balanced, classifier__penalty=l1, normalizer=MinMaxScaler(), poly=PolynomialFeatures(), poly__degree=2; total time=   0.0s\n",
            "[CV] END classifier__C=0.1, classifier__class_weight=balanced, classifier__penalty=l1, normalizer=MinMaxScaler(), poly=PolynomialFeatures(), poly__degree=2; total time=   0.0s\n",
            "[CV] END classifier__C=0.1, classifier__class_weight=balanced, classifier__penalty=l1, normalizer=MinMaxScaler(), poly=PolynomialFeatures(), poly__degree=2; total time=   0.0s\n",
            "[CV] END classifier__C=0.1, classifier__class_weight=balanced, classifier__penalty=l1, normalizer=MinMaxScaler(), poly=PolynomialFeatures(), poly__degree=2; total time=   0.0s\n",
            "[CV] END classifier__C=0.1, classifier__class_weight=balanced, classifier__penalty=l1, normalizer=MinMaxScaler(), poly=PolynomialFeatures(), poly__degree=2; total time=   0.0s\n",
            "[CV] END classifier__C=0.1, classifier__class_weight=balanced, classifier__penalty=l1, normalizer=MinMaxScaler(), poly=PolynomialFeatures(), poly__degree=3; total time=   0.0s\n",
            "[CV] END classifier__C=0.1, classifier__class_weight=balanced, classifier__penalty=l1, normalizer=MinMaxScaler(), poly=PolynomialFeatures(), poly__degree=3; total time=   0.0s\n",
            "[CV] END classifier__C=0.1, classifier__class_weight=balanced, classifier__penalty=l1, normalizer=MinMaxScaler(), poly=PolynomialFeatures(), poly__degree=3; total time=   0.0s\n",
            "[CV] END classifier__C=0.1, classifier__class_weight=balanced, classifier__penalty=l1, normalizer=MinMaxScaler(), poly=PolynomialFeatures(), poly__degree=3; total time=   0.0s\n",
            "[CV] END classifier__C=0.1, classifier__class_weight=balanced, classifier__penalty=l1, normalizer=MinMaxScaler(), poly=PolynomialFeatures(), poly__degree=3; total time=   0.0s\n",
            "[CV] END classifier__C=0.1, classifier__class_weight=balanced, classifier__penalty=l2, normalizer=StandardScaler(), poly=PolynomialFeatures(), poly__degree=1; total time=   0.0s\n",
            "[CV] END classifier__C=0.1, classifier__class_weight=balanced, classifier__penalty=l2, normalizer=StandardScaler(), poly=PolynomialFeatures(), poly__degree=1; total time=   0.0s\n",
            "[CV] END classifier__C=0.1, classifier__class_weight=balanced, classifier__penalty=l2, normalizer=StandardScaler(), poly=PolynomialFeatures(), poly__degree=1; total time=   0.0s\n",
            "[CV] END classifier__C=0.1, classifier__class_weight=balanced, classifier__penalty=l2, normalizer=StandardScaler(), poly=PolynomialFeatures(), poly__degree=1; total time=   0.0s\n",
            "[CV] END classifier__C=0.1, classifier__class_weight=balanced, classifier__penalty=l2, normalizer=StandardScaler(), poly=PolynomialFeatures(), poly__degree=1; total time=   0.0s\n",
            "[CV] END classifier__C=0.1, classifier__class_weight=balanced, classifier__penalty=l2, normalizer=StandardScaler(), poly=PolynomialFeatures(), poly__degree=2; total time=   0.0s\n",
            "[CV] END classifier__C=0.1, classifier__class_weight=balanced, classifier__penalty=l2, normalizer=StandardScaler(), poly=PolynomialFeatures(), poly__degree=2; total time=   0.1s\n",
            "[CV] END classifier__C=0.1, classifier__class_weight=balanced, classifier__penalty=l2, normalizer=StandardScaler(), poly=PolynomialFeatures(), poly__degree=2; total time=   0.1s\n",
            "[CV] END classifier__C=0.1, classifier__class_weight=balanced, classifier__penalty=l2, normalizer=StandardScaler(), poly=PolynomialFeatures(), poly__degree=2; total time=   0.0s\n",
            "[CV] END classifier__C=0.1, classifier__class_weight=balanced, classifier__penalty=l2, normalizer=StandardScaler(), poly=PolynomialFeatures(), poly__degree=2; total time=   0.1s\n",
            "[CV] END classifier__C=0.1, classifier__class_weight=balanced, classifier__penalty=l2, normalizer=StandardScaler(), poly=PolynomialFeatures(), poly__degree=3; total time=   0.2s\n",
            "[CV] END classifier__C=0.1, classifier__class_weight=balanced, classifier__penalty=l2, normalizer=StandardScaler(), poly=PolynomialFeatures(), poly__degree=3; total time=   0.3s\n",
            "[CV] END classifier__C=0.1, classifier__class_weight=balanced, classifier__penalty=l2, normalizer=StandardScaler(), poly=PolynomialFeatures(), poly__degree=3; total time=   0.2s\n",
            "[CV] END classifier__C=0.1, classifier__class_weight=balanced, classifier__penalty=l2, normalizer=StandardScaler(), poly=PolynomialFeatures(), poly__degree=3; total time=   0.3s\n",
            "[CV] END classifier__C=0.1, classifier__class_weight=balanced, classifier__penalty=l2, normalizer=StandardScaler(), poly=PolynomialFeatures(), poly__degree=3; total time=   0.2s\n",
            "[CV] END classifier__C=0.1, classifier__class_weight=balanced, classifier__penalty=l2, normalizer=MinMaxScaler(), poly=PolynomialFeatures(), poly__degree=1; total time=   0.0s\n",
            "[CV] END classifier__C=0.1, classifier__class_weight=balanced, classifier__penalty=l2, normalizer=MinMaxScaler(), poly=PolynomialFeatures(), poly__degree=1; total time=   0.0s\n",
            "[CV] END classifier__C=0.1, classifier__class_weight=balanced, classifier__penalty=l2, normalizer=MinMaxScaler(), poly=PolynomialFeatures(), poly__degree=1; total time=   0.0s\n",
            "[CV] END classifier__C=0.1, classifier__class_weight=balanced, classifier__penalty=l2, normalizer=MinMaxScaler(), poly=PolynomialFeatures(), poly__degree=1; total time=   0.0s\n",
            "[CV] END classifier__C=0.1, classifier__class_weight=balanced, classifier__penalty=l2, normalizer=MinMaxScaler(), poly=PolynomialFeatures(), poly__degree=1; total time=   0.0s\n",
            "[CV] END classifier__C=0.1, classifier__class_weight=balanced, classifier__penalty=l2, normalizer=MinMaxScaler(), poly=PolynomialFeatures(), poly__degree=2; total time=   0.0s\n",
            "[CV] END classifier__C=0.1, classifier__class_weight=balanced, classifier__penalty=l2, normalizer=MinMaxScaler(), poly=PolynomialFeatures(), poly__degree=2; total time=   0.0s\n",
            "[CV] END classifier__C=0.1, classifier__class_weight=balanced, classifier__penalty=l2, normalizer=MinMaxScaler(), poly=PolynomialFeatures(), poly__degree=2; total time=   0.0s\n",
            "[CV] END classifier__C=0.1, classifier__class_weight=balanced, classifier__penalty=l2, normalizer=MinMaxScaler(), poly=PolynomialFeatures(), poly__degree=2; total time=   0.0s\n",
            "[CV] END classifier__C=0.1, classifier__class_weight=balanced, classifier__penalty=l2, normalizer=MinMaxScaler(), poly=PolynomialFeatures(), poly__degree=2; total time=   0.0s\n",
            "[CV] END classifier__C=0.1, classifier__class_weight=balanced, classifier__penalty=l2, normalizer=MinMaxScaler(), poly=PolynomialFeatures(), poly__degree=3; total time=   0.2s\n",
            "[CV] END classifier__C=0.1, classifier__class_weight=balanced, classifier__penalty=l2, normalizer=MinMaxScaler(), poly=PolynomialFeatures(), poly__degree=3; total time=   0.2s\n",
            "[CV] END classifier__C=0.1, classifier__class_weight=balanced, classifier__penalty=l2, normalizer=MinMaxScaler(), poly=PolynomialFeatures(), poly__degree=3; total time=   0.2s\n",
            "[CV] END classifier__C=0.1, classifier__class_weight=balanced, classifier__penalty=l2, normalizer=MinMaxScaler(), poly=PolynomialFeatures(), poly__degree=3; total time=   0.2s\n",
            "[CV] END classifier__C=0.1, classifier__class_weight=balanced, classifier__penalty=l2, normalizer=MinMaxScaler(), poly=PolynomialFeatures(), poly__degree=3; total time=   0.2s\n",
            "[CV] END classifier__C=0.1, classifier__class_weight=None, classifier__penalty=none, normalizer=StandardScaler(), poly=PolynomialFeatures(), poly__degree=1; total time=   0.0s\n",
            "[CV] END classifier__C=0.1, classifier__class_weight=None, classifier__penalty=none, normalizer=StandardScaler(), poly=PolynomialFeatures(), poly__degree=1; total time=   0.0s\n",
            "[CV] END classifier__C=0.1, classifier__class_weight=None, classifier__penalty=none, normalizer=StandardScaler(), poly=PolynomialFeatures(), poly__degree=1; total time=   0.0s\n",
            "[CV] END classifier__C=0.1, classifier__class_weight=None, classifier__penalty=none, normalizer=StandardScaler(), poly=PolynomialFeatures(), poly__degree=1; total time=   0.0s\n",
            "[CV] END classifier__C=0.1, classifier__class_weight=None, classifier__penalty=none, normalizer=StandardScaler(), poly=PolynomialFeatures(), poly__degree=1; total time=   0.0s\n",
            "[CV] END classifier__C=0.1, classifier__class_weight=None, classifier__penalty=none, normalizer=StandardScaler(), poly=PolynomialFeatures(), poly__degree=2; total time=   0.0s\n",
            "[CV] END classifier__C=0.1, classifier__class_weight=None, classifier__penalty=none, normalizer=StandardScaler(), poly=PolynomialFeatures(), poly__degree=2; total time=   0.1s\n",
            "[CV] END classifier__C=0.1, classifier__class_weight=None, classifier__penalty=none, normalizer=StandardScaler(), poly=PolynomialFeatures(), poly__degree=2; total time=   0.1s\n",
            "[CV] END classifier__C=0.1, classifier__class_weight=None, classifier__penalty=none, normalizer=StandardScaler(), poly=PolynomialFeatures(), poly__degree=2; total time=   0.0s\n",
            "[CV] END classifier__C=0.1, classifier__class_weight=None, classifier__penalty=none, normalizer=StandardScaler(), poly=PolynomialFeatures(), poly__degree=2; total time=   0.0s\n",
            "[CV] END classifier__C=0.1, classifier__class_weight=None, classifier__penalty=none, normalizer=StandardScaler(), poly=PolynomialFeatures(), poly__degree=3; total time=   0.2s\n",
            "[CV] END classifier__C=0.1, classifier__class_weight=None, classifier__penalty=none, normalizer=StandardScaler(), poly=PolynomialFeatures(), poly__degree=3; total time=   0.1s\n",
            "[CV] END classifier__C=0.1, classifier__class_weight=None, classifier__penalty=none, normalizer=StandardScaler(), poly=PolynomialFeatures(), poly__degree=3; total time=   0.1s\n",
            "[CV] END classifier__C=0.1, classifier__class_weight=None, classifier__penalty=none, normalizer=StandardScaler(), poly=PolynomialFeatures(), poly__degree=3; total time=   0.1s\n",
            "[CV] END classifier__C=0.1, classifier__class_weight=None, classifier__penalty=none, normalizer=StandardScaler(), poly=PolynomialFeatures(), poly__degree=3; total time=   0.1s\n",
            "[CV] END classifier__C=0.1, classifier__class_weight=None, classifier__penalty=none, normalizer=MinMaxScaler(), poly=PolynomialFeatures(), poly__degree=1; total time=   0.0s\n",
            "[CV] END classifier__C=0.1, classifier__class_weight=None, classifier__penalty=none, normalizer=MinMaxScaler(), poly=PolynomialFeatures(), poly__degree=1; total time=   0.1s\n",
            "[CV] END classifier__C=0.1, classifier__class_weight=None, classifier__penalty=none, normalizer=MinMaxScaler(), poly=PolynomialFeatures(), poly__degree=1; total time=   0.0s\n",
            "[CV] END classifier__C=0.1, classifier__class_weight=None, classifier__penalty=none, normalizer=MinMaxScaler(), poly=PolynomialFeatures(), poly__degree=1; total time=   0.0s\n",
            "[CV] END classifier__C=0.1, classifier__class_weight=None, classifier__penalty=none, normalizer=MinMaxScaler(), poly=PolynomialFeatures(), poly__degree=1; total time=   0.0s\n",
            "[CV] END classifier__C=0.1, classifier__class_weight=None, classifier__penalty=none, normalizer=MinMaxScaler(), poly=PolynomialFeatures(), poly__degree=2; total time=   0.1s\n",
            "[CV] END classifier__C=0.1, classifier__class_weight=None, classifier__penalty=none, normalizer=MinMaxScaler(), poly=PolynomialFeatures(), poly__degree=2; total time=   0.1s\n",
            "[CV] END classifier__C=0.1, classifier__class_weight=None, classifier__penalty=none, normalizer=MinMaxScaler(), poly=PolynomialFeatures(), poly__degree=2; total time=   0.1s\n",
            "[CV] END classifier__C=0.1, classifier__class_weight=None, classifier__penalty=none, normalizer=MinMaxScaler(), poly=PolynomialFeatures(), poly__degree=2; total time=   0.1s\n",
            "[CV] END classifier__C=0.1, classifier__class_weight=None, classifier__penalty=none, normalizer=MinMaxScaler(), poly=PolynomialFeatures(), poly__degree=2; total time=   0.1s\n",
            "[CV] END classifier__C=0.1, classifier__class_weight=None, classifier__penalty=none, normalizer=MinMaxScaler(), poly=PolynomialFeatures(), poly__degree=3; total time=   0.1s\n",
            "[CV] END classifier__C=0.1, classifier__class_weight=None, classifier__penalty=none, normalizer=MinMaxScaler(), poly=PolynomialFeatures(), poly__degree=3; total time=   0.1s\n",
            "[CV] END classifier__C=0.1, classifier__class_weight=None, classifier__penalty=none, normalizer=MinMaxScaler(), poly=PolynomialFeatures(), poly__degree=3; total time=   0.2s\n",
            "[CV] END classifier__C=0.1, classifier__class_weight=None, classifier__penalty=none, normalizer=MinMaxScaler(), poly=PolynomialFeatures(), poly__degree=3; total time=   0.1s\n",
            "[CV] END classifier__C=0.1, classifier__class_weight=None, classifier__penalty=none, normalizer=MinMaxScaler(), poly=PolynomialFeatures(), poly__degree=3; total time=   0.1s\n",
            "[CV] END classifier__C=0.1, classifier__class_weight=None, classifier__penalty=l1, normalizer=StandardScaler(), poly=PolynomialFeatures(), poly__degree=1; total time=   0.0s\n",
            "[CV] END classifier__C=0.1, classifier__class_weight=None, classifier__penalty=l1, normalizer=StandardScaler(), poly=PolynomialFeatures(), poly__degree=1; total time=   0.0s\n",
            "[CV] END classifier__C=0.1, classifier__class_weight=None, classifier__penalty=l1, normalizer=StandardScaler(), poly=PolynomialFeatures(), poly__degree=1; total time=   0.0s\n",
            "[CV] END classifier__C=0.1, classifier__class_weight=None, classifier__penalty=l1, normalizer=StandardScaler(), poly=PolynomialFeatures(), poly__degree=1; total time=   0.0s\n",
            "[CV] END classifier__C=0.1, classifier__class_weight=None, classifier__penalty=l1, normalizer=StandardScaler(), poly=PolynomialFeatures(), poly__degree=1; total time=   0.0s\n",
            "[CV] END classifier__C=0.1, classifier__class_weight=None, classifier__penalty=l1, normalizer=StandardScaler(), poly=PolynomialFeatures(), poly__degree=2; total time=   0.0s\n",
            "[CV] END classifier__C=0.1, classifier__class_weight=None, classifier__penalty=l1, normalizer=StandardScaler(), poly=PolynomialFeatures(), poly__degree=2; total time=   0.0s\n",
            "[CV] END classifier__C=0.1, classifier__class_weight=None, classifier__penalty=l1, normalizer=StandardScaler(), poly=PolynomialFeatures(), poly__degree=2; total time=   0.0s\n",
            "[CV] END classifier__C=0.1, classifier__class_weight=None, classifier__penalty=l1, normalizer=StandardScaler(), poly=PolynomialFeatures(), poly__degree=2; total time=   0.0s\n",
            "[CV] END classifier__C=0.1, classifier__class_weight=None, classifier__penalty=l1, normalizer=StandardScaler(), poly=PolynomialFeatures(), poly__degree=2; total time=   0.0s\n",
            "[CV] END classifier__C=0.1, classifier__class_weight=None, classifier__penalty=l1, normalizer=StandardScaler(), poly=PolynomialFeatures(), poly__degree=3; total time=   0.0s\n",
            "[CV] END classifier__C=0.1, classifier__class_weight=None, classifier__penalty=l1, normalizer=StandardScaler(), poly=PolynomialFeatures(), poly__degree=3; total time=   0.0s\n",
            "[CV] END classifier__C=0.1, classifier__class_weight=None, classifier__penalty=l1, normalizer=StandardScaler(), poly=PolynomialFeatures(), poly__degree=3; total time=   0.0s\n",
            "[CV] END classifier__C=0.1, classifier__class_weight=None, classifier__penalty=l1, normalizer=StandardScaler(), poly=PolynomialFeatures(), poly__degree=3; total time=   0.0s\n",
            "[CV] END classifier__C=0.1, classifier__class_weight=None, classifier__penalty=l1, normalizer=StandardScaler(), poly=PolynomialFeatures(), poly__degree=3; total time=   0.0s\n",
            "[CV] END classifier__C=0.1, classifier__class_weight=None, classifier__penalty=l1, normalizer=MinMaxScaler(), poly=PolynomialFeatures(), poly__degree=1; total time=   0.0s\n",
            "[CV] END classifier__C=0.1, classifier__class_weight=None, classifier__penalty=l1, normalizer=MinMaxScaler(), poly=PolynomialFeatures(), poly__degree=1; total time=   0.0s\n",
            "[CV] END classifier__C=0.1, classifier__class_weight=None, classifier__penalty=l1, normalizer=MinMaxScaler(), poly=PolynomialFeatures(), poly__degree=1; total time=   0.0s\n",
            "[CV] END classifier__C=0.1, classifier__class_weight=None, classifier__penalty=l1, normalizer=MinMaxScaler(), poly=PolynomialFeatures(), poly__degree=1; total time=   0.0s\n",
            "[CV] END classifier__C=0.1, classifier__class_weight=None, classifier__penalty=l1, normalizer=MinMaxScaler(), poly=PolynomialFeatures(), poly__degree=1; total time=   0.0s\n",
            "[CV] END classifier__C=0.1, classifier__class_weight=None, classifier__penalty=l1, normalizer=MinMaxScaler(), poly=PolynomialFeatures(), poly__degree=2; total time=   0.0s\n",
            "[CV] END classifier__C=0.1, classifier__class_weight=None, classifier__penalty=l1, normalizer=MinMaxScaler(), poly=PolynomialFeatures(), poly__degree=2; total time=   0.0s\n",
            "[CV] END classifier__C=0.1, classifier__class_weight=None, classifier__penalty=l1, normalizer=MinMaxScaler(), poly=PolynomialFeatures(), poly__degree=2; total time=   0.0s\n",
            "[CV] END classifier__C=0.1, classifier__class_weight=None, classifier__penalty=l1, normalizer=MinMaxScaler(), poly=PolynomialFeatures(), poly__degree=2; total time=   0.0s\n",
            "[CV] END classifier__C=0.1, classifier__class_weight=None, classifier__penalty=l1, normalizer=MinMaxScaler(), poly=PolynomialFeatures(), poly__degree=2; total time=   0.0s\n",
            "[CV] END classifier__C=0.1, classifier__class_weight=None, classifier__penalty=l1, normalizer=MinMaxScaler(), poly=PolynomialFeatures(), poly__degree=3; total time=   0.0s\n",
            "[CV] END classifier__C=0.1, classifier__class_weight=None, classifier__penalty=l1, normalizer=MinMaxScaler(), poly=PolynomialFeatures(), poly__degree=3; total time=   0.0s\n",
            "[CV] END classifier__C=0.1, classifier__class_weight=None, classifier__penalty=l1, normalizer=MinMaxScaler(), poly=PolynomialFeatures(), poly__degree=3; total time=   0.0s\n",
            "[CV] END classifier__C=0.1, classifier__class_weight=None, classifier__penalty=l1, normalizer=MinMaxScaler(), poly=PolynomialFeatures(), poly__degree=3; total time=   0.0s\n",
            "[CV] END classifier__C=0.1, classifier__class_weight=None, classifier__penalty=l1, normalizer=MinMaxScaler(), poly=PolynomialFeatures(), poly__degree=3; total time=   0.0s\n",
            "[CV] END classifier__C=0.1, classifier__class_weight=None, classifier__penalty=l2, normalizer=StandardScaler(), poly=PolynomialFeatures(), poly__degree=1; total time=   0.0s\n",
            "[CV] END classifier__C=0.1, classifier__class_weight=None, classifier__penalty=l2, normalizer=StandardScaler(), poly=PolynomialFeatures(), poly__degree=1; total time=   0.0s\n",
            "[CV] END classifier__C=0.1, classifier__class_weight=None, classifier__penalty=l2, normalizer=StandardScaler(), poly=PolynomialFeatures(), poly__degree=1; total time=   0.0s\n",
            "[CV] END classifier__C=0.1, classifier__class_weight=None, classifier__penalty=l2, normalizer=StandardScaler(), poly=PolynomialFeatures(), poly__degree=1; total time=   0.0s\n",
            "[CV] END classifier__C=0.1, classifier__class_weight=None, classifier__penalty=l2, normalizer=StandardScaler(), poly=PolynomialFeatures(), poly__degree=1; total time=   0.0s\n",
            "[CV] END classifier__C=0.1, classifier__class_weight=None, classifier__penalty=l2, normalizer=StandardScaler(), poly=PolynomialFeatures(), poly__degree=2; total time=   0.0s\n",
            "[CV] END classifier__C=0.1, classifier__class_weight=None, classifier__penalty=l2, normalizer=StandardScaler(), poly=PolynomialFeatures(), poly__degree=2; total time=   0.1s\n",
            "[CV] END classifier__C=0.1, classifier__class_weight=None, classifier__penalty=l2, normalizer=StandardScaler(), poly=PolynomialFeatures(), poly__degree=2; total time=   0.1s\n",
            "[CV] END classifier__C=0.1, classifier__class_weight=None, classifier__penalty=l2, normalizer=StandardScaler(), poly=PolynomialFeatures(), poly__degree=2; total time=   0.1s\n",
            "[CV] END classifier__C=0.1, classifier__class_weight=None, classifier__penalty=l2, normalizer=StandardScaler(), poly=PolynomialFeatures(), poly__degree=2; total time=   0.0s\n",
            "[CV] END classifier__C=0.1, classifier__class_weight=None, classifier__penalty=l2, normalizer=StandardScaler(), poly=PolynomialFeatures(), poly__degree=3; total time=   0.2s\n",
            "[CV] END classifier__C=0.1, classifier__class_weight=None, classifier__penalty=l2, normalizer=StandardScaler(), poly=PolynomialFeatures(), poly__degree=3; total time=   0.2s\n",
            "[CV] END classifier__C=0.1, classifier__class_weight=None, classifier__penalty=l2, normalizer=StandardScaler(), poly=PolynomialFeatures(), poly__degree=3; total time=   0.2s\n",
            "[CV] END classifier__C=0.1, classifier__class_weight=None, classifier__penalty=l2, normalizer=StandardScaler(), poly=PolynomialFeatures(), poly__degree=3; total time=   0.3s\n",
            "[CV] END classifier__C=0.1, classifier__class_weight=None, classifier__penalty=l2, normalizer=StandardScaler(), poly=PolynomialFeatures(), poly__degree=3; total time=   0.2s\n",
            "[CV] END classifier__C=0.1, classifier__class_weight=None, classifier__penalty=l2, normalizer=MinMaxScaler(), poly=PolynomialFeatures(), poly__degree=1; total time=   0.0s\n",
            "[CV] END classifier__C=0.1, classifier__class_weight=None, classifier__penalty=l2, normalizer=MinMaxScaler(), poly=PolynomialFeatures(), poly__degree=1; total time=   0.0s\n",
            "[CV] END classifier__C=0.1, classifier__class_weight=None, classifier__penalty=l2, normalizer=MinMaxScaler(), poly=PolynomialFeatures(), poly__degree=1; total time=   0.0s\n",
            "[CV] END classifier__C=0.1, classifier__class_weight=None, classifier__penalty=l2, normalizer=MinMaxScaler(), poly=PolynomialFeatures(), poly__degree=1; total time=   0.0s\n",
            "[CV] END classifier__C=0.1, classifier__class_weight=None, classifier__penalty=l2, normalizer=MinMaxScaler(), poly=PolynomialFeatures(), poly__degree=1; total time=   0.0s\n",
            "[CV] END classifier__C=0.1, classifier__class_weight=None, classifier__penalty=l2, normalizer=MinMaxScaler(), poly=PolynomialFeatures(), poly__degree=2; total time=   0.0s\n",
            "[CV] END classifier__C=0.1, classifier__class_weight=None, classifier__penalty=l2, normalizer=MinMaxScaler(), poly=PolynomialFeatures(), poly__degree=2; total time=   0.1s\n",
            "[CV] END classifier__C=0.1, classifier__class_weight=None, classifier__penalty=l2, normalizer=MinMaxScaler(), poly=PolynomialFeatures(), poly__degree=2; total time=   0.0s\n",
            "[CV] END classifier__C=0.1, classifier__class_weight=None, classifier__penalty=l2, normalizer=MinMaxScaler(), poly=PolynomialFeatures(), poly__degree=2; total time=   0.0s\n",
            "[CV] END classifier__C=0.1, classifier__class_weight=None, classifier__penalty=l2, normalizer=MinMaxScaler(), poly=PolynomialFeatures(), poly__degree=2; total time=   0.1s\n",
            "[CV] END classifier__C=0.1, classifier__class_weight=None, classifier__penalty=l2, normalizer=MinMaxScaler(), poly=PolynomialFeatures(), poly__degree=3; total time=   0.2s\n",
            "[CV] END classifier__C=0.1, classifier__class_weight=None, classifier__penalty=l2, normalizer=MinMaxScaler(), poly=PolynomialFeatures(), poly__degree=3; total time=   0.2s\n",
            "[CV] END classifier__C=0.1, classifier__class_weight=None, classifier__penalty=l2, normalizer=MinMaxScaler(), poly=PolynomialFeatures(), poly__degree=3; total time=   0.2s\n",
            "[CV] END classifier__C=0.1, classifier__class_weight=None, classifier__penalty=l2, normalizer=MinMaxScaler(), poly=PolynomialFeatures(), poly__degree=3; total time=   0.2s\n",
            "[CV] END classifier__C=0.1, classifier__class_weight=None, classifier__penalty=l2, normalizer=MinMaxScaler(), poly=PolynomialFeatures(), poly__degree=3; total time=   0.2s\n",
            "[CV] END classifier__C=1.0, classifier__class_weight=balanced, classifier__penalty=none, normalizer=StandardScaler(), poly=PolynomialFeatures(), poly__degree=1; total time=   0.0s\n",
            "[CV] END classifier__C=1.0, classifier__class_weight=balanced, classifier__penalty=none, normalizer=StandardScaler(), poly=PolynomialFeatures(), poly__degree=1; total time=   0.0s\n",
            "[CV] END classifier__C=1.0, classifier__class_weight=balanced, classifier__penalty=none, normalizer=StandardScaler(), poly=PolynomialFeatures(), poly__degree=1; total time=   0.0s\n",
            "[CV] END classifier__C=1.0, classifier__class_weight=balanced, classifier__penalty=none, normalizer=StandardScaler(), poly=PolynomialFeatures(), poly__degree=1; total time=   0.0s\n",
            "[CV] END classifier__C=1.0, classifier__class_weight=balanced, classifier__penalty=none, normalizer=StandardScaler(), poly=PolynomialFeatures(), poly__degree=1; total time=   0.0s\n",
            "[CV] END classifier__C=1.0, classifier__class_weight=balanced, classifier__penalty=none, normalizer=StandardScaler(), poly=PolynomialFeatures(), poly__degree=2; total time=   0.0s\n",
            "[CV] END classifier__C=1.0, classifier__class_weight=balanced, classifier__penalty=none, normalizer=StandardScaler(), poly=PolynomialFeatures(), poly__degree=2; total time=   0.0s\n",
            "[CV] END classifier__C=1.0, classifier__class_weight=balanced, classifier__penalty=none, normalizer=StandardScaler(), poly=PolynomialFeatures(), poly__degree=2; total time=   0.0s\n",
            "[CV] END classifier__C=1.0, classifier__class_weight=balanced, classifier__penalty=none, normalizer=StandardScaler(), poly=PolynomialFeatures(), poly__degree=2; total time=   0.0s\n",
            "[CV] END classifier__C=1.0, classifier__class_weight=balanced, classifier__penalty=none, normalizer=StandardScaler(), poly=PolynomialFeatures(), poly__degree=2; total time=   0.0s\n",
            "[CV] END classifier__C=1.0, classifier__class_weight=balanced, classifier__penalty=none, normalizer=StandardScaler(), poly=PolynomialFeatures(), poly__degree=3; total time=   0.1s\n",
            "[CV] END classifier__C=1.0, classifier__class_weight=balanced, classifier__penalty=none, normalizer=StandardScaler(), poly=PolynomialFeatures(), poly__degree=3; total time=   0.1s\n",
            "[CV] END classifier__C=1.0, classifier__class_weight=balanced, classifier__penalty=none, normalizer=StandardScaler(), poly=PolynomialFeatures(), poly__degree=3; total time=   0.1s\n",
            "[CV] END classifier__C=1.0, classifier__class_weight=balanced, classifier__penalty=none, normalizer=StandardScaler(), poly=PolynomialFeatures(), poly__degree=3; total time=   0.1s\n",
            "[CV] END classifier__C=1.0, classifier__class_weight=balanced, classifier__penalty=none, normalizer=StandardScaler(), poly=PolynomialFeatures(), poly__degree=3; total time=   0.1s\n",
            "[CV] END classifier__C=1.0, classifier__class_weight=balanced, classifier__penalty=none, normalizer=MinMaxScaler(), poly=PolynomialFeatures(), poly__degree=1; total time=   0.0s\n",
            "[CV] END classifier__C=1.0, classifier__class_weight=balanced, classifier__penalty=none, normalizer=MinMaxScaler(), poly=PolynomialFeatures(), poly__degree=1; total time=   0.1s\n",
            "[CV] END classifier__C=1.0, classifier__class_weight=balanced, classifier__penalty=none, normalizer=MinMaxScaler(), poly=PolynomialFeatures(), poly__degree=1; total time=   0.0s\n",
            "[CV] END classifier__C=1.0, classifier__class_weight=balanced, classifier__penalty=none, normalizer=MinMaxScaler(), poly=PolynomialFeatures(), poly__degree=1; total time=   0.0s\n",
            "[CV] END classifier__C=1.0, classifier__class_weight=balanced, classifier__penalty=none, normalizer=MinMaxScaler(), poly=PolynomialFeatures(), poly__degree=1; total time=   0.0s\n",
            "[CV] END classifier__C=1.0, classifier__class_weight=balanced, classifier__penalty=none, normalizer=MinMaxScaler(), poly=PolynomialFeatures(), poly__degree=2; total time=   0.0s\n",
            "[CV] END classifier__C=1.0, classifier__class_weight=balanced, classifier__penalty=none, normalizer=MinMaxScaler(), poly=PolynomialFeatures(), poly__degree=2; total time=   0.1s\n",
            "[CV] END classifier__C=1.0, classifier__class_weight=balanced, classifier__penalty=none, normalizer=MinMaxScaler(), poly=PolynomialFeatures(), poly__degree=2; total time=   0.1s\n",
            "[CV] END classifier__C=1.0, classifier__class_weight=balanced, classifier__penalty=none, normalizer=MinMaxScaler(), poly=PolynomialFeatures(), poly__degree=2; total time=   0.1s\n",
            "[CV] END classifier__C=1.0, classifier__class_weight=balanced, classifier__penalty=none, normalizer=MinMaxScaler(), poly=PolynomialFeatures(), poly__degree=2; total time=   0.1s\n",
            "[CV] END classifier__C=1.0, classifier__class_weight=balanced, classifier__penalty=none, normalizer=MinMaxScaler(), poly=PolynomialFeatures(), poly__degree=3; total time=   0.1s\n",
            "[CV] END classifier__C=1.0, classifier__class_weight=balanced, classifier__penalty=none, normalizer=MinMaxScaler(), poly=PolynomialFeatures(), poly__degree=3; total time=   0.1s\n",
            "[CV] END classifier__C=1.0, classifier__class_weight=balanced, classifier__penalty=none, normalizer=MinMaxScaler(), poly=PolynomialFeatures(), poly__degree=3; total time=   0.1s\n",
            "[CV] END classifier__C=1.0, classifier__class_weight=balanced, classifier__penalty=none, normalizer=MinMaxScaler(), poly=PolynomialFeatures(), poly__degree=3; total time=   0.1s\n",
            "[CV] END classifier__C=1.0, classifier__class_weight=balanced, classifier__penalty=none, normalizer=MinMaxScaler(), poly=PolynomialFeatures(), poly__degree=3; total time=   0.1s\n",
            "[CV] END classifier__C=1.0, classifier__class_weight=balanced, classifier__penalty=l1, normalizer=StandardScaler(), poly=PolynomialFeatures(), poly__degree=1; total time=   0.0s\n",
            "[CV] END classifier__C=1.0, classifier__class_weight=balanced, classifier__penalty=l1, normalizer=StandardScaler(), poly=PolynomialFeatures(), poly__degree=1; total time=   0.0s\n",
            "[CV] END classifier__C=1.0, classifier__class_weight=balanced, classifier__penalty=l1, normalizer=StandardScaler(), poly=PolynomialFeatures(), poly__degree=1; total time=   0.0s\n",
            "[CV] END classifier__C=1.0, classifier__class_weight=balanced, classifier__penalty=l1, normalizer=StandardScaler(), poly=PolynomialFeatures(), poly__degree=1; total time=   0.0s\n",
            "[CV] END classifier__C=1.0, classifier__class_weight=balanced, classifier__penalty=l1, normalizer=StandardScaler(), poly=PolynomialFeatures(), poly__degree=1; total time=   0.0s\n",
            "[CV] END classifier__C=1.0, classifier__class_weight=balanced, classifier__penalty=l1, normalizer=StandardScaler(), poly=PolynomialFeatures(), poly__degree=2; total time=   0.0s\n",
            "[CV] END classifier__C=1.0, classifier__class_weight=balanced, classifier__penalty=l1, normalizer=StandardScaler(), poly=PolynomialFeatures(), poly__degree=2; total time=   0.0s\n",
            "[CV] END classifier__C=1.0, classifier__class_weight=balanced, classifier__penalty=l1, normalizer=StandardScaler(), poly=PolynomialFeatures(), poly__degree=2; total time=   0.0s\n",
            "[CV] END classifier__C=1.0, classifier__class_weight=balanced, classifier__penalty=l1, normalizer=StandardScaler(), poly=PolynomialFeatures(), poly__degree=2; total time=   0.0s\n",
            "[CV] END classifier__C=1.0, classifier__class_weight=balanced, classifier__penalty=l1, normalizer=StandardScaler(), poly=PolynomialFeatures(), poly__degree=2; total time=   0.0s\n",
            "[CV] END classifier__C=1.0, classifier__class_weight=balanced, classifier__penalty=l1, normalizer=StandardScaler(), poly=PolynomialFeatures(), poly__degree=3; total time=   0.0s\n",
            "[CV] END classifier__C=1.0, classifier__class_weight=balanced, classifier__penalty=l1, normalizer=StandardScaler(), poly=PolynomialFeatures(), poly__degree=3; total time=   0.0s\n",
            "[CV] END classifier__C=1.0, classifier__class_weight=balanced, classifier__penalty=l1, normalizer=StandardScaler(), poly=PolynomialFeatures(), poly__degree=3; total time=   0.0s\n",
            "[CV] END classifier__C=1.0, classifier__class_weight=balanced, classifier__penalty=l1, normalizer=StandardScaler(), poly=PolynomialFeatures(), poly__degree=3; total time=   0.0s\n",
            "[CV] END classifier__C=1.0, classifier__class_weight=balanced, classifier__penalty=l1, normalizer=StandardScaler(), poly=PolynomialFeatures(), poly__degree=3; total time=   0.0s\n",
            "[CV] END classifier__C=1.0, classifier__class_weight=balanced, classifier__penalty=l1, normalizer=MinMaxScaler(), poly=PolynomialFeatures(), poly__degree=1; total time=   0.0s\n",
            "[CV] END classifier__C=1.0, classifier__class_weight=balanced, classifier__penalty=l1, normalizer=MinMaxScaler(), poly=PolynomialFeatures(), poly__degree=1; total time=   0.0s\n",
            "[CV] END classifier__C=1.0, classifier__class_weight=balanced, classifier__penalty=l1, normalizer=MinMaxScaler(), poly=PolynomialFeatures(), poly__degree=1; total time=   0.0s\n",
            "[CV] END classifier__C=1.0, classifier__class_weight=balanced, classifier__penalty=l1, normalizer=MinMaxScaler(), poly=PolynomialFeatures(), poly__degree=1; total time=   0.0s\n",
            "[CV] END classifier__C=1.0, classifier__class_weight=balanced, classifier__penalty=l1, normalizer=MinMaxScaler(), poly=PolynomialFeatures(), poly__degree=1; total time=   0.0s\n",
            "[CV] END classifier__C=1.0, classifier__class_weight=balanced, classifier__penalty=l1, normalizer=MinMaxScaler(), poly=PolynomialFeatures(), poly__degree=2; total time=   0.0s\n",
            "[CV] END classifier__C=1.0, classifier__class_weight=balanced, classifier__penalty=l1, normalizer=MinMaxScaler(), poly=PolynomialFeatures(), poly__degree=2; total time=   0.0s\n",
            "[CV] END classifier__C=1.0, classifier__class_weight=balanced, classifier__penalty=l1, normalizer=MinMaxScaler(), poly=PolynomialFeatures(), poly__degree=2; total time=   0.0s\n",
            "[CV] END classifier__C=1.0, classifier__class_weight=balanced, classifier__penalty=l1, normalizer=MinMaxScaler(), poly=PolynomialFeatures(), poly__degree=2; total time=   0.0s\n",
            "[CV] END classifier__C=1.0, classifier__class_weight=balanced, classifier__penalty=l1, normalizer=MinMaxScaler(), poly=PolynomialFeatures(), poly__degree=2; total time=   0.0s\n",
            "[CV] END classifier__C=1.0, classifier__class_weight=balanced, classifier__penalty=l1, normalizer=MinMaxScaler(), poly=PolynomialFeatures(), poly__degree=3; total time=   0.0s\n",
            "[CV] END classifier__C=1.0, classifier__class_weight=balanced, classifier__penalty=l1, normalizer=MinMaxScaler(), poly=PolynomialFeatures(), poly__degree=3; total time=   0.0s\n",
            "[CV] END classifier__C=1.0, classifier__class_weight=balanced, classifier__penalty=l1, normalizer=MinMaxScaler(), poly=PolynomialFeatures(), poly__degree=3; total time=   0.0s\n",
            "[CV] END classifier__C=1.0, classifier__class_weight=balanced, classifier__penalty=l1, normalizer=MinMaxScaler(), poly=PolynomialFeatures(), poly__degree=3; total time=   0.0s\n",
            "[CV] END classifier__C=1.0, classifier__class_weight=balanced, classifier__penalty=l1, normalizer=MinMaxScaler(), poly=PolynomialFeatures(), poly__degree=3; total time=   0.0s\n",
            "[CV] END classifier__C=1.0, classifier__class_weight=balanced, classifier__penalty=l2, normalizer=StandardScaler(), poly=PolynomialFeatures(), poly__degree=1; total time=   0.0s\n",
            "[CV] END classifier__C=1.0, classifier__class_weight=balanced, classifier__penalty=l2, normalizer=StandardScaler(), poly=PolynomialFeatures(), poly__degree=1; total time=   0.0s\n",
            "[CV] END classifier__C=1.0, classifier__class_weight=balanced, classifier__penalty=l2, normalizer=StandardScaler(), poly=PolynomialFeatures(), poly__degree=1; total time=   0.0s\n",
            "[CV] END classifier__C=1.0, classifier__class_weight=balanced, classifier__penalty=l2, normalizer=StandardScaler(), poly=PolynomialFeatures(), poly__degree=1; total time=   0.0s\n",
            "[CV] END classifier__C=1.0, classifier__class_weight=balanced, classifier__penalty=l2, normalizer=StandardScaler(), poly=PolynomialFeatures(), poly__degree=1; total time=   0.0s\n",
            "[CV] END classifier__C=1.0, classifier__class_weight=balanced, classifier__penalty=l2, normalizer=StandardScaler(), poly=PolynomialFeatures(), poly__degree=2; total time=   0.1s\n",
            "[CV] END classifier__C=1.0, classifier__class_weight=balanced, classifier__penalty=l2, normalizer=StandardScaler(), poly=PolynomialFeatures(), poly__degree=2; total time=   0.1s\n",
            "[CV] END classifier__C=1.0, classifier__class_weight=balanced, classifier__penalty=l2, normalizer=StandardScaler(), poly=PolynomialFeatures(), poly__degree=2; total time=   0.1s\n",
            "[CV] END classifier__C=1.0, classifier__class_weight=balanced, classifier__penalty=l2, normalizer=StandardScaler(), poly=PolynomialFeatures(), poly__degree=2; total time=   0.1s\n",
            "[CV] END classifier__C=1.0, classifier__class_weight=balanced, classifier__penalty=l2, normalizer=StandardScaler(), poly=PolynomialFeatures(), poly__degree=2; total time=   0.1s\n",
            "[CV] END classifier__C=1.0, classifier__class_weight=balanced, classifier__penalty=l2, normalizer=StandardScaler(), poly=PolynomialFeatures(), poly__degree=3; total time=   0.2s\n",
            "[CV] END classifier__C=1.0, classifier__class_weight=balanced, classifier__penalty=l2, normalizer=StandardScaler(), poly=PolynomialFeatures(), poly__degree=3; total time=   0.2s\n",
            "[CV] END classifier__C=1.0, classifier__class_weight=balanced, classifier__penalty=l2, normalizer=StandardScaler(), poly=PolynomialFeatures(), poly__degree=3; total time=   0.2s\n",
            "[CV] END classifier__C=1.0, classifier__class_weight=balanced, classifier__penalty=l2, normalizer=StandardScaler(), poly=PolynomialFeatures(), poly__degree=3; total time=   0.3s\n",
            "[CV] END classifier__C=1.0, classifier__class_weight=balanced, classifier__penalty=l2, normalizer=StandardScaler(), poly=PolynomialFeatures(), poly__degree=3; total time=   0.2s\n",
            "[CV] END classifier__C=1.0, classifier__class_weight=balanced, classifier__penalty=l2, normalizer=MinMaxScaler(), poly=PolynomialFeatures(), poly__degree=1; total time=   0.0s\n",
            "[CV] END classifier__C=1.0, classifier__class_weight=balanced, classifier__penalty=l2, normalizer=MinMaxScaler(), poly=PolynomialFeatures(), poly__degree=1; total time=   0.0s\n",
            "[CV] END classifier__C=1.0, classifier__class_weight=balanced, classifier__penalty=l2, normalizer=MinMaxScaler(), poly=PolynomialFeatures(), poly__degree=1; total time=   0.0s\n",
            "[CV] END classifier__C=1.0, classifier__class_weight=balanced, classifier__penalty=l2, normalizer=MinMaxScaler(), poly=PolynomialFeatures(), poly__degree=1; total time=   0.0s\n",
            "[CV] END classifier__C=1.0, classifier__class_weight=balanced, classifier__penalty=l2, normalizer=MinMaxScaler(), poly=PolynomialFeatures(), poly__degree=1; total time=   0.0s\n",
            "[CV] END classifier__C=1.0, classifier__class_weight=balanced, classifier__penalty=l2, normalizer=MinMaxScaler(), poly=PolynomialFeatures(), poly__degree=2; total time=   0.1s\n",
            "[CV] END classifier__C=1.0, classifier__class_weight=balanced, classifier__penalty=l2, normalizer=MinMaxScaler(), poly=PolynomialFeatures(), poly__degree=2; total time=   0.1s\n",
            "[CV] END classifier__C=1.0, classifier__class_weight=balanced, classifier__penalty=l2, normalizer=MinMaxScaler(), poly=PolynomialFeatures(), poly__degree=2; total time=   0.1s\n",
            "[CV] END classifier__C=1.0, classifier__class_weight=balanced, classifier__penalty=l2, normalizer=MinMaxScaler(), poly=PolynomialFeatures(), poly__degree=2; total time=   0.1s\n",
            "[CV] END classifier__C=1.0, classifier__class_weight=balanced, classifier__penalty=l2, normalizer=MinMaxScaler(), poly=PolynomialFeatures(), poly__degree=2; total time=   0.1s\n",
            "[CV] END classifier__C=1.0, classifier__class_weight=balanced, classifier__penalty=l2, normalizer=MinMaxScaler(), poly=PolynomialFeatures(), poly__degree=3; total time=   0.3s\n",
            "[CV] END classifier__C=1.0, classifier__class_weight=balanced, classifier__penalty=l2, normalizer=MinMaxScaler(), poly=PolynomialFeatures(), poly__degree=3; total time=   0.3s\n",
            "[CV] END classifier__C=1.0, classifier__class_weight=balanced, classifier__penalty=l2, normalizer=MinMaxScaler(), poly=PolynomialFeatures(), poly__degree=3; total time=   0.3s\n",
            "[CV] END classifier__C=1.0, classifier__class_weight=balanced, classifier__penalty=l2, normalizer=MinMaxScaler(), poly=PolynomialFeatures(), poly__degree=3; total time=   0.2s\n",
            "[CV] END classifier__C=1.0, classifier__class_weight=balanced, classifier__penalty=l2, normalizer=MinMaxScaler(), poly=PolynomialFeatures(), poly__degree=3; total time=   0.3s\n",
            "[CV] END classifier__C=1.0, classifier__class_weight=None, classifier__penalty=none, normalizer=StandardScaler(), poly=PolynomialFeatures(), poly__degree=1; total time=   0.0s\n",
            "[CV] END classifier__C=1.0, classifier__class_weight=None, classifier__penalty=none, normalizer=StandardScaler(), poly=PolynomialFeatures(), poly__degree=1; total time=   0.0s\n",
            "[CV] END classifier__C=1.0, classifier__class_weight=None, classifier__penalty=none, normalizer=StandardScaler(), poly=PolynomialFeatures(), poly__degree=1; total time=   0.0s\n",
            "[CV] END classifier__C=1.0, classifier__class_weight=None, classifier__penalty=none, normalizer=StandardScaler(), poly=PolynomialFeatures(), poly__degree=1; total time=   0.0s\n",
            "[CV] END classifier__C=1.0, classifier__class_weight=None, classifier__penalty=none, normalizer=StandardScaler(), poly=PolynomialFeatures(), poly__degree=1; total time=   0.0s\n",
            "[CV] END classifier__C=1.0, classifier__class_weight=None, classifier__penalty=none, normalizer=StandardScaler(), poly=PolynomialFeatures(), poly__degree=2; total time=   0.1s\n",
            "[CV] END classifier__C=1.0, classifier__class_weight=None, classifier__penalty=none, normalizer=StandardScaler(), poly=PolynomialFeatures(), poly__degree=2; total time=   0.0s\n",
            "[CV] END classifier__C=1.0, classifier__class_weight=None, classifier__penalty=none, normalizer=StandardScaler(), poly=PolynomialFeatures(), poly__degree=2; total time=   0.1s\n",
            "[CV] END classifier__C=1.0, classifier__class_weight=None, classifier__penalty=none, normalizer=StandardScaler(), poly=PolynomialFeatures(), poly__degree=2; total time=   0.1s\n",
            "[CV] END classifier__C=1.0, classifier__class_weight=None, classifier__penalty=none, normalizer=StandardScaler(), poly=PolynomialFeatures(), poly__degree=2; total time=   0.1s\n",
            "[CV] END classifier__C=1.0, classifier__class_weight=None, classifier__penalty=none, normalizer=StandardScaler(), poly=PolynomialFeatures(), poly__degree=3; total time=   0.1s\n",
            "[CV] END classifier__C=1.0, classifier__class_weight=None, classifier__penalty=none, normalizer=StandardScaler(), poly=PolynomialFeatures(), poly__degree=3; total time=   0.2s\n",
            "[CV] END classifier__C=1.0, classifier__class_weight=None, classifier__penalty=none, normalizer=StandardScaler(), poly=PolynomialFeatures(), poly__degree=3; total time=   0.1s\n",
            "[CV] END classifier__C=1.0, classifier__class_weight=None, classifier__penalty=none, normalizer=StandardScaler(), poly=PolynomialFeatures(), poly__degree=3; total time=   0.1s\n",
            "[CV] END classifier__C=1.0, classifier__class_weight=None, classifier__penalty=none, normalizer=StandardScaler(), poly=PolynomialFeatures(), poly__degree=3; total time=   0.1s\n",
            "[CV] END classifier__C=1.0, classifier__class_weight=None, classifier__penalty=none, normalizer=MinMaxScaler(), poly=PolynomialFeatures(), poly__degree=1; total time=   0.0s\n",
            "[CV] END classifier__C=1.0, classifier__class_weight=None, classifier__penalty=none, normalizer=MinMaxScaler(), poly=PolynomialFeatures(), poly__degree=1; total time=   0.1s\n",
            "[CV] END classifier__C=1.0, classifier__class_weight=None, classifier__penalty=none, normalizer=MinMaxScaler(), poly=PolynomialFeatures(), poly__degree=1; total time=   0.0s\n",
            "[CV] END classifier__C=1.0, classifier__class_weight=None, classifier__penalty=none, normalizer=MinMaxScaler(), poly=PolynomialFeatures(), poly__degree=1; total time=   0.0s\n",
            "[CV] END classifier__C=1.0, classifier__class_weight=None, classifier__penalty=none, normalizer=MinMaxScaler(), poly=PolynomialFeatures(), poly__degree=1; total time=   0.0s\n",
            "[CV] END classifier__C=1.0, classifier__class_weight=None, classifier__penalty=none, normalizer=MinMaxScaler(), poly=PolynomialFeatures(), poly__degree=2; total time=   0.1s\n",
            "[CV] END classifier__C=1.0, classifier__class_weight=None, classifier__penalty=none, normalizer=MinMaxScaler(), poly=PolynomialFeatures(), poly__degree=2; total time=   0.1s\n",
            "[CV] END classifier__C=1.0, classifier__class_weight=None, classifier__penalty=none, normalizer=MinMaxScaler(), poly=PolynomialFeatures(), poly__degree=2; total time=   0.1s\n",
            "[CV] END classifier__C=1.0, classifier__class_weight=None, classifier__penalty=none, normalizer=MinMaxScaler(), poly=PolynomialFeatures(), poly__degree=2; total time=   0.1s\n",
            "[CV] END classifier__C=1.0, classifier__class_weight=None, classifier__penalty=none, normalizer=MinMaxScaler(), poly=PolynomialFeatures(), poly__degree=2; total time=   0.1s\n",
            "[CV] END classifier__C=1.0, classifier__class_weight=None, classifier__penalty=none, normalizer=MinMaxScaler(), poly=PolynomialFeatures(), poly__degree=3; total time=   0.1s\n",
            "[CV] END classifier__C=1.0, classifier__class_weight=None, classifier__penalty=none, normalizer=MinMaxScaler(), poly=PolynomialFeatures(), poly__degree=3; total time=   0.1s\n",
            "[CV] END classifier__C=1.0, classifier__class_weight=None, classifier__penalty=none, normalizer=MinMaxScaler(), poly=PolynomialFeatures(), poly__degree=3; total time=   0.1s\n",
            "[CV] END classifier__C=1.0, classifier__class_weight=None, classifier__penalty=none, normalizer=MinMaxScaler(), poly=PolynomialFeatures(), poly__degree=3; total time=   0.1s\n",
            "[CV] END classifier__C=1.0, classifier__class_weight=None, classifier__penalty=none, normalizer=MinMaxScaler(), poly=PolynomialFeatures(), poly__degree=3; total time=   0.1s\n",
            "[CV] END classifier__C=1.0, classifier__class_weight=None, classifier__penalty=l1, normalizer=StandardScaler(), poly=PolynomialFeatures(), poly__degree=1; total time=   0.0s\n",
            "[CV] END classifier__C=1.0, classifier__class_weight=None, classifier__penalty=l1, normalizer=StandardScaler(), poly=PolynomialFeatures(), poly__degree=1; total time=   0.0s\n",
            "[CV] END classifier__C=1.0, classifier__class_weight=None, classifier__penalty=l1, normalizer=StandardScaler(), poly=PolynomialFeatures(), poly__degree=1; total time=   0.0s\n",
            "[CV] END classifier__C=1.0, classifier__class_weight=None, classifier__penalty=l1, normalizer=StandardScaler(), poly=PolynomialFeatures(), poly__degree=1; total time=   0.0s\n",
            "[CV] END classifier__C=1.0, classifier__class_weight=None, classifier__penalty=l1, normalizer=StandardScaler(), poly=PolynomialFeatures(), poly__degree=1; total time=   0.0s\n",
            "[CV] END classifier__C=1.0, classifier__class_weight=None, classifier__penalty=l1, normalizer=StandardScaler(), poly=PolynomialFeatures(), poly__degree=2; total time=   0.0s\n",
            "[CV] END classifier__C=1.0, classifier__class_weight=None, classifier__penalty=l1, normalizer=StandardScaler(), poly=PolynomialFeatures(), poly__degree=2; total time=   0.0s\n",
            "[CV] END classifier__C=1.0, classifier__class_weight=None, classifier__penalty=l1, normalizer=StandardScaler(), poly=PolynomialFeatures(), poly__degree=2; total time=   0.0s\n",
            "[CV] END classifier__C=1.0, classifier__class_weight=None, classifier__penalty=l1, normalizer=StandardScaler(), poly=PolynomialFeatures(), poly__degree=2; total time=   0.0s\n",
            "[CV] END classifier__C=1.0, classifier__class_weight=None, classifier__penalty=l1, normalizer=StandardScaler(), poly=PolynomialFeatures(), poly__degree=2; total time=   0.0s\n",
            "[CV] END classifier__C=1.0, classifier__class_weight=None, classifier__penalty=l1, normalizer=StandardScaler(), poly=PolynomialFeatures(), poly__degree=3; total time=   0.0s\n",
            "[CV] END classifier__C=1.0, classifier__class_weight=None, classifier__penalty=l1, normalizer=StandardScaler(), poly=PolynomialFeatures(), poly__degree=3; total time=   0.0s\n",
            "[CV] END classifier__C=1.0, classifier__class_weight=None, classifier__penalty=l1, normalizer=StandardScaler(), poly=PolynomialFeatures(), poly__degree=3; total time=   0.0s\n",
            "[CV] END classifier__C=1.0, classifier__class_weight=None, classifier__penalty=l1, normalizer=StandardScaler(), poly=PolynomialFeatures(), poly__degree=3; total time=   0.0s\n",
            "[CV] END classifier__C=1.0, classifier__class_weight=None, classifier__penalty=l1, normalizer=StandardScaler(), poly=PolynomialFeatures(), poly__degree=3; total time=   0.0s\n",
            "[CV] END classifier__C=1.0, classifier__class_weight=None, classifier__penalty=l1, normalizer=MinMaxScaler(), poly=PolynomialFeatures(), poly__degree=1; total time=   0.0s\n",
            "[CV] END classifier__C=1.0, classifier__class_weight=None, classifier__penalty=l1, normalizer=MinMaxScaler(), poly=PolynomialFeatures(), poly__degree=1; total time=   0.0s\n",
            "[CV] END classifier__C=1.0, classifier__class_weight=None, classifier__penalty=l1, normalizer=MinMaxScaler(), poly=PolynomialFeatures(), poly__degree=1; total time=   0.0s\n",
            "[CV] END classifier__C=1.0, classifier__class_weight=None, classifier__penalty=l1, normalizer=MinMaxScaler(), poly=PolynomialFeatures(), poly__degree=1; total time=   0.0s\n",
            "[CV] END classifier__C=1.0, classifier__class_weight=None, classifier__penalty=l1, normalizer=MinMaxScaler(), poly=PolynomialFeatures(), poly__degree=1; total time=   0.0s\n",
            "[CV] END classifier__C=1.0, classifier__class_weight=None, classifier__penalty=l1, normalizer=MinMaxScaler(), poly=PolynomialFeatures(), poly__degree=2; total time=   0.0s\n",
            "[CV] END classifier__C=1.0, classifier__class_weight=None, classifier__penalty=l1, normalizer=MinMaxScaler(), poly=PolynomialFeatures(), poly__degree=2; total time=   0.0s\n",
            "[CV] END classifier__C=1.0, classifier__class_weight=None, classifier__penalty=l1, normalizer=MinMaxScaler(), poly=PolynomialFeatures(), poly__degree=2; total time=   0.0s\n",
            "[CV] END classifier__C=1.0, classifier__class_weight=None, classifier__penalty=l1, normalizer=MinMaxScaler(), poly=PolynomialFeatures(), poly__degree=2; total time=   0.0s\n",
            "[CV] END classifier__C=1.0, classifier__class_weight=None, classifier__penalty=l1, normalizer=MinMaxScaler(), poly=PolynomialFeatures(), poly__degree=2; total time=   0.0s\n",
            "[CV] END classifier__C=1.0, classifier__class_weight=None, classifier__penalty=l1, normalizer=MinMaxScaler(), poly=PolynomialFeatures(), poly__degree=3; total time=   0.0s\n",
            "[CV] END classifier__C=1.0, classifier__class_weight=None, classifier__penalty=l1, normalizer=MinMaxScaler(), poly=PolynomialFeatures(), poly__degree=3; total time=   0.0s\n",
            "[CV] END classifier__C=1.0, classifier__class_weight=None, classifier__penalty=l1, normalizer=MinMaxScaler(), poly=PolynomialFeatures(), poly__degree=3; total time=   0.0s\n",
            "[CV] END classifier__C=1.0, classifier__class_weight=None, classifier__penalty=l1, normalizer=MinMaxScaler(), poly=PolynomialFeatures(), poly__degree=3; total time=   0.0s\n",
            "[CV] END classifier__C=1.0, classifier__class_weight=None, classifier__penalty=l1, normalizer=MinMaxScaler(), poly=PolynomialFeatures(), poly__degree=3; total time=   0.0s\n",
            "[CV] END classifier__C=1.0, classifier__class_weight=None, classifier__penalty=l2, normalizer=StandardScaler(), poly=PolynomialFeatures(), poly__degree=1; total time=   0.0s\n",
            "[CV] END classifier__C=1.0, classifier__class_weight=None, classifier__penalty=l2, normalizer=StandardScaler(), poly=PolynomialFeatures(), poly__degree=1; total time=   0.0s\n",
            "[CV] END classifier__C=1.0, classifier__class_weight=None, classifier__penalty=l2, normalizer=StandardScaler(), poly=PolynomialFeatures(), poly__degree=1; total time=   0.0s\n",
            "[CV] END classifier__C=1.0, classifier__class_weight=None, classifier__penalty=l2, normalizer=StandardScaler(), poly=PolynomialFeatures(), poly__degree=1; total time=   0.0s\n",
            "[CV] END classifier__C=1.0, classifier__class_weight=None, classifier__penalty=l2, normalizer=StandardScaler(), poly=PolynomialFeatures(), poly__degree=1; total time=   0.0s\n",
            "[CV] END classifier__C=1.0, classifier__class_weight=None, classifier__penalty=l2, normalizer=StandardScaler(), poly=PolynomialFeatures(), poly__degree=2; total time=   0.1s\n",
            "[CV] END classifier__C=1.0, classifier__class_weight=None, classifier__penalty=l2, normalizer=StandardScaler(), poly=PolynomialFeatures(), poly__degree=2; total time=   0.1s\n",
            "[CV] END classifier__C=1.0, classifier__class_weight=None, classifier__penalty=l2, normalizer=StandardScaler(), poly=PolynomialFeatures(), poly__degree=2; total time=   0.1s\n",
            "[CV] END classifier__C=1.0, classifier__class_weight=None, classifier__penalty=l2, normalizer=StandardScaler(), poly=PolynomialFeatures(), poly__degree=2; total time=   0.1s\n",
            "[CV] END classifier__C=1.0, classifier__class_weight=None, classifier__penalty=l2, normalizer=StandardScaler(), poly=PolynomialFeatures(), poly__degree=2; total time=   0.1s\n",
            "[CV] END classifier__C=1.0, classifier__class_weight=None, classifier__penalty=l2, normalizer=StandardScaler(), poly=PolynomialFeatures(), poly__degree=3; total time=   0.2s\n",
            "[CV] END classifier__C=1.0, classifier__class_weight=None, classifier__penalty=l2, normalizer=StandardScaler(), poly=PolynomialFeatures(), poly__degree=3; total time=   0.3s\n",
            "[CV] END classifier__C=1.0, classifier__class_weight=None, classifier__penalty=l2, normalizer=StandardScaler(), poly=PolynomialFeatures(), poly__degree=3; total time=   0.3s\n",
            "[CV] END classifier__C=1.0, classifier__class_weight=None, classifier__penalty=l2, normalizer=StandardScaler(), poly=PolynomialFeatures(), poly__degree=3; total time=   0.2s\n",
            "[CV] END classifier__C=1.0, classifier__class_weight=None, classifier__penalty=l2, normalizer=StandardScaler(), poly=PolynomialFeatures(), poly__degree=3; total time=   0.2s\n",
            "[CV] END classifier__C=1.0, classifier__class_weight=None, classifier__penalty=l2, normalizer=MinMaxScaler(), poly=PolynomialFeatures(), poly__degree=1; total time=   0.0s\n",
            "[CV] END classifier__C=1.0, classifier__class_weight=None, classifier__penalty=l2, normalizer=MinMaxScaler(), poly=PolynomialFeatures(), poly__degree=1; total time=   0.0s\n",
            "[CV] END classifier__C=1.0, classifier__class_weight=None, classifier__penalty=l2, normalizer=MinMaxScaler(), poly=PolynomialFeatures(), poly__degree=1; total time=   0.0s\n",
            "[CV] END classifier__C=1.0, classifier__class_weight=None, classifier__penalty=l2, normalizer=MinMaxScaler(), poly=PolynomialFeatures(), poly__degree=1; total time=   0.0s\n",
            "[CV] END classifier__C=1.0, classifier__class_weight=None, classifier__penalty=l2, normalizer=MinMaxScaler(), poly=PolynomialFeatures(), poly__degree=1; total time=   0.0s\n",
            "[CV] END classifier__C=1.0, classifier__class_weight=None, classifier__penalty=l2, normalizer=MinMaxScaler(), poly=PolynomialFeatures(), poly__degree=2; total time=   0.1s\n",
            "[CV] END classifier__C=1.0, classifier__class_weight=None, classifier__penalty=l2, normalizer=MinMaxScaler(), poly=PolynomialFeatures(), poly__degree=2; total time=   0.1s\n",
            "[CV] END classifier__C=1.0, classifier__class_weight=None, classifier__penalty=l2, normalizer=MinMaxScaler(), poly=PolynomialFeatures(), poly__degree=2; total time=   0.1s\n",
            "[CV] END classifier__C=1.0, classifier__class_weight=None, classifier__penalty=l2, normalizer=MinMaxScaler(), poly=PolynomialFeatures(), poly__degree=2; total time=   0.1s\n",
            "[CV] END classifier__C=1.0, classifier__class_weight=None, classifier__penalty=l2, normalizer=MinMaxScaler(), poly=PolynomialFeatures(), poly__degree=2; total time=   0.1s\n",
            "[CV] END classifier__C=1.0, classifier__class_weight=None, classifier__penalty=l2, normalizer=MinMaxScaler(), poly=PolynomialFeatures(), poly__degree=3; total time=   0.2s\n",
            "[CV] END classifier__C=1.0, classifier__class_weight=None, classifier__penalty=l2, normalizer=MinMaxScaler(), poly=PolynomialFeatures(), poly__degree=3; total time=   0.2s\n",
            "[CV] END classifier__C=1.0, classifier__class_weight=None, classifier__penalty=l2, normalizer=MinMaxScaler(), poly=PolynomialFeatures(), poly__degree=3; total time=   0.3s\n",
            "[CV] END classifier__C=1.0, classifier__class_weight=None, classifier__penalty=l2, normalizer=MinMaxScaler(), poly=PolynomialFeatures(), poly__degree=3; total time=   0.2s\n",
            "[CV] END classifier__C=1.0, classifier__class_weight=None, classifier__penalty=l2, normalizer=MinMaxScaler(), poly=PolynomialFeatures(), poly__degree=3; total time=   0.2s\n"
          ]
        },
        {
          "output_type": "execute_result",
          "data": {
            "text/plain": [
              "GridSearchCV(cv=5,\n",
              "             estimator=Pipeline(steps=[('poly', 'passthrough'),\n",
              "                                       ('normalizer', StandardScaler()),\n",
              "                                       ('classifier',\n",
              "                                        LogisticRegression(multi_class='multinomial'))]),\n",
              "             n_jobs=1,\n",
              "             param_grid=[{'classifier__C': [0.01, 0.1, 1.0],\n",
              "                          'classifier__class_weight': ['balanced', None],\n",
              "                          'classifier__penalty': ['none', 'l1', 'l2'],\n",
              "                          'normalizer': [StandardScaler(), MinMaxScaler()],\n",
              "                          'poly': [PolynomialFeatures(degree=3)],\n",
              "                          'poly__degree': [1, 2, 3]}],\n",
              "             refit='f1', return_train_score=True,\n",
              "             scoring=['precision', 'recall', 'f1'], verbose=2)"
            ]
          },
          "metadata": {},
          "execution_count": 19
        }
      ]
    },
    {
      "cell_type": "markdown",
      "source": [
        "Se revisan los mejores parámetros resultantes:"
      ],
      "metadata": {
        "id": "dCHf7VMZQVoP"
      }
    },
    {
      "cell_type": "code",
      "source": [
        "grid.best_params_"
      ],
      "metadata": {
        "colab": {
          "base_uri": "https://localhost:8080/"
        },
        "id": "zFx6patKQYCN",
        "outputId": "a59f5347-6482-4d7c-fb85-b3c92278e495"
      },
      "execution_count": null,
      "outputs": [
        {
          "output_type": "execute_result",
          "data": {
            "text/plain": [
              "{'classifier__C': 0.01,\n",
              " 'classifier__class_weight': None,\n",
              " 'classifier__penalty': 'l2',\n",
              " 'normalizer': StandardScaler(),\n",
              " 'poly': PolynomialFeatures(degree=3),\n",
              " 'poly__degree': 3}"
            ]
          },
          "metadata": {},
          "execution_count": 20
        }
      ]
    },
    {
      "cell_type": "markdown",
      "source": [
        "Predicciones usando el mejor modelo:"
      ],
      "metadata": {
        "id": "7leYON0IQeDX"
      }
    },
    {
      "cell_type": "code",
      "source": [
        "train_val_preds = grid.best_estimator_.predict(X_train)\n",
        "test_preds = grid.best_estimator_.predict(X_test)"
      ],
      "metadata": {
        "id": "xL2NxqyCQgXJ"
      },
      "execution_count": null,
      "outputs": []
    },
    {
      "cell_type": "markdown",
      "source": [
        "Matriz de confusión:"
      ],
      "metadata": {
        "id": "QgRWWNgvQie6"
      }
    },
    {
      "cell_type": "code",
      "source": [
        "fig, axes = plt.subplots(1, 2, figsize = (10, 4))\n",
        "\n",
        "train_val_cm = confusion_matrix(Y_train, train_val_preds, labels = grid.best_estimator_.classes_, normalize = 'true')\n",
        "train_val_disp = ConfusionMatrixDisplay(confusion_matrix = train_val_cm, display_labels = grid.best_estimator_.classes_)\n",
        "train_val_disp.plot(ax = axes[0])\n",
        "axes[0].set_title('Entrenamiento/Validación')\n",
        "axes[0].set_ylabel('Etiquetas observadas')\n",
        "axes[0].set_xlabel('Etiquetas predichas')\n",
        "\n",
        "test_cm = confusion_matrix(Y_test, test_preds, labels = grid.best_estimator_.classes_, normalize = 'true')\n",
        "test_disp = ConfusionMatrixDisplay(confusion_matrix = test_cm, display_labels = grid.best_estimator_.classes_)\n",
        "test_disp.plot(ax = axes[1])\n",
        "axes[1].set_title('Prueba')\n",
        "axes[1].set_ylabel('Etiquetas observadas')\n",
        "axes[1].set_xlabel('Etiquetas predichas')\n",
        "\n",
        "plt.show()"
      ],
      "metadata": {
        "colab": {
          "base_uri": "https://localhost:8080/",
          "height": 281
        },
        "id": "LwbD0n0gQjyQ",
        "outputId": "b946c254-4f95-4f92-dcaa-b5a0956c1ece"
      },
      "execution_count": null,
      "outputs": [
        {
          "output_type": "display_data",
          "data": {
            "text/plain": [
              "<Figure size 720x288 with 4 Axes>"
            ],
            "image/png": "[encoded data removed]"
          },
          "metadata": {
            "needs_background": "light"
          }
        }
      ]
    },
    {
      "cell_type": "markdown",
      "source": [
        "Métricas:"
      ],
      "metadata": {
        "id": "nNBwD3vuQ8RB"
      }
    },
    {
      "cell_type": "code",
      "source": [
        "print(f'Precisión:')\n",
        "print(f\"- Entrenamiento/Validación: {precision_score(Y_train, train_val_preds,average='weighted'):.2f}\")\n",
        "print(f\"- Prueba: {precision_score(Y_test, test_preds,average='weighted'):.2f}\")\n",
        "print(f'Sensibilidad (recall):')\n",
        "print(f\"- Entrenamiento/Validación: {recall_score(Y_train, train_val_preds,average='weighted'):.2f}\")\n",
        "print(f\"- Prueba: {recall_score(Y_test, test_preds,average='weighted'):.2f}\")\n",
        "print(f'F1:')\n",
        "print(f\"- Entrenamiento/Validación: {f1_score(Y_train, train_val_preds,average='weighted'):.2f}\")\n",
        "print(f\"- Prueba: {f1_score(Y_test, test_preds,average='weighted'):.2f}\")"
      ],
      "metadata": {
        "colab": {
          "base_uri": "https://localhost:8080/"
        },
        "id": "HYNpkuGgQ9Q_",
        "outputId": "12bd7395-bb15-4fa3-c1d2-3266a7d7d1e0"
      },
      "execution_count": null,
      "outputs": [
        {
          "output_type": "stream",
          "name": "stdout",
          "text": [
            "Precisión:\n",
            "- Entrenamiento/Validación: 0.95\n",
            "- Prueba: 0.82\n",
            "Sensibilidad (recall):\n",
            "- Entrenamiento/Validación: 0.95\n",
            "- Prueba: 0.82\n",
            "F1:\n",
            "- Entrenamiento/Validación: 0.95\n",
            "- Prueba: 0.82\n"
          ]
        }
      ]
    },
    {
      "cell_type": "markdown",
      "source": [
        "Este parece ser un escenario de sobreajuste, ya que las métricas de entrenamiento son mayores a las de prueba."
      ],
      "metadata": {
        "id": "eVR2GS4fVFlp"
      }
    },
    {
      "cell_type": "markdown",
      "source": [
        "## 2.2) Máquinas de vectores de soporte\n",
        "\n",
        "Pipeline para escoger el mejor modelo:"
      ],
      "metadata": {
        "id": "jz6b1Rw1LJgG"
      }
    },
    {
      "cell_type": "code",
      "source": [
        "pipe = Pipeline([('reduce_dim', PCA()), ('clf', SVC())])"
      ],
      "metadata": {
        "id": "nbV5uF9aRdsc"
      },
      "execution_count": null,
      "outputs": []
    },
    {
      "cell_type": "markdown",
      "source": [
        "Espacio para los hiperparámetros:"
      ],
      "metadata": {
        "id": "VIWyHRd_R43C"
      }
    },
    {
      "cell_type": "code",
      "source": [
        "param_grid2 = dict(reduce_dim__n_components=[2, 5, 10],\n",
        "                   clf__C=[0.1, 10, 100])"
      ],
      "metadata": {
        "id": "U38jlmwwLRQ7"
      },
      "execution_count": null,
      "outputs": []
    },
    {
      "cell_type": "markdown",
      "source": [
        "Función para búsqueda del mejor modelo:"
      ],
      "metadata": {
        "id": "PUFRrAP4OkmE"
      }
    },
    {
      "cell_type": "code",
      "source": [
        "grid2 = GridSearchCV(estimator = pipe, param_grid = param_grid2,\n",
        "                     scoring = ['precision', 'recall', 'f1'], n_jobs = 1,\n",
        "                     refit = 'f1', cv = 5, return_train_score = True,\n",
        "                     verbose = 2)"
      ],
      "metadata": {
        "id": "YF3H9X37Ok9D"
      },
      "execution_count": null,
      "outputs": []
    },
    {
      "cell_type": "markdown",
      "source": [
        "Búsqueda del mejor modelo:"
      ],
      "metadata": {
        "id": "nnpHA-cXO3wh"
      }
    },
    {
      "cell_type": "code",
      "source": [
        "grid2.fit(X_train, Y_train)"
      ],
      "metadata": {
        "colab": {
          "base_uri": "https://localhost:8080/"
        },
        "id": "3pGHvX5ZO5Vh",
        "outputId": "7313e7aa-d177-41b7-83dc-63b4203898f4"
      },
      "execution_count": null,
      "outputs": [
        {
          "output_type": "stream",
          "name": "stdout",
          "text": [
            "Fitting 5 folds for each of 9 candidates, totalling 45 fits\n",
            "[CV] END .............clf__C=0.1, reduce_dim__n_components=2; total time=   0.0s\n",
            "[CV] END .............clf__C=0.1, reduce_dim__n_components=2; total time=   0.0s\n",
            "[CV] END .............clf__C=0.1, reduce_dim__n_components=2; total time=   0.0s\n",
            "[CV] END .............clf__C=0.1, reduce_dim__n_components=2; total time=   0.0s\n",
            "[CV] END .............clf__C=0.1, reduce_dim__n_components=2; total time=   0.0s\n",
            "[CV] END .............clf__C=0.1, reduce_dim__n_components=5; total time=   0.0s\n",
            "[CV] END .............clf__C=0.1, reduce_dim__n_components=5; total time=   0.0s\n",
            "[CV] END .............clf__C=0.1, reduce_dim__n_components=5; total time=   0.0s\n",
            "[CV] END .............clf__C=0.1, reduce_dim__n_components=5; total time=   0.0s\n",
            "[CV] END .............clf__C=0.1, reduce_dim__n_components=5; total time=   0.0s\n",
            "[CV] END ............clf__C=0.1, reduce_dim__n_components=10; total time=   0.0s\n",
            "[CV] END ............clf__C=0.1, reduce_dim__n_components=10; total time=   0.0s\n",
            "[CV] END ............clf__C=0.1, reduce_dim__n_components=10; total time=   0.0s\n",
            "[CV] END ............clf__C=0.1, reduce_dim__n_components=10; total time=   0.0s\n",
            "[CV] END ............clf__C=0.1, reduce_dim__n_components=10; total time=   0.0s\n",
            "[CV] END ..............clf__C=10, reduce_dim__n_components=2; total time=   0.0s\n",
            "[CV] END ..............clf__C=10, reduce_dim__n_components=2; total time=   0.0s\n",
            "[CV] END ..............clf__C=10, reduce_dim__n_components=2; total time=   0.0s\n",
            "[CV] END ..............clf__C=10, reduce_dim__n_components=2; total time=   0.0s\n",
            "[CV] END ..............clf__C=10, reduce_dim__n_components=2; total time=   0.0s\n",
            "[CV] END ..............clf__C=10, reduce_dim__n_components=5; total time=   0.0s\n",
            "[CV] END ..............clf__C=10, reduce_dim__n_components=5; total time=   0.0s\n",
            "[CV] END ..............clf__C=10, reduce_dim__n_components=5; total time=   0.0s\n",
            "[CV] END ..............clf__C=10, reduce_dim__n_components=5; total time=   0.0s\n",
            "[CV] END ..............clf__C=10, reduce_dim__n_components=5; total time=   0.0s\n",
            "[CV] END .............clf__C=10, reduce_dim__n_components=10; total time=   0.0s\n",
            "[CV] END .............clf__C=10, reduce_dim__n_components=10; total time=   0.0s\n",
            "[CV] END .............clf__C=10, reduce_dim__n_components=10; total time=   0.0s\n",
            "[CV] END .............clf__C=10, reduce_dim__n_components=10; total time=   0.0s\n",
            "[CV] END .............clf__C=10, reduce_dim__n_components=10; total time=   0.0s\n",
            "[CV] END .............clf__C=100, reduce_dim__n_components=2; total time=   0.0s\n",
            "[CV] END .............clf__C=100, reduce_dim__n_components=2; total time=   0.0s\n",
            "[CV] END .............clf__C=100, reduce_dim__n_components=2; total time=   0.0s\n",
            "[CV] END .............clf__C=100, reduce_dim__n_components=2; total time=   0.0s\n",
            "[CV] END .............clf__C=100, reduce_dim__n_components=2; total time=   0.0s\n",
            "[CV] END .............clf__C=100, reduce_dim__n_components=5; total time=   0.0s\n",
            "[CV] END .............clf__C=100, reduce_dim__n_components=5; total time=   0.0s\n",
            "[CV] END .............clf__C=100, reduce_dim__n_components=5; total time=   0.0s\n",
            "[CV] END .............clf__C=100, reduce_dim__n_components=5; total time=   0.0s\n",
            "[CV] END .............clf__C=100, reduce_dim__n_components=5; total time=   0.0s\n",
            "[CV] END ............clf__C=100, reduce_dim__n_components=10; total time=   0.0s\n",
            "[CV] END ............clf__C=100, reduce_dim__n_components=10; total time=   0.0s\n",
            "[CV] END ............clf__C=100, reduce_dim__n_components=10; total time=   0.0s\n",
            "[CV] END ............clf__C=100, reduce_dim__n_components=10; total time=   0.0s\n",
            "[CV] END ............clf__C=100, reduce_dim__n_components=10; total time=   0.0s\n"
          ]
        },
        {
          "output_type": "execute_result",
          "data": {
            "text/plain": [
              "GridSearchCV(cv=5,\n",
              "             estimator=Pipeline(steps=[('reduce_dim', PCA()), ('clf', SVC())]),\n",
              "             n_jobs=1,\n",
              "             param_grid={'clf__C': [0.1, 10, 100],\n",
              "                         'reduce_dim__n_components': [2, 5, 10]},\n",
              "             refit='f1', return_train_score=True,\n",
              "             scoring=['precision', 'recall', 'f1'], verbose=2)"
            ]
          },
          "metadata": {},
          "execution_count": 106
        }
      ]
    },
    {
      "cell_type": "markdown",
      "source": [
        "Parámetros resultantes:"
      ],
      "metadata": {
        "id": "4cvfEO1JSAuX"
      }
    },
    {
      "cell_type": "code",
      "source": [
        "grid2.best_params_"
      ],
      "metadata": {
        "colab": {
          "base_uri": "https://localhost:8080/"
        },
        "id": "IKlGYxFUSEYu",
        "outputId": "5a137846-6c08-4827-9983-099deddd8336"
      },
      "execution_count": null,
      "outputs": [
        {
          "output_type": "execute_result",
          "data": {
            "text/plain": [
              "{'clf__C': 0.1, 'reduce_dim__n_components': 5}"
            ]
          },
          "metadata": {},
          "execution_count": 108
        }
      ]
    },
    {
      "cell_type": "markdown",
      "source": [
        "Predicciones usando el mejor modelo:"
      ],
      "metadata": {
        "id": "4D7VT06WSmzW"
      }
    },
    {
      "cell_type": "code",
      "source": [
        "train_val_preds = grid2.best_estimator_.predict(X_train)\n",
        "test_preds = grid2.best_estimator_.predict(X_test)"
      ],
      "metadata": {
        "id": "qi6FLWL6Sp9A"
      },
      "execution_count": null,
      "outputs": []
    },
    {
      "cell_type": "markdown",
      "source": [
        "Matriz de confusión:"
      ],
      "metadata": {
        "id": "-EFHMlPZSwaY"
      }
    },
    {
      "cell_type": "code",
      "source": [
        "fig, axes = plt.subplots(1, 2, figsize = (10, 4))\n",
        "\n",
        "train_val_cm = confusion_matrix(Y_train, train_val_preds,\n",
        "                                labels = grid2.best_estimator_.classes_,\n",
        "                                normalize = 'true')\n",
        "train_val_disp = ConfusionMatrixDisplay(confusion_matrix = train_val_cm,\n",
        "                                        display_labels = grid2.best_estimator_.classes_)\n",
        "train_val_disp.plot(ax = axes[0])\n",
        "axes[0].set_title('Entrenamiento/Validación')\n",
        "axes[0].set_ylabel('Etiquetas observadas')\n",
        "axes[0].set_xlabel('Etiquetas predichas')\n",
        "\n",
        "test_cm = confusion_matrix(Y_test, test_preds,\n",
        "                           labels = grid2.best_estimator_.classes_,\n",
        "                           normalize = 'true')\n",
        "test_disp = ConfusionMatrixDisplay(confusion_matrix = test_cm,\n",
        "                                   display_labels = grid2.best_estimator_.classes_)\n",
        "test_disp.plot(ax = axes[1])\n",
        "axes[1].set_title('Prueba')\n",
        "axes[1].set_ylabel('Etiquetas observadas')\n",
        "axes[1].set_xlabel('Etiquetas predichas')\n",
        "\n",
        "plt.show()"
      ],
      "metadata": {
        "colab": {
          "base_uri": "https://localhost:8080/",
          "height": 281
        },
        "id": "T8tJLE1WSx1V",
        "outputId": "b7a597d4-8595-4ecb-bc3b-c5900d7c732a"
      },
      "execution_count": null,
      "outputs": [
        {
          "output_type": "display_data",
          "data": {
            "text/plain": [
              "<Figure size 720x288 with 4 Axes>"
            ],
            "image/png": "[encoded data removed]"
          },
          "metadata": {
            "needs_background": "light"
          }
        }
      ]
    },
    {
      "cell_type": "markdown",
      "source": [
        "Métricas:"
      ],
      "metadata": {
        "id": "x0yPRVkyS9JV"
      }
    },
    {
      "cell_type": "code",
      "source": [
        "print(f'Precisión:')\n",
        "print(f\"- Entrenamiento/Validación: {precision_score(Y_train, train_val_preds,average='weighted'):.2f}\")\n",
        "print(f\"- Prueba: {precision_score(Y_test, test_preds,average='weighted'):.2f}\")\n",
        "print(f'Sensibilidad (recall):')\n",
        "print(f\"- Entrenamiento/Validación: {recall_score(Y_train, train_val_preds,average='weighted'):.2f}\")\n",
        "print(f\"- Prueba: {recall_score(Y_test, test_preds,average='weighted'):.2f}\")\n",
        "print(f'F1:')\n",
        "print(f\"- Entrenamiento/Validación: {f1_score(Y_train, train_val_preds,average='weighted'):.2f}\")\n",
        "print(f\"- Prueba: {f1_score(Y_test, test_preds,average='weighted'):.2f}\")"
      ],
      "metadata": {
        "colab": {
          "base_uri": "https://localhost:8080/"
        },
        "id": "TNVtmxQ7S_UV",
        "outputId": "958dc507-2d67-4fa5-ee52-894bc61c4274"
      },
      "execution_count": null,
      "outputs": [
        {
          "output_type": "stream",
          "name": "stdout",
          "text": [
            "Precisión:\n",
            "- Entrenamiento/Validación: 0.70\n",
            "- Prueba: 0.71\n",
            "Sensibilidad (recall):\n",
            "- Entrenamiento/Validación: 0.65\n",
            "- Prueba: 0.66\n",
            "F1:\n",
            "- Entrenamiento/Validación: 0.61\n",
            "- Prueba: 0.62\n"
          ]
        }
      ]
    },
    {
      "cell_type": "markdown",
      "source": [
        "En este caso no parece haber sobreajuste, aunque las métricas son relativamente bajas, todas inferiores al 72%."
      ],
      "metadata": {
        "id": "V7phrOzbU71K"
      }
    },
    {
      "cell_type": "markdown",
      "source": [
        "## 2.3) Aprendizaje basado en árboles de decisión\n",
        "\n",
        "Pipeline para escoger el mejor modelo:"
      ],
      "metadata": {
        "id": "DUfc2BMKmBWF"
      }
    },
    {
      "cell_type": "code",
      "source": [
        "param_grid3 = [\n",
        "    {\n",
        "        'classifier': [DecisionTreeClassifier(random_state = 20)],\n",
        "        'classifier__criterion': ['gini', 'entropy'],\n",
        "        'classifier__max_depth' : [2, 3, 4, 5, 6, 7, 8, 9, 10],\n",
        "        'classifier__class_weight': ['balanced', None]\n",
        "    }\n",
        "]"
      ],
      "metadata": {
        "id": "xlgwL36cml0S"
      },
      "execution_count": null,
      "outputs": []
    },
    {
      "cell_type": "markdown",
      "source": [
        "Función para búsqueda del mejor modelo:"
      ],
      "metadata": {
        "id": "OOl2VEPnmqNJ"
      }
    },
    {
      "cell_type": "code",
      "source": [
        "grid3 = GridSearchCV(estimator = pipeline, param_grid = param_grid3,\n",
        "                     scoring = ['precision', 'recall', 'f1'], n_jobs = 1,\n",
        "                     refit = 'f1', cv = 5, return_train_score = True,\n",
        "                     verbose = 2)"
      ],
      "metadata": {
        "id": "fNRpYARjmq8h"
      },
      "execution_count": null,
      "outputs": []
    },
    {
      "cell_type": "markdown",
      "source": [
        "Búsqueda del mejor modelo:"
      ],
      "metadata": {
        "id": "sImJ52Mkm6CC"
      }
    },
    {
      "cell_type": "code",
      "source": [
        "grid3.fit(X_train, Y_train)"
      ],
      "metadata": {
        "colab": {
          "base_uri": "https://localhost:8080/"
        },
        "id": "aMXqqCo-m8Kl",
        "outputId": "d948594c-307b-4e54-c151-c57f12df5c2a"
      },
      "execution_count": null,
      "outputs": [
        {
          "output_type": "stream",
          "name": "stdout",
          "text": [
            "Fitting 5 folds for each of 36 candidates, totalling 180 fits\n",
            "[CV] END classifier=DecisionTreeClassifier(random_state=20), classifier__class_weight=balanced, classifier__criterion=gini, classifier__max_depth=2; total time=   0.0s\n",
            "[CV] END classifier=DecisionTreeClassifier(random_state=20), classifier__class_weight=balanced, classifier__criterion=gini, classifier__max_depth=2; total time=   0.0s\n",
            "[CV] END classifier=DecisionTreeClassifier(random_state=20), classifier__class_weight=balanced, classifier__criterion=gini, classifier__max_depth=2; total time=   0.0s\n",
            "[CV] END classifier=DecisionTreeClassifier(random_state=20), classifier__class_weight=balanced, classifier__criterion=gini, classifier__max_depth=2; total time=   0.0s\n",
            "[CV] END classifier=DecisionTreeClassifier(random_state=20), classifier__class_weight=balanced, classifier__criterion=gini, classifier__max_depth=2; total time=   0.0s\n",
            "[CV] END classifier=DecisionTreeClassifier(random_state=20), classifier__class_weight=balanced, classifier__criterion=gini, classifier__max_depth=3; total time=   0.0s\n",
            "[CV] END classifier=DecisionTreeClassifier(random_state=20), classifier__class_weight=balanced, classifier__criterion=gini, classifier__max_depth=3; total time=   0.0s\n",
            "[CV] END classifier=DecisionTreeClassifier(random_state=20), classifier__class_weight=balanced, classifier__criterion=gini, classifier__max_depth=3; total time=   0.0s\n",
            "[CV] END classifier=DecisionTreeClassifier(random_state=20), classifier__class_weight=balanced, classifier__criterion=gini, classifier__max_depth=3; total time=   0.0s\n",
            "[CV] END classifier=DecisionTreeClassifier(random_state=20), classifier__class_weight=balanced, classifier__criterion=gini, classifier__max_depth=3; total time=   0.0s\n",
            "[CV] END classifier=DecisionTreeClassifier(random_state=20), classifier__class_weight=balanced, classifier__criterion=gini, classifier__max_depth=4; total time=   0.0s\n",
            "[CV] END classifier=DecisionTreeClassifier(random_state=20), classifier__class_weight=balanced, classifier__criterion=gini, classifier__max_depth=4; total time=   0.0s\n",
            "[CV] END classifier=DecisionTreeClassifier(random_state=20), classifier__class_weight=balanced, classifier__criterion=gini, classifier__max_depth=4; total time=   0.0s\n",
            "[CV] END classifier=DecisionTreeClassifier(random_state=20), classifier__class_weight=balanced, classifier__criterion=gini, classifier__max_depth=4; total time=   0.0s\n",
            "[CV] END classifier=DecisionTreeClassifier(random_state=20), classifier__class_weight=balanced, classifier__criterion=gini, classifier__max_depth=4; total time=   0.0s\n",
            "[CV] END classifier=DecisionTreeClassifier(random_state=20), classifier__class_weight=balanced, classifier__criterion=gini, classifier__max_depth=5; total time=   0.0s\n",
            "[CV] END classifier=DecisionTreeClassifier(random_state=20), classifier__class_weight=balanced, classifier__criterion=gini, classifier__max_depth=5; total time=   0.0s\n",
            "[CV] END classifier=DecisionTreeClassifier(random_state=20), classifier__class_weight=balanced, classifier__criterion=gini, classifier__max_depth=5; total time=   0.0s\n",
            "[CV] END classifier=DecisionTreeClassifier(random_state=20), classifier__class_weight=balanced, classifier__criterion=gini, classifier__max_depth=5; total time=   0.0s\n",
            "[CV] END classifier=DecisionTreeClassifier(random_state=20), classifier__class_weight=balanced, classifier__criterion=gini, classifier__max_depth=5; total time=   0.0s\n",
            "[CV] END classifier=DecisionTreeClassifier(random_state=20), classifier__class_weight=balanced, classifier__criterion=gini, classifier__max_depth=6; total time=   0.0s\n",
            "[CV] END classifier=DecisionTreeClassifier(random_state=20), classifier__class_weight=balanced, classifier__criterion=gini, classifier__max_depth=6; total time=   0.0s\n",
            "[CV] END classifier=DecisionTreeClassifier(random_state=20), classifier__class_weight=balanced, classifier__criterion=gini, classifier__max_depth=6; total time=   0.0s\n",
            "[CV] END classifier=DecisionTreeClassifier(random_state=20), classifier__class_weight=balanced, classifier__criterion=gini, classifier__max_depth=6; total time=   0.0s\n",
            "[CV] END classifier=DecisionTreeClassifier(random_state=20), classifier__class_weight=balanced, classifier__criterion=gini, classifier__max_depth=6; total time=   0.0s\n",
            "[CV] END classifier=DecisionTreeClassifier(random_state=20), classifier__class_weight=balanced, classifier__criterion=gini, classifier__max_depth=7; total time=   0.0s\n",
            "[CV] END classifier=DecisionTreeClassifier(random_state=20), classifier__class_weight=balanced, classifier__criterion=gini, classifier__max_depth=7; total time=   0.0s\n",
            "[CV] END classifier=DecisionTreeClassifier(random_state=20), classifier__class_weight=balanced, classifier__criterion=gini, classifier__max_depth=7; total time=   0.0s\n",
            "[CV] END classifier=DecisionTreeClassifier(random_state=20), classifier__class_weight=balanced, classifier__criterion=gini, classifier__max_depth=7; total time=   0.0s\n",
            "[CV] END classifier=DecisionTreeClassifier(random_state=20), classifier__class_weight=balanced, classifier__criterion=gini, classifier__max_depth=7; total time=   0.0s\n",
            "[CV] END classifier=DecisionTreeClassifier(random_state=20), classifier__class_weight=balanced, classifier__criterion=gini, classifier__max_depth=8; total time=   0.0s\n",
            "[CV] END classifier=DecisionTreeClassifier(random_state=20), classifier__class_weight=balanced, classifier__criterion=gini, classifier__max_depth=8; total time=   0.0s\n",
            "[CV] END classifier=DecisionTreeClassifier(random_state=20), classifier__class_weight=balanced, classifier__criterion=gini, classifier__max_depth=8; total time=   0.0s\n",
            "[CV] END classifier=DecisionTreeClassifier(random_state=20), classifier__class_weight=balanced, classifier__criterion=gini, classifier__max_depth=8; total time=   0.0s\n",
            "[CV] END classifier=DecisionTreeClassifier(random_state=20), classifier__class_weight=balanced, classifier__criterion=gini, classifier__max_depth=8; total time=   0.0s\n",
            "[CV] END classifier=DecisionTreeClassifier(random_state=20), classifier__class_weight=balanced, classifier__criterion=gini, classifier__max_depth=9; total time=   0.0s\n",
            "[CV] END classifier=DecisionTreeClassifier(random_state=20), classifier__class_weight=balanced, classifier__criterion=gini, classifier__max_depth=9; total time=   0.0s\n",
            "[CV] END classifier=DecisionTreeClassifier(random_state=20), classifier__class_weight=balanced, classifier__criterion=gini, classifier__max_depth=9; total time=   0.0s\n",
            "[CV] END classifier=DecisionTreeClassifier(random_state=20), classifier__class_weight=balanced, classifier__criterion=gini, classifier__max_depth=9; total time=   0.0s\n",
            "[CV] END classifier=DecisionTreeClassifier(random_state=20), classifier__class_weight=balanced, classifier__criterion=gini, classifier__max_depth=9; total time=   0.0s\n",
            "[CV] END classifier=DecisionTreeClassifier(random_state=20), classifier__class_weight=balanced, classifier__criterion=gini, classifier__max_depth=10; total time=   0.0s\n",
            "[CV] END classifier=DecisionTreeClassifier(random_state=20), classifier__class_weight=balanced, classifier__criterion=gini, classifier__max_depth=10; total time=   0.0s\n",
            "[CV] END classifier=DecisionTreeClassifier(random_state=20), classifier__class_weight=balanced, classifier__criterion=gini, classifier__max_depth=10; total time=   0.0s\n",
            "[CV] END classifier=DecisionTreeClassifier(random_state=20), classifier__class_weight=balanced, classifier__criterion=gini, classifier__max_depth=10; total time=   0.0s\n",
            "[CV] END classifier=DecisionTreeClassifier(random_state=20), classifier__class_weight=balanced, classifier__criterion=gini, classifier__max_depth=10; total time=   0.0s\n",
            "[CV] END classifier=DecisionTreeClassifier(random_state=20), classifier__class_weight=balanced, classifier__criterion=entropy, classifier__max_depth=2; total time=   0.0s\n",
            "[CV] END classifier=DecisionTreeClassifier(random_state=20), classifier__class_weight=balanced, classifier__criterion=entropy, classifier__max_depth=2; total time=   0.0s\n",
            "[CV] END classifier=DecisionTreeClassifier(random_state=20), classifier__class_weight=balanced, classifier__criterion=entropy, classifier__max_depth=2; total time=   0.0s\n",
            "[CV] END classifier=DecisionTreeClassifier(random_state=20), classifier__class_weight=balanced, classifier__criterion=entropy, classifier__max_depth=2; total time=   0.0s\n",
            "[CV] END classifier=DecisionTreeClassifier(random_state=20), classifier__class_weight=balanced, classifier__criterion=entropy, classifier__max_depth=2; total time=   0.0s\n",
            "[CV] END classifier=DecisionTreeClassifier(random_state=20), classifier__class_weight=balanced, classifier__criterion=entropy, classifier__max_depth=3; total time=   0.0s\n",
            "[CV] END classifier=DecisionTreeClassifier(random_state=20), classifier__class_weight=balanced, classifier__criterion=entropy, classifier__max_depth=3; total time=   0.0s\n",
            "[CV] END classifier=DecisionTreeClassifier(random_state=20), classifier__class_weight=balanced, classifier__criterion=entropy, classifier__max_depth=3; total time=   0.0s\n",
            "[CV] END classifier=DecisionTreeClassifier(random_state=20), classifier__class_weight=balanced, classifier__criterion=entropy, classifier__max_depth=3; total time=   0.0s\n",
            "[CV] END classifier=DecisionTreeClassifier(random_state=20), classifier__class_weight=balanced, classifier__criterion=entropy, classifier__max_depth=3; total time=   0.0s\n",
            "[CV] END classifier=DecisionTreeClassifier(random_state=20), classifier__class_weight=balanced, classifier__criterion=entropy, classifier__max_depth=4; total time=   0.0s\n",
            "[CV] END classifier=DecisionTreeClassifier(random_state=20), classifier__class_weight=balanced, classifier__criterion=entropy, classifier__max_depth=4; total time=   0.0s\n",
            "[CV] END classifier=DecisionTreeClassifier(random_state=20), classifier__class_weight=balanced, classifier__criterion=entropy, classifier__max_depth=4; total time=   0.0s\n",
            "[CV] END classifier=DecisionTreeClassifier(random_state=20), classifier__class_weight=balanced, classifier__criterion=entropy, classifier__max_depth=4; total time=   0.0s\n",
            "[CV] END classifier=DecisionTreeClassifier(random_state=20), classifier__class_weight=balanced, classifier__criterion=entropy, classifier__max_depth=4; total time=   0.0s\n",
            "[CV] END classifier=DecisionTreeClassifier(random_state=20), classifier__class_weight=balanced, classifier__criterion=entropy, classifier__max_depth=5; total time=   0.0s\n",
            "[CV] END classifier=DecisionTreeClassifier(random_state=20), classifier__class_weight=balanced, classifier__criterion=entropy, classifier__max_depth=5; total time=   0.0s\n",
            "[CV] END classifier=DecisionTreeClassifier(random_state=20), classifier__class_weight=balanced, classifier__criterion=entropy, classifier__max_depth=5; total time=   0.0s\n",
            "[CV] END classifier=DecisionTreeClassifier(random_state=20), classifier__class_weight=balanced, classifier__criterion=entropy, classifier__max_depth=5; total time=   0.0s\n",
            "[CV] END classifier=DecisionTreeClassifier(random_state=20), classifier__class_weight=balanced, classifier__criterion=entropy, classifier__max_depth=5; total time=   0.0s\n",
            "[CV] END classifier=DecisionTreeClassifier(random_state=20), classifier__class_weight=balanced, classifier__criterion=entropy, classifier__max_depth=6; total time=   0.0s\n",
            "[CV] END classifier=DecisionTreeClassifier(random_state=20), classifier__class_weight=balanced, classifier__criterion=entropy, classifier__max_depth=6; total time=   0.0s\n",
            "[CV] END classifier=DecisionTreeClassifier(random_state=20), classifier__class_weight=balanced, classifier__criterion=entropy, classifier__max_depth=6; total time=   0.0s\n",
            "[CV] END classifier=DecisionTreeClassifier(random_state=20), classifier__class_weight=balanced, classifier__criterion=entropy, classifier__max_depth=6; total time=   0.0s\n",
            "[CV] END classifier=DecisionTreeClassifier(random_state=20), classifier__class_weight=balanced, classifier__criterion=entropy, classifier__max_depth=6; total time=   0.0s\n",
            "[CV] END classifier=DecisionTreeClassifier(random_state=20), classifier__class_weight=balanced, classifier__criterion=entropy, classifier__max_depth=7; total time=   0.0s\n",
            "[CV] END classifier=DecisionTreeClassifier(random_state=20), classifier__class_weight=balanced, classifier__criterion=entropy, classifier__max_depth=7; total time=   0.0s\n",
            "[CV] END classifier=DecisionTreeClassifier(random_state=20), classifier__class_weight=balanced, classifier__criterion=entropy, classifier__max_depth=7; total time=   0.0s\n",
            "[CV] END classifier=DecisionTreeClassifier(random_state=20), classifier__class_weight=balanced, classifier__criterion=entropy, classifier__max_depth=7; total time=   0.0s\n",
            "[CV] END classifier=DecisionTreeClassifier(random_state=20), classifier__class_weight=balanced, classifier__criterion=entropy, classifier__max_depth=7; total time=   0.0s\n",
            "[CV] END classifier=DecisionTreeClassifier(random_state=20), classifier__class_weight=balanced, classifier__criterion=entropy, classifier__max_depth=8; total time=   0.0s\n",
            "[CV] END classifier=DecisionTreeClassifier(random_state=20), classifier__class_weight=balanced, classifier__criterion=entropy, classifier__max_depth=8; total time=   0.0s\n",
            "[CV] END classifier=DecisionTreeClassifier(random_state=20), classifier__class_weight=balanced, classifier__criterion=entropy, classifier__max_depth=8; total time=   0.0s\n",
            "[CV] END classifier=DecisionTreeClassifier(random_state=20), classifier__class_weight=balanced, classifier__criterion=entropy, classifier__max_depth=8; total time=   0.0s\n",
            "[CV] END classifier=DecisionTreeClassifier(random_state=20), classifier__class_weight=balanced, classifier__criterion=entropy, classifier__max_depth=8; total time=   0.0s\n",
            "[CV] END classifier=DecisionTreeClassifier(random_state=20), classifier__class_weight=balanced, classifier__criterion=entropy, classifier__max_depth=9; total time=   0.0s\n",
            "[CV] END classifier=DecisionTreeClassifier(random_state=20), classifier__class_weight=balanced, classifier__criterion=entropy, classifier__max_depth=9; total time=   0.0s\n",
            "[CV] END classifier=DecisionTreeClassifier(random_state=20), classifier__class_weight=balanced, classifier__criterion=entropy, classifier__max_depth=9; total time=   0.0s\n",
            "[CV] END classifier=DecisionTreeClassifier(random_state=20), classifier__class_weight=balanced, classifier__criterion=entropy, classifier__max_depth=9; total time=   0.0s\n",
            "[CV] END classifier=DecisionTreeClassifier(random_state=20), classifier__class_weight=balanced, classifier__criterion=entropy, classifier__max_depth=9; total time=   0.0s\n",
            "[CV] END classifier=DecisionTreeClassifier(random_state=20), classifier__class_weight=balanced, classifier__criterion=entropy, classifier__max_depth=10; total time=   0.0s\n",
            "[CV] END classifier=DecisionTreeClassifier(random_state=20), classifier__class_weight=balanced, classifier__criterion=entropy, classifier__max_depth=10; total time=   0.0s\n",
            "[CV] END classifier=DecisionTreeClassifier(random_state=20), classifier__class_weight=balanced, classifier__criterion=entropy, classifier__max_depth=10; total time=   0.0s\n",
            "[CV] END classifier=DecisionTreeClassifier(random_state=20), classifier__class_weight=balanced, classifier__criterion=entropy, classifier__max_depth=10; total time=   0.0s\n",
            "[CV] END classifier=DecisionTreeClassifier(random_state=20), classifier__class_weight=balanced, classifier__criterion=entropy, classifier__max_depth=10; total time=   0.0s\n",
            "[CV] END classifier=DecisionTreeClassifier(random_state=20), classifier__class_weight=None, classifier__criterion=gini, classifier__max_depth=2; total time=   0.0s\n",
            "[CV] END classifier=DecisionTreeClassifier(random_state=20), classifier__class_weight=None, classifier__criterion=gini, classifier__max_depth=2; total time=   0.0s\n",
            "[CV] END classifier=DecisionTreeClassifier(random_state=20), classifier__class_weight=None, classifier__criterion=gini, classifier__max_depth=2; total time=   0.0s\n",
            "[CV] END classifier=DecisionTreeClassifier(random_state=20), classifier__class_weight=None, classifier__criterion=gini, classifier__max_depth=2; total time=   0.0s\n",
            "[CV] END classifier=DecisionTreeClassifier(random_state=20), classifier__class_weight=None, classifier__criterion=gini, classifier__max_depth=2; total time=   0.0s\n",
            "[CV] END classifier=DecisionTreeClassifier(random_state=20), classifier__class_weight=None, classifier__criterion=gini, classifier__max_depth=3; total time=   0.0s\n",
            "[CV] END classifier=DecisionTreeClassifier(random_state=20), classifier__class_weight=None, classifier__criterion=gini, classifier__max_depth=3; total time=   0.0s\n",
            "[CV] END classifier=DecisionTreeClassifier(random_state=20), classifier__class_weight=None, classifier__criterion=gini, classifier__max_depth=3; total time=   0.0s\n",
            "[CV] END classifier=DecisionTreeClassifier(random_state=20), classifier__class_weight=None, classifier__criterion=gini, classifier__max_depth=3; total time=   0.0s\n",
            "[CV] END classifier=DecisionTreeClassifier(random_state=20), classifier__class_weight=None, classifier__criterion=gini, classifier__max_depth=3; total time=   0.0s\n",
            "[CV] END classifier=DecisionTreeClassifier(random_state=20), classifier__class_weight=None, classifier__criterion=gini, classifier__max_depth=4; total time=   0.0s\n",
            "[CV] END classifier=DecisionTreeClassifier(random_state=20), classifier__class_weight=None, classifier__criterion=gini, classifier__max_depth=4; total time=   0.0s\n",
            "[CV] END classifier=DecisionTreeClassifier(random_state=20), classifier__class_weight=None, classifier__criterion=gini, classifier__max_depth=4; total time=   0.0s\n",
            "[CV] END classifier=DecisionTreeClassifier(random_state=20), classifier__class_weight=None, classifier__criterion=gini, classifier__max_depth=4; total time=   0.0s\n",
            "[CV] END classifier=DecisionTreeClassifier(random_state=20), classifier__class_weight=None, classifier__criterion=gini, classifier__max_depth=4; total time=   0.0s\n",
            "[CV] END classifier=DecisionTreeClassifier(random_state=20), classifier__class_weight=None, classifier__criterion=gini, classifier__max_depth=5; total time=   0.0s\n",
            "[CV] END classifier=DecisionTreeClassifier(random_state=20), classifier__class_weight=None, classifier__criterion=gini, classifier__max_depth=5; total time=   0.0s\n",
            "[CV] END classifier=DecisionTreeClassifier(random_state=20), classifier__class_weight=None, classifier__criterion=gini, classifier__max_depth=5; total time=   0.0s\n",
            "[CV] END classifier=DecisionTreeClassifier(random_state=20), classifier__class_weight=None, classifier__criterion=gini, classifier__max_depth=5; total time=   0.0s\n",
            "[CV] END classifier=DecisionTreeClassifier(random_state=20), classifier__class_weight=None, classifier__criterion=gini, classifier__max_depth=5; total time=   0.0s\n",
            "[CV] END classifier=DecisionTreeClassifier(random_state=20), classifier__class_weight=None, classifier__criterion=gini, classifier__max_depth=6; total time=   0.0s\n",
            "[CV] END classifier=DecisionTreeClassifier(random_state=20), classifier__class_weight=None, classifier__criterion=gini, classifier__max_depth=6; total time=   0.0s\n",
            "[CV] END classifier=DecisionTreeClassifier(random_state=20), classifier__class_weight=None, classifier__criterion=gini, classifier__max_depth=6; total time=   0.0s\n",
            "[CV] END classifier=DecisionTreeClassifier(random_state=20), classifier__class_weight=None, classifier__criterion=gini, classifier__max_depth=6; total time=   0.0s\n",
            "[CV] END classifier=DecisionTreeClassifier(random_state=20), classifier__class_weight=None, classifier__criterion=gini, classifier__max_depth=6; total time=   0.0s\n",
            "[CV] END classifier=DecisionTreeClassifier(random_state=20), classifier__class_weight=None, classifier__criterion=gini, classifier__max_depth=7; total time=   0.0s\n",
            "[CV] END classifier=DecisionTreeClassifier(random_state=20), classifier__class_weight=None, classifier__criterion=gini, classifier__max_depth=7; total time=   0.0s\n",
            "[CV] END classifier=DecisionTreeClassifier(random_state=20), classifier__class_weight=None, classifier__criterion=gini, classifier__max_depth=7; total time=   0.0s\n",
            "[CV] END classifier=DecisionTreeClassifier(random_state=20), classifier__class_weight=None, classifier__criterion=gini, classifier__max_depth=7; total time=   0.0s\n",
            "[CV] END classifier=DecisionTreeClassifier(random_state=20), classifier__class_weight=None, classifier__criterion=gini, classifier__max_depth=7; total time=   0.0s\n",
            "[CV] END classifier=DecisionTreeClassifier(random_state=20), classifier__class_weight=None, classifier__criterion=gini, classifier__max_depth=8; total time=   0.0s\n",
            "[CV] END classifier=DecisionTreeClassifier(random_state=20), classifier__class_weight=None, classifier__criterion=gini, classifier__max_depth=8; total time=   0.0s\n",
            "[CV] END classifier=DecisionTreeClassifier(random_state=20), classifier__class_weight=None, classifier__criterion=gini, classifier__max_depth=8; total time=   0.0s\n",
            "[CV] END classifier=DecisionTreeClassifier(random_state=20), classifier__class_weight=None, classifier__criterion=gini, classifier__max_depth=8; total time=   0.0s\n",
            "[CV] END classifier=DecisionTreeClassifier(random_state=20), classifier__class_weight=None, classifier__criterion=gini, classifier__max_depth=8; total time=   0.0s\n",
            "[CV] END classifier=DecisionTreeClassifier(random_state=20), classifier__class_weight=None, classifier__criterion=gini, classifier__max_depth=9; total time=   0.0s\n",
            "[CV] END classifier=DecisionTreeClassifier(random_state=20), classifier__class_weight=None, classifier__criterion=gini, classifier__max_depth=9; total time=   0.0s\n",
            "[CV] END classifier=DecisionTreeClassifier(random_state=20), classifier__class_weight=None, classifier__criterion=gini, classifier__max_depth=9; total time=   0.0s\n",
            "[CV] END classifier=DecisionTreeClassifier(random_state=20), classifier__class_weight=None, classifier__criterion=gini, classifier__max_depth=9; total time=   0.0s\n",
            "[CV] END classifier=DecisionTreeClassifier(random_state=20), classifier__class_weight=None, classifier__criterion=gini, classifier__max_depth=9; total time=   0.0s\n",
            "[CV] END classifier=DecisionTreeClassifier(random_state=20), classifier__class_weight=None, classifier__criterion=gini, classifier__max_depth=10; total time=   0.0s\n",
            "[CV] END classifier=DecisionTreeClassifier(random_state=20), classifier__class_weight=None, classifier__criterion=gini, classifier__max_depth=10; total time=   0.0s\n",
            "[CV] END classifier=DecisionTreeClassifier(random_state=20), classifier__class_weight=None, classifier__criterion=gini, classifier__max_depth=10; total time=   0.0s\n",
            "[CV] END classifier=DecisionTreeClassifier(random_state=20), classifier__class_weight=None, classifier__criterion=gini, classifier__max_depth=10; total time=   0.0s\n",
            "[CV] END classifier=DecisionTreeClassifier(random_state=20), classifier__class_weight=None, classifier__criterion=gini, classifier__max_depth=10; total time=   0.0s\n",
            "[CV] END classifier=DecisionTreeClassifier(random_state=20), classifier__class_weight=None, classifier__criterion=entropy, classifier__max_depth=2; total time=   0.0s\n",
            "[CV] END classifier=DecisionTreeClassifier(random_state=20), classifier__class_weight=None, classifier__criterion=entropy, classifier__max_depth=2; total time=   0.0s\n",
            "[CV] END classifier=DecisionTreeClassifier(random_state=20), classifier__class_weight=None, classifier__criterion=entropy, classifier__max_depth=2; total time=   0.0s\n",
            "[CV] END classifier=DecisionTreeClassifier(random_state=20), classifier__class_weight=None, classifier__criterion=entropy, classifier__max_depth=2; total time=   0.0s\n",
            "[CV] END classifier=DecisionTreeClassifier(random_state=20), classifier__class_weight=None, classifier__criterion=entropy, classifier__max_depth=2; total time=   0.0s\n",
            "[CV] END classifier=DecisionTreeClassifier(random_state=20), classifier__class_weight=None, classifier__criterion=entropy, classifier__max_depth=3; total time=   0.0s\n",
            "[CV] END classifier=DecisionTreeClassifier(random_state=20), classifier__class_weight=None, classifier__criterion=entropy, classifier__max_depth=3; total time=   0.0s\n",
            "[CV] END classifier=DecisionTreeClassifier(random_state=20), classifier__class_weight=None, classifier__criterion=entropy, classifier__max_depth=3; total time=   0.0s\n",
            "[CV] END classifier=DecisionTreeClassifier(random_state=20), classifier__class_weight=None, classifier__criterion=entropy, classifier__max_depth=3; total time=   0.0s\n",
            "[CV] END classifier=DecisionTreeClassifier(random_state=20), classifier__class_weight=None, classifier__criterion=entropy, classifier__max_depth=3; total time=   0.0s\n",
            "[CV] END classifier=DecisionTreeClassifier(random_state=20), classifier__class_weight=None, classifier__criterion=entropy, classifier__max_depth=4; total time=   0.0s\n",
            "[CV] END classifier=DecisionTreeClassifier(random_state=20), classifier__class_weight=None, classifier__criterion=entropy, classifier__max_depth=4; total time=   0.0s\n",
            "[CV] END classifier=DecisionTreeClassifier(random_state=20), classifier__class_weight=None, classifier__criterion=entropy, classifier__max_depth=4; total time=   0.0s\n",
            "[CV] END classifier=DecisionTreeClassifier(random_state=20), classifier__class_weight=None, classifier__criterion=entropy, classifier__max_depth=4; total time=   0.0s\n",
            "[CV] END classifier=DecisionTreeClassifier(random_state=20), classifier__class_weight=None, classifier__criterion=entropy, classifier__max_depth=4; total time=   0.0s\n",
            "[CV] END classifier=DecisionTreeClassifier(random_state=20), classifier__class_weight=None, classifier__criterion=entropy, classifier__max_depth=5; total time=   0.0s\n",
            "[CV] END classifier=DecisionTreeClassifier(random_state=20), classifier__class_weight=None, classifier__criterion=entropy, classifier__max_depth=5; total time=   0.0s\n",
            "[CV] END classifier=DecisionTreeClassifier(random_state=20), classifier__class_weight=None, classifier__criterion=entropy, classifier__max_depth=5; total time=   0.0s\n",
            "[CV] END classifier=DecisionTreeClassifier(random_state=20), classifier__class_weight=None, classifier__criterion=entropy, classifier__max_depth=5; total time=   0.0s\n",
            "[CV] END classifier=DecisionTreeClassifier(random_state=20), classifier__class_weight=None, classifier__criterion=entropy, classifier__max_depth=5; total time=   0.0s\n",
            "[CV] END classifier=DecisionTreeClassifier(random_state=20), classifier__class_weight=None, classifier__criterion=entropy, classifier__max_depth=6; total time=   0.0s\n",
            "[CV] END classifier=DecisionTreeClassifier(random_state=20), classifier__class_weight=None, classifier__criterion=entropy, classifier__max_depth=6; total time=   0.0s\n",
            "[CV] END classifier=DecisionTreeClassifier(random_state=20), classifier__class_weight=None, classifier__criterion=entropy, classifier__max_depth=6; total time=   0.0s\n",
            "[CV] END classifier=DecisionTreeClassifier(random_state=20), classifier__class_weight=None, classifier__criterion=entropy, classifier__max_depth=6; total time=   0.0s\n",
            "[CV] END classifier=DecisionTreeClassifier(random_state=20), classifier__class_weight=None, classifier__criterion=entropy, classifier__max_depth=6; total time=   0.0s\n",
            "[CV] END classifier=DecisionTreeClassifier(random_state=20), classifier__class_weight=None, classifier__criterion=entropy, classifier__max_depth=7; total time=   0.0s\n",
            "[CV] END classifier=DecisionTreeClassifier(random_state=20), classifier__class_weight=None, classifier__criterion=entropy, classifier__max_depth=7; total time=   0.0s\n",
            "[CV] END classifier=DecisionTreeClassifier(random_state=20), classifier__class_weight=None, classifier__criterion=entropy, classifier__max_depth=7; total time=   0.0s\n",
            "[CV] END classifier=DecisionTreeClassifier(random_state=20), classifier__class_weight=None, classifier__criterion=entropy, classifier__max_depth=7; total time=   0.0s\n",
            "[CV] END classifier=DecisionTreeClassifier(random_state=20), classifier__class_weight=None, classifier__criterion=entropy, classifier__max_depth=7; total time=   0.0s\n",
            "[CV] END classifier=DecisionTreeClassifier(random_state=20), classifier__class_weight=None, classifier__criterion=entropy, classifier__max_depth=8; total time=   0.0s\n",
            "[CV] END classifier=DecisionTreeClassifier(random_state=20), classifier__class_weight=None, classifier__criterion=entropy, classifier__max_depth=8; total time=   0.0s\n",
            "[CV] END classifier=DecisionTreeClassifier(random_state=20), classifier__class_weight=None, classifier__criterion=entropy, classifier__max_depth=8; total time=   0.0s\n",
            "[CV] END classifier=DecisionTreeClassifier(random_state=20), classifier__class_weight=None, classifier__criterion=entropy, classifier__max_depth=8; total time=   0.0s\n",
            "[CV] END classifier=DecisionTreeClassifier(random_state=20), classifier__class_weight=None, classifier__criterion=entropy, classifier__max_depth=8; total time=   0.0s\n",
            "[CV] END classifier=DecisionTreeClassifier(random_state=20), classifier__class_weight=None, classifier__criterion=entropy, classifier__max_depth=9; total time=   0.0s\n",
            "[CV] END classifier=DecisionTreeClassifier(random_state=20), classifier__class_weight=None, classifier__criterion=entropy, classifier__max_depth=9; total time=   0.0s\n",
            "[CV] END classifier=DecisionTreeClassifier(random_state=20), classifier__class_weight=None, classifier__criterion=entropy, classifier__max_depth=9; total time=   0.0s\n",
            "[CV] END classifier=DecisionTreeClassifier(random_state=20), classifier__class_weight=None, classifier__criterion=entropy, classifier__max_depth=9; total time=   0.0s\n",
            "[CV] END classifier=DecisionTreeClassifier(random_state=20), classifier__class_weight=None, classifier__criterion=entropy, classifier__max_depth=9; total time=   0.0s\n",
            "[CV] END classifier=DecisionTreeClassifier(random_state=20), classifier__class_weight=None, classifier__criterion=entropy, classifier__max_depth=10; total time=   0.0s\n",
            "[CV] END classifier=DecisionTreeClassifier(random_state=20), classifier__class_weight=None, classifier__criterion=entropy, classifier__max_depth=10; total time=   0.0s\n",
            "[CV] END classifier=DecisionTreeClassifier(random_state=20), classifier__class_weight=None, classifier__criterion=entropy, classifier__max_depth=10; total time=   0.0s\n",
            "[CV] END classifier=DecisionTreeClassifier(random_state=20), classifier__class_weight=None, classifier__criterion=entropy, classifier__max_depth=10; total time=   0.0s\n",
            "[CV] END classifier=DecisionTreeClassifier(random_state=20), classifier__class_weight=None, classifier__criterion=entropy, classifier__max_depth=10; total time=   0.0s\n"
          ]
        },
        {
          "output_type": "execute_result",
          "data": {
            "text/plain": [
              "GridSearchCV(cv=5,\n",
              "             estimator=Pipeline(steps=[('poly', 'passthrough'),\n",
              "                                       ('normalizer', StandardScaler()),\n",
              "                                       ('classifier',\n",
              "                                        LogisticRegression(multi_class='multinomial'))]),\n",
              "             n_jobs=1,\n",
              "             param_grid=[{'classifier': [DecisionTreeClassifier(class_weight='balanced',\n",
              "                                                                max_depth=5,\n",
              "                                                                random_state=20)],\n",
              "                          'classifier__class_weight': ['balanced', None],\n",
              "                          'classifier__criterion': ['gini', 'entropy'],\n",
              "                          'classifier__max_depth': [2, 3, 4, 5, 6, 7, 8, 9,\n",
              "                                                    10]}],\n",
              "             refit='f1', return_train_score=True,\n",
              "             scoring=['precision', 'recall', 'f1'], verbose=2)"
            ]
          },
          "metadata": {},
          "execution_count": 49
        }
      ]
    },
    {
      "cell_type": "markdown",
      "source": [
        "Parámetros resultantes:"
      ],
      "metadata": {
        "id": "grleJ344nD4V"
      }
    },
    {
      "cell_type": "code",
      "source": [
        "grid3.best_params_"
      ],
      "metadata": {
        "colab": {
          "base_uri": "https://localhost:8080/"
        },
        "id": "uyJKSsaynFr-",
        "outputId": "5e1af2ea-4a18-4603-bd65-7154ecd1905d"
      },
      "execution_count": null,
      "outputs": [
        {
          "output_type": "execute_result",
          "data": {
            "text/plain": [
              "{'classifier': DecisionTreeClassifier(class_weight='balanced', max_depth=5, random_state=20),\n",
              " 'classifier__class_weight': 'balanced',\n",
              " 'classifier__criterion': 'gini',\n",
              " 'classifier__max_depth': 5}"
            ]
          },
          "metadata": {},
          "execution_count": 50
        }
      ]
    },
    {
      "cell_type": "markdown",
      "source": [
        "Predicciones usando el mejor modelo:"
      ],
      "metadata": {
        "id": "-qYdeMOJnL0D"
      }
    },
    {
      "cell_type": "code",
      "source": [
        "train_val_preds = grid3.best_estimator_.predict(X_train)\n",
        "test_preds = grid3.best_estimator_.predict(X_test)"
      ],
      "metadata": {
        "id": "a91k7X9enMNQ"
      },
      "execution_count": null,
      "outputs": []
    },
    {
      "cell_type": "markdown",
      "source": [
        "Matriz de confusión:"
      ],
      "metadata": {
        "id": "qMBN4gmZnPQS"
      }
    },
    {
      "cell_type": "code",
      "source": [
        "fig, axes = plt.subplots(1, 2, figsize = (10, 4))\n",
        "\n",
        "train_val_cm = confusion_matrix(Y_train, train_val_preds,\n",
        "                                labels = grid3.best_estimator_.classes_,\n",
        "                                normalize = 'true')\n",
        "train_val_disp = ConfusionMatrixDisplay(confusion_matrix = train_val_cm,\n",
        "                                        display_labels = grid3.best_estimator_.classes_)\n",
        "train_val_disp.plot(ax = axes[0])\n",
        "axes[0].set_title('Entrenamiento/Validación')\n",
        "axes[0].set_ylabel('Etiquetas observadas')\n",
        "axes[0].set_xlabel('Etiquetas predichas')\n",
        "\n",
        "test_cm = confusion_matrix(Y_test, test_preds,\n",
        "                           labels = grid3.best_estimator_.classes_,\n",
        "                           normalize = 'true')\n",
        "test_disp = ConfusionMatrixDisplay(confusion_matrix = test_cm,\n",
        "                                   display_labels = grid3.best_estimator_.classes_)\n",
        "test_disp.plot(ax = axes[1])\n",
        "axes[1].set_title('Prueba')\n",
        "axes[1].set_ylabel('Etiquetas observadas')\n",
        "axes[1].set_xlabel('Etiquetas predichas')\n",
        "\n",
        "plt.show()"
      ],
      "metadata": {
        "colab": {
          "base_uri": "https://localhost:8080/",
          "height": 281
        },
        "id": "JW6xXzDXnRWK",
        "outputId": "247ab747-68a9-4d42-8e59-f328131abf59"
      },
      "execution_count": null,
      "outputs": [
        {
          "output_type": "display_data",
          "data": {
            "text/plain": [
              "<Figure size 720x288 with 4 Axes>"
            ],
            "image/png": "[encoded data removed]"
          },
          "metadata": {
            "needs_background": "light"
          }
        }
      ]
    },
    {
      "cell_type": "markdown",
      "source": [
        "Métricas:"
      ],
      "metadata": {
        "id": "5TIklmzBo7lz"
      }
    },
    {
      "cell_type": "code",
      "source": [
        "print(f'Precisión:')\n",
        "print(f\"- Entrenamiento/Validación: {precision_score(Y_train, train_val_preds,average='weighted'):.2f}\")\n",
        "print(f\"- Prueba: {precision_score(Y_test, test_preds,average='weighted'):.2f}\")\n",
        "print(f'Sensibilidad (recall):')\n",
        "print(f\"- Entrenamiento/Validación: {recall_score(Y_train, train_val_preds,average='weighted'):.2f}\")\n",
        "print(f\"- Prueba: {recall_score(Y_test, test_preds,average='weighted'):.2f}\")\n",
        "print(f'F1:')\n",
        "print(f\"- Entrenamiento/Validación: {f1_score(Y_train, train_val_preds,average='weighted'):.2f}\")\n",
        "print(f\"- Prueba: {f1_score(Y_test, test_preds,average='weighted'):.2f}\")"
      ],
      "metadata": {
        "colab": {
          "base_uri": "https://localhost:8080/"
        },
        "id": "drFeOG6mo82A",
        "outputId": "03180a9d-ad55-4810-9a30-4e94d320df0c"
      },
      "execution_count": null,
      "outputs": [
        {
          "output_type": "stream",
          "name": "stdout",
          "text": [
            "Precisión:\n",
            "- Entrenamiento/Validación: 0.93\n",
            "- Prueba: 0.84\n",
            "Sensibilidad (recall):\n",
            "- Entrenamiento/Validación: 0.93\n",
            "- Prueba: 0.83\n",
            "F1:\n",
            "- Entrenamiento/Validación: 0.93\n",
            "- Prueba: 0.83\n"
          ]
        }
      ]
    },
    {
      "cell_type": "markdown",
      "source": [
        "Con este modelo parece haber sobreajuste, ya que las métricas de entrenamiento son superiores a las de prueba en 0.5, aproximadamente."
      ],
      "metadata": {
        "id": "rh8prDUSUv3A"
      }
    },
    {
      "cell_type": "markdown",
      "source": [
        "## 2.4) Bosques aleatorios\n",
        "\n",
        "Pipeline para escoger el mejor modelo:"
      ],
      "metadata": {
        "id": "yPZqdH8RpAnS"
      }
    },
    {
      "cell_type": "code",
      "source": [
        "param_grid4 = [\n",
        "    {\n",
        "        'classifier': [RandomForestClassifier(random_state = 20)],\n",
        "        'classifier__n_estimators': [130,190,400], \n",
        "        'classifier__max_features': ['sqrt','log2'], \n",
        "        'classifier__max_depth': [15,20,25],\n",
        "        'classifier__criterion': ['gini', 'entropy'],\n",
        "        'classifier__min_samples_leaf' : [1,3,5],\n",
        "    }\n",
        "]"
      ],
      "metadata": {
        "id": "dgMyzfkDrohY"
      },
      "execution_count": null,
      "outputs": []
    },
    {
      "cell_type": "markdown",
      "source": [
        "Función para búsqueda del mejor modelo:"
      ],
      "metadata": {
        "id": "WDAiVrhfr1vA"
      }
    },
    {
      "cell_type": "code",
      "source": [
        "grid4 = GridSearchCV(estimator = pipeline, param_grid = param_grid4,\n",
        "                     scoring = ['precision', 'recall', 'f1'], n_jobs = 1,\n",
        "                     refit = 'f1', cv = 5, return_train_score = True,\n",
        "                     verbose = 2)"
      ],
      "metadata": {
        "id": "A4s5YeN0rq2n"
      },
      "execution_count": null,
      "outputs": []
    },
    {
      "cell_type": "markdown",
      "source": [
        "Búsqueda del mejor modelo:"
      ],
      "metadata": {
        "id": "MVFnEsrOr3-8"
      }
    },
    {
      "cell_type": "code",
      "source": [
        "grid4.fit(X_train, Y_train)"
      ],
      "metadata": {
        "colab": {
          "base_uri": "https://localhost:8080/"
        },
        "id": "IQbERrYkrwqY",
        "outputId": "7ad7c134-05a6-4ca8-b426-d21f850537d4"
      },
      "execution_count": null,
      "outputs": [
        {
          "output_type": "stream",
          "name": "stdout",
          "text": [
            "Fitting 5 folds for each of 108 candidates, totalling 540 fits\n",
            "[CV] END classifier=RandomForestClassifier(random_state=20), classifier__criterion=gini, classifier__max_depth=15, classifier__max_features=sqrt, classifier__min_samples_leaf=1, classifier__n_estimators=130; total time=   0.2s\n",
            "[CV] END classifier=RandomForestClassifier(random_state=20), classifier__criterion=gini, classifier__max_depth=15, classifier__max_features=sqrt, classifier__min_samples_leaf=1, classifier__n_estimators=130; total time=   0.2s\n",
            "[CV] END classifier=RandomForestClassifier(random_state=20), classifier__criterion=gini, classifier__max_depth=15, classifier__max_features=sqrt, classifier__min_samples_leaf=1, classifier__n_estimators=130; total time=   0.2s\n",
            "[CV] END classifier=RandomForestClassifier(random_state=20), classifier__criterion=gini, classifier__max_depth=15, classifier__max_features=sqrt, classifier__min_samples_leaf=1, classifier__n_estimators=130; total time=   0.2s\n",
            "[CV] END classifier=RandomForestClassifier(random_state=20), classifier__criterion=gini, classifier__max_depth=15, classifier__max_features=sqrt, classifier__min_samples_leaf=1, classifier__n_estimators=130; total time=   0.2s\n",
            "[CV] END classifier=RandomForestClassifier(random_state=20), classifier__criterion=gini, classifier__max_depth=15, classifier__max_features=sqrt, classifier__min_samples_leaf=1, classifier__n_estimators=190; total time=   0.3s\n",
            "[CV] END classifier=RandomForestClassifier(random_state=20), classifier__criterion=gini, classifier__max_depth=15, classifier__max_features=sqrt, classifier__min_samples_leaf=1, classifier__n_estimators=190; total time=   0.3s\n",
            "[CV] END classifier=RandomForestClassifier(random_state=20), classifier__criterion=gini, classifier__max_depth=15, classifier__max_features=sqrt, classifier__min_samples_leaf=1, classifier__n_estimators=190; total time=   0.3s\n",
            "[CV] END classifier=RandomForestClassifier(random_state=20), classifier__criterion=gini, classifier__max_depth=15, classifier__max_features=sqrt, classifier__min_samples_leaf=1, classifier__n_estimators=190; total time=   0.3s\n",
            "[CV] END classifier=RandomForestClassifier(random_state=20), classifier__criterion=gini, classifier__max_depth=15, classifier__max_features=sqrt, classifier__min_samples_leaf=1, classifier__n_estimators=190; total time=   0.3s\n",
            "[CV] END classifier=RandomForestClassifier(random_state=20), classifier__criterion=gini, classifier__max_depth=15, classifier__max_features=sqrt, classifier__min_samples_leaf=1, classifier__n_estimators=400; total time=   0.6s\n",
            "[CV] END classifier=RandomForestClassifier(random_state=20), classifier__criterion=gini, classifier__max_depth=15, classifier__max_features=sqrt, classifier__min_samples_leaf=1, classifier__n_estimators=400; total time=   1.2s\n",
            "[CV] END classifier=RandomForestClassifier(random_state=20), classifier__criterion=gini, classifier__max_depth=15, classifier__max_features=sqrt, classifier__min_samples_leaf=1, classifier__n_estimators=400; total time=   1.1s\n",
            "[CV] END classifier=RandomForestClassifier(random_state=20), classifier__criterion=gini, classifier__max_depth=15, classifier__max_features=sqrt, classifier__min_samples_leaf=1, classifier__n_estimators=400; total time=   0.6s\n",
            "[CV] END classifier=RandomForestClassifier(random_state=20), classifier__criterion=gini, classifier__max_depth=15, classifier__max_features=sqrt, classifier__min_samples_leaf=1, classifier__n_estimators=400; total time=   0.6s\n",
            "[CV] END classifier=RandomForestClassifier(random_state=20), classifier__criterion=gini, classifier__max_depth=15, classifier__max_features=sqrt, classifier__min_samples_leaf=3, classifier__n_estimators=130; total time=   0.2s\n",
            "[CV] END classifier=RandomForestClassifier(random_state=20), classifier__criterion=gini, classifier__max_depth=15, classifier__max_features=sqrt, classifier__min_samples_leaf=3, classifier__n_estimators=130; total time=   0.2s\n",
            "[CV] END classifier=RandomForestClassifier(random_state=20), classifier__criterion=gini, classifier__max_depth=15, classifier__max_features=sqrt, classifier__min_samples_leaf=3, classifier__n_estimators=130; total time=   0.2s\n",
            "[CV] END classifier=RandomForestClassifier(random_state=20), classifier__criterion=gini, classifier__max_depth=15, classifier__max_features=sqrt, classifier__min_samples_leaf=3, classifier__n_estimators=130; total time=   0.2s\n",
            "[CV] END classifier=RandomForestClassifier(random_state=20), classifier__criterion=gini, classifier__max_depth=15, classifier__max_features=sqrt, classifier__min_samples_leaf=3, classifier__n_estimators=130; total time=   0.2s\n",
            "[CV] END classifier=RandomForestClassifier(random_state=20), classifier__criterion=gini, classifier__max_depth=15, classifier__max_features=sqrt, classifier__min_samples_leaf=3, classifier__n_estimators=190; total time=   0.3s\n",
            "[CV] END classifier=RandomForestClassifier(random_state=20), classifier__criterion=gini, classifier__max_depth=15, classifier__max_features=sqrt, classifier__min_samples_leaf=3, classifier__n_estimators=190; total time=   0.3s\n",
            "[CV] END classifier=RandomForestClassifier(random_state=20), classifier__criterion=gini, classifier__max_depth=15, classifier__max_features=sqrt, classifier__min_samples_leaf=3, classifier__n_estimators=190; total time=   0.3s\n",
            "[CV] END classifier=RandomForestClassifier(random_state=20), classifier__criterion=gini, classifier__max_depth=15, classifier__max_features=sqrt, classifier__min_samples_leaf=3, classifier__n_estimators=190; total time=   0.3s\n",
            "[CV] END classifier=RandomForestClassifier(random_state=20), classifier__criterion=gini, classifier__max_depth=15, classifier__max_features=sqrt, classifier__min_samples_leaf=3, classifier__n_estimators=190; total time=   0.3s\n",
            "[CV] END classifier=RandomForestClassifier(random_state=20), classifier__criterion=gini, classifier__max_depth=15, classifier__max_features=sqrt, classifier__min_samples_leaf=3, classifier__n_estimators=400; total time=   0.6s\n",
            "[CV] END classifier=RandomForestClassifier(random_state=20), classifier__criterion=gini, classifier__max_depth=15, classifier__max_features=sqrt, classifier__min_samples_leaf=3, classifier__n_estimators=400; total time=   0.6s\n",
            "[CV] END classifier=RandomForestClassifier(random_state=20), classifier__criterion=gini, classifier__max_depth=15, classifier__max_features=sqrt, classifier__min_samples_leaf=3, classifier__n_estimators=400; total time=   0.6s\n",
            "[CV] END classifier=RandomForestClassifier(random_state=20), classifier__criterion=gini, classifier__max_depth=15, classifier__max_features=sqrt, classifier__min_samples_leaf=3, classifier__n_estimators=400; total time=   0.6s\n",
            "[CV] END classifier=RandomForestClassifier(random_state=20), classifier__criterion=gini, classifier__max_depth=15, classifier__max_features=sqrt, classifier__min_samples_leaf=3, classifier__n_estimators=400; total time=   0.6s\n",
            "[CV] END classifier=RandomForestClassifier(random_state=20), classifier__criterion=gini, classifier__max_depth=15, classifier__max_features=sqrt, classifier__min_samples_leaf=5, classifier__n_estimators=130; total time=   0.2s\n",
            "[CV] END classifier=RandomForestClassifier(random_state=20), classifier__criterion=gini, classifier__max_depth=15, classifier__max_features=sqrt, classifier__min_samples_leaf=5, classifier__n_estimators=130; total time=   0.2s\n",
            "[CV] END classifier=RandomForestClassifier(random_state=20), classifier__criterion=gini, classifier__max_depth=15, classifier__max_features=sqrt, classifier__min_samples_leaf=5, classifier__n_estimators=130; total time=   0.3s\n",
            "[CV] END classifier=RandomForestClassifier(random_state=20), classifier__criterion=gini, classifier__max_depth=15, classifier__max_features=sqrt, classifier__min_samples_leaf=5, classifier__n_estimators=130; total time=   0.4s\n",
            "[CV] END classifier=RandomForestClassifier(random_state=20), classifier__criterion=gini, classifier__max_depth=15, classifier__max_features=sqrt, classifier__min_samples_leaf=5, classifier__n_estimators=130; total time=   0.4s\n",
            "[CV] END classifier=RandomForestClassifier(random_state=20), classifier__criterion=gini, classifier__max_depth=15, classifier__max_features=sqrt, classifier__min_samples_leaf=5, classifier__n_estimators=190; total time=   0.5s\n",
            "[CV] END classifier=RandomForestClassifier(random_state=20), classifier__criterion=gini, classifier__max_depth=15, classifier__max_features=sqrt, classifier__min_samples_leaf=5, classifier__n_estimators=190; total time=   0.5s\n",
            "[CV] END classifier=RandomForestClassifier(random_state=20), classifier__criterion=gini, classifier__max_depth=15, classifier__max_features=sqrt, classifier__min_samples_leaf=5, classifier__n_estimators=190; total time=   0.5s\n",
            "[CV] END classifier=RandomForestClassifier(random_state=20), classifier__criterion=gini, classifier__max_depth=15, classifier__max_features=sqrt, classifier__min_samples_leaf=5, classifier__n_estimators=190; total time=   0.5s\n",
            "[CV] END classifier=RandomForestClassifier(random_state=20), classifier__criterion=gini, classifier__max_depth=15, classifier__max_features=sqrt, classifier__min_samples_leaf=5, classifier__n_estimators=190; total time=   0.4s\n",
            "[CV] END classifier=RandomForestClassifier(random_state=20), classifier__criterion=gini, classifier__max_depth=15, classifier__max_features=sqrt, classifier__min_samples_leaf=5, classifier__n_estimators=400; total time=   0.9s\n",
            "[CV] END classifier=RandomForestClassifier(random_state=20), classifier__criterion=gini, classifier__max_depth=15, classifier__max_features=sqrt, classifier__min_samples_leaf=5, classifier__n_estimators=400; total time=   0.9s\n",
            "[CV] END classifier=RandomForestClassifier(random_state=20), classifier__criterion=gini, classifier__max_depth=15, classifier__max_features=sqrt, classifier__min_samples_leaf=5, classifier__n_estimators=400; total time=   0.7s\n",
            "[CV] END classifier=RandomForestClassifier(random_state=20), classifier__criterion=gini, classifier__max_depth=15, classifier__max_features=sqrt, classifier__min_samples_leaf=5, classifier__n_estimators=400; total time=   0.6s\n",
            "[CV] END classifier=RandomForestClassifier(random_state=20), classifier__criterion=gini, classifier__max_depth=15, classifier__max_features=sqrt, classifier__min_samples_leaf=5, classifier__n_estimators=400; total time=   0.6s\n",
            "[CV] END classifier=RandomForestClassifier(random_state=20), classifier__criterion=gini, classifier__max_depth=15, classifier__max_features=log2, classifier__min_samples_leaf=1, classifier__n_estimators=130; total time=   0.2s\n",
            "[CV] END classifier=RandomForestClassifier(random_state=20), classifier__criterion=gini, classifier__max_depth=15, classifier__max_features=log2, classifier__min_samples_leaf=1, classifier__n_estimators=130; total time=   0.2s\n",
            "[CV] END classifier=RandomForestClassifier(random_state=20), classifier__criterion=gini, classifier__max_depth=15, classifier__max_features=log2, classifier__min_samples_leaf=1, classifier__n_estimators=130; total time=   0.2s\n",
            "[CV] END classifier=RandomForestClassifier(random_state=20), classifier__criterion=gini, classifier__max_depth=15, classifier__max_features=log2, classifier__min_samples_leaf=1, classifier__n_estimators=130; total time=   0.2s\n",
            "[CV] END classifier=RandomForestClassifier(random_state=20), classifier__criterion=gini, classifier__max_depth=15, classifier__max_features=log2, classifier__min_samples_leaf=1, classifier__n_estimators=130; total time=   0.2s\n",
            "[CV] END classifier=RandomForestClassifier(random_state=20), classifier__criterion=gini, classifier__max_depth=15, classifier__max_features=log2, classifier__min_samples_leaf=1, classifier__n_estimators=190; total time=   0.3s\n",
            "[CV] END classifier=RandomForestClassifier(random_state=20), classifier__criterion=gini, classifier__max_depth=15, classifier__max_features=log2, classifier__min_samples_leaf=1, classifier__n_estimators=190; total time=   0.3s\n",
            "[CV] END classifier=RandomForestClassifier(random_state=20), classifier__criterion=gini, classifier__max_depth=15, classifier__max_features=log2, classifier__min_samples_leaf=1, classifier__n_estimators=190; total time=   0.3s\n",
            "[CV] END classifier=RandomForestClassifier(random_state=20), classifier__criterion=gini, classifier__max_depth=15, classifier__max_features=log2, classifier__min_samples_leaf=1, classifier__n_estimators=190; total time=   0.3s\n",
            "[CV] END classifier=RandomForestClassifier(random_state=20), classifier__criterion=gini, classifier__max_depth=15, classifier__max_features=log2, classifier__min_samples_leaf=1, classifier__n_estimators=190; total time=   0.3s\n",
            "[CV] END classifier=RandomForestClassifier(random_state=20), classifier__criterion=gini, classifier__max_depth=15, classifier__max_features=log2, classifier__min_samples_leaf=1, classifier__n_estimators=400; total time=   0.6s\n",
            "[CV] END classifier=RandomForestClassifier(random_state=20), classifier__criterion=gini, classifier__max_depth=15, classifier__max_features=log2, classifier__min_samples_leaf=1, classifier__n_estimators=400; total time=   0.6s\n",
            "[CV] END classifier=RandomForestClassifier(random_state=20), classifier__criterion=gini, classifier__max_depth=15, classifier__max_features=log2, classifier__min_samples_leaf=1, classifier__n_estimators=400; total time=   0.6s\n",
            "[CV] END classifier=RandomForestClassifier(random_state=20), classifier__criterion=gini, classifier__max_depth=15, classifier__max_features=log2, classifier__min_samples_leaf=1, classifier__n_estimators=400; total time=   0.9s\n",
            "[CV] END classifier=RandomForestClassifier(random_state=20), classifier__criterion=gini, classifier__max_depth=15, classifier__max_features=log2, classifier__min_samples_leaf=1, classifier__n_estimators=400; total time=   0.7s\n",
            "[CV] END classifier=RandomForestClassifier(random_state=20), classifier__criterion=gini, classifier__max_depth=15, classifier__max_features=log2, classifier__min_samples_leaf=3, classifier__n_estimators=130; total time=   0.2s\n",
            "[CV] END classifier=RandomForestClassifier(random_state=20), classifier__criterion=gini, classifier__max_depth=15, classifier__max_features=log2, classifier__min_samples_leaf=3, classifier__n_estimators=130; total time=   0.2s\n",
            "[CV] END classifier=RandomForestClassifier(random_state=20), classifier__criterion=gini, classifier__max_depth=15, classifier__max_features=log2, classifier__min_samples_leaf=3, classifier__n_estimators=130; total time=   0.2s\n",
            "[CV] END classifier=RandomForestClassifier(random_state=20), classifier__criterion=gini, classifier__max_depth=15, classifier__max_features=log2, classifier__min_samples_leaf=3, classifier__n_estimators=130; total time=   0.2s\n",
            "[CV] END classifier=RandomForestClassifier(random_state=20), classifier__criterion=gini, classifier__max_depth=15, classifier__max_features=log2, classifier__min_samples_leaf=3, classifier__n_estimators=130; total time=   0.2s\n",
            "[CV] END classifier=RandomForestClassifier(random_state=20), classifier__criterion=gini, classifier__max_depth=15, classifier__max_features=log2, classifier__min_samples_leaf=3, classifier__n_estimators=190; total time=   0.3s\n",
            "[CV] END classifier=RandomForestClassifier(random_state=20), classifier__criterion=gini, classifier__max_depth=15, classifier__max_features=log2, classifier__min_samples_leaf=3, classifier__n_estimators=190; total time=   0.3s\n",
            "[CV] END classifier=RandomForestClassifier(random_state=20), classifier__criterion=gini, classifier__max_depth=15, classifier__max_features=log2, classifier__min_samples_leaf=3, classifier__n_estimators=190; total time=   0.3s\n",
            "[CV] END classifier=RandomForestClassifier(random_state=20), classifier__criterion=gini, classifier__max_depth=15, classifier__max_features=log2, classifier__min_samples_leaf=3, classifier__n_estimators=190; total time=   0.3s\n",
            "[CV] END classifier=RandomForestClassifier(random_state=20), classifier__criterion=gini, classifier__max_depth=15, classifier__max_features=log2, classifier__min_samples_leaf=3, classifier__n_estimators=190; total time=   0.3s\n",
            "[CV] END classifier=RandomForestClassifier(random_state=20), classifier__criterion=gini, classifier__max_depth=15, classifier__max_features=log2, classifier__min_samples_leaf=3, classifier__n_estimators=400; total time=   0.6s\n",
            "[CV] END classifier=RandomForestClassifier(random_state=20), classifier__criterion=gini, classifier__max_depth=15, classifier__max_features=log2, classifier__min_samples_leaf=3, classifier__n_estimators=400; total time=   0.6s\n",
            "[CV] END classifier=RandomForestClassifier(random_state=20), classifier__criterion=gini, classifier__max_depth=15, classifier__max_features=log2, classifier__min_samples_leaf=3, classifier__n_estimators=400; total time=   0.6s\n",
            "[CV] END classifier=RandomForestClassifier(random_state=20), classifier__criterion=gini, classifier__max_depth=15, classifier__max_features=log2, classifier__min_samples_leaf=3, classifier__n_estimators=400; total time=   0.6s\n",
            "[CV] END classifier=RandomForestClassifier(random_state=20), classifier__criterion=gini, classifier__max_depth=15, classifier__max_features=log2, classifier__min_samples_leaf=3, classifier__n_estimators=400; total time=   0.6s\n",
            "[CV] END classifier=RandomForestClassifier(random_state=20), classifier__criterion=gini, classifier__max_depth=15, classifier__max_features=log2, classifier__min_samples_leaf=5, classifier__n_estimators=130; total time=   0.2s\n",
            "[CV] END classifier=RandomForestClassifier(random_state=20), classifier__criterion=gini, classifier__max_depth=15, classifier__max_features=log2, classifier__min_samples_leaf=5, classifier__n_estimators=130; total time=   0.2s\n",
            "[CV] END classifier=RandomForestClassifier(random_state=20), classifier__criterion=gini, classifier__max_depth=15, classifier__max_features=log2, classifier__min_samples_leaf=5, classifier__n_estimators=130; total time=   0.2s\n",
            "[CV] END classifier=RandomForestClassifier(random_state=20), classifier__criterion=gini, classifier__max_depth=15, classifier__max_features=log2, classifier__min_samples_leaf=5, classifier__n_estimators=130; total time=   0.2s\n",
            "[CV] END classifier=RandomForestClassifier(random_state=20), classifier__criterion=gini, classifier__max_depth=15, classifier__max_features=log2, classifier__min_samples_leaf=5, classifier__n_estimators=130; total time=   0.2s\n",
            "[CV] END classifier=RandomForestClassifier(random_state=20), classifier__criterion=gini, classifier__max_depth=15, classifier__max_features=log2, classifier__min_samples_leaf=5, classifier__n_estimators=190; total time=   0.3s\n",
            "[CV] END classifier=RandomForestClassifier(random_state=20), classifier__criterion=gini, classifier__max_depth=15, classifier__max_features=log2, classifier__min_samples_leaf=5, classifier__n_estimators=190; total time=   0.3s\n",
            "[CV] END classifier=RandomForestClassifier(random_state=20), classifier__criterion=gini, classifier__max_depth=15, classifier__max_features=log2, classifier__min_samples_leaf=5, classifier__n_estimators=190; total time=   0.3s\n",
            "[CV] END classifier=RandomForestClassifier(random_state=20), classifier__criterion=gini, classifier__max_depth=15, classifier__max_features=log2, classifier__min_samples_leaf=5, classifier__n_estimators=190; total time=   0.4s\n",
            "[CV] END classifier=RandomForestClassifier(random_state=20), classifier__criterion=gini, classifier__max_depth=15, classifier__max_features=log2, classifier__min_samples_leaf=5, classifier__n_estimators=190; total time=   0.4s\n",
            "[CV] END classifier=RandomForestClassifier(random_state=20), classifier__criterion=gini, classifier__max_depth=15, classifier__max_features=log2, classifier__min_samples_leaf=5, classifier__n_estimators=400; total time=   0.9s\n",
            "[CV] END classifier=RandomForestClassifier(random_state=20), classifier__criterion=gini, classifier__max_depth=15, classifier__max_features=log2, classifier__min_samples_leaf=5, classifier__n_estimators=400; total time=   0.9s\n",
            "[CV] END classifier=RandomForestClassifier(random_state=20), classifier__criterion=gini, classifier__max_depth=15, classifier__max_features=log2, classifier__min_samples_leaf=5, classifier__n_estimators=400; total time=   0.6s\n",
            "[CV] END classifier=RandomForestClassifier(random_state=20), classifier__criterion=gini, classifier__max_depth=15, classifier__max_features=log2, classifier__min_samples_leaf=5, classifier__n_estimators=400; total time=   0.6s\n",
            "[CV] END classifier=RandomForestClassifier(random_state=20), classifier__criterion=gini, classifier__max_depth=15, classifier__max_features=log2, classifier__min_samples_leaf=5, classifier__n_estimators=400; total time=   0.6s\n",
            "[CV] END classifier=RandomForestClassifier(random_state=20), classifier__criterion=gini, classifier__max_depth=20, classifier__max_features=sqrt, classifier__min_samples_leaf=1, classifier__n_estimators=130; total time=   0.2s\n",
            "[CV] END classifier=RandomForestClassifier(random_state=20), classifier__criterion=gini, classifier__max_depth=20, classifier__max_features=sqrt, classifier__min_samples_leaf=1, classifier__n_estimators=130; total time=   0.2s\n",
            "[CV] END classifier=RandomForestClassifier(random_state=20), classifier__criterion=gini, classifier__max_depth=20, classifier__max_features=sqrt, classifier__min_samples_leaf=1, classifier__n_estimators=130; total time=   0.2s\n",
            "[CV] END classifier=RandomForestClassifier(random_state=20), classifier__criterion=gini, classifier__max_depth=20, classifier__max_features=sqrt, classifier__min_samples_leaf=1, classifier__n_estimators=130; total time=   0.2s\n",
            "[CV] END classifier=RandomForestClassifier(random_state=20), classifier__criterion=gini, classifier__max_depth=20, classifier__max_features=sqrt, classifier__min_samples_leaf=1, classifier__n_estimators=130; total time=   0.2s\n",
            "[CV] END classifier=RandomForestClassifier(random_state=20), classifier__criterion=gini, classifier__max_depth=20, classifier__max_features=sqrt, classifier__min_samples_leaf=1, classifier__n_estimators=190; total time=   0.3s\n",
            "[CV] END classifier=RandomForestClassifier(random_state=20), classifier__criterion=gini, classifier__max_depth=20, classifier__max_features=sqrt, classifier__min_samples_leaf=1, classifier__n_estimators=190; total time=   0.3s\n",
            "[CV] END classifier=RandomForestClassifier(random_state=20), classifier__criterion=gini, classifier__max_depth=20, classifier__max_features=sqrt, classifier__min_samples_leaf=1, classifier__n_estimators=190; total time=   0.3s\n",
            "[CV] END classifier=RandomForestClassifier(random_state=20), classifier__criterion=gini, classifier__max_depth=20, classifier__max_features=sqrt, classifier__min_samples_leaf=1, classifier__n_estimators=190; total time=   0.3s\n",
            "[CV] END classifier=RandomForestClassifier(random_state=20), classifier__criterion=gini, classifier__max_depth=20, classifier__max_features=sqrt, classifier__min_samples_leaf=1, classifier__n_estimators=190; total time=   0.3s\n",
            "[CV] END classifier=RandomForestClassifier(random_state=20), classifier__criterion=gini, classifier__max_depth=20, classifier__max_features=sqrt, classifier__min_samples_leaf=1, classifier__n_estimators=400; total time=   0.6s\n",
            "[CV] END classifier=RandomForestClassifier(random_state=20), classifier__criterion=gini, classifier__max_depth=20, classifier__max_features=sqrt, classifier__min_samples_leaf=1, classifier__n_estimators=400; total time=   0.6s\n",
            "[CV] END classifier=RandomForestClassifier(random_state=20), classifier__criterion=gini, classifier__max_depth=20, classifier__max_features=sqrt, classifier__min_samples_leaf=1, classifier__n_estimators=400; total time=   0.6s\n",
            "[CV] END classifier=RandomForestClassifier(random_state=20), classifier__criterion=gini, classifier__max_depth=20, classifier__max_features=sqrt, classifier__min_samples_leaf=1, classifier__n_estimators=400; total time=   0.6s\n",
            "[CV] END classifier=RandomForestClassifier(random_state=20), classifier__criterion=gini, classifier__max_depth=20, classifier__max_features=sqrt, classifier__min_samples_leaf=1, classifier__n_estimators=400; total time=   0.6s\n",
            "[CV] END classifier=RandomForestClassifier(random_state=20), classifier__criterion=gini, classifier__max_depth=20, classifier__max_features=sqrt, classifier__min_samples_leaf=3, classifier__n_estimators=130; total time=   0.2s\n",
            "[CV] END classifier=RandomForestClassifier(random_state=20), classifier__criterion=gini, classifier__max_depth=20, classifier__max_features=sqrt, classifier__min_samples_leaf=3, classifier__n_estimators=130; total time=   0.2s\n",
            "[CV] END classifier=RandomForestClassifier(random_state=20), classifier__criterion=gini, classifier__max_depth=20, classifier__max_features=sqrt, classifier__min_samples_leaf=3, classifier__n_estimators=130; total time=   0.2s\n",
            "[CV] END classifier=RandomForestClassifier(random_state=20), classifier__criterion=gini, classifier__max_depth=20, classifier__max_features=sqrt, classifier__min_samples_leaf=3, classifier__n_estimators=130; total time=   0.2s\n",
            "[CV] END classifier=RandomForestClassifier(random_state=20), classifier__criterion=gini, classifier__max_depth=20, classifier__max_features=sqrt, classifier__min_samples_leaf=3, classifier__n_estimators=130; total time=   0.2s\n",
            "[CV] END classifier=RandomForestClassifier(random_state=20), classifier__criterion=gini, classifier__max_depth=20, classifier__max_features=sqrt, classifier__min_samples_leaf=3, classifier__n_estimators=190; total time=   0.3s\n",
            "[CV] END classifier=RandomForestClassifier(random_state=20), classifier__criterion=gini, classifier__max_depth=20, classifier__max_features=sqrt, classifier__min_samples_leaf=3, classifier__n_estimators=190; total time=   0.3s\n",
            "[CV] END classifier=RandomForestClassifier(random_state=20), classifier__criterion=gini, classifier__max_depth=20, classifier__max_features=sqrt, classifier__min_samples_leaf=3, classifier__n_estimators=190; total time=   0.3s\n",
            "[CV] END classifier=RandomForestClassifier(random_state=20), classifier__criterion=gini, classifier__max_depth=20, classifier__max_features=sqrt, classifier__min_samples_leaf=3, classifier__n_estimators=190; total time=   0.3s\n",
            "[CV] END classifier=RandomForestClassifier(random_state=20), classifier__criterion=gini, classifier__max_depth=20, classifier__max_features=sqrt, classifier__min_samples_leaf=3, classifier__n_estimators=190; total time=   0.3s\n",
            "[CV] END classifier=RandomForestClassifier(random_state=20), classifier__criterion=gini, classifier__max_depth=20, classifier__max_features=sqrt, classifier__min_samples_leaf=3, classifier__n_estimators=400; total time=   0.6s\n",
            "[CV] END classifier=RandomForestClassifier(random_state=20), classifier__criterion=gini, classifier__max_depth=20, classifier__max_features=sqrt, classifier__min_samples_leaf=3, classifier__n_estimators=400; total time=   0.6s\n",
            "[CV] END classifier=RandomForestClassifier(random_state=20), classifier__criterion=gini, classifier__max_depth=20, classifier__max_features=sqrt, classifier__min_samples_leaf=3, classifier__n_estimators=400; total time=   0.6s\n",
            "[CV] END classifier=RandomForestClassifier(random_state=20), classifier__criterion=gini, classifier__max_depth=20, classifier__max_features=sqrt, classifier__min_samples_leaf=3, classifier__n_estimators=400; total time=   0.6s\n",
            "[CV] END classifier=RandomForestClassifier(random_state=20), classifier__criterion=gini, classifier__max_depth=20, classifier__max_features=sqrt, classifier__min_samples_leaf=3, classifier__n_estimators=400; total time=   0.6s\n",
            "[CV] END classifier=RandomForestClassifier(random_state=20), classifier__criterion=gini, classifier__max_depth=20, classifier__max_features=sqrt, classifier__min_samples_leaf=5, classifier__n_estimators=130; total time=   0.2s\n",
            "[CV] END classifier=RandomForestClassifier(random_state=20), classifier__criterion=gini, classifier__max_depth=20, classifier__max_features=sqrt, classifier__min_samples_leaf=5, classifier__n_estimators=130; total time=   0.2s\n",
            "[CV] END classifier=RandomForestClassifier(random_state=20), classifier__criterion=gini, classifier__max_depth=20, classifier__max_features=sqrt, classifier__min_samples_leaf=5, classifier__n_estimators=130; total time=   0.2s\n",
            "[CV] END classifier=RandomForestClassifier(random_state=20), classifier__criterion=gini, classifier__max_depth=20, classifier__max_features=sqrt, classifier__min_samples_leaf=5, classifier__n_estimators=130; total time=   0.2s\n",
            "[CV] END classifier=RandomForestClassifier(random_state=20), classifier__criterion=gini, classifier__max_depth=20, classifier__max_features=sqrt, classifier__min_samples_leaf=5, classifier__n_estimators=130; total time=   0.2s\n",
            "[CV] END classifier=RandomForestClassifier(random_state=20), classifier__criterion=gini, classifier__max_depth=20, classifier__max_features=sqrt, classifier__min_samples_leaf=5, classifier__n_estimators=190; total time=   0.3s\n",
            "[CV] END classifier=RandomForestClassifier(random_state=20), classifier__criterion=gini, classifier__max_depth=20, classifier__max_features=sqrt, classifier__min_samples_leaf=5, classifier__n_estimators=190; total time=   0.3s\n",
            "[CV] END classifier=RandomForestClassifier(random_state=20), classifier__criterion=gini, classifier__max_depth=20, classifier__max_features=sqrt, classifier__min_samples_leaf=5, classifier__n_estimators=190; total time=   0.3s\n",
            "[CV] END classifier=RandomForestClassifier(random_state=20), classifier__criterion=gini, classifier__max_depth=20, classifier__max_features=sqrt, classifier__min_samples_leaf=5, classifier__n_estimators=190; total time=   0.3s\n",
            "[CV] END classifier=RandomForestClassifier(random_state=20), classifier__criterion=gini, classifier__max_depth=20, classifier__max_features=sqrt, classifier__min_samples_leaf=5, classifier__n_estimators=190; total time=   0.3s\n",
            "[CV] END classifier=RandomForestClassifier(random_state=20), classifier__criterion=gini, classifier__max_depth=20, classifier__max_features=sqrt, classifier__min_samples_leaf=5, classifier__n_estimators=400; total time=   0.6s\n",
            "[CV] END classifier=RandomForestClassifier(random_state=20), classifier__criterion=gini, classifier__max_depth=20, classifier__max_features=sqrt, classifier__min_samples_leaf=5, classifier__n_estimators=400; total time=   0.6s\n",
            "[CV] END classifier=RandomForestClassifier(random_state=20), classifier__criterion=gini, classifier__max_depth=20, classifier__max_features=sqrt, classifier__min_samples_leaf=5, classifier__n_estimators=400; total time=   0.6s\n",
            "[CV] END classifier=RandomForestClassifier(random_state=20), classifier__criterion=gini, classifier__max_depth=20, classifier__max_features=sqrt, classifier__min_samples_leaf=5, classifier__n_estimators=400; total time=   0.6s\n",
            "[CV] END classifier=RandomForestClassifier(random_state=20), classifier__criterion=gini, classifier__max_depth=20, classifier__max_features=sqrt, classifier__min_samples_leaf=5, classifier__n_estimators=400; total time=   0.6s\n",
            "[CV] END classifier=RandomForestClassifier(random_state=20), classifier__criterion=gini, classifier__max_depth=20, classifier__max_features=log2, classifier__min_samples_leaf=1, classifier__n_estimators=130; total time=   0.2s\n",
            "[CV] END classifier=RandomForestClassifier(random_state=20), classifier__criterion=gini, classifier__max_depth=20, classifier__max_features=log2, classifier__min_samples_leaf=1, classifier__n_estimators=130; total time=   0.2s\n",
            "[CV] END classifier=RandomForestClassifier(random_state=20), classifier__criterion=gini, classifier__max_depth=20, classifier__max_features=log2, classifier__min_samples_leaf=1, classifier__n_estimators=130; total time=   0.2s\n",
            "[CV] END classifier=RandomForestClassifier(random_state=20), classifier__criterion=gini, classifier__max_depth=20, classifier__max_features=log2, classifier__min_samples_leaf=1, classifier__n_estimators=130; total time=   0.2s\n",
            "[CV] END classifier=RandomForestClassifier(random_state=20), classifier__criterion=gini, classifier__max_depth=20, classifier__max_features=log2, classifier__min_samples_leaf=1, classifier__n_estimators=130; total time=   0.2s\n",
            "[CV] END classifier=RandomForestClassifier(random_state=20), classifier__criterion=gini, classifier__max_depth=20, classifier__max_features=log2, classifier__min_samples_leaf=1, classifier__n_estimators=190; total time=   0.3s\n",
            "[CV] END classifier=RandomForestClassifier(random_state=20), classifier__criterion=gini, classifier__max_depth=20, classifier__max_features=log2, classifier__min_samples_leaf=1, classifier__n_estimators=190; total time=   0.3s\n",
            "[CV] END classifier=RandomForestClassifier(random_state=20), classifier__criterion=gini, classifier__max_depth=20, classifier__max_features=log2, classifier__min_samples_leaf=1, classifier__n_estimators=190; total time=   0.3s\n",
            "[CV] END classifier=RandomForestClassifier(random_state=20), classifier__criterion=gini, classifier__max_depth=20, classifier__max_features=log2, classifier__min_samples_leaf=1, classifier__n_estimators=190; total time=   0.3s\n",
            "[CV] END classifier=RandomForestClassifier(random_state=20), classifier__criterion=gini, classifier__max_depth=20, classifier__max_features=log2, classifier__min_samples_leaf=1, classifier__n_estimators=190; total time=   0.3s\n",
            "[CV] END classifier=RandomForestClassifier(random_state=20), classifier__criterion=gini, classifier__max_depth=20, classifier__max_features=log2, classifier__min_samples_leaf=1, classifier__n_estimators=400; total time=   0.6s\n",
            "[CV] END classifier=RandomForestClassifier(random_state=20), classifier__criterion=gini, classifier__max_depth=20, classifier__max_features=log2, classifier__min_samples_leaf=1, classifier__n_estimators=400; total time=   0.8s\n",
            "[CV] END classifier=RandomForestClassifier(random_state=20), classifier__criterion=gini, classifier__max_depth=20, classifier__max_features=log2, classifier__min_samples_leaf=1, classifier__n_estimators=400; total time=   1.0s\n",
            "[CV] END classifier=RandomForestClassifier(random_state=20), classifier__criterion=gini, classifier__max_depth=20, classifier__max_features=log2, classifier__min_samples_leaf=1, classifier__n_estimators=400; total time=   1.0s\n",
            "[CV] END classifier=RandomForestClassifier(random_state=20), classifier__criterion=gini, classifier__max_depth=20, classifier__max_features=log2, classifier__min_samples_leaf=1, classifier__n_estimators=400; total time=   0.6s\n",
            "[CV] END classifier=RandomForestClassifier(random_state=20), classifier__criterion=gini, classifier__max_depth=20, classifier__max_features=log2, classifier__min_samples_leaf=3, classifier__n_estimators=130; total time=   0.2s\n",
            "[CV] END classifier=RandomForestClassifier(random_state=20), classifier__criterion=gini, classifier__max_depth=20, classifier__max_features=log2, classifier__min_samples_leaf=3, classifier__n_estimators=130; total time=   0.2s\n",
            "[CV] END classifier=RandomForestClassifier(random_state=20), classifier__criterion=gini, classifier__max_depth=20, classifier__max_features=log2, classifier__min_samples_leaf=3, classifier__n_estimators=130; total time=   0.2s\n",
            "[CV] END classifier=RandomForestClassifier(random_state=20), classifier__criterion=gini, classifier__max_depth=20, classifier__max_features=log2, classifier__min_samples_leaf=3, classifier__n_estimators=130; total time=   0.2s\n",
            "[CV] END classifier=RandomForestClassifier(random_state=20), classifier__criterion=gini, classifier__max_depth=20, classifier__max_features=log2, classifier__min_samples_leaf=3, classifier__n_estimators=130; total time=   0.2s\n",
            "[CV] END classifier=RandomForestClassifier(random_state=20), classifier__criterion=gini, classifier__max_depth=20, classifier__max_features=log2, classifier__min_samples_leaf=3, classifier__n_estimators=190; total time=   0.3s\n",
            "[CV] END classifier=RandomForestClassifier(random_state=20), classifier__criterion=gini, classifier__max_depth=20, classifier__max_features=log2, classifier__min_samples_leaf=3, classifier__n_estimators=190; total time=   0.3s\n",
            "[CV] END classifier=RandomForestClassifier(random_state=20), classifier__criterion=gini, classifier__max_depth=20, classifier__max_features=log2, classifier__min_samples_leaf=3, classifier__n_estimators=190; total time=   0.3s\n",
            "[CV] END classifier=RandomForestClassifier(random_state=20), classifier__criterion=gini, classifier__max_depth=20, classifier__max_features=log2, classifier__min_samples_leaf=3, classifier__n_estimators=190; total time=   0.3s\n",
            "[CV] END classifier=RandomForestClassifier(random_state=20), classifier__criterion=gini, classifier__max_depth=20, classifier__max_features=log2, classifier__min_samples_leaf=3, classifier__n_estimators=190; total time=   0.3s\n",
            "[CV] END classifier=RandomForestClassifier(random_state=20), classifier__criterion=gini, classifier__max_depth=20, classifier__max_features=log2, classifier__min_samples_leaf=3, classifier__n_estimators=400; total time=   0.6s\n",
            "[CV] END classifier=RandomForestClassifier(random_state=20), classifier__criterion=gini, classifier__max_depth=20, classifier__max_features=log2, classifier__min_samples_leaf=3, classifier__n_estimators=400; total time=   0.6s\n",
            "[CV] END classifier=RandomForestClassifier(random_state=20), classifier__criterion=gini, classifier__max_depth=20, classifier__max_features=log2, classifier__min_samples_leaf=3, classifier__n_estimators=400; total time=   0.6s\n",
            "[CV] END classifier=RandomForestClassifier(random_state=20), classifier__criterion=gini, classifier__max_depth=20, classifier__max_features=log2, classifier__min_samples_leaf=3, classifier__n_estimators=400; total time=   0.6s\n",
            "[CV] END classifier=RandomForestClassifier(random_state=20), classifier__criterion=gini, classifier__max_depth=20, classifier__max_features=log2, classifier__min_samples_leaf=3, classifier__n_estimators=400; total time=   0.6s\n",
            "[CV] END classifier=RandomForestClassifier(random_state=20), classifier__criterion=gini, classifier__max_depth=20, classifier__max_features=log2, classifier__min_samples_leaf=5, classifier__n_estimators=130; total time=   0.2s\n",
            "[CV] END classifier=RandomForestClassifier(random_state=20), classifier__criterion=gini, classifier__max_depth=20, classifier__max_features=log2, classifier__min_samples_leaf=5, classifier__n_estimators=130; total time=   0.2s\n",
            "[CV] END classifier=RandomForestClassifier(random_state=20), classifier__criterion=gini, classifier__max_depth=20, classifier__max_features=log2, classifier__min_samples_leaf=5, classifier__n_estimators=130; total time=   0.2s\n",
            "[CV] END classifier=RandomForestClassifier(random_state=20), classifier__criterion=gini, classifier__max_depth=20, classifier__max_features=log2, classifier__min_samples_leaf=5, classifier__n_estimators=130; total time=   0.2s\n",
            "[CV] END classifier=RandomForestClassifier(random_state=20), classifier__criterion=gini, classifier__max_depth=20, classifier__max_features=log2, classifier__min_samples_leaf=5, classifier__n_estimators=130; total time=   0.2s\n",
            "[CV] END classifier=RandomForestClassifier(random_state=20), classifier__criterion=gini, classifier__max_depth=20, classifier__max_features=log2, classifier__min_samples_leaf=5, classifier__n_estimators=190; total time=   0.3s\n",
            "[CV] END classifier=RandomForestClassifier(random_state=20), classifier__criterion=gini, classifier__max_depth=20, classifier__max_features=log2, classifier__min_samples_leaf=5, classifier__n_estimators=190; total time=   0.3s\n",
            "[CV] END classifier=RandomForestClassifier(random_state=20), classifier__criterion=gini, classifier__max_depth=20, classifier__max_features=log2, classifier__min_samples_leaf=5, classifier__n_estimators=190; total time=   0.3s\n",
            "[CV] END classifier=RandomForestClassifier(random_state=20), classifier__criterion=gini, classifier__max_depth=20, classifier__max_features=log2, classifier__min_samples_leaf=5, classifier__n_estimators=190; total time=   0.3s\n",
            "[CV] END classifier=RandomForestClassifier(random_state=20), classifier__criterion=gini, classifier__max_depth=20, classifier__max_features=log2, classifier__min_samples_leaf=5, classifier__n_estimators=190; total time=   0.3s\n",
            "[CV] END classifier=RandomForestClassifier(random_state=20), classifier__criterion=gini, classifier__max_depth=20, classifier__max_features=log2, classifier__min_samples_leaf=5, classifier__n_estimators=400; total time=   0.6s\n",
            "[CV] END classifier=RandomForestClassifier(random_state=20), classifier__criterion=gini, classifier__max_depth=20, classifier__max_features=log2, classifier__min_samples_leaf=5, classifier__n_estimators=400; total time=   0.6s\n",
            "[CV] END classifier=RandomForestClassifier(random_state=20), classifier__criterion=gini, classifier__max_depth=20, classifier__max_features=log2, classifier__min_samples_leaf=5, classifier__n_estimators=400; total time=   0.6s\n",
            "[CV] END classifier=RandomForestClassifier(random_state=20), classifier__criterion=gini, classifier__max_depth=20, classifier__max_features=log2, classifier__min_samples_leaf=5, classifier__n_estimators=400; total time=   0.6s\n",
            "[CV] END classifier=RandomForestClassifier(random_state=20), classifier__criterion=gini, classifier__max_depth=20, classifier__max_features=log2, classifier__min_samples_leaf=5, classifier__n_estimators=400; total time=   0.6s\n",
            "[CV] END classifier=RandomForestClassifier(random_state=20), classifier__criterion=gini, classifier__max_depth=25, classifier__max_features=sqrt, classifier__min_samples_leaf=1, classifier__n_estimators=130; total time=   0.2s\n",
            "[CV] END classifier=RandomForestClassifier(random_state=20), classifier__criterion=gini, classifier__max_depth=25, classifier__max_features=sqrt, classifier__min_samples_leaf=1, classifier__n_estimators=130; total time=   0.2s\n",
            "[CV] END classifier=RandomForestClassifier(random_state=20), classifier__criterion=gini, classifier__max_depth=25, classifier__max_features=sqrt, classifier__min_samples_leaf=1, classifier__n_estimators=130; total time=   0.2s\n",
            "[CV] END classifier=RandomForestClassifier(random_state=20), classifier__criterion=gini, classifier__max_depth=25, classifier__max_features=sqrt, classifier__min_samples_leaf=1, classifier__n_estimators=130; total time=   0.2s\n",
            "[CV] END classifier=RandomForestClassifier(random_state=20), classifier__criterion=gini, classifier__max_depth=25, classifier__max_features=sqrt, classifier__min_samples_leaf=1, classifier__n_estimators=130; total time=   0.2s\n",
            "[CV] END classifier=RandomForestClassifier(random_state=20), classifier__criterion=gini, classifier__max_depth=25, classifier__max_features=sqrt, classifier__min_samples_leaf=1, classifier__n_estimators=190; total time=   0.3s\n",
            "[CV] END classifier=RandomForestClassifier(random_state=20), classifier__criterion=gini, classifier__max_depth=25, classifier__max_features=sqrt, classifier__min_samples_leaf=1, classifier__n_estimators=190; total time=   0.3s\n",
            "[CV] END classifier=RandomForestClassifier(random_state=20), classifier__criterion=gini, classifier__max_depth=25, classifier__max_features=sqrt, classifier__min_samples_leaf=1, classifier__n_estimators=190; total time=   0.3s\n",
            "[CV] END classifier=RandomForestClassifier(random_state=20), classifier__criterion=gini, classifier__max_depth=25, classifier__max_features=sqrt, classifier__min_samples_leaf=1, classifier__n_estimators=190; total time=   0.3s\n",
            "[CV] END classifier=RandomForestClassifier(random_state=20), classifier__criterion=gini, classifier__max_depth=25, classifier__max_features=sqrt, classifier__min_samples_leaf=1, classifier__n_estimators=190; total time=   0.3s\n",
            "[CV] END classifier=RandomForestClassifier(random_state=20), classifier__criterion=gini, classifier__max_depth=25, classifier__max_features=sqrt, classifier__min_samples_leaf=1, classifier__n_estimators=400; total time=   0.6s\n",
            "[CV] END classifier=RandomForestClassifier(random_state=20), classifier__criterion=gini, classifier__max_depth=25, classifier__max_features=sqrt, classifier__min_samples_leaf=1, classifier__n_estimators=400; total time=   0.6s\n",
            "[CV] END classifier=RandomForestClassifier(random_state=20), classifier__criterion=gini, classifier__max_depth=25, classifier__max_features=sqrt, classifier__min_samples_leaf=1, classifier__n_estimators=400; total time=   0.6s\n",
            "[CV] END classifier=RandomForestClassifier(random_state=20), classifier__criterion=gini, classifier__max_depth=25, classifier__max_features=sqrt, classifier__min_samples_leaf=1, classifier__n_estimators=400; total time=   0.6s\n",
            "[CV] END classifier=RandomForestClassifier(random_state=20), classifier__criterion=gini, classifier__max_depth=25, classifier__max_features=sqrt, classifier__min_samples_leaf=1, classifier__n_estimators=400; total time=   0.6s\n",
            "[CV] END classifier=RandomForestClassifier(random_state=20), classifier__criterion=gini, classifier__max_depth=25, classifier__max_features=sqrt, classifier__min_samples_leaf=3, classifier__n_estimators=130; total time=   0.2s\n",
            "[CV] END classifier=RandomForestClassifier(random_state=20), classifier__criterion=gini, classifier__max_depth=25, classifier__max_features=sqrt, classifier__min_samples_leaf=3, classifier__n_estimators=130; total time=   0.2s\n",
            "[CV] END classifier=RandomForestClassifier(random_state=20), classifier__criterion=gini, classifier__max_depth=25, classifier__max_features=sqrt, classifier__min_samples_leaf=3, classifier__n_estimators=130; total time=   0.2s\n",
            "[CV] END classifier=RandomForestClassifier(random_state=20), classifier__criterion=gini, classifier__max_depth=25, classifier__max_features=sqrt, classifier__min_samples_leaf=3, classifier__n_estimators=130; total time=   0.2s\n",
            "[CV] END classifier=RandomForestClassifier(random_state=20), classifier__criterion=gini, classifier__max_depth=25, classifier__max_features=sqrt, classifier__min_samples_leaf=3, classifier__n_estimators=130; total time=   0.2s\n",
            "[CV] END classifier=RandomForestClassifier(random_state=20), classifier__criterion=gini, classifier__max_depth=25, classifier__max_features=sqrt, classifier__min_samples_leaf=3, classifier__n_estimators=190; total time=   0.3s\n",
            "[CV] END classifier=RandomForestClassifier(random_state=20), classifier__criterion=gini, classifier__max_depth=25, classifier__max_features=sqrt, classifier__min_samples_leaf=3, classifier__n_estimators=190; total time=   0.3s\n",
            "[CV] END classifier=RandomForestClassifier(random_state=20), classifier__criterion=gini, classifier__max_depth=25, classifier__max_features=sqrt, classifier__min_samples_leaf=3, classifier__n_estimators=190; total time=   0.3s\n",
            "[CV] END classifier=RandomForestClassifier(random_state=20), classifier__criterion=gini, classifier__max_depth=25, classifier__max_features=sqrt, classifier__min_samples_leaf=3, classifier__n_estimators=190; total time=   0.3s\n",
            "[CV] END classifier=RandomForestClassifier(random_state=20), classifier__criterion=gini, classifier__max_depth=25, classifier__max_features=sqrt, classifier__min_samples_leaf=3, classifier__n_estimators=190; total time=   0.3s\n",
            "[CV] END classifier=RandomForestClassifier(random_state=20), classifier__criterion=gini, classifier__max_depth=25, classifier__max_features=sqrt, classifier__min_samples_leaf=3, classifier__n_estimators=400; total time=   0.6s\n",
            "[CV] END classifier=RandomForestClassifier(random_state=20), classifier__criterion=gini, classifier__max_depth=25, classifier__max_features=sqrt, classifier__min_samples_leaf=3, classifier__n_estimators=400; total time=   0.6s\n",
            "[CV] END classifier=RandomForestClassifier(random_state=20), classifier__criterion=gini, classifier__max_depth=25, classifier__max_features=sqrt, classifier__min_samples_leaf=3, classifier__n_estimators=400; total time=   0.6s\n",
            "[CV] END classifier=RandomForestClassifier(random_state=20), classifier__criterion=gini, classifier__max_depth=25, classifier__max_features=sqrt, classifier__min_samples_leaf=3, classifier__n_estimators=400; total time=   0.6s\n",
            "[CV] END classifier=RandomForestClassifier(random_state=20), classifier__criterion=gini, classifier__max_depth=25, classifier__max_features=sqrt, classifier__min_samples_leaf=3, classifier__n_estimators=400; total time=   0.6s\n",
            "[CV] END classifier=RandomForestClassifier(random_state=20), classifier__criterion=gini, classifier__max_depth=25, classifier__max_features=sqrt, classifier__min_samples_leaf=5, classifier__n_estimators=130; total time=   0.2s\n",
            "[CV] END classifier=RandomForestClassifier(random_state=20), classifier__criterion=gini, classifier__max_depth=25, classifier__max_features=sqrt, classifier__min_samples_leaf=5, classifier__n_estimators=130; total time=   0.2s\n",
            "[CV] END classifier=RandomForestClassifier(random_state=20), classifier__criterion=gini, classifier__max_depth=25, classifier__max_features=sqrt, classifier__min_samples_leaf=5, classifier__n_estimators=130; total time=   0.2s\n",
            "[CV] END classifier=RandomForestClassifier(random_state=20), classifier__criterion=gini, classifier__max_depth=25, classifier__max_features=sqrt, classifier__min_samples_leaf=5, classifier__n_estimators=130; total time=   0.2s\n",
            "[CV] END classifier=RandomForestClassifier(random_state=20), classifier__criterion=gini, classifier__max_depth=25, classifier__max_features=sqrt, classifier__min_samples_leaf=5, classifier__n_estimators=130; total time=   0.2s\n",
            "[CV] END classifier=RandomForestClassifier(random_state=20), classifier__criterion=gini, classifier__max_depth=25, classifier__max_features=sqrt, classifier__min_samples_leaf=5, classifier__n_estimators=190; total time=   0.3s\n",
            "[CV] END classifier=RandomForestClassifier(random_state=20), classifier__criterion=gini, classifier__max_depth=25, classifier__max_features=sqrt, classifier__min_samples_leaf=5, classifier__n_estimators=190; total time=   0.3s\n",
            "[CV] END classifier=RandomForestClassifier(random_state=20), classifier__criterion=gini, classifier__max_depth=25, classifier__max_features=sqrt, classifier__min_samples_leaf=5, classifier__n_estimators=190; total time=   0.3s\n",
            "[CV] END classifier=RandomForestClassifier(random_state=20), classifier__criterion=gini, classifier__max_depth=25, classifier__max_features=sqrt, classifier__min_samples_leaf=5, classifier__n_estimators=190; total time=   0.3s\n",
            "[CV] END classifier=RandomForestClassifier(random_state=20), classifier__criterion=gini, classifier__max_depth=25, classifier__max_features=sqrt, classifier__min_samples_leaf=5, classifier__n_estimators=190; total time=   0.3s\n",
            "[CV] END classifier=RandomForestClassifier(random_state=20), classifier__criterion=gini, classifier__max_depth=25, classifier__max_features=sqrt, classifier__min_samples_leaf=5, classifier__n_estimators=400; total time=   0.6s\n",
            "[CV] END classifier=RandomForestClassifier(random_state=20), classifier__criterion=gini, classifier__max_depth=25, classifier__max_features=sqrt, classifier__min_samples_leaf=5, classifier__n_estimators=400; total time=   0.6s\n",
            "[CV] END classifier=RandomForestClassifier(random_state=20), classifier__criterion=gini, classifier__max_depth=25, classifier__max_features=sqrt, classifier__min_samples_leaf=5, classifier__n_estimators=400; total time=   0.6s\n",
            "[CV] END classifier=RandomForestClassifier(random_state=20), classifier__criterion=gini, classifier__max_depth=25, classifier__max_features=sqrt, classifier__min_samples_leaf=5, classifier__n_estimators=400; total time=   0.6s\n",
            "[CV] END classifier=RandomForestClassifier(random_state=20), classifier__criterion=gini, classifier__max_depth=25, classifier__max_features=sqrt, classifier__min_samples_leaf=5, classifier__n_estimators=400; total time=   0.6s\n",
            "[CV] END classifier=RandomForestClassifier(random_state=20), classifier__criterion=gini, classifier__max_depth=25, classifier__max_features=log2, classifier__min_samples_leaf=1, classifier__n_estimators=130; total time=   0.2s\n",
            "[CV] END classifier=RandomForestClassifier(random_state=20), classifier__criterion=gini, classifier__max_depth=25, classifier__max_features=log2, classifier__min_samples_leaf=1, classifier__n_estimators=130; total time=   0.2s\n",
            "[CV] END classifier=RandomForestClassifier(random_state=20), classifier__criterion=gini, classifier__max_depth=25, classifier__max_features=log2, classifier__min_samples_leaf=1, classifier__n_estimators=130; total time=   0.2s\n",
            "[CV] END classifier=RandomForestClassifier(random_state=20), classifier__criterion=gini, classifier__max_depth=25, classifier__max_features=log2, classifier__min_samples_leaf=1, classifier__n_estimators=130; total time=   0.2s\n",
            "[CV] END classifier=RandomForestClassifier(random_state=20), classifier__criterion=gini, classifier__max_depth=25, classifier__max_features=log2, classifier__min_samples_leaf=1, classifier__n_estimators=130; total time=   0.2s\n",
            "[CV] END classifier=RandomForestClassifier(random_state=20), classifier__criterion=gini, classifier__max_depth=25, classifier__max_features=log2, classifier__min_samples_leaf=1, classifier__n_estimators=190; total time=   0.3s\n",
            "[CV] END classifier=RandomForestClassifier(random_state=20), classifier__criterion=gini, classifier__max_depth=25, classifier__max_features=log2, classifier__min_samples_leaf=1, classifier__n_estimators=190; total time=   0.3s\n",
            "[CV] END classifier=RandomForestClassifier(random_state=20), classifier__criterion=gini, classifier__max_depth=25, classifier__max_features=log2, classifier__min_samples_leaf=1, classifier__n_estimators=190; total time=   0.3s\n",
            "[CV] END classifier=RandomForestClassifier(random_state=20), classifier__criterion=gini, classifier__max_depth=25, classifier__max_features=log2, classifier__min_samples_leaf=1, classifier__n_estimators=190; total time=   0.3s\n",
            "[CV] END classifier=RandomForestClassifier(random_state=20), classifier__criterion=gini, classifier__max_depth=25, classifier__max_features=log2, classifier__min_samples_leaf=1, classifier__n_estimators=190; total time=   0.3s\n",
            "[CV] END classifier=RandomForestClassifier(random_state=20), classifier__criterion=gini, classifier__max_depth=25, classifier__max_features=log2, classifier__min_samples_leaf=1, classifier__n_estimators=400; total time=   0.6s\n",
            "[CV] END classifier=RandomForestClassifier(random_state=20), classifier__criterion=gini, classifier__max_depth=25, classifier__max_features=log2, classifier__min_samples_leaf=1, classifier__n_estimators=400; total time=   0.6s\n",
            "[CV] END classifier=RandomForestClassifier(random_state=20), classifier__criterion=gini, classifier__max_depth=25, classifier__max_features=log2, classifier__min_samples_leaf=1, classifier__n_estimators=400; total time=   0.6s\n",
            "[CV] END classifier=RandomForestClassifier(random_state=20), classifier__criterion=gini, classifier__max_depth=25, classifier__max_features=log2, classifier__min_samples_leaf=1, classifier__n_estimators=400; total time=   0.6s\n",
            "[CV] END classifier=RandomForestClassifier(random_state=20), classifier__criterion=gini, classifier__max_depth=25, classifier__max_features=log2, classifier__min_samples_leaf=1, classifier__n_estimators=400; total time=   0.6s\n",
            "[CV] END classifier=RandomForestClassifier(random_state=20), classifier__criterion=gini, classifier__max_depth=25, classifier__max_features=log2, classifier__min_samples_leaf=3, classifier__n_estimators=130; total time=   0.2s\n",
            "[CV] END classifier=RandomForestClassifier(random_state=20), classifier__criterion=gini, classifier__max_depth=25, classifier__max_features=log2, classifier__min_samples_leaf=3, classifier__n_estimators=130; total time=   0.2s\n",
            "[CV] END classifier=RandomForestClassifier(random_state=20), classifier__criterion=gini, classifier__max_depth=25, classifier__max_features=log2, classifier__min_samples_leaf=3, classifier__n_estimators=130; total time=   0.2s\n",
            "[CV] END classifier=RandomForestClassifier(random_state=20), classifier__criterion=gini, classifier__max_depth=25, classifier__max_features=log2, classifier__min_samples_leaf=3, classifier__n_estimators=130; total time=   0.2s\n",
            "[CV] END classifier=RandomForestClassifier(random_state=20), classifier__criterion=gini, classifier__max_depth=25, classifier__max_features=log2, classifier__min_samples_leaf=3, classifier__n_estimators=130; total time=   0.2s\n",
            "[CV] END classifier=RandomForestClassifier(random_state=20), classifier__criterion=gini, classifier__max_depth=25, classifier__max_features=log2, classifier__min_samples_leaf=3, classifier__n_estimators=190; total time=   0.3s\n",
            "[CV] END classifier=RandomForestClassifier(random_state=20), classifier__criterion=gini, classifier__max_depth=25, classifier__max_features=log2, classifier__min_samples_leaf=3, classifier__n_estimators=190; total time=   0.3s\n",
            "[CV] END classifier=RandomForestClassifier(random_state=20), classifier__criterion=gini, classifier__max_depth=25, classifier__max_features=log2, classifier__min_samples_leaf=3, classifier__n_estimators=190; total time=   0.3s\n",
            "[CV] END classifier=RandomForestClassifier(random_state=20), classifier__criterion=gini, classifier__max_depth=25, classifier__max_features=log2, classifier__min_samples_leaf=3, classifier__n_estimators=190; total time=   0.3s\n",
            "[CV] END classifier=RandomForestClassifier(random_state=20), classifier__criterion=gini, classifier__max_depth=25, classifier__max_features=log2, classifier__min_samples_leaf=3, classifier__n_estimators=190; total time=   0.3s\n",
            "[CV] END classifier=RandomForestClassifier(random_state=20), classifier__criterion=gini, classifier__max_depth=25, classifier__max_features=log2, classifier__min_samples_leaf=3, classifier__n_estimators=400; total time=   0.6s\n",
            "[CV] END classifier=RandomForestClassifier(random_state=20), classifier__criterion=gini, classifier__max_depth=25, classifier__max_features=log2, classifier__min_samples_leaf=3, classifier__n_estimators=400; total time=   0.6s\n",
            "[CV] END classifier=RandomForestClassifier(random_state=20), classifier__criterion=gini, classifier__max_depth=25, classifier__max_features=log2, classifier__min_samples_leaf=3, classifier__n_estimators=400; total time=   0.6s\n",
            "[CV] END classifier=RandomForestClassifier(random_state=20), classifier__criterion=gini, classifier__max_depth=25, classifier__max_features=log2, classifier__min_samples_leaf=3, classifier__n_estimators=400; total time=   0.6s\n",
            "[CV] END classifier=RandomForestClassifier(random_state=20), classifier__criterion=gini, classifier__max_depth=25, classifier__max_features=log2, classifier__min_samples_leaf=3, classifier__n_estimators=400; total time=   0.7s\n",
            "[CV] END classifier=RandomForestClassifier(random_state=20), classifier__criterion=gini, classifier__max_depth=25, classifier__max_features=log2, classifier__min_samples_leaf=5, classifier__n_estimators=130; total time=   0.3s\n",
            "[CV] END classifier=RandomForestClassifier(random_state=20), classifier__criterion=gini, classifier__max_depth=25, classifier__max_features=log2, classifier__min_samples_leaf=5, classifier__n_estimators=130; total time=   0.3s\n",
            "[CV] END classifier=RandomForestClassifier(random_state=20), classifier__criterion=gini, classifier__max_depth=25, classifier__max_features=log2, classifier__min_samples_leaf=5, classifier__n_estimators=130; total time=   0.3s\n",
            "[CV] END classifier=RandomForestClassifier(random_state=20), classifier__criterion=gini, classifier__max_depth=25, classifier__max_features=log2, classifier__min_samples_leaf=5, classifier__n_estimators=130; total time=   0.3s\n",
            "[CV] END classifier=RandomForestClassifier(random_state=20), classifier__criterion=gini, classifier__max_depth=25, classifier__max_features=log2, classifier__min_samples_leaf=5, classifier__n_estimators=130; total time=   0.3s\n",
            "[CV] END classifier=RandomForestClassifier(random_state=20), classifier__criterion=gini, classifier__max_depth=25, classifier__max_features=log2, classifier__min_samples_leaf=5, classifier__n_estimators=190; total time=   0.4s\n",
            "[CV] END classifier=RandomForestClassifier(random_state=20), classifier__criterion=gini, classifier__max_depth=25, classifier__max_features=log2, classifier__min_samples_leaf=5, classifier__n_estimators=190; total time=   0.3s\n",
            "[CV] END classifier=RandomForestClassifier(random_state=20), classifier__criterion=gini, classifier__max_depth=25, classifier__max_features=log2, classifier__min_samples_leaf=5, classifier__n_estimators=190; total time=   0.3s\n",
            "[CV] END classifier=RandomForestClassifier(random_state=20), classifier__criterion=gini, classifier__max_depth=25, classifier__max_features=log2, classifier__min_samples_leaf=5, classifier__n_estimators=190; total time=   0.3s\n",
            "[CV] END classifier=RandomForestClassifier(random_state=20), classifier__criterion=gini, classifier__max_depth=25, classifier__max_features=log2, classifier__min_samples_leaf=5, classifier__n_estimators=190; total time=   0.3s\n",
            "[CV] END classifier=RandomForestClassifier(random_state=20), classifier__criterion=gini, classifier__max_depth=25, classifier__max_features=log2, classifier__min_samples_leaf=5, classifier__n_estimators=400; total time=   0.6s\n",
            "[CV] END classifier=RandomForestClassifier(random_state=20), classifier__criterion=gini, classifier__max_depth=25, classifier__max_features=log2, classifier__min_samples_leaf=5, classifier__n_estimators=400; total time=   0.6s\n",
            "[CV] END classifier=RandomForestClassifier(random_state=20), classifier__criterion=gini, classifier__max_depth=25, classifier__max_features=log2, classifier__min_samples_leaf=5, classifier__n_estimators=400; total time=   0.6s\n",
            "[CV] END classifier=RandomForestClassifier(random_state=20), classifier__criterion=gini, classifier__max_depth=25, classifier__max_features=log2, classifier__min_samples_leaf=5, classifier__n_estimators=400; total time=   0.6s\n",
            "[CV] END classifier=RandomForestClassifier(random_state=20), classifier__criterion=gini, classifier__max_depth=25, classifier__max_features=log2, classifier__min_samples_leaf=5, classifier__n_estimators=400; total time=   0.6s\n",
            "[CV] END classifier=RandomForestClassifier(random_state=20), classifier__criterion=entropy, classifier__max_depth=15, classifier__max_features=sqrt, classifier__min_samples_leaf=1, classifier__n_estimators=130; total time=   0.2s\n",
            "[CV] END classifier=RandomForestClassifier(random_state=20), classifier__criterion=entropy, classifier__max_depth=15, classifier__max_features=sqrt, classifier__min_samples_leaf=1, classifier__n_estimators=130; total time=   0.2s\n",
            "[CV] END classifier=RandomForestClassifier(random_state=20), classifier__criterion=entropy, classifier__max_depth=15, classifier__max_features=sqrt, classifier__min_samples_leaf=1, classifier__n_estimators=130; total time=   0.2s\n",
            "[CV] END classifier=RandomForestClassifier(random_state=20), classifier__criterion=entropy, classifier__max_depth=15, classifier__max_features=sqrt, classifier__min_samples_leaf=1, classifier__n_estimators=130; total time=   0.2s\n",
            "[CV] END classifier=RandomForestClassifier(random_state=20), classifier__criterion=entropy, classifier__max_depth=15, classifier__max_features=sqrt, classifier__min_samples_leaf=1, classifier__n_estimators=130; total time=   0.2s\n",
            "[CV] END classifier=RandomForestClassifier(random_state=20), classifier__criterion=entropy, classifier__max_depth=15, classifier__max_features=sqrt, classifier__min_samples_leaf=1, classifier__n_estimators=190; total time=   0.3s\n",
            "[CV] END classifier=RandomForestClassifier(random_state=20), classifier__criterion=entropy, classifier__max_depth=15, classifier__max_features=sqrt, classifier__min_samples_leaf=1, classifier__n_estimators=190; total time=   0.3s\n",
            "[CV] END classifier=RandomForestClassifier(random_state=20), classifier__criterion=entropy, classifier__max_depth=15, classifier__max_features=sqrt, classifier__min_samples_leaf=1, classifier__n_estimators=190; total time=   0.3s\n",
            "[CV] END classifier=RandomForestClassifier(random_state=20), classifier__criterion=entropy, classifier__max_depth=15, classifier__max_features=sqrt, classifier__min_samples_leaf=1, classifier__n_estimators=190; total time=   0.3s\n",
            "[CV] END classifier=RandomForestClassifier(random_state=20), classifier__criterion=entropy, classifier__max_depth=15, classifier__max_features=sqrt, classifier__min_samples_leaf=1, classifier__n_estimators=190; total time=   0.3s\n",
            "[CV] END classifier=RandomForestClassifier(random_state=20), classifier__criterion=entropy, classifier__max_depth=15, classifier__max_features=sqrt, classifier__min_samples_leaf=1, classifier__n_estimators=400; total time=   0.6s\n",
            "[CV] END classifier=RandomForestClassifier(random_state=20), classifier__criterion=entropy, classifier__max_depth=15, classifier__max_features=sqrt, classifier__min_samples_leaf=1, classifier__n_estimators=400; total time=   0.6s\n",
            "[CV] END classifier=RandomForestClassifier(random_state=20), classifier__criterion=entropy, classifier__max_depth=15, classifier__max_features=sqrt, classifier__min_samples_leaf=1, classifier__n_estimators=400; total time=   0.6s\n",
            "[CV] END classifier=RandomForestClassifier(random_state=20), classifier__criterion=entropy, classifier__max_depth=15, classifier__max_features=sqrt, classifier__min_samples_leaf=1, classifier__n_estimators=400; total time=   0.6s\n",
            "[CV] END classifier=RandomForestClassifier(random_state=20), classifier__criterion=entropy, classifier__max_depth=15, classifier__max_features=sqrt, classifier__min_samples_leaf=1, classifier__n_estimators=400; total time=   0.6s\n",
            "[CV] END classifier=RandomForestClassifier(random_state=20), classifier__criterion=entropy, classifier__max_depth=15, classifier__max_features=sqrt, classifier__min_samples_leaf=3, classifier__n_estimators=130; total time=   0.2s\n",
            "[CV] END classifier=RandomForestClassifier(random_state=20), classifier__criterion=entropy, classifier__max_depth=15, classifier__max_features=sqrt, classifier__min_samples_leaf=3, classifier__n_estimators=130; total time=   0.2s\n",
            "[CV] END classifier=RandomForestClassifier(random_state=20), classifier__criterion=entropy, classifier__max_depth=15, classifier__max_features=sqrt, classifier__min_samples_leaf=3, classifier__n_estimators=130; total time=   0.2s\n",
            "[CV] END classifier=RandomForestClassifier(random_state=20), classifier__criterion=entropy, classifier__max_depth=15, classifier__max_features=sqrt, classifier__min_samples_leaf=3, classifier__n_estimators=130; total time=   0.2s\n",
            "[CV] END classifier=RandomForestClassifier(random_state=20), classifier__criterion=entropy, classifier__max_depth=15, classifier__max_features=sqrt, classifier__min_samples_leaf=3, classifier__n_estimators=130; total time=   0.2s\n",
            "[CV] END classifier=RandomForestClassifier(random_state=20), classifier__criterion=entropy, classifier__max_depth=15, classifier__max_features=sqrt, classifier__min_samples_leaf=3, classifier__n_estimators=190; total time=   0.3s\n",
            "[CV] END classifier=RandomForestClassifier(random_state=20), classifier__criterion=entropy, classifier__max_depth=15, classifier__max_features=sqrt, classifier__min_samples_leaf=3, classifier__n_estimators=190; total time=   0.3s\n",
            "[CV] END classifier=RandomForestClassifier(random_state=20), classifier__criterion=entropy, classifier__max_depth=15, classifier__max_features=sqrt, classifier__min_samples_leaf=3, classifier__n_estimators=190; total time=   0.3s\n",
            "[CV] END classifier=RandomForestClassifier(random_state=20), classifier__criterion=entropy, classifier__max_depth=15, classifier__max_features=sqrt, classifier__min_samples_leaf=3, classifier__n_estimators=190; total time=   0.3s\n",
            "[CV] END classifier=RandomForestClassifier(random_state=20), classifier__criterion=entropy, classifier__max_depth=15, classifier__max_features=sqrt, classifier__min_samples_leaf=3, classifier__n_estimators=190; total time=   0.3s\n",
            "[CV] END classifier=RandomForestClassifier(random_state=20), classifier__criterion=entropy, classifier__max_depth=15, classifier__max_features=sqrt, classifier__min_samples_leaf=3, classifier__n_estimators=400; total time=   0.6s\n",
            "[CV] END classifier=RandomForestClassifier(random_state=20), classifier__criterion=entropy, classifier__max_depth=15, classifier__max_features=sqrt, classifier__min_samples_leaf=3, classifier__n_estimators=400; total time=   0.7s\n",
            "[CV] END classifier=RandomForestClassifier(random_state=20), classifier__criterion=entropy, classifier__max_depth=15, classifier__max_features=sqrt, classifier__min_samples_leaf=3, classifier__n_estimators=400; total time=   0.6s\n",
            "[CV] END classifier=RandomForestClassifier(random_state=20), classifier__criterion=entropy, classifier__max_depth=15, classifier__max_features=sqrt, classifier__min_samples_leaf=3, classifier__n_estimators=400; total time=   0.6s\n",
            "[CV] END classifier=RandomForestClassifier(random_state=20), classifier__criterion=entropy, classifier__max_depth=15, classifier__max_features=sqrt, classifier__min_samples_leaf=3, classifier__n_estimators=400; total time=   0.6s\n",
            "[CV] END classifier=RandomForestClassifier(random_state=20), classifier__criterion=entropy, classifier__max_depth=15, classifier__max_features=sqrt, classifier__min_samples_leaf=5, classifier__n_estimators=130; total time=   0.2s\n",
            "[CV] END classifier=RandomForestClassifier(random_state=20), classifier__criterion=entropy, classifier__max_depth=15, classifier__max_features=sqrt, classifier__min_samples_leaf=5, classifier__n_estimators=130; total time=   0.2s\n",
            "[CV] END classifier=RandomForestClassifier(random_state=20), classifier__criterion=entropy, classifier__max_depth=15, classifier__max_features=sqrt, classifier__min_samples_leaf=5, classifier__n_estimators=130; total time=   0.2s\n",
            "[CV] END classifier=RandomForestClassifier(random_state=20), classifier__criterion=entropy, classifier__max_depth=15, classifier__max_features=sqrt, classifier__min_samples_leaf=5, classifier__n_estimators=130; total time=   0.2s\n",
            "[CV] END classifier=RandomForestClassifier(random_state=20), classifier__criterion=entropy, classifier__max_depth=15, classifier__max_features=sqrt, classifier__min_samples_leaf=5, classifier__n_estimators=130; total time=   0.2s\n",
            "[CV] END classifier=RandomForestClassifier(random_state=20), classifier__criterion=entropy, classifier__max_depth=15, classifier__max_features=sqrt, classifier__min_samples_leaf=5, classifier__n_estimators=190; total time=   0.3s\n",
            "[CV] END classifier=RandomForestClassifier(random_state=20), classifier__criterion=entropy, classifier__max_depth=15, classifier__max_features=sqrt, classifier__min_samples_leaf=5, classifier__n_estimators=190; total time=   0.3s\n",
            "[CV] END classifier=RandomForestClassifier(random_state=20), classifier__criterion=entropy, classifier__max_depth=15, classifier__max_features=sqrt, classifier__min_samples_leaf=5, classifier__n_estimators=190; total time=   0.3s\n",
            "[CV] END classifier=RandomForestClassifier(random_state=20), classifier__criterion=entropy, classifier__max_depth=15, classifier__max_features=sqrt, classifier__min_samples_leaf=5, classifier__n_estimators=190; total time=   0.3s\n",
            "[CV] END classifier=RandomForestClassifier(random_state=20), classifier__criterion=entropy, classifier__max_depth=15, classifier__max_features=sqrt, classifier__min_samples_leaf=5, classifier__n_estimators=190; total time=   0.3s\n",
            "[CV] END classifier=RandomForestClassifier(random_state=20), classifier__criterion=entropy, classifier__max_depth=15, classifier__max_features=sqrt, classifier__min_samples_leaf=5, classifier__n_estimators=400; total time=   0.6s\n",
            "[CV] END classifier=RandomForestClassifier(random_state=20), classifier__criterion=entropy, classifier__max_depth=15, classifier__max_features=sqrt, classifier__min_samples_leaf=5, classifier__n_estimators=400; total time=   0.6s\n",
            "[CV] END classifier=RandomForestClassifier(random_state=20), classifier__criterion=entropy, classifier__max_depth=15, classifier__max_features=sqrt, classifier__min_samples_leaf=5, classifier__n_estimators=400; total time=   0.6s\n",
            "[CV] END classifier=RandomForestClassifier(random_state=20), classifier__criterion=entropy, classifier__max_depth=15, classifier__max_features=sqrt, classifier__min_samples_leaf=5, classifier__n_estimators=400; total time=   0.6s\n",
            "[CV] END classifier=RandomForestClassifier(random_state=20), classifier__criterion=entropy, classifier__max_depth=15, classifier__max_features=sqrt, classifier__min_samples_leaf=5, classifier__n_estimators=400; total time=   0.6s\n",
            "[CV] END classifier=RandomForestClassifier(random_state=20), classifier__criterion=entropy, classifier__max_depth=15, classifier__max_features=log2, classifier__min_samples_leaf=1, classifier__n_estimators=130; total time=   0.2s\n",
            "[CV] END classifier=RandomForestClassifier(random_state=20), classifier__criterion=entropy, classifier__max_depth=15, classifier__max_features=log2, classifier__min_samples_leaf=1, classifier__n_estimators=130; total time=   0.2s\n",
            "[CV] END classifier=RandomForestClassifier(random_state=20), classifier__criterion=entropy, classifier__max_depth=15, classifier__max_features=log2, classifier__min_samples_leaf=1, classifier__n_estimators=130; total time=   0.2s\n",
            "[CV] END classifier=RandomForestClassifier(random_state=20), classifier__criterion=entropy, classifier__max_depth=15, classifier__max_features=log2, classifier__min_samples_leaf=1, classifier__n_estimators=130; total time=   0.2s\n",
            "[CV] END classifier=RandomForestClassifier(random_state=20), classifier__criterion=entropy, classifier__max_depth=15, classifier__max_features=log2, classifier__min_samples_leaf=1, classifier__n_estimators=130; total time=   0.2s\n",
            "[CV] END classifier=RandomForestClassifier(random_state=20), classifier__criterion=entropy, classifier__max_depth=15, classifier__max_features=log2, classifier__min_samples_leaf=1, classifier__n_estimators=190; total time=   0.3s\n",
            "[CV] END classifier=RandomForestClassifier(random_state=20), classifier__criterion=entropy, classifier__max_depth=15, classifier__max_features=log2, classifier__min_samples_leaf=1, classifier__n_estimators=190; total time=   0.3s\n",
            "[CV] END classifier=RandomForestClassifier(random_state=20), classifier__criterion=entropy, classifier__max_depth=15, classifier__max_features=log2, classifier__min_samples_leaf=1, classifier__n_estimators=190; total time=   0.3s\n",
            "[CV] END classifier=RandomForestClassifier(random_state=20), classifier__criterion=entropy, classifier__max_depth=15, classifier__max_features=log2, classifier__min_samples_leaf=1, classifier__n_estimators=190; total time=   0.3s\n",
            "[CV] END classifier=RandomForestClassifier(random_state=20), classifier__criterion=entropy, classifier__max_depth=15, classifier__max_features=log2, classifier__min_samples_leaf=1, classifier__n_estimators=190; total time=   0.3s\n",
            "[CV] END classifier=RandomForestClassifier(random_state=20), classifier__criterion=entropy, classifier__max_depth=15, classifier__max_features=log2, classifier__min_samples_leaf=1, classifier__n_estimators=400; total time=   0.6s\n",
            "[CV] END classifier=RandomForestClassifier(random_state=20), classifier__criterion=entropy, classifier__max_depth=15, classifier__max_features=log2, classifier__min_samples_leaf=1, classifier__n_estimators=400; total time=   0.6s\n",
            "[CV] END classifier=RandomForestClassifier(random_state=20), classifier__criterion=entropy, classifier__max_depth=15, classifier__max_features=log2, classifier__min_samples_leaf=1, classifier__n_estimators=400; total time=   0.6s\n",
            "[CV] END classifier=RandomForestClassifier(random_state=20), classifier__criterion=entropy, classifier__max_depth=15, classifier__max_features=log2, classifier__min_samples_leaf=1, classifier__n_estimators=400; total time=   0.6s\n",
            "[CV] END classifier=RandomForestClassifier(random_state=20), classifier__criterion=entropy, classifier__max_depth=15, classifier__max_features=log2, classifier__min_samples_leaf=1, classifier__n_estimators=400; total time=   0.6s\n",
            "[CV] END classifier=RandomForestClassifier(random_state=20), classifier__criterion=entropy, classifier__max_depth=15, classifier__max_features=log2, classifier__min_samples_leaf=3, classifier__n_estimators=130; total time=   0.2s\n",
            "[CV] END classifier=RandomForestClassifier(random_state=20), classifier__criterion=entropy, classifier__max_depth=15, classifier__max_features=log2, classifier__min_samples_leaf=3, classifier__n_estimators=130; total time=   0.2s\n",
            "[CV] END classifier=RandomForestClassifier(random_state=20), classifier__criterion=entropy, classifier__max_depth=15, classifier__max_features=log2, classifier__min_samples_leaf=3, classifier__n_estimators=130; total time=   0.2s\n",
            "[CV] END classifier=RandomForestClassifier(random_state=20), classifier__criterion=entropy, classifier__max_depth=15, classifier__max_features=log2, classifier__min_samples_leaf=3, classifier__n_estimators=130; total time=   0.2s\n",
            "[CV] END classifier=RandomForestClassifier(random_state=20), classifier__criterion=entropy, classifier__max_depth=15, classifier__max_features=log2, classifier__min_samples_leaf=3, classifier__n_estimators=130; total time=   0.2s\n",
            "[CV] END classifier=RandomForestClassifier(random_state=20), classifier__criterion=entropy, classifier__max_depth=15, classifier__max_features=log2, classifier__min_samples_leaf=3, classifier__n_estimators=190; total time=   0.3s\n",
            "[CV] END classifier=RandomForestClassifier(random_state=20), classifier__criterion=entropy, classifier__max_depth=15, classifier__max_features=log2, classifier__min_samples_leaf=3, classifier__n_estimators=190; total time=   0.3s\n",
            "[CV] END classifier=RandomForestClassifier(random_state=20), classifier__criterion=entropy, classifier__max_depth=15, classifier__max_features=log2, classifier__min_samples_leaf=3, classifier__n_estimators=190; total time=   0.3s\n",
            "[CV] END classifier=RandomForestClassifier(random_state=20), classifier__criterion=entropy, classifier__max_depth=15, classifier__max_features=log2, classifier__min_samples_leaf=3, classifier__n_estimators=190; total time=   0.3s\n",
            "[CV] END classifier=RandomForestClassifier(random_state=20), classifier__criterion=entropy, classifier__max_depth=15, classifier__max_features=log2, classifier__min_samples_leaf=3, classifier__n_estimators=190; total time=   0.3s\n",
            "[CV] END classifier=RandomForestClassifier(random_state=20), classifier__criterion=entropy, classifier__max_depth=15, classifier__max_features=log2, classifier__min_samples_leaf=3, classifier__n_estimators=400; total time=   0.6s\n",
            "[CV] END classifier=RandomForestClassifier(random_state=20), classifier__criterion=entropy, classifier__max_depth=15, classifier__max_features=log2, classifier__min_samples_leaf=3, classifier__n_estimators=400; total time=   0.6s\n",
            "[CV] END classifier=RandomForestClassifier(random_state=20), classifier__criterion=entropy, classifier__max_depth=15, classifier__max_features=log2, classifier__min_samples_leaf=3, classifier__n_estimators=400; total time=   0.6s\n",
            "[CV] END classifier=RandomForestClassifier(random_state=20), classifier__criterion=entropy, classifier__max_depth=15, classifier__max_features=log2, classifier__min_samples_leaf=3, classifier__n_estimators=400; total time=   0.6s\n",
            "[CV] END classifier=RandomForestClassifier(random_state=20), classifier__criterion=entropy, classifier__max_depth=15, classifier__max_features=log2, classifier__min_samples_leaf=3, classifier__n_estimators=400; total time=   0.6s\n",
            "[CV] END classifier=RandomForestClassifier(random_state=20), classifier__criterion=entropy, classifier__max_depth=15, classifier__max_features=log2, classifier__min_samples_leaf=5, classifier__n_estimators=130; total time=   0.2s\n",
            "[CV] END classifier=RandomForestClassifier(random_state=20), classifier__criterion=entropy, classifier__max_depth=15, classifier__max_features=log2, classifier__min_samples_leaf=5, classifier__n_estimators=130; total time=   0.2s\n",
            "[CV] END classifier=RandomForestClassifier(random_state=20), classifier__criterion=entropy, classifier__max_depth=15, classifier__max_features=log2, classifier__min_samples_leaf=5, classifier__n_estimators=130; total time=   0.2s\n",
            "[CV] END classifier=RandomForestClassifier(random_state=20), classifier__criterion=entropy, classifier__max_depth=15, classifier__max_features=log2, classifier__min_samples_leaf=5, classifier__n_estimators=130; total time=   0.2s\n",
            "[CV] END classifier=RandomForestClassifier(random_state=20), classifier__criterion=entropy, classifier__max_depth=15, classifier__max_features=log2, classifier__min_samples_leaf=5, classifier__n_estimators=130; total time=   0.2s\n",
            "[CV] END classifier=RandomForestClassifier(random_state=20), classifier__criterion=entropy, classifier__max_depth=15, classifier__max_features=log2, classifier__min_samples_leaf=5, classifier__n_estimators=190; total time=   0.3s\n",
            "[CV] END classifier=RandomForestClassifier(random_state=20), classifier__criterion=entropy, classifier__max_depth=15, classifier__max_features=log2, classifier__min_samples_leaf=5, classifier__n_estimators=190; total time=   0.3s\n",
            "[CV] END classifier=RandomForestClassifier(random_state=20), classifier__criterion=entropy, classifier__max_depth=15, classifier__max_features=log2, classifier__min_samples_leaf=5, classifier__n_estimators=190; total time=   0.3s\n",
            "[CV] END classifier=RandomForestClassifier(random_state=20), classifier__criterion=entropy, classifier__max_depth=15, classifier__max_features=log2, classifier__min_samples_leaf=5, classifier__n_estimators=190; total time=   0.3s\n",
            "[CV] END classifier=RandomForestClassifier(random_state=20), classifier__criterion=entropy, classifier__max_depth=15, classifier__max_features=log2, classifier__min_samples_leaf=5, classifier__n_estimators=190; total time=   0.3s\n",
            "[CV] END classifier=RandomForestClassifier(random_state=20), classifier__criterion=entropy, classifier__max_depth=15, classifier__max_features=log2, classifier__min_samples_leaf=5, classifier__n_estimators=400; total time=   0.6s\n",
            "[CV] END classifier=RandomForestClassifier(random_state=20), classifier__criterion=entropy, classifier__max_depth=15, classifier__max_features=log2, classifier__min_samples_leaf=5, classifier__n_estimators=400; total time=   0.6s\n",
            "[CV] END classifier=RandomForestClassifier(random_state=20), classifier__criterion=entropy, classifier__max_depth=15, classifier__max_features=log2, classifier__min_samples_leaf=5, classifier__n_estimators=400; total time=   0.6s\n",
            "[CV] END classifier=RandomForestClassifier(random_state=20), classifier__criterion=entropy, classifier__max_depth=15, classifier__max_features=log2, classifier__min_samples_leaf=5, classifier__n_estimators=400; total time=   0.6s\n",
            "[CV] END classifier=RandomForestClassifier(random_state=20), classifier__criterion=entropy, classifier__max_depth=15, classifier__max_features=log2, classifier__min_samples_leaf=5, classifier__n_estimators=400; total time=   0.6s\n",
            "[CV] END classifier=RandomForestClassifier(random_state=20), classifier__criterion=entropy, classifier__max_depth=20, classifier__max_features=sqrt, classifier__min_samples_leaf=1, classifier__n_estimators=130; total time=   0.2s\n",
            "[CV] END classifier=RandomForestClassifier(random_state=20), classifier__criterion=entropy, classifier__max_depth=20, classifier__max_features=sqrt, classifier__min_samples_leaf=1, classifier__n_estimators=130; total time=   0.3s\n",
            "[CV] END classifier=RandomForestClassifier(random_state=20), classifier__criterion=entropy, classifier__max_depth=20, classifier__max_features=sqrt, classifier__min_samples_leaf=1, classifier__n_estimators=130; total time=   0.3s\n",
            "[CV] END classifier=RandomForestClassifier(random_state=20), classifier__criterion=entropy, classifier__max_depth=20, classifier__max_features=sqrt, classifier__min_samples_leaf=1, classifier__n_estimators=130; total time=   0.3s\n",
            "[CV] END classifier=RandomForestClassifier(random_state=20), classifier__criterion=entropy, classifier__max_depth=20, classifier__max_features=sqrt, classifier__min_samples_leaf=1, classifier__n_estimators=130; total time=   0.3s\n",
            "[CV] END classifier=RandomForestClassifier(random_state=20), classifier__criterion=entropy, classifier__max_depth=20, classifier__max_features=sqrt, classifier__min_samples_leaf=1, classifier__n_estimators=190; total time=   0.5s\n",
            "[CV] END classifier=RandomForestClassifier(random_state=20), classifier__criterion=entropy, classifier__max_depth=20, classifier__max_features=sqrt, classifier__min_samples_leaf=1, classifier__n_estimators=190; total time=   0.5s\n",
            "[CV] END classifier=RandomForestClassifier(random_state=20), classifier__criterion=entropy, classifier__max_depth=20, classifier__max_features=sqrt, classifier__min_samples_leaf=1, classifier__n_estimators=190; total time=   0.4s\n",
            "[CV] END classifier=RandomForestClassifier(random_state=20), classifier__criterion=entropy, classifier__max_depth=20, classifier__max_features=sqrt, classifier__min_samples_leaf=1, classifier__n_estimators=190; total time=   0.3s\n",
            "[CV] END classifier=RandomForestClassifier(random_state=20), classifier__criterion=entropy, classifier__max_depth=20, classifier__max_features=sqrt, classifier__min_samples_leaf=1, classifier__n_estimators=190; total time=   0.3s\n",
            "[CV] END classifier=RandomForestClassifier(random_state=20), classifier__criterion=entropy, classifier__max_depth=20, classifier__max_features=sqrt, classifier__min_samples_leaf=1, classifier__n_estimators=400; total time=   0.6s\n",
            "[CV] END classifier=RandomForestClassifier(random_state=20), classifier__criterion=entropy, classifier__max_depth=20, classifier__max_features=sqrt, classifier__min_samples_leaf=1, classifier__n_estimators=400; total time=   0.6s\n",
            "[CV] END classifier=RandomForestClassifier(random_state=20), classifier__criterion=entropy, classifier__max_depth=20, classifier__max_features=sqrt, classifier__min_samples_leaf=1, classifier__n_estimators=400; total time=   0.7s\n",
            "[CV] END classifier=RandomForestClassifier(random_state=20), classifier__criterion=entropy, classifier__max_depth=20, classifier__max_features=sqrt, classifier__min_samples_leaf=1, classifier__n_estimators=400; total time=   0.6s\n",
            "[CV] END classifier=RandomForestClassifier(random_state=20), classifier__criterion=entropy, classifier__max_depth=20, classifier__max_features=sqrt, classifier__min_samples_leaf=1, classifier__n_estimators=400; total time=   0.7s\n",
            "[CV] END classifier=RandomForestClassifier(random_state=20), classifier__criterion=entropy, classifier__max_depth=20, classifier__max_features=sqrt, classifier__min_samples_leaf=3, classifier__n_estimators=130; total time=   0.2s\n",
            "[CV] END classifier=RandomForestClassifier(random_state=20), classifier__criterion=entropy, classifier__max_depth=20, classifier__max_features=sqrt, classifier__min_samples_leaf=3, classifier__n_estimators=130; total time=   0.2s\n",
            "[CV] END classifier=RandomForestClassifier(random_state=20), classifier__criterion=entropy, classifier__max_depth=20, classifier__max_features=sqrt, classifier__min_samples_leaf=3, classifier__n_estimators=130; total time=   0.2s\n",
            "[CV] END classifier=RandomForestClassifier(random_state=20), classifier__criterion=entropy, classifier__max_depth=20, classifier__max_features=sqrt, classifier__min_samples_leaf=3, classifier__n_estimators=130; total time=   0.2s\n",
            "[CV] END classifier=RandomForestClassifier(random_state=20), classifier__criterion=entropy, classifier__max_depth=20, classifier__max_features=sqrt, classifier__min_samples_leaf=3, classifier__n_estimators=130; total time=   0.2s\n",
            "[CV] END classifier=RandomForestClassifier(random_state=20), classifier__criterion=entropy, classifier__max_depth=20, classifier__max_features=sqrt, classifier__min_samples_leaf=3, classifier__n_estimators=190; total time=   0.3s\n",
            "[CV] END classifier=RandomForestClassifier(random_state=20), classifier__criterion=entropy, classifier__max_depth=20, classifier__max_features=sqrt, classifier__min_samples_leaf=3, classifier__n_estimators=190; total time=   0.3s\n",
            "[CV] END classifier=RandomForestClassifier(random_state=20), classifier__criterion=entropy, classifier__max_depth=20, classifier__max_features=sqrt, classifier__min_samples_leaf=3, classifier__n_estimators=190; total time=   0.3s\n",
            "[CV] END classifier=RandomForestClassifier(random_state=20), classifier__criterion=entropy, classifier__max_depth=20, classifier__max_features=sqrt, classifier__min_samples_leaf=3, classifier__n_estimators=190; total time=   0.3s\n",
            "[CV] END classifier=RandomForestClassifier(random_state=20), classifier__criterion=entropy, classifier__max_depth=20, classifier__max_features=sqrt, classifier__min_samples_leaf=3, classifier__n_estimators=190; total time=   0.3s\n",
            "[CV] END classifier=RandomForestClassifier(random_state=20), classifier__criterion=entropy, classifier__max_depth=20, classifier__max_features=sqrt, classifier__min_samples_leaf=3, classifier__n_estimators=400; total time=   0.6s\n",
            "[CV] END classifier=RandomForestClassifier(random_state=20), classifier__criterion=entropy, classifier__max_depth=20, classifier__max_features=sqrt, classifier__min_samples_leaf=3, classifier__n_estimators=400; total time=   0.6s\n",
            "[CV] END classifier=RandomForestClassifier(random_state=20), classifier__criterion=entropy, classifier__max_depth=20, classifier__max_features=sqrt, classifier__min_samples_leaf=3, classifier__n_estimators=400; total time=   0.6s\n",
            "[CV] END classifier=RandomForestClassifier(random_state=20), classifier__criterion=entropy, classifier__max_depth=20, classifier__max_features=sqrt, classifier__min_samples_leaf=3, classifier__n_estimators=400; total time=   0.6s\n",
            "[CV] END classifier=RandomForestClassifier(random_state=20), classifier__criterion=entropy, classifier__max_depth=20, classifier__max_features=sqrt, classifier__min_samples_leaf=3, classifier__n_estimators=400; total time=   0.6s\n",
            "[CV] END classifier=RandomForestClassifier(random_state=20), classifier__criterion=entropy, classifier__max_depth=20, classifier__max_features=sqrt, classifier__min_samples_leaf=5, classifier__n_estimators=130; total time=   0.2s\n",
            "[CV] END classifier=RandomForestClassifier(random_state=20), classifier__criterion=entropy, classifier__max_depth=20, classifier__max_features=sqrt, classifier__min_samples_leaf=5, classifier__n_estimators=130; total time=   0.2s\n",
            "[CV] END classifier=RandomForestClassifier(random_state=20), classifier__criterion=entropy, classifier__max_depth=20, classifier__max_features=sqrt, classifier__min_samples_leaf=5, classifier__n_estimators=130; total time=   0.2s\n",
            "[CV] END classifier=RandomForestClassifier(random_state=20), classifier__criterion=entropy, classifier__max_depth=20, classifier__max_features=sqrt, classifier__min_samples_leaf=5, classifier__n_estimators=130; total time=   0.2s\n",
            "[CV] END classifier=RandomForestClassifier(random_state=20), classifier__criterion=entropy, classifier__max_depth=20, classifier__max_features=sqrt, classifier__min_samples_leaf=5, classifier__n_estimators=130; total time=   0.2s\n",
            "[CV] END classifier=RandomForestClassifier(random_state=20), classifier__criterion=entropy, classifier__max_depth=20, classifier__max_features=sqrt, classifier__min_samples_leaf=5, classifier__n_estimators=190; total time=   0.3s\n",
            "[CV] END classifier=RandomForestClassifier(random_state=20), classifier__criterion=entropy, classifier__max_depth=20, classifier__max_features=sqrt, classifier__min_samples_leaf=5, classifier__n_estimators=190; total time=   0.3s\n",
            "[CV] END classifier=RandomForestClassifier(random_state=20), classifier__criterion=entropy, classifier__max_depth=20, classifier__max_features=sqrt, classifier__min_samples_leaf=5, classifier__n_estimators=190; total time=   0.3s\n",
            "[CV] END classifier=RandomForestClassifier(random_state=20), classifier__criterion=entropy, classifier__max_depth=20, classifier__max_features=sqrt, classifier__min_samples_leaf=5, classifier__n_estimators=190; total time=   0.3s\n",
            "[CV] END classifier=RandomForestClassifier(random_state=20), classifier__criterion=entropy, classifier__max_depth=20, classifier__max_features=sqrt, classifier__min_samples_leaf=5, classifier__n_estimators=190; total time=   0.3s\n",
            "[CV] END classifier=RandomForestClassifier(random_state=20), classifier__criterion=entropy, classifier__max_depth=20, classifier__max_features=sqrt, classifier__min_samples_leaf=5, classifier__n_estimators=400; total time=   0.6s\n",
            "[CV] END classifier=RandomForestClassifier(random_state=20), classifier__criterion=entropy, classifier__max_depth=20, classifier__max_features=sqrt, classifier__min_samples_leaf=5, classifier__n_estimators=400; total time=   0.6s\n",
            "[CV] END classifier=RandomForestClassifier(random_state=20), classifier__criterion=entropy, classifier__max_depth=20, classifier__max_features=sqrt, classifier__min_samples_leaf=5, classifier__n_estimators=400; total time=   0.6s\n",
            "[CV] END classifier=RandomForestClassifier(random_state=20), classifier__criterion=entropy, classifier__max_depth=20, classifier__max_features=sqrt, classifier__min_samples_leaf=5, classifier__n_estimators=400; total time=   0.6s\n",
            "[CV] END classifier=RandomForestClassifier(random_state=20), classifier__criterion=entropy, classifier__max_depth=20, classifier__max_features=sqrt, classifier__min_samples_leaf=5, classifier__n_estimators=400; total time=   0.6s\n",
            "[CV] END classifier=RandomForestClassifier(random_state=20), classifier__criterion=entropy, classifier__max_depth=20, classifier__max_features=log2, classifier__min_samples_leaf=1, classifier__n_estimators=130; total time=   0.2s\n",
            "[CV] END classifier=RandomForestClassifier(random_state=20), classifier__criterion=entropy, classifier__max_depth=20, classifier__max_features=log2, classifier__min_samples_leaf=1, classifier__n_estimators=130; total time=   0.2s\n",
            "[CV] END classifier=RandomForestClassifier(random_state=20), classifier__criterion=entropy, classifier__max_depth=20, classifier__max_features=log2, classifier__min_samples_leaf=1, classifier__n_estimators=130; total time=   0.2s\n",
            "[CV] END classifier=RandomForestClassifier(random_state=20), classifier__criterion=entropy, classifier__max_depth=20, classifier__max_features=log2, classifier__min_samples_leaf=1, classifier__n_estimators=130; total time=   0.2s\n",
            "[CV] END classifier=RandomForestClassifier(random_state=20), classifier__criterion=entropy, classifier__max_depth=20, classifier__max_features=log2, classifier__min_samples_leaf=1, classifier__n_estimators=130; total time=   0.2s\n",
            "[CV] END classifier=RandomForestClassifier(random_state=20), classifier__criterion=entropy, classifier__max_depth=20, classifier__max_features=log2, classifier__min_samples_leaf=1, classifier__n_estimators=190; total time=   0.3s\n",
            "[CV] END classifier=RandomForestClassifier(random_state=20), classifier__criterion=entropy, classifier__max_depth=20, classifier__max_features=log2, classifier__min_samples_leaf=1, classifier__n_estimators=190; total time=   0.3s\n",
            "[CV] END classifier=RandomForestClassifier(random_state=20), classifier__criterion=entropy, classifier__max_depth=20, classifier__max_features=log2, classifier__min_samples_leaf=1, classifier__n_estimators=190; total time=   0.3s\n",
            "[CV] END classifier=RandomForestClassifier(random_state=20), classifier__criterion=entropy, classifier__max_depth=20, classifier__max_features=log2, classifier__min_samples_leaf=1, classifier__n_estimators=190; total time=   0.3s\n",
            "[CV] END classifier=RandomForestClassifier(random_state=20), classifier__criterion=entropy, classifier__max_depth=20, classifier__max_features=log2, classifier__min_samples_leaf=1, classifier__n_estimators=190; total time=   0.3s\n",
            "[CV] END classifier=RandomForestClassifier(random_state=20), classifier__criterion=entropy, classifier__max_depth=20, classifier__max_features=log2, classifier__min_samples_leaf=1, classifier__n_estimators=400; total time=   0.6s\n",
            "[CV] END classifier=RandomForestClassifier(random_state=20), classifier__criterion=entropy, classifier__max_depth=20, classifier__max_features=log2, classifier__min_samples_leaf=1, classifier__n_estimators=400; total time=   0.6s\n",
            "[CV] END classifier=RandomForestClassifier(random_state=20), classifier__criterion=entropy, classifier__max_depth=20, classifier__max_features=log2, classifier__min_samples_leaf=1, classifier__n_estimators=400; total time=   0.6s\n",
            "[CV] END classifier=RandomForestClassifier(random_state=20), classifier__criterion=entropy, classifier__max_depth=20, classifier__max_features=log2, classifier__min_samples_leaf=1, classifier__n_estimators=400; total time=   0.6s\n",
            "[CV] END classifier=RandomForestClassifier(random_state=20), classifier__criterion=entropy, classifier__max_depth=20, classifier__max_features=log2, classifier__min_samples_leaf=1, classifier__n_estimators=400; total time=   0.6s\n",
            "[CV] END classifier=RandomForestClassifier(random_state=20), classifier__criterion=entropy, classifier__max_depth=20, classifier__max_features=log2, classifier__min_samples_leaf=3, classifier__n_estimators=130; total time=   0.2s\n",
            "[CV] END classifier=RandomForestClassifier(random_state=20), classifier__criterion=entropy, classifier__max_depth=20, classifier__max_features=log2, classifier__min_samples_leaf=3, classifier__n_estimators=130; total time=   0.2s\n",
            "[CV] END classifier=RandomForestClassifier(random_state=20), classifier__criterion=entropy, classifier__max_depth=20, classifier__max_features=log2, classifier__min_samples_leaf=3, classifier__n_estimators=130; total time=   0.2s\n",
            "[CV] END classifier=RandomForestClassifier(random_state=20), classifier__criterion=entropy, classifier__max_depth=20, classifier__max_features=log2, classifier__min_samples_leaf=3, classifier__n_estimators=130; total time=   0.2s\n",
            "[CV] END classifier=RandomForestClassifier(random_state=20), classifier__criterion=entropy, classifier__max_depth=20, classifier__max_features=log2, classifier__min_samples_leaf=3, classifier__n_estimators=130; total time=   0.2s\n",
            "[CV] END classifier=RandomForestClassifier(random_state=20), classifier__criterion=entropy, classifier__max_depth=20, classifier__max_features=log2, classifier__min_samples_leaf=3, classifier__n_estimators=190; total time=   0.3s\n",
            "[CV] END classifier=RandomForestClassifier(random_state=20), classifier__criterion=entropy, classifier__max_depth=20, classifier__max_features=log2, classifier__min_samples_leaf=3, classifier__n_estimators=190; total time=   0.3s\n",
            "[CV] END classifier=RandomForestClassifier(random_state=20), classifier__criterion=entropy, classifier__max_depth=20, classifier__max_features=log2, classifier__min_samples_leaf=3, classifier__n_estimators=190; total time=   0.3s\n",
            "[CV] END classifier=RandomForestClassifier(random_state=20), classifier__criterion=entropy, classifier__max_depth=20, classifier__max_features=log2, classifier__min_samples_leaf=3, classifier__n_estimators=190; total time=   0.3s\n",
            "[CV] END classifier=RandomForestClassifier(random_state=20), classifier__criterion=entropy, classifier__max_depth=20, classifier__max_features=log2, classifier__min_samples_leaf=3, classifier__n_estimators=190; total time=   0.3s\n",
            "[CV] END classifier=RandomForestClassifier(random_state=20), classifier__criterion=entropy, classifier__max_depth=20, classifier__max_features=log2, classifier__min_samples_leaf=3, classifier__n_estimators=400; total time=   0.6s\n",
            "[CV] END classifier=RandomForestClassifier(random_state=20), classifier__criterion=entropy, classifier__max_depth=20, classifier__max_features=log2, classifier__min_samples_leaf=3, classifier__n_estimators=400; total time=   0.6s\n",
            "[CV] END classifier=RandomForestClassifier(random_state=20), classifier__criterion=entropy, classifier__max_depth=20, classifier__max_features=log2, classifier__min_samples_leaf=3, classifier__n_estimators=400; total time=   0.6s\n",
            "[CV] END classifier=RandomForestClassifier(random_state=20), classifier__criterion=entropy, classifier__max_depth=20, classifier__max_features=log2, classifier__min_samples_leaf=3, classifier__n_estimators=400; total time=   0.6s\n",
            "[CV] END classifier=RandomForestClassifier(random_state=20), classifier__criterion=entropy, classifier__max_depth=20, classifier__max_features=log2, classifier__min_samples_leaf=3, classifier__n_estimators=400; total time=   0.6s\n",
            "[CV] END classifier=RandomForestClassifier(random_state=20), classifier__criterion=entropy, classifier__max_depth=20, classifier__max_features=log2, classifier__min_samples_leaf=5, classifier__n_estimators=130; total time=   0.2s\n",
            "[CV] END classifier=RandomForestClassifier(random_state=20), classifier__criterion=entropy, classifier__max_depth=20, classifier__max_features=log2, classifier__min_samples_leaf=5, classifier__n_estimators=130; total time=   0.2s\n",
            "[CV] END classifier=RandomForestClassifier(random_state=20), classifier__criterion=entropy, classifier__max_depth=20, classifier__max_features=log2, classifier__min_samples_leaf=5, classifier__n_estimators=130; total time=   0.2s\n",
            "[CV] END classifier=RandomForestClassifier(random_state=20), classifier__criterion=entropy, classifier__max_depth=20, classifier__max_features=log2, classifier__min_samples_leaf=5, classifier__n_estimators=130; total time=   0.2s\n",
            "[CV] END classifier=RandomForestClassifier(random_state=20), classifier__criterion=entropy, classifier__max_depth=20, classifier__max_features=log2, classifier__min_samples_leaf=5, classifier__n_estimators=130; total time=   0.2s\n",
            "[CV] END classifier=RandomForestClassifier(random_state=20), classifier__criterion=entropy, classifier__max_depth=20, classifier__max_features=log2, classifier__min_samples_leaf=5, classifier__n_estimators=190; total time=   0.3s\n",
            "[CV] END classifier=RandomForestClassifier(random_state=20), classifier__criterion=entropy, classifier__max_depth=20, classifier__max_features=log2, classifier__min_samples_leaf=5, classifier__n_estimators=190; total time=   0.3s\n",
            "[CV] END classifier=RandomForestClassifier(random_state=20), classifier__criterion=entropy, classifier__max_depth=20, classifier__max_features=log2, classifier__min_samples_leaf=5, classifier__n_estimators=190; total time=   0.3s\n",
            "[CV] END classifier=RandomForestClassifier(random_state=20), classifier__criterion=entropy, classifier__max_depth=20, classifier__max_features=log2, classifier__min_samples_leaf=5, classifier__n_estimators=190; total time=   0.3s\n",
            "[CV] END classifier=RandomForestClassifier(random_state=20), classifier__criterion=entropy, classifier__max_depth=20, classifier__max_features=log2, classifier__min_samples_leaf=5, classifier__n_estimators=190; total time=   0.3s\n",
            "[CV] END classifier=RandomForestClassifier(random_state=20), classifier__criterion=entropy, classifier__max_depth=20, classifier__max_features=log2, classifier__min_samples_leaf=5, classifier__n_estimators=400; total time=   0.6s\n",
            "[CV] END classifier=RandomForestClassifier(random_state=20), classifier__criterion=entropy, classifier__max_depth=20, classifier__max_features=log2, classifier__min_samples_leaf=5, classifier__n_estimators=400; total time=   0.6s\n",
            "[CV] END classifier=RandomForestClassifier(random_state=20), classifier__criterion=entropy, classifier__max_depth=20, classifier__max_features=log2, classifier__min_samples_leaf=5, classifier__n_estimators=400; total time=   0.6s\n",
            "[CV] END classifier=RandomForestClassifier(random_state=20), classifier__criterion=entropy, classifier__max_depth=20, classifier__max_features=log2, classifier__min_samples_leaf=5, classifier__n_estimators=400; total time=   0.6s\n",
            "[CV] END classifier=RandomForestClassifier(random_state=20), classifier__criterion=entropy, classifier__max_depth=20, classifier__max_features=log2, classifier__min_samples_leaf=5, classifier__n_estimators=400; total time=   0.6s\n",
            "[CV] END classifier=RandomForestClassifier(random_state=20), classifier__criterion=entropy, classifier__max_depth=25, classifier__max_features=sqrt, classifier__min_samples_leaf=1, classifier__n_estimators=130; total time=   0.2s\n",
            "[CV] END classifier=RandomForestClassifier(random_state=20), classifier__criterion=entropy, classifier__max_depth=25, classifier__max_features=sqrt, classifier__min_samples_leaf=1, classifier__n_estimators=130; total time=   0.2s\n",
            "[CV] END classifier=RandomForestClassifier(random_state=20), classifier__criterion=entropy, classifier__max_depth=25, classifier__max_features=sqrt, classifier__min_samples_leaf=1, classifier__n_estimators=130; total time=   0.2s\n",
            "[CV] END classifier=RandomForestClassifier(random_state=20), classifier__criterion=entropy, classifier__max_depth=25, classifier__max_features=sqrt, classifier__min_samples_leaf=1, classifier__n_estimators=130; total time=   0.2s\n",
            "[CV] END classifier=RandomForestClassifier(random_state=20), classifier__criterion=entropy, classifier__max_depth=25, classifier__max_features=sqrt, classifier__min_samples_leaf=1, classifier__n_estimators=130; total time=   0.2s\n",
            "[CV] END classifier=RandomForestClassifier(random_state=20), classifier__criterion=entropy, classifier__max_depth=25, classifier__max_features=sqrt, classifier__min_samples_leaf=1, classifier__n_estimators=190; total time=   0.3s\n",
            "[CV] END classifier=RandomForestClassifier(random_state=20), classifier__criterion=entropy, classifier__max_depth=25, classifier__max_features=sqrt, classifier__min_samples_leaf=1, classifier__n_estimators=190; total time=   0.3s\n",
            "[CV] END classifier=RandomForestClassifier(random_state=20), classifier__criterion=entropy, classifier__max_depth=25, classifier__max_features=sqrt, classifier__min_samples_leaf=1, classifier__n_estimators=190; total time=   0.3s\n",
            "[CV] END classifier=RandomForestClassifier(random_state=20), classifier__criterion=entropy, classifier__max_depth=25, classifier__max_features=sqrt, classifier__min_samples_leaf=1, classifier__n_estimators=190; total time=   0.3s\n",
            "[CV] END classifier=RandomForestClassifier(random_state=20), classifier__criterion=entropy, classifier__max_depth=25, classifier__max_features=sqrt, classifier__min_samples_leaf=1, classifier__n_estimators=190; total time=   0.3s\n",
            "[CV] END classifier=RandomForestClassifier(random_state=20), classifier__criterion=entropy, classifier__max_depth=25, classifier__max_features=sqrt, classifier__min_samples_leaf=1, classifier__n_estimators=400; total time=   0.6s\n",
            "[CV] END classifier=RandomForestClassifier(random_state=20), classifier__criterion=entropy, classifier__max_depth=25, classifier__max_features=sqrt, classifier__min_samples_leaf=1, classifier__n_estimators=400; total time=   0.6s\n",
            "[CV] END classifier=RandomForestClassifier(random_state=20), classifier__criterion=entropy, classifier__max_depth=25, classifier__max_features=sqrt, classifier__min_samples_leaf=1, classifier__n_estimators=400; total time=   0.6s\n",
            "[CV] END classifier=RandomForestClassifier(random_state=20), classifier__criterion=entropy, classifier__max_depth=25, classifier__max_features=sqrt, classifier__min_samples_leaf=1, classifier__n_estimators=400; total time=   0.7s\n",
            "[CV] END classifier=RandomForestClassifier(random_state=20), classifier__criterion=entropy, classifier__max_depth=25, classifier__max_features=sqrt, classifier__min_samples_leaf=1, classifier__n_estimators=400; total time=   0.6s\n",
            "[CV] END classifier=RandomForestClassifier(random_state=20), classifier__criterion=entropy, classifier__max_depth=25, classifier__max_features=sqrt, classifier__min_samples_leaf=3, classifier__n_estimators=130; total time=   0.2s\n",
            "[CV] END classifier=RandomForestClassifier(random_state=20), classifier__criterion=entropy, classifier__max_depth=25, classifier__max_features=sqrt, classifier__min_samples_leaf=3, classifier__n_estimators=130; total time=   0.2s\n",
            "[CV] END classifier=RandomForestClassifier(random_state=20), classifier__criterion=entropy, classifier__max_depth=25, classifier__max_features=sqrt, classifier__min_samples_leaf=3, classifier__n_estimators=130; total time=   0.2s\n",
            "[CV] END classifier=RandomForestClassifier(random_state=20), classifier__criterion=entropy, classifier__max_depth=25, classifier__max_features=sqrt, classifier__min_samples_leaf=3, classifier__n_estimators=130; total time=   0.2s\n",
            "[CV] END classifier=RandomForestClassifier(random_state=20), classifier__criterion=entropy, classifier__max_depth=25, classifier__max_features=sqrt, classifier__min_samples_leaf=3, classifier__n_estimators=130; total time=   0.3s\n",
            "[CV] END classifier=RandomForestClassifier(random_state=20), classifier__criterion=entropy, classifier__max_depth=25, classifier__max_features=sqrt, classifier__min_samples_leaf=3, classifier__n_estimators=190; total time=   0.5s\n",
            "[CV] END classifier=RandomForestClassifier(random_state=20), classifier__criterion=entropy, classifier__max_depth=25, classifier__max_features=sqrt, classifier__min_samples_leaf=3, classifier__n_estimators=190; total time=   0.5s\n",
            "[CV] END classifier=RandomForestClassifier(random_state=20), classifier__criterion=entropy, classifier__max_depth=25, classifier__max_features=sqrt, classifier__min_samples_leaf=3, classifier__n_estimators=190; total time=   0.6s\n",
            "[CV] END classifier=RandomForestClassifier(random_state=20), classifier__criterion=entropy, classifier__max_depth=25, classifier__max_features=sqrt, classifier__min_samples_leaf=3, classifier__n_estimators=190; total time=   0.6s\n",
            "[CV] END classifier=RandomForestClassifier(random_state=20), classifier__criterion=entropy, classifier__max_depth=25, classifier__max_features=sqrt, classifier__min_samples_leaf=3, classifier__n_estimators=190; total time=   0.5s\n",
            "[CV] END classifier=RandomForestClassifier(random_state=20), classifier__criterion=entropy, classifier__max_depth=25, classifier__max_features=sqrt, classifier__min_samples_leaf=3, classifier__n_estimators=400; total time=   1.0s\n",
            "[CV] END classifier=RandomForestClassifier(random_state=20), classifier__criterion=entropy, classifier__max_depth=25, classifier__max_features=sqrt, classifier__min_samples_leaf=3, classifier__n_estimators=400; total time=   0.8s\n",
            "[CV] END classifier=RandomForestClassifier(random_state=20), classifier__criterion=entropy, classifier__max_depth=25, classifier__max_features=sqrt, classifier__min_samples_leaf=3, classifier__n_estimators=400; total time=   0.6s\n",
            "[CV] END classifier=RandomForestClassifier(random_state=20), classifier__criterion=entropy, classifier__max_depth=25, classifier__max_features=sqrt, classifier__min_samples_leaf=3, classifier__n_estimators=400; total time=   0.6s\n",
            "[CV] END classifier=RandomForestClassifier(random_state=20), classifier__criterion=entropy, classifier__max_depth=25, classifier__max_features=sqrt, classifier__min_samples_leaf=3, classifier__n_estimators=400; total time=   0.6s\n",
            "[CV] END classifier=RandomForestClassifier(random_state=20), classifier__criterion=entropy, classifier__max_depth=25, classifier__max_features=sqrt, classifier__min_samples_leaf=5, classifier__n_estimators=130; total time=   0.2s\n",
            "[CV] END classifier=RandomForestClassifier(random_state=20), classifier__criterion=entropy, classifier__max_depth=25, classifier__max_features=sqrt, classifier__min_samples_leaf=5, classifier__n_estimators=130; total time=   0.2s\n",
            "[CV] END classifier=RandomForestClassifier(random_state=20), classifier__criterion=entropy, classifier__max_depth=25, classifier__max_features=sqrt, classifier__min_samples_leaf=5, classifier__n_estimators=130; total time=   0.2s\n",
            "[CV] END classifier=RandomForestClassifier(random_state=20), classifier__criterion=entropy, classifier__max_depth=25, classifier__max_features=sqrt, classifier__min_samples_leaf=5, classifier__n_estimators=130; total time=   0.2s\n",
            "[CV] END classifier=RandomForestClassifier(random_state=20), classifier__criterion=entropy, classifier__max_depth=25, classifier__max_features=sqrt, classifier__min_samples_leaf=5, classifier__n_estimators=130; total time=   0.2s\n",
            "[CV] END classifier=RandomForestClassifier(random_state=20), classifier__criterion=entropy, classifier__max_depth=25, classifier__max_features=sqrt, classifier__min_samples_leaf=5, classifier__n_estimators=190; total time=   0.3s\n",
            "[CV] END classifier=RandomForestClassifier(random_state=20), classifier__criterion=entropy, classifier__max_depth=25, classifier__max_features=sqrt, classifier__min_samples_leaf=5, classifier__n_estimators=190; total time=   0.3s\n",
            "[CV] END classifier=RandomForestClassifier(random_state=20), classifier__criterion=entropy, classifier__max_depth=25, classifier__max_features=sqrt, classifier__min_samples_leaf=5, classifier__n_estimators=190; total time=   0.3s\n",
            "[CV] END classifier=RandomForestClassifier(random_state=20), classifier__criterion=entropy, classifier__max_depth=25, classifier__max_features=sqrt, classifier__min_samples_leaf=5, classifier__n_estimators=190; total time=   0.3s\n",
            "[CV] END classifier=RandomForestClassifier(random_state=20), classifier__criterion=entropy, classifier__max_depth=25, classifier__max_features=sqrt, classifier__min_samples_leaf=5, classifier__n_estimators=190; total time=   0.3s\n",
            "[CV] END classifier=RandomForestClassifier(random_state=20), classifier__criterion=entropy, classifier__max_depth=25, classifier__max_features=sqrt, classifier__min_samples_leaf=5, classifier__n_estimators=400; total time=   0.6s\n",
            "[CV] END classifier=RandomForestClassifier(random_state=20), classifier__criterion=entropy, classifier__max_depth=25, classifier__max_features=sqrt, classifier__min_samples_leaf=5, classifier__n_estimators=400; total time=   0.6s\n",
            "[CV] END classifier=RandomForestClassifier(random_state=20), classifier__criterion=entropy, classifier__max_depth=25, classifier__max_features=sqrt, classifier__min_samples_leaf=5, classifier__n_estimators=400; total time=   0.6s\n",
            "[CV] END classifier=RandomForestClassifier(random_state=20), classifier__criterion=entropy, classifier__max_depth=25, classifier__max_features=sqrt, classifier__min_samples_leaf=5, classifier__n_estimators=400; total time=   0.6s\n",
            "[CV] END classifier=RandomForestClassifier(random_state=20), classifier__criterion=entropy, classifier__max_depth=25, classifier__max_features=sqrt, classifier__min_samples_leaf=5, classifier__n_estimators=400; total time=   0.6s\n",
            "[CV] END classifier=RandomForestClassifier(random_state=20), classifier__criterion=entropy, classifier__max_depth=25, classifier__max_features=log2, classifier__min_samples_leaf=1, classifier__n_estimators=130; total time=   0.2s\n",
            "[CV] END classifier=RandomForestClassifier(random_state=20), classifier__criterion=entropy, classifier__max_depth=25, classifier__max_features=log2, classifier__min_samples_leaf=1, classifier__n_estimators=130; total time=   0.2s\n",
            "[CV] END classifier=RandomForestClassifier(random_state=20), classifier__criterion=entropy, classifier__max_depth=25, classifier__max_features=log2, classifier__min_samples_leaf=1, classifier__n_estimators=130; total time=   0.2s\n",
            "[CV] END classifier=RandomForestClassifier(random_state=20), classifier__criterion=entropy, classifier__max_depth=25, classifier__max_features=log2, classifier__min_samples_leaf=1, classifier__n_estimators=130; total time=   0.2s\n",
            "[CV] END classifier=RandomForestClassifier(random_state=20), classifier__criterion=entropy, classifier__max_depth=25, classifier__max_features=log2, classifier__min_samples_leaf=1, classifier__n_estimators=130; total time=   0.2s\n",
            "[CV] END classifier=RandomForestClassifier(random_state=20), classifier__criterion=entropy, classifier__max_depth=25, classifier__max_features=log2, classifier__min_samples_leaf=1, classifier__n_estimators=190; total time=   0.3s\n",
            "[CV] END classifier=RandomForestClassifier(random_state=20), classifier__criterion=entropy, classifier__max_depth=25, classifier__max_features=log2, classifier__min_samples_leaf=1, classifier__n_estimators=190; total time=   0.3s\n",
            "[CV] END classifier=RandomForestClassifier(random_state=20), classifier__criterion=entropy, classifier__max_depth=25, classifier__max_features=log2, classifier__min_samples_leaf=1, classifier__n_estimators=190; total time=   0.3s\n",
            "[CV] END classifier=RandomForestClassifier(random_state=20), classifier__criterion=entropy, classifier__max_depth=25, classifier__max_features=log2, classifier__min_samples_leaf=1, classifier__n_estimators=190; total time=   0.3s\n",
            "[CV] END classifier=RandomForestClassifier(random_state=20), classifier__criterion=entropy, classifier__max_depth=25, classifier__max_features=log2, classifier__min_samples_leaf=1, classifier__n_estimators=190; total time=   0.3s\n",
            "[CV] END classifier=RandomForestClassifier(random_state=20), classifier__criterion=entropy, classifier__max_depth=25, classifier__max_features=log2, classifier__min_samples_leaf=1, classifier__n_estimators=400; total time=   0.6s\n",
            "[CV] END classifier=RandomForestClassifier(random_state=20), classifier__criterion=entropy, classifier__max_depth=25, classifier__max_features=log2, classifier__min_samples_leaf=1, classifier__n_estimators=400; total time=   0.6s\n",
            "[CV] END classifier=RandomForestClassifier(random_state=20), classifier__criterion=entropy, classifier__max_depth=25, classifier__max_features=log2, classifier__min_samples_leaf=1, classifier__n_estimators=400; total time=   0.6s\n",
            "[CV] END classifier=RandomForestClassifier(random_state=20), classifier__criterion=entropy, classifier__max_depth=25, classifier__max_features=log2, classifier__min_samples_leaf=1, classifier__n_estimators=400; total time=   0.6s\n",
            "[CV] END classifier=RandomForestClassifier(random_state=20), classifier__criterion=entropy, classifier__max_depth=25, classifier__max_features=log2, classifier__min_samples_leaf=1, classifier__n_estimators=400; total time=   0.6s\n",
            "[CV] END classifier=RandomForestClassifier(random_state=20), classifier__criterion=entropy, classifier__max_depth=25, classifier__max_features=log2, classifier__min_samples_leaf=3, classifier__n_estimators=130; total time=   0.2s\n",
            "[CV] END classifier=RandomForestClassifier(random_state=20), classifier__criterion=entropy, classifier__max_depth=25, classifier__max_features=log2, classifier__min_samples_leaf=3, classifier__n_estimators=130; total time=   0.2s\n",
            "[CV] END classifier=RandomForestClassifier(random_state=20), classifier__criterion=entropy, classifier__max_depth=25, classifier__max_features=log2, classifier__min_samples_leaf=3, classifier__n_estimators=130; total time=   0.2s\n",
            "[CV] END classifier=RandomForestClassifier(random_state=20), classifier__criterion=entropy, classifier__max_depth=25, classifier__max_features=log2, classifier__min_samples_leaf=3, classifier__n_estimators=130; total time=   0.2s\n",
            "[CV] END classifier=RandomForestClassifier(random_state=20), classifier__criterion=entropy, classifier__max_depth=25, classifier__max_features=log2, classifier__min_samples_leaf=3, classifier__n_estimators=130; total time=   0.2s\n",
            "[CV] END classifier=RandomForestClassifier(random_state=20), classifier__criterion=entropy, classifier__max_depth=25, classifier__max_features=log2, classifier__min_samples_leaf=3, classifier__n_estimators=190; total time=   0.3s\n",
            "[CV] END classifier=RandomForestClassifier(random_state=20), classifier__criterion=entropy, classifier__max_depth=25, classifier__max_features=log2, classifier__min_samples_leaf=3, classifier__n_estimators=190; total time=   0.3s\n",
            "[CV] END classifier=RandomForestClassifier(random_state=20), classifier__criterion=entropy, classifier__max_depth=25, classifier__max_features=log2, classifier__min_samples_leaf=3, classifier__n_estimators=190; total time=   0.3s\n",
            "[CV] END classifier=RandomForestClassifier(random_state=20), classifier__criterion=entropy, classifier__max_depth=25, classifier__max_features=log2, classifier__min_samples_leaf=3, classifier__n_estimators=190; total time=   0.3s\n",
            "[CV] END classifier=RandomForestClassifier(random_state=20), classifier__criterion=entropy, classifier__max_depth=25, classifier__max_features=log2, classifier__min_samples_leaf=3, classifier__n_estimators=190; total time=   0.3s\n",
            "[CV] END classifier=RandomForestClassifier(random_state=20), classifier__criterion=entropy, classifier__max_depth=25, classifier__max_features=log2, classifier__min_samples_leaf=3, classifier__n_estimators=400; total time=   0.6s\n",
            "[CV] END classifier=RandomForestClassifier(random_state=20), classifier__criterion=entropy, classifier__max_depth=25, classifier__max_features=log2, classifier__min_samples_leaf=3, classifier__n_estimators=400; total time=   0.7s\n",
            "[CV] END classifier=RandomForestClassifier(random_state=20), classifier__criterion=entropy, classifier__max_depth=25, classifier__max_features=log2, classifier__min_samples_leaf=3, classifier__n_estimators=400; total time=   1.0s\n",
            "[CV] END classifier=RandomForestClassifier(random_state=20), classifier__criterion=entropy, classifier__max_depth=25, classifier__max_features=log2, classifier__min_samples_leaf=3, classifier__n_estimators=400; total time=   1.0s\n",
            "[CV] END classifier=RandomForestClassifier(random_state=20), classifier__criterion=entropy, classifier__max_depth=25, classifier__max_features=log2, classifier__min_samples_leaf=3, classifier__n_estimators=400; total time=   0.8s\n",
            "[CV] END classifier=RandomForestClassifier(random_state=20), classifier__criterion=entropy, classifier__max_depth=25, classifier__max_features=log2, classifier__min_samples_leaf=5, classifier__n_estimators=130; total time=   0.2s\n",
            "[CV] END classifier=RandomForestClassifier(random_state=20), classifier__criterion=entropy, classifier__max_depth=25, classifier__max_features=log2, classifier__min_samples_leaf=5, classifier__n_estimators=130; total time=   0.2s\n",
            "[CV] END classifier=RandomForestClassifier(random_state=20), classifier__criterion=entropy, classifier__max_depth=25, classifier__max_features=log2, classifier__min_samples_leaf=5, classifier__n_estimators=130; total time=   0.2s\n",
            "[CV] END classifier=RandomForestClassifier(random_state=20), classifier__criterion=entropy, classifier__max_depth=25, classifier__max_features=log2, classifier__min_samples_leaf=5, classifier__n_estimators=130; total time=   0.2s\n",
            "[CV] END classifier=RandomForestClassifier(random_state=20), classifier__criterion=entropy, classifier__max_depth=25, classifier__max_features=log2, classifier__min_samples_leaf=5, classifier__n_estimators=130; total time=   0.2s\n",
            "[CV] END classifier=RandomForestClassifier(random_state=20), classifier__criterion=entropy, classifier__max_depth=25, classifier__max_features=log2, classifier__min_samples_leaf=5, classifier__n_estimators=190; total time=   0.3s\n",
            "[CV] END classifier=RandomForestClassifier(random_state=20), classifier__criterion=entropy, classifier__max_depth=25, classifier__max_features=log2, classifier__min_samples_leaf=5, classifier__n_estimators=190; total time=   0.3s\n",
            "[CV] END classifier=RandomForestClassifier(random_state=20), classifier__criterion=entropy, classifier__max_depth=25, classifier__max_features=log2, classifier__min_samples_leaf=5, classifier__n_estimators=190; total time=   0.3s\n",
            "[CV] END classifier=RandomForestClassifier(random_state=20), classifier__criterion=entropy, classifier__max_depth=25, classifier__max_features=log2, classifier__min_samples_leaf=5, classifier__n_estimators=190; total time=   0.3s\n",
            "[CV] END classifier=RandomForestClassifier(random_state=20), classifier__criterion=entropy, classifier__max_depth=25, classifier__max_features=log2, classifier__min_samples_leaf=5, classifier__n_estimators=190; total time=   0.3s\n",
            "[CV] END classifier=RandomForestClassifier(random_state=20), classifier__criterion=entropy, classifier__max_depth=25, classifier__max_features=log2, classifier__min_samples_leaf=5, classifier__n_estimators=400; total time=   0.6s\n",
            "[CV] END classifier=RandomForestClassifier(random_state=20), classifier__criterion=entropy, classifier__max_depth=25, classifier__max_features=log2, classifier__min_samples_leaf=5, classifier__n_estimators=400; total time=   0.6s\n",
            "[CV] END classifier=RandomForestClassifier(random_state=20), classifier__criterion=entropy, classifier__max_depth=25, classifier__max_features=log2, classifier__min_samples_leaf=5, classifier__n_estimators=400; total time=   0.6s\n",
            "[CV] END classifier=RandomForestClassifier(random_state=20), classifier__criterion=entropy, classifier__max_depth=25, classifier__max_features=log2, classifier__min_samples_leaf=5, classifier__n_estimators=400; total time=   0.6s\n",
            "[CV] END classifier=RandomForestClassifier(random_state=20), classifier__criterion=entropy, classifier__max_depth=25, classifier__max_features=log2, classifier__min_samples_leaf=5, classifier__n_estimators=400; total time=   0.6s\n"
          ]
        },
        {
          "output_type": "execute_result",
          "data": {
            "text/plain": [
              "GridSearchCV(cv=5,\n",
              "             estimator=Pipeline(steps=[('poly', 'passthrough'),\n",
              "                                       ('normalizer', StandardScaler()),\n",
              "                                       ('classifier',\n",
              "                                        LogisticRegression(multi_class='multinomial'))]),\n",
              "             n_jobs=1,\n",
              "             param_grid=[{'classifier': [RandomForestClassifier(max_depth=15,\n",
              "                                                                max_features='sqrt',\n",
              "                                                                min_samples_leaf=5,\n",
              "                                                                n_estimators=130,\n",
              "                                                                random_state=20)],\n",
              "                          'classifier__criterion': ['gini', 'entropy'],\n",
              "                          'classifier__max_depth': [15, 20, 25],\n",
              "                          'classifier__max_features': ['sqrt', 'log2'],\n",
              "                          'classifier__min_samples_leaf': [1, 3, 5],\n",
              "                          'classifier__n_estimators': [130, 190, 400]}],\n",
              "             refit='f1', return_train_score=True,\n",
              "             scoring=['precision', 'recall', 'f1'], verbose=2)"
            ]
          },
          "metadata": {},
          "execution_count": 56
        }
      ]
    },
    {
      "cell_type": "markdown",
      "source": [
        "Parámetros resultantes:"
      ],
      "metadata": {
        "id": "u1HiQJ-_r_sA"
      }
    },
    {
      "cell_type": "code",
      "source": [
        "grid4.best_params_"
      ],
      "metadata": {
        "colab": {
          "base_uri": "https://localhost:8080/"
        },
        "id": "QtjKKaJ8sN2K",
        "outputId": "b5ae09f4-1f95-4e9b-897a-deb180118504"
      },
      "execution_count": null,
      "outputs": [
        {
          "output_type": "execute_result",
          "data": {
            "text/plain": [
              "{'classifier': RandomForestClassifier(max_depth=15, max_features='sqrt', min_samples_leaf=5,\n",
              "                        n_estimators=130, random_state=20),\n",
              " 'classifier__criterion': 'gini',\n",
              " 'classifier__max_depth': 15,\n",
              " 'classifier__max_features': 'sqrt',\n",
              " 'classifier__min_samples_leaf': 5,\n",
              " 'classifier__n_estimators': 130}"
            ]
          },
          "metadata": {},
          "execution_count": 58
        }
      ]
    },
    {
      "cell_type": "markdown",
      "source": [
        "Predicciones usando el mejor modelo:"
      ],
      "metadata": {
        "id": "0y7PRVBDsVBC"
      }
    },
    {
      "cell_type": "code",
      "source": [
        "train_val_preds = grid4.best_estimator_.predict(X_train)\n",
        "test_preds = grid4.best_estimator_.predict(X_test)"
      ],
      "metadata": {
        "id": "n5La3wkOsY_C"
      },
      "execution_count": null,
      "outputs": []
    },
    {
      "cell_type": "markdown",
      "source": [
        "Matriz de confusión:"
      ],
      "metadata": {
        "id": "WAq9pW4LscyS"
      }
    },
    {
      "cell_type": "code",
      "source": [
        "fig, axes = plt.subplots(1, 2, figsize = (10, 4))\n",
        "\n",
        "train_val_cm = confusion_matrix(Y_train, train_val_preds,\n",
        "                                labels = grid4.best_estimator_.classes_,\n",
        "                                normalize = 'true')\n",
        "train_val_disp = ConfusionMatrixDisplay(confusion_matrix = train_val_cm,\n",
        "                                        display_labels = grid4.best_estimator_.classes_)\n",
        "train_val_disp.plot(ax = axes[0])\n",
        "axes[0].set_title('Entrenamiento/Validación')\n",
        "axes[0].set_ylabel('Etiquetas observadas')\n",
        "axes[0].set_xlabel('Etiquetas predichas')\n",
        "\n",
        "test_cm = confusion_matrix(Y_test, test_preds,\n",
        "                           labels = grid4.best_estimator_.classes_,\n",
        "                           normalize = 'true')\n",
        "test_disp = ConfusionMatrixDisplay(confusion_matrix = test_cm,\n",
        "                                   display_labels = grid4.best_estimator_.classes_)\n",
        "test_disp.plot(ax = axes[1])\n",
        "axes[1].set_title('Prueba')\n",
        "axes[1].set_ylabel('Etiquetas observadas')\n",
        "axes[1].set_xlabel('Etiquetas predichas')\n",
        "\n",
        "plt.show()"
      ],
      "metadata": {
        "colab": {
          "base_uri": "https://localhost:8080/",
          "height": 281
        },
        "id": "fejjNu5Asgc2",
        "outputId": "767b28b3-0230-4cef-c6ef-84034f4de98a"
      },
      "execution_count": null,
      "outputs": [
        {
          "output_type": "display_data",
          "data": {
            "text/plain": [
              "<Figure size 720x288 with 4 Axes>"
            ],
            "image/png": "[encoded data removed]"
          },
          "metadata": {
            "needs_background": "light"
          }
        }
      ]
    },
    {
      "cell_type": "markdown",
      "source": [
        "Métricas:"
      ],
      "metadata": {
        "id": "ubqoSKRtsvuQ"
      }
    },
    {
      "cell_type": "code",
      "source": [
        "print(f'Precisión:')\n",
        "print(f\"- Entrenamiento/Validación: {precision_score(Y_train, train_val_preds,average='weighted'):.2f}\")\n",
        "print(f\"- Prueba: {precision_score(Y_test, test_preds,average='weighted'):.2f}\")\n",
        "print(f'Sensibilidad (recall):')\n",
        "print(f\"- Entrenamiento/Validación: {recall_score(Y_train, train_val_preds,average='weighted'):.2f}\")\n",
        "print(f\"- Prueba: {recall_score(Y_test, test_preds,average='weighted'):.2f}\")\n",
        "print(f'F1:')\n",
        "print(f\"- Entrenamiento/Validación: {f1_score(Y_train, train_val_preds,average='weighted'):.2f}\")\n",
        "print(f\"- Prueba: {f1_score(Y_test, test_preds,average='weighted'):.2f}\")"
      ],
      "metadata": {
        "colab": {
          "base_uri": "https://localhost:8080/"
        },
        "id": "ThqAfKrpsyJY",
        "outputId": "13a94974-562c-4a5c-fa04-e26d028e7931"
      },
      "execution_count": null,
      "outputs": [
        {
          "output_type": "stream",
          "name": "stdout",
          "text": [
            "Precisión:\n",
            "- Entrenamiento/Validación: 0.90\n",
            "- Prueba: 0.88\n",
            "Sensibilidad (recall):\n",
            "- Entrenamiento/Validación: 0.90\n",
            "- Prueba: 0.88\n",
            "F1:\n",
            "- Entrenamiento/Validación: 0.90\n",
            "- Prueba: 0.88\n"
          ]
        }
      ]
    },
    {
      "cell_type": "markdown",
      "source": [
        "## 2.5) Redes neuronales\n",
        "\n",
        "Pipeline para escoger el mejor modelo:"
      ],
      "metadata": {
        "id": "IJk0tpETwwhZ"
      }
    },
    {
      "cell_type": "code",
      "source": [
        "param_grid5 = [\n",
        "    {\n",
        "        'classifier': [MLPClassifier()],\n",
        "        'classifier__hidden_layer_sizes': [(10,30,10),(20,)],\n",
        "        'classifier__activation': ['tanh', 'relu'],\n",
        "        'classifier__solver': ['sgd', 'adam'],\n",
        "        'classifier__alpha': [0.0001, 0.05],\n",
        "        'classifier__learning_rate': ['constant','adaptive']\n",
        "     \n",
        "    }\n",
        "]"
      ],
      "metadata": {
        "id": "bP3rIzhexJO9"
      },
      "execution_count": null,
      "outputs": []
    },
    {
      "cell_type": "markdown",
      "source": [
        "Función para búsqueda del mejor modelo:"
      ],
      "metadata": {
        "id": "TGRIk-SwxJ4e"
      }
    },
    {
      "cell_type": "code",
      "source": [
        "grid5 = GridSearchCV(estimator = pipeline, param_grid = param_grid5,\n",
        "                     scoring = ['precision', 'recall', 'f1'], n_jobs = 1,\n",
        "                     refit = 'f1', cv = 5, return_train_score = True,\n",
        "                     verbose = 2)"
      ],
      "metadata": {
        "id": "3PCLR6yzxcaH"
      },
      "execution_count": null,
      "outputs": []
    },
    {
      "cell_type": "markdown",
      "source": [
        "Búsqueda del mejor modelo:"
      ],
      "metadata": {
        "id": "aGz1M0tCxfiD"
      }
    },
    {
      "cell_type": "code",
      "source": [
        "grid5.fit(X_train, Y_train)"
      ],
      "metadata": {
        "colab": {
          "base_uri": "https://localhost:8080/"
        },
        "id": "cBW6FC_1ximf",
        "outputId": "bb200060-9712-4f57-f4c0-11369b9ec463"
      },
      "execution_count": null,
      "outputs": [
        {
          "output_type": "stream",
          "name": "stdout",
          "text": [
            "Fitting 5 folds for each of 32 candidates, totalling 160 fits\n",
            "[CV] END classifier=MLPClassifier(), classifier__activation=tanh, classifier__alpha=0.0001, classifier__hidden_layer_sizes=(10, 30, 10), classifier__learning_rate=constant, classifier__solver=sgd; total time=   0.2s\n",
            "[CV] END classifier=MLPClassifier(), classifier__activation=tanh, classifier__alpha=0.0001, classifier__hidden_layer_sizes=(10, 30, 10), classifier__learning_rate=constant, classifier__solver=sgd; total time=   0.2s\n",
            "[CV] END classifier=MLPClassifier(), classifier__activation=tanh, classifier__alpha=0.0001, classifier__hidden_layer_sizes=(10, 30, 10), classifier__learning_rate=constant, classifier__solver=sgd; total time=   0.2s\n",
            "[CV] END classifier=MLPClassifier(), classifier__activation=tanh, classifier__alpha=0.0001, classifier__hidden_layer_sizes=(10, 30, 10), classifier__learning_rate=constant, classifier__solver=sgd; total time=   0.2s\n",
            "[CV] END classifier=MLPClassifier(), classifier__activation=tanh, classifier__alpha=0.0001, classifier__hidden_layer_sizes=(10, 30, 10), classifier__learning_rate=constant, classifier__solver=sgd; total time=   0.2s\n",
            "[CV] END classifier=MLPClassifier(), classifier__activation=tanh, classifier__alpha=0.0001, classifier__hidden_layer_sizes=(10, 30, 10), classifier__learning_rate=constant, classifier__solver=adam; total time=   0.2s\n",
            "[CV] END classifier=MLPClassifier(), classifier__activation=tanh, classifier__alpha=0.0001, classifier__hidden_layer_sizes=(10, 30, 10), classifier__learning_rate=constant, classifier__solver=adam; total time=   0.2s\n",
            "[CV] END classifier=MLPClassifier(), classifier__activation=tanh, classifier__alpha=0.0001, classifier__hidden_layer_sizes=(10, 30, 10), classifier__learning_rate=constant, classifier__solver=adam; total time=   0.2s\n",
            "[CV] END classifier=MLPClassifier(), classifier__activation=tanh, classifier__alpha=0.0001, classifier__hidden_layer_sizes=(10, 30, 10), classifier__learning_rate=constant, classifier__solver=adam; total time=   0.2s\n",
            "[CV] END classifier=MLPClassifier(), classifier__activation=tanh, classifier__alpha=0.0001, classifier__hidden_layer_sizes=(10, 30, 10), classifier__learning_rate=constant, classifier__solver=adam; total time=   0.2s\n",
            "[CV] END classifier=MLPClassifier(), classifier__activation=tanh, classifier__alpha=0.0001, classifier__hidden_layer_sizes=(10, 30, 10), classifier__learning_rate=adaptive, classifier__solver=sgd; total time=   0.2s\n",
            "[CV] END classifier=MLPClassifier(), classifier__activation=tanh, classifier__alpha=0.0001, classifier__hidden_layer_sizes=(10, 30, 10), classifier__learning_rate=adaptive, classifier__solver=sgd; total time=   0.2s\n",
            "[CV] END classifier=MLPClassifier(), classifier__activation=tanh, classifier__alpha=0.0001, classifier__hidden_layer_sizes=(10, 30, 10), classifier__learning_rate=adaptive, classifier__solver=sgd; total time=   0.2s\n",
            "[CV] END classifier=MLPClassifier(), classifier__activation=tanh, classifier__alpha=0.0001, classifier__hidden_layer_sizes=(10, 30, 10), classifier__learning_rate=adaptive, classifier__solver=sgd; total time=   0.2s\n",
            "[CV] END classifier=MLPClassifier(), classifier__activation=tanh, classifier__alpha=0.0001, classifier__hidden_layer_sizes=(10, 30, 10), classifier__learning_rate=adaptive, classifier__solver=sgd; total time=   0.2s\n",
            "[CV] END classifier=MLPClassifier(), classifier__activation=tanh, classifier__alpha=0.0001, classifier__hidden_layer_sizes=(10, 30, 10), classifier__learning_rate=adaptive, classifier__solver=adam; total time=   0.2s\n",
            "[CV] END classifier=MLPClassifier(), classifier__activation=tanh, classifier__alpha=0.0001, classifier__hidden_layer_sizes=(10, 30, 10), classifier__learning_rate=adaptive, classifier__solver=adam; total time=   0.2s\n",
            "[CV] END classifier=MLPClassifier(), classifier__activation=tanh, classifier__alpha=0.0001, classifier__hidden_layer_sizes=(10, 30, 10), classifier__learning_rate=adaptive, classifier__solver=adam; total time=   0.2s\n",
            "[CV] END classifier=MLPClassifier(), classifier__activation=tanh, classifier__alpha=0.0001, classifier__hidden_layer_sizes=(10, 30, 10), classifier__learning_rate=adaptive, classifier__solver=adam; total time=   0.2s\n",
            "[CV] END classifier=MLPClassifier(), classifier__activation=tanh, classifier__alpha=0.0001, classifier__hidden_layer_sizes=(10, 30, 10), classifier__learning_rate=adaptive, classifier__solver=adam; total time=   0.3s\n",
            "[CV] END classifier=MLPClassifier(), classifier__activation=tanh, classifier__alpha=0.0001, classifier__hidden_layer_sizes=(20,), classifier__learning_rate=constant, classifier__solver=sgd; total time=   0.1s\n",
            "[CV] END classifier=MLPClassifier(), classifier__activation=tanh, classifier__alpha=0.0001, classifier__hidden_layer_sizes=(20,), classifier__learning_rate=constant, classifier__solver=sgd; total time=   0.1s\n",
            "[CV] END classifier=MLPClassifier(), classifier__activation=tanh, classifier__alpha=0.0001, classifier__hidden_layer_sizes=(20,), classifier__learning_rate=constant, classifier__solver=sgd; total time=   0.1s\n",
            "[CV] END classifier=MLPClassifier(), classifier__activation=tanh, classifier__alpha=0.0001, classifier__hidden_layer_sizes=(20,), classifier__learning_rate=constant, classifier__solver=sgd; total time=   0.1s\n",
            "[CV] END classifier=MLPClassifier(), classifier__activation=tanh, classifier__alpha=0.0001, classifier__hidden_layer_sizes=(20,), classifier__learning_rate=constant, classifier__solver=sgd; total time=   0.1s\n",
            "[CV] END classifier=MLPClassifier(), classifier__activation=tanh, classifier__alpha=0.0001, classifier__hidden_layer_sizes=(20,), classifier__learning_rate=constant, classifier__solver=adam; total time=   0.2s\n",
            "[CV] END classifier=MLPClassifier(), classifier__activation=tanh, classifier__alpha=0.0001, classifier__hidden_layer_sizes=(20,), classifier__learning_rate=constant, classifier__solver=adam; total time=   0.1s\n",
            "[CV] END classifier=MLPClassifier(), classifier__activation=tanh, classifier__alpha=0.0001, classifier__hidden_layer_sizes=(20,), classifier__learning_rate=constant, classifier__solver=adam; total time=   0.1s\n",
            "[CV] END classifier=MLPClassifier(), classifier__activation=tanh, classifier__alpha=0.0001, classifier__hidden_layer_sizes=(20,), classifier__learning_rate=constant, classifier__solver=adam; total time=   0.1s\n",
            "[CV] END classifier=MLPClassifier(), classifier__activation=tanh, classifier__alpha=0.0001, classifier__hidden_layer_sizes=(20,), classifier__learning_rate=constant, classifier__solver=adam; total time=   0.1s\n",
            "[CV] END classifier=MLPClassifier(), classifier__activation=tanh, classifier__alpha=0.0001, classifier__hidden_layer_sizes=(20,), classifier__learning_rate=adaptive, classifier__solver=sgd; total time=   0.1s\n",
            "[CV] END classifier=MLPClassifier(), classifier__activation=tanh, classifier__alpha=0.0001, classifier__hidden_layer_sizes=(20,), classifier__learning_rate=adaptive, classifier__solver=sgd; total time=   0.1s\n",
            "[CV] END classifier=MLPClassifier(), classifier__activation=tanh, classifier__alpha=0.0001, classifier__hidden_layer_sizes=(20,), classifier__learning_rate=adaptive, classifier__solver=sgd; total time=   0.1s\n",
            "[CV] END classifier=MLPClassifier(), classifier__activation=tanh, classifier__alpha=0.0001, classifier__hidden_layer_sizes=(20,), classifier__learning_rate=adaptive, classifier__solver=sgd; total time=   0.1s\n",
            "[CV] END classifier=MLPClassifier(), classifier__activation=tanh, classifier__alpha=0.0001, classifier__hidden_layer_sizes=(20,), classifier__learning_rate=adaptive, classifier__solver=sgd; total time=   0.1s\n",
            "[CV] END classifier=MLPClassifier(), classifier__activation=tanh, classifier__alpha=0.0001, classifier__hidden_layer_sizes=(20,), classifier__learning_rate=adaptive, classifier__solver=adam; total time=   0.1s\n",
            "[CV] END classifier=MLPClassifier(), classifier__activation=tanh, classifier__alpha=0.0001, classifier__hidden_layer_sizes=(20,), classifier__learning_rate=adaptive, classifier__solver=adam; total time=   0.2s\n",
            "[CV] END classifier=MLPClassifier(), classifier__activation=tanh, classifier__alpha=0.0001, classifier__hidden_layer_sizes=(20,), classifier__learning_rate=adaptive, classifier__solver=adam; total time=   0.2s\n",
            "[CV] END classifier=MLPClassifier(), classifier__activation=tanh, classifier__alpha=0.0001, classifier__hidden_layer_sizes=(20,), classifier__learning_rate=adaptive, classifier__solver=adam; total time=   0.2s\n",
            "[CV] END classifier=MLPClassifier(), classifier__activation=tanh, classifier__alpha=0.0001, classifier__hidden_layer_sizes=(20,), classifier__learning_rate=adaptive, classifier__solver=adam; total time=   0.1s\n",
            "[CV] END classifier=MLPClassifier(), classifier__activation=tanh, classifier__alpha=0.05, classifier__hidden_layer_sizes=(10, 30, 10), classifier__learning_rate=constant, classifier__solver=sgd; total time=   0.2s\n",
            "[CV] END classifier=MLPClassifier(), classifier__activation=tanh, classifier__alpha=0.05, classifier__hidden_layer_sizes=(10, 30, 10), classifier__learning_rate=constant, classifier__solver=sgd; total time=   0.2s\n",
            "[CV] END classifier=MLPClassifier(), classifier__activation=tanh, classifier__alpha=0.05, classifier__hidden_layer_sizes=(10, 30, 10), classifier__learning_rate=constant, classifier__solver=sgd; total time=   0.2s\n",
            "[CV] END classifier=MLPClassifier(), classifier__activation=tanh, classifier__alpha=0.05, classifier__hidden_layer_sizes=(10, 30, 10), classifier__learning_rate=constant, classifier__solver=sgd; total time=   0.2s\n",
            "[CV] END classifier=MLPClassifier(), classifier__activation=tanh, classifier__alpha=0.05, classifier__hidden_layer_sizes=(10, 30, 10), classifier__learning_rate=constant, classifier__solver=sgd; total time=   0.2s\n",
            "[CV] END classifier=MLPClassifier(), classifier__activation=tanh, classifier__alpha=0.05, classifier__hidden_layer_sizes=(10, 30, 10), classifier__learning_rate=constant, classifier__solver=adam; total time=   0.2s\n",
            "[CV] END classifier=MLPClassifier(), classifier__activation=tanh, classifier__alpha=0.05, classifier__hidden_layer_sizes=(10, 30, 10), classifier__learning_rate=constant, classifier__solver=adam; total time=   0.3s\n",
            "[CV] END classifier=MLPClassifier(), classifier__activation=tanh, classifier__alpha=0.05, classifier__hidden_layer_sizes=(10, 30, 10), classifier__learning_rate=constant, classifier__solver=adam; total time=   0.3s\n",
            "[CV] END classifier=MLPClassifier(), classifier__activation=tanh, classifier__alpha=0.05, classifier__hidden_layer_sizes=(10, 30, 10), classifier__learning_rate=constant, classifier__solver=adam; total time=   0.2s\n",
            "[CV] END classifier=MLPClassifier(), classifier__activation=tanh, classifier__alpha=0.05, classifier__hidden_layer_sizes=(10, 30, 10), classifier__learning_rate=constant, classifier__solver=adam; total time=   0.2s\n",
            "[CV] END classifier=MLPClassifier(), classifier__activation=tanh, classifier__alpha=0.05, classifier__hidden_layer_sizes=(10, 30, 10), classifier__learning_rate=adaptive, classifier__solver=sgd; total time=   0.2s\n",
            "[CV] END classifier=MLPClassifier(), classifier__activation=tanh, classifier__alpha=0.05, classifier__hidden_layer_sizes=(10, 30, 10), classifier__learning_rate=adaptive, classifier__solver=sgd; total time=   0.2s\n",
            "[CV] END classifier=MLPClassifier(), classifier__activation=tanh, classifier__alpha=0.05, classifier__hidden_layer_sizes=(10, 30, 10), classifier__learning_rate=adaptive, classifier__solver=sgd; total time=   0.2s\n",
            "[CV] END classifier=MLPClassifier(), classifier__activation=tanh, classifier__alpha=0.05, classifier__hidden_layer_sizes=(10, 30, 10), classifier__learning_rate=adaptive, classifier__solver=sgd; total time=   0.2s\n",
            "[CV] END classifier=MLPClassifier(), classifier__activation=tanh, classifier__alpha=0.05, classifier__hidden_layer_sizes=(10, 30, 10), classifier__learning_rate=adaptive, classifier__solver=sgd; total time=   0.2s\n",
            "[CV] END classifier=MLPClassifier(), classifier__activation=tanh, classifier__alpha=0.05, classifier__hidden_layer_sizes=(10, 30, 10), classifier__learning_rate=adaptive, classifier__solver=adam; total time=   0.2s\n",
            "[CV] END classifier=MLPClassifier(), classifier__activation=tanh, classifier__alpha=0.05, classifier__hidden_layer_sizes=(10, 30, 10), classifier__learning_rate=adaptive, classifier__solver=adam; total time=   0.2s\n",
            "[CV] END classifier=MLPClassifier(), classifier__activation=tanh, classifier__alpha=0.05, classifier__hidden_layer_sizes=(10, 30, 10), classifier__learning_rate=adaptive, classifier__solver=adam; total time=   0.2s\n",
            "[CV] END classifier=MLPClassifier(), classifier__activation=tanh, classifier__alpha=0.05, classifier__hidden_layer_sizes=(10, 30, 10), classifier__learning_rate=adaptive, classifier__solver=adam; total time=   0.2s\n",
            "[CV] END classifier=MLPClassifier(), classifier__activation=tanh, classifier__alpha=0.05, classifier__hidden_layer_sizes=(10, 30, 10), classifier__learning_rate=adaptive, classifier__solver=adam; total time=   0.2s\n",
            "[CV] END classifier=MLPClassifier(), classifier__activation=tanh, classifier__alpha=0.05, classifier__hidden_layer_sizes=(20,), classifier__learning_rate=constant, classifier__solver=sgd; total time=   0.1s\n",
            "[CV] END classifier=MLPClassifier(), classifier__activation=tanh, classifier__alpha=0.05, classifier__hidden_layer_sizes=(20,), classifier__learning_rate=constant, classifier__solver=sgd; total time=   0.1s\n",
            "[CV] END classifier=MLPClassifier(), classifier__activation=tanh, classifier__alpha=0.05, classifier__hidden_layer_sizes=(20,), classifier__learning_rate=constant, classifier__solver=sgd; total time=   0.1s\n",
            "[CV] END classifier=MLPClassifier(), classifier__activation=tanh, classifier__alpha=0.05, classifier__hidden_layer_sizes=(20,), classifier__learning_rate=constant, classifier__solver=sgd; total time=   0.1s\n",
            "[CV] END classifier=MLPClassifier(), classifier__activation=tanh, classifier__alpha=0.05, classifier__hidden_layer_sizes=(20,), classifier__learning_rate=constant, classifier__solver=sgd; total time=   0.1s\n",
            "[CV] END classifier=MLPClassifier(), classifier__activation=tanh, classifier__alpha=0.05, classifier__hidden_layer_sizes=(20,), classifier__learning_rate=constant, classifier__solver=adam; total time=   0.2s\n",
            "[CV] END classifier=MLPClassifier(), classifier__activation=tanh, classifier__alpha=0.05, classifier__hidden_layer_sizes=(20,), classifier__learning_rate=constant, classifier__solver=adam; total time=   0.2s\n",
            "[CV] END classifier=MLPClassifier(), classifier__activation=tanh, classifier__alpha=0.05, classifier__hidden_layer_sizes=(20,), classifier__learning_rate=constant, classifier__solver=adam; total time=   0.2s\n",
            "[CV] END classifier=MLPClassifier(), classifier__activation=tanh, classifier__alpha=0.05, classifier__hidden_layer_sizes=(20,), classifier__learning_rate=constant, classifier__solver=adam; total time=   0.1s\n",
            "[CV] END classifier=MLPClassifier(), classifier__activation=tanh, classifier__alpha=0.05, classifier__hidden_layer_sizes=(20,), classifier__learning_rate=constant, classifier__solver=adam; total time=   0.2s\n",
            "[CV] END classifier=MLPClassifier(), classifier__activation=tanh, classifier__alpha=0.05, classifier__hidden_layer_sizes=(20,), classifier__learning_rate=adaptive, classifier__solver=sgd; total time=   0.1s\n",
            "[CV] END classifier=MLPClassifier(), classifier__activation=tanh, classifier__alpha=0.05, classifier__hidden_layer_sizes=(20,), classifier__learning_rate=adaptive, classifier__solver=sgd; total time=   0.1s\n",
            "[CV] END classifier=MLPClassifier(), classifier__activation=tanh, classifier__alpha=0.05, classifier__hidden_layer_sizes=(20,), classifier__learning_rate=adaptive, classifier__solver=sgd; total time=   0.1s\n",
            "[CV] END classifier=MLPClassifier(), classifier__activation=tanh, classifier__alpha=0.05, classifier__hidden_layer_sizes=(20,), classifier__learning_rate=adaptive, classifier__solver=sgd; total time=   0.1s\n",
            "[CV] END classifier=MLPClassifier(), classifier__activation=tanh, classifier__alpha=0.05, classifier__hidden_layer_sizes=(20,), classifier__learning_rate=adaptive, classifier__solver=sgd; total time=   0.1s\n",
            "[CV] END classifier=MLPClassifier(), classifier__activation=tanh, classifier__alpha=0.05, classifier__hidden_layer_sizes=(20,), classifier__learning_rate=adaptive, classifier__solver=adam; total time=   0.1s\n",
            "[CV] END classifier=MLPClassifier(), classifier__activation=tanh, classifier__alpha=0.05, classifier__hidden_layer_sizes=(20,), classifier__learning_rate=adaptive, classifier__solver=adam; total time=   0.2s\n",
            "[CV] END classifier=MLPClassifier(), classifier__activation=tanh, classifier__alpha=0.05, classifier__hidden_layer_sizes=(20,), classifier__learning_rate=adaptive, classifier__solver=adam; total time=   0.1s\n",
            "[CV] END classifier=MLPClassifier(), classifier__activation=tanh, classifier__alpha=0.05, classifier__hidden_layer_sizes=(20,), classifier__learning_rate=adaptive, classifier__solver=adam; total time=   0.1s\n",
            "[CV] END classifier=MLPClassifier(), classifier__activation=tanh, classifier__alpha=0.05, classifier__hidden_layer_sizes=(20,), classifier__learning_rate=adaptive, classifier__solver=adam; total time=   0.1s\n",
            "[CV] END classifier=MLPClassifier(), classifier__activation=relu, classifier__alpha=0.0001, classifier__hidden_layer_sizes=(10, 30, 10), classifier__learning_rate=constant, classifier__solver=sgd; total time=   0.2s\n",
            "[CV] END classifier=MLPClassifier(), classifier__activation=relu, classifier__alpha=0.0001, classifier__hidden_layer_sizes=(10, 30, 10), classifier__learning_rate=constant, classifier__solver=sgd; total time=   0.2s\n",
            "[CV] END classifier=MLPClassifier(), classifier__activation=relu, classifier__alpha=0.0001, classifier__hidden_layer_sizes=(10, 30, 10), classifier__learning_rate=constant, classifier__solver=sgd; total time=   0.2s\n",
            "[CV] END classifier=MLPClassifier(), classifier__activation=relu, classifier__alpha=0.0001, classifier__hidden_layer_sizes=(10, 30, 10), classifier__learning_rate=constant, classifier__solver=sgd; total time=   0.2s\n",
            "[CV] END classifier=MLPClassifier(), classifier__activation=relu, classifier__alpha=0.0001, classifier__hidden_layer_sizes=(10, 30, 10), classifier__learning_rate=constant, classifier__solver=sgd; total time=   0.2s\n",
            "[CV] END classifier=MLPClassifier(), classifier__activation=relu, classifier__alpha=0.0001, classifier__hidden_layer_sizes=(10, 30, 10), classifier__learning_rate=constant, classifier__solver=adam; total time=   0.2s\n",
            "[CV] END classifier=MLPClassifier(), classifier__activation=relu, classifier__alpha=0.0001, classifier__hidden_layer_sizes=(10, 30, 10), classifier__learning_rate=constant, classifier__solver=adam; total time=   0.2s\n",
            "[CV] END classifier=MLPClassifier(), classifier__activation=relu, classifier__alpha=0.0001, classifier__hidden_layer_sizes=(10, 30, 10), classifier__learning_rate=constant, classifier__solver=adam; total time=   0.2s\n",
            "[CV] END classifier=MLPClassifier(), classifier__activation=relu, classifier__alpha=0.0001, classifier__hidden_layer_sizes=(10, 30, 10), classifier__learning_rate=constant, classifier__solver=adam; total time=   0.2s\n",
            "[CV] END classifier=MLPClassifier(), classifier__activation=relu, classifier__alpha=0.0001, classifier__hidden_layer_sizes=(10, 30, 10), classifier__learning_rate=constant, classifier__solver=adam; total time=   0.3s\n",
            "[CV] END classifier=MLPClassifier(), classifier__activation=relu, classifier__alpha=0.0001, classifier__hidden_layer_sizes=(10, 30, 10), classifier__learning_rate=adaptive, classifier__solver=sgd; total time=   0.3s\n",
            "[CV] END classifier=MLPClassifier(), classifier__activation=relu, classifier__alpha=0.0001, classifier__hidden_layer_sizes=(10, 30, 10), classifier__learning_rate=adaptive, classifier__solver=sgd; total time=   0.3s\n",
            "[CV] END classifier=MLPClassifier(), classifier__activation=relu, classifier__alpha=0.0001, classifier__hidden_layer_sizes=(10, 30, 10), classifier__learning_rate=adaptive, classifier__solver=sgd; total time=   0.3s\n",
            "[CV] END classifier=MLPClassifier(), classifier__activation=relu, classifier__alpha=0.0001, classifier__hidden_layer_sizes=(10, 30, 10), classifier__learning_rate=adaptive, classifier__solver=sgd; total time=   0.3s\n",
            "[CV] END classifier=MLPClassifier(), classifier__activation=relu, classifier__alpha=0.0001, classifier__hidden_layer_sizes=(10, 30, 10), classifier__learning_rate=adaptive, classifier__solver=sgd; total time=   0.3s\n",
            "[CV] END classifier=MLPClassifier(), classifier__activation=relu, classifier__alpha=0.0001, classifier__hidden_layer_sizes=(10, 30, 10), classifier__learning_rate=adaptive, classifier__solver=adam; total time=   0.3s\n",
            "[CV] END classifier=MLPClassifier(), classifier__activation=relu, classifier__alpha=0.0001, classifier__hidden_layer_sizes=(10, 30, 10), classifier__learning_rate=adaptive, classifier__solver=adam; total time=   0.3s\n",
            "[CV] END classifier=MLPClassifier(), classifier__activation=relu, classifier__alpha=0.0001, classifier__hidden_layer_sizes=(10, 30, 10), classifier__learning_rate=adaptive, classifier__solver=adam; total time=   0.3s\n",
            "[CV] END classifier=MLPClassifier(), classifier__activation=relu, classifier__alpha=0.0001, classifier__hidden_layer_sizes=(10, 30, 10), classifier__learning_rate=adaptive, classifier__solver=adam; total time=   0.3s\n",
            "[CV] END classifier=MLPClassifier(), classifier__activation=relu, classifier__alpha=0.0001, classifier__hidden_layer_sizes=(10, 30, 10), classifier__learning_rate=adaptive, classifier__solver=adam; total time=   0.2s\n",
            "[CV] END classifier=MLPClassifier(), classifier__activation=relu, classifier__alpha=0.0001, classifier__hidden_layer_sizes=(20,), classifier__learning_rate=constant, classifier__solver=sgd; total time=   0.1s\n",
            "[CV] END classifier=MLPClassifier(), classifier__activation=relu, classifier__alpha=0.0001, classifier__hidden_layer_sizes=(20,), classifier__learning_rate=constant, classifier__solver=sgd; total time=   0.1s\n",
            "[CV] END classifier=MLPClassifier(), classifier__activation=relu, classifier__alpha=0.0001, classifier__hidden_layer_sizes=(20,), classifier__learning_rate=constant, classifier__solver=sgd; total time=   0.1s\n",
            "[CV] END classifier=MLPClassifier(), classifier__activation=relu, classifier__alpha=0.0001, classifier__hidden_layer_sizes=(20,), classifier__learning_rate=constant, classifier__solver=sgd; total time=   0.1s\n",
            "[CV] END classifier=MLPClassifier(), classifier__activation=relu, classifier__alpha=0.0001, classifier__hidden_layer_sizes=(20,), classifier__learning_rate=constant, classifier__solver=sgd; total time=   0.1s\n",
            "[CV] END classifier=MLPClassifier(), classifier__activation=relu, classifier__alpha=0.0001, classifier__hidden_layer_sizes=(20,), classifier__learning_rate=constant, classifier__solver=adam; total time=   0.1s\n",
            "[CV] END classifier=MLPClassifier(), classifier__activation=relu, classifier__alpha=0.0001, classifier__hidden_layer_sizes=(20,), classifier__learning_rate=constant, classifier__solver=adam; total time=   0.1s\n",
            "[CV] END classifier=MLPClassifier(), classifier__activation=relu, classifier__alpha=0.0001, classifier__hidden_layer_sizes=(20,), classifier__learning_rate=constant, classifier__solver=adam; total time=   0.1s\n",
            "[CV] END classifier=MLPClassifier(), classifier__activation=relu, classifier__alpha=0.0001, classifier__hidden_layer_sizes=(20,), classifier__learning_rate=constant, classifier__solver=adam; total time=   0.1s\n",
            "[CV] END classifier=MLPClassifier(), classifier__activation=relu, classifier__alpha=0.0001, classifier__hidden_layer_sizes=(20,), classifier__learning_rate=constant, classifier__solver=adam; total time=   0.1s\n",
            "[CV] END classifier=MLPClassifier(), classifier__activation=relu, classifier__alpha=0.0001, classifier__hidden_layer_sizes=(20,), classifier__learning_rate=adaptive, classifier__solver=sgd; total time=   0.1s\n",
            "[CV] END classifier=MLPClassifier(), classifier__activation=relu, classifier__alpha=0.0001, classifier__hidden_layer_sizes=(20,), classifier__learning_rate=adaptive, classifier__solver=sgd; total time=   0.1s\n",
            "[CV] END classifier=MLPClassifier(), classifier__activation=relu, classifier__alpha=0.0001, classifier__hidden_layer_sizes=(20,), classifier__learning_rate=adaptive, classifier__solver=sgd; total time=   0.1s\n",
            "[CV] END classifier=MLPClassifier(), classifier__activation=relu, classifier__alpha=0.0001, classifier__hidden_layer_sizes=(20,), classifier__learning_rate=adaptive, classifier__solver=sgd; total time=   0.1s\n",
            "[CV] END classifier=MLPClassifier(), classifier__activation=relu, classifier__alpha=0.0001, classifier__hidden_layer_sizes=(20,), classifier__learning_rate=adaptive, classifier__solver=sgd; total time=   0.1s\n",
            "[CV] END classifier=MLPClassifier(), classifier__activation=relu, classifier__alpha=0.0001, classifier__hidden_layer_sizes=(20,), classifier__learning_rate=adaptive, classifier__solver=adam; total time=   0.1s\n",
            "[CV] END classifier=MLPClassifier(), classifier__activation=relu, classifier__alpha=0.0001, classifier__hidden_layer_sizes=(20,), classifier__learning_rate=adaptive, classifier__solver=adam; total time=   0.1s\n",
            "[CV] END classifier=MLPClassifier(), classifier__activation=relu, classifier__alpha=0.0001, classifier__hidden_layer_sizes=(20,), classifier__learning_rate=adaptive, classifier__solver=adam; total time=   0.1s\n",
            "[CV] END classifier=MLPClassifier(), classifier__activation=relu, classifier__alpha=0.0001, classifier__hidden_layer_sizes=(20,), classifier__learning_rate=adaptive, classifier__solver=adam; total time=   0.1s\n",
            "[CV] END classifier=MLPClassifier(), classifier__activation=relu, classifier__alpha=0.0001, classifier__hidden_layer_sizes=(20,), classifier__learning_rate=adaptive, classifier__solver=adam; total time=   0.1s\n",
            "[CV] END classifier=MLPClassifier(), classifier__activation=relu, classifier__alpha=0.05, classifier__hidden_layer_sizes=(10, 30, 10), classifier__learning_rate=constant, classifier__solver=sgd; total time=   0.2s\n",
            "[CV] END classifier=MLPClassifier(), classifier__activation=relu, classifier__alpha=0.05, classifier__hidden_layer_sizes=(10, 30, 10), classifier__learning_rate=constant, classifier__solver=sgd; total time=   0.2s\n",
            "[CV] END classifier=MLPClassifier(), classifier__activation=relu, classifier__alpha=0.05, classifier__hidden_layer_sizes=(10, 30, 10), classifier__learning_rate=constant, classifier__solver=sgd; total time=   0.2s\n",
            "[CV] END classifier=MLPClassifier(), classifier__activation=relu, classifier__alpha=0.05, classifier__hidden_layer_sizes=(10, 30, 10), classifier__learning_rate=constant, classifier__solver=sgd; total time=   0.2s\n",
            "[CV] END classifier=MLPClassifier(), classifier__activation=relu, classifier__alpha=0.05, classifier__hidden_layer_sizes=(10, 30, 10), classifier__learning_rate=constant, classifier__solver=sgd; total time=   0.2s\n",
            "[CV] END classifier=MLPClassifier(), classifier__activation=relu, classifier__alpha=0.05, classifier__hidden_layer_sizes=(10, 30, 10), classifier__learning_rate=constant, classifier__solver=adam; total time=   0.2s\n",
            "[CV] END classifier=MLPClassifier(), classifier__activation=relu, classifier__alpha=0.05, classifier__hidden_layer_sizes=(10, 30, 10), classifier__learning_rate=constant, classifier__solver=adam; total time=   0.2s\n",
            "[CV] END classifier=MLPClassifier(), classifier__activation=relu, classifier__alpha=0.05, classifier__hidden_layer_sizes=(10, 30, 10), classifier__learning_rate=constant, classifier__solver=adam; total time=   0.2s\n",
            "[CV] END classifier=MLPClassifier(), classifier__activation=relu, classifier__alpha=0.05, classifier__hidden_layer_sizes=(10, 30, 10), classifier__learning_rate=constant, classifier__solver=adam; total time=   0.2s\n",
            "[CV] END classifier=MLPClassifier(), classifier__activation=relu, classifier__alpha=0.05, classifier__hidden_layer_sizes=(10, 30, 10), classifier__learning_rate=constant, classifier__solver=adam; total time=   0.2s\n",
            "[CV] END classifier=MLPClassifier(), classifier__activation=relu, classifier__alpha=0.05, classifier__hidden_layer_sizes=(10, 30, 10), classifier__learning_rate=adaptive, classifier__solver=sgd; total time=   0.2s\n",
            "[CV] END classifier=MLPClassifier(), classifier__activation=relu, classifier__alpha=0.05, classifier__hidden_layer_sizes=(10, 30, 10), classifier__learning_rate=adaptive, classifier__solver=sgd; total time=   0.2s\n",
            "[CV] END classifier=MLPClassifier(), classifier__activation=relu, classifier__alpha=0.05, classifier__hidden_layer_sizes=(10, 30, 10), classifier__learning_rate=adaptive, classifier__solver=sgd; total time=   0.2s\n",
            "[CV] END classifier=MLPClassifier(), classifier__activation=relu, classifier__alpha=0.05, classifier__hidden_layer_sizes=(10, 30, 10), classifier__learning_rate=adaptive, classifier__solver=sgd; total time=   0.2s\n",
            "[CV] END classifier=MLPClassifier(), classifier__activation=relu, classifier__alpha=0.05, classifier__hidden_layer_sizes=(10, 30, 10), classifier__learning_rate=adaptive, classifier__solver=sgd; total time=   0.2s\n",
            "[CV] END classifier=MLPClassifier(), classifier__activation=relu, classifier__alpha=0.05, classifier__hidden_layer_sizes=(10, 30, 10), classifier__learning_rate=adaptive, classifier__solver=adam; total time=   0.2s\n",
            "[CV] END classifier=MLPClassifier(), classifier__activation=relu, classifier__alpha=0.05, classifier__hidden_layer_sizes=(10, 30, 10), classifier__learning_rate=adaptive, classifier__solver=adam; total time=   0.2s\n",
            "[CV] END classifier=MLPClassifier(), classifier__activation=relu, classifier__alpha=0.05, classifier__hidden_layer_sizes=(10, 30, 10), classifier__learning_rate=adaptive, classifier__solver=adam; total time=   0.2s\n",
            "[CV] END classifier=MLPClassifier(), classifier__activation=relu, classifier__alpha=0.05, classifier__hidden_layer_sizes=(10, 30, 10), classifier__learning_rate=adaptive, classifier__solver=adam; total time=   0.2s\n",
            "[CV] END classifier=MLPClassifier(), classifier__activation=relu, classifier__alpha=0.05, classifier__hidden_layer_sizes=(10, 30, 10), classifier__learning_rate=adaptive, classifier__solver=adam; total time=   0.2s\n",
            "[CV] END classifier=MLPClassifier(), classifier__activation=relu, classifier__alpha=0.05, classifier__hidden_layer_sizes=(20,), classifier__learning_rate=constant, classifier__solver=sgd; total time=   0.1s\n",
            "[CV] END classifier=MLPClassifier(), classifier__activation=relu, classifier__alpha=0.05, classifier__hidden_layer_sizes=(20,), classifier__learning_rate=constant, classifier__solver=sgd; total time=   0.1s\n",
            "[CV] END classifier=MLPClassifier(), classifier__activation=relu, classifier__alpha=0.05, classifier__hidden_layer_sizes=(20,), classifier__learning_rate=constant, classifier__solver=sgd; total time=   0.1s\n",
            "[CV] END classifier=MLPClassifier(), classifier__activation=relu, classifier__alpha=0.05, classifier__hidden_layer_sizes=(20,), classifier__learning_rate=constant, classifier__solver=sgd; total time=   0.1s\n",
            "[CV] END classifier=MLPClassifier(), classifier__activation=relu, classifier__alpha=0.05, classifier__hidden_layer_sizes=(20,), classifier__learning_rate=constant, classifier__solver=sgd; total time=   0.1s\n",
            "[CV] END classifier=MLPClassifier(), classifier__activation=relu, classifier__alpha=0.05, classifier__hidden_layer_sizes=(20,), classifier__learning_rate=constant, classifier__solver=adam; total time=   0.2s\n",
            "[CV] END classifier=MLPClassifier(), classifier__activation=relu, classifier__alpha=0.05, classifier__hidden_layer_sizes=(20,), classifier__learning_rate=constant, classifier__solver=adam; total time=   0.1s\n",
            "[CV] END classifier=MLPClassifier(), classifier__activation=relu, classifier__alpha=0.05, classifier__hidden_layer_sizes=(20,), classifier__learning_rate=constant, classifier__solver=adam; total time=   0.1s\n",
            "[CV] END classifier=MLPClassifier(), classifier__activation=relu, classifier__alpha=0.05, classifier__hidden_layer_sizes=(20,), classifier__learning_rate=constant, classifier__solver=adam; total time=   0.1s\n",
            "[CV] END classifier=MLPClassifier(), classifier__activation=relu, classifier__alpha=0.05, classifier__hidden_layer_sizes=(20,), classifier__learning_rate=constant, classifier__solver=adam; total time=   0.1s\n",
            "[CV] END classifier=MLPClassifier(), classifier__activation=relu, classifier__alpha=0.05, classifier__hidden_layer_sizes=(20,), classifier__learning_rate=adaptive, classifier__solver=sgd; total time=   0.1s\n",
            "[CV] END classifier=MLPClassifier(), classifier__activation=relu, classifier__alpha=0.05, classifier__hidden_layer_sizes=(20,), classifier__learning_rate=adaptive, classifier__solver=sgd; total time=   0.1s\n",
            "[CV] END classifier=MLPClassifier(), classifier__activation=relu, classifier__alpha=0.05, classifier__hidden_layer_sizes=(20,), classifier__learning_rate=adaptive, classifier__solver=sgd; total time=   0.1s\n",
            "[CV] END classifier=MLPClassifier(), classifier__activation=relu, classifier__alpha=0.05, classifier__hidden_layer_sizes=(20,), classifier__learning_rate=adaptive, classifier__solver=sgd; total time=   0.1s\n",
            "[CV] END classifier=MLPClassifier(), classifier__activation=relu, classifier__alpha=0.05, classifier__hidden_layer_sizes=(20,), classifier__learning_rate=adaptive, classifier__solver=sgd; total time=   0.1s\n",
            "[CV] END classifier=MLPClassifier(), classifier__activation=relu, classifier__alpha=0.05, classifier__hidden_layer_sizes=(20,), classifier__learning_rate=adaptive, classifier__solver=adam; total time=   0.1s\n",
            "[CV] END classifier=MLPClassifier(), classifier__activation=relu, classifier__alpha=0.05, classifier__hidden_layer_sizes=(20,), classifier__learning_rate=adaptive, classifier__solver=adam; total time=   0.1s\n",
            "[CV] END classifier=MLPClassifier(), classifier__activation=relu, classifier__alpha=0.05, classifier__hidden_layer_sizes=(20,), classifier__learning_rate=adaptive, classifier__solver=adam; total time=   0.1s\n",
            "[CV] END classifier=MLPClassifier(), classifier__activation=relu, classifier__alpha=0.05, classifier__hidden_layer_sizes=(20,), classifier__learning_rate=adaptive, classifier__solver=adam; total time=   0.1s\n",
            "[CV] END classifier=MLPClassifier(), classifier__activation=relu, classifier__alpha=0.05, classifier__hidden_layer_sizes=(20,), classifier__learning_rate=adaptive, classifier__solver=adam; total time=   0.1s\n"
          ]
        },
        {
          "output_type": "execute_result",
          "data": {
            "text/plain": [
              "GridSearchCV(cv=5,\n",
              "             estimator=Pipeline(steps=[('poly', 'passthrough'),\n",
              "                                       ('normalizer', StandardScaler()),\n",
              "                                       ('classifier',\n",
              "                                        LogisticRegression(multi_class='multinomial'))]),\n",
              "             n_jobs=1,\n",
              "             param_grid=[{'classifier': [MLPClassifier(activation='tanh',\n",
              "                                                       hidden_layer_sizes=(20,),\n",
              "                                                       learning_rate='adaptive')],\n",
              "                          'classifier__activation': ['tanh', 'relu'],\n",
              "                          'classifier__alpha': [0.0001, 0.05],\n",
              "                          'classifier__hidden_layer_sizes': [(10, 30, 10),\n",
              "                                                             (20,)],\n",
              "                          'classifier__learning_rate': ['constant', 'adaptive'],\n",
              "                          'classifier__solver': ['sgd', 'adam']}],\n",
              "             refit='f1', return_train_score=True,\n",
              "             scoring=['precision', 'recall', 'f1'], verbose=2)"
            ]
          },
          "metadata": {},
          "execution_count": 67
        }
      ]
    },
    {
      "cell_type": "markdown",
      "source": [
        "Parámetros resultantes:"
      ],
      "metadata": {
        "id": "CB1mCxBOxoK4"
      }
    },
    {
      "cell_type": "code",
      "source": [
        "train_val_preds = grid5.best_estimator_.predict(X_train)\n",
        "test_preds = grid5.best_estimator_.predict(X_test)"
      ],
      "metadata": {
        "id": "Mmb7pNV5xp6f"
      },
      "execution_count": null,
      "outputs": []
    },
    {
      "cell_type": "markdown",
      "source": [
        "Matriz de confusión:"
      ],
      "metadata": {
        "id": "Q980_O2-xr9u"
      }
    },
    {
      "cell_type": "code",
      "source": [
        "fig, axes = plt.subplots(1, 2, figsize = (10, 4))\n",
        "\n",
        "train_val_cm = confusion_matrix(Y_train, train_val_preds,\n",
        "                                labels = grid5.best_estimator_.classes_,\n",
        "                                normalize = 'true')\n",
        "train_val_disp = ConfusionMatrixDisplay(confusion_matrix = train_val_cm,\n",
        "                                        display_labels = grid5.best_estimator_.classes_)\n",
        "train_val_disp.plot(ax = axes[0])\n",
        "axes[0].set_title('Entrenamiento/Validación')\n",
        "axes[0].set_ylabel('Etiquetas observadas')\n",
        "axes[0].set_xlabel('Etiquetas predichas')\n",
        "\n",
        "test_cm = confusion_matrix(Y_test, test_preds,\n",
        "                           labels = grid5.best_estimator_.classes_, normalize = 'true')\n",
        "test_disp = ConfusionMatrixDisplay(confusion_matrix = test_cm,\n",
        "                                   display_labels = grid5.best_estimator_.classes_)\n",
        "test_disp.plot(ax = axes[1])\n",
        "axes[1].set_title('Prueba')\n",
        "axes[0].set_ylabel('Etiquetas observadas')\n",
        "axes[0].set_xlabel('Etiquetas predichas')\n",
        "\n",
        "plt.show()"
      ],
      "metadata": {
        "colab": {
          "base_uri": "https://localhost:8080/",
          "height": 281
        },
        "id": "MVYEkoL_xtk2",
        "outputId": "8d7ef776-78c9-45ae-979e-e2f7c4187609"
      },
      "execution_count": null,
      "outputs": [
        {
          "output_type": "display_data",
          "data": {
            "text/plain": [
              "<Figure size 720x288 with 4 Axes>"
            ],
            "image/png": "[encoded data removed]"
          },
          "metadata": {
            "needs_background": "light"
          }
        }
      ]
    },
    {
      "cell_type": "markdown",
      "source": [
        "Métricas:"
      ],
      "metadata": {
        "id": "ZVQr1juLyDbv"
      }
    },
    {
      "cell_type": "code",
      "source": [
        "print(f'Precisión:')\n",
        "print(f\"- Entrenamiento/Validación: {precision_score(Y_train, train_val_preds,average='weighted'):.2f}\")\n",
        "print(f\"- Prueba: {precision_score(Y_test, test_preds,average='weighted'):.2f}\")\n",
        "print(f'Sensibilidad (recall):')\n",
        "print(f\"- Entrenamiento/Validación: {recall_score(Y_train, train_val_preds,average='weighted'):.2f}\")\n",
        "print(f\"- Prueba: {recall_score(Y_test, test_preds,average='weighted'):.2f}\")\n",
        "print(f'F1:')\n",
        "print(f\"- Entrenamiento/Validación: {f1_score(Y_train, train_val_preds,average='weighted'):.2f}\")\n",
        "print(f\"- Prueba: {f1_score(Y_test, test_preds,average='weighted'):.2f}\")"
      ],
      "metadata": {
        "colab": {
          "base_uri": "https://localhost:8080/"
        },
        "id": "hwfrRHjLyEw4",
        "outputId": "1a19b513-7aaa-4f37-e47a-6fb71684edda"
      },
      "execution_count": null,
      "outputs": [
        {
          "output_type": "stream",
          "name": "stdout",
          "text": [
            "Precisión:\n",
            "- Entrenamiento/Validación: 0.86\n",
            "- Prueba: 0.85\n",
            "Sensibilidad (recall):\n",
            "- Entrenamiento/Validación: 0.86\n",
            "- Prueba: 0.85\n",
            "F1:\n",
            "- Entrenamiento/Validación: 0.86\n",
            "- Prueba: 0.85\n"
          ]
        }
      ]
    },
    {
      "cell_type": "markdown",
      "source": [
        "En este modelo no parece haber sobreajuste, ya que las métricas de entrenamiento y prueba son muy similares."
      ],
      "metadata": {
        "id": "dwODTzAvULiP"
      }
    },
    {
      "cell_type": "markdown",
      "source": [
        "## 2.6) eXtreme Gradient Boosting (XGBoosting)\n",
        "\n",
        "Entrenamiento con el modelo:"
      ],
      "metadata": {
        "id": "480v3d4vAwqD"
      }
    },
    {
      "cell_type": "code",
      "source": [
        "clf = xgb.XGBClassifier()\n",
        "clf.fit(X_train, Y_train, eval_set=[(X_test, Y_test)])"
      ],
      "metadata": {
        "colab": {
          "base_uri": "https://localhost:8080/"
        },
        "id": "AEvQm9ADBShe",
        "outputId": "630669ab-86cd-48c9-c394-4e8dae653080"
      },
      "execution_count": null,
      "outputs": [
        {
          "output_type": "stream",
          "name": "stdout",
          "text": [
            "[0]\tvalidation_0-error:0.193182\n",
            "[1]\tvalidation_0-error:0.193182\n",
            "[2]\tvalidation_0-error:0.181818\n",
            "[3]\tvalidation_0-error:0.181818\n",
            "[4]\tvalidation_0-error:0.181818\n",
            "[5]\tvalidation_0-error:0.170455\n",
            "[6]\tvalidation_0-error:0.113636\n",
            "[7]\tvalidation_0-error:0.113636\n",
            "[8]\tvalidation_0-error:0.102273\n",
            "[9]\tvalidation_0-error:0.113636\n",
            "[10]\tvalidation_0-error:0.102273\n",
            "[11]\tvalidation_0-error:0.090909\n",
            "[12]\tvalidation_0-error:0.090909\n",
            "[13]\tvalidation_0-error:0.090909\n",
            "[14]\tvalidation_0-error:0.102273\n",
            "[15]\tvalidation_0-error:0.090909\n",
            "[16]\tvalidation_0-error:0.090909\n",
            "[17]\tvalidation_0-error:0.090909\n",
            "[18]\tvalidation_0-error:0.090909\n",
            "[19]\tvalidation_0-error:0.090909\n",
            "[20]\tvalidation_0-error:0.102273\n",
            "[21]\tvalidation_0-error:0.102273\n",
            "[22]\tvalidation_0-error:0.102273\n",
            "[23]\tvalidation_0-error:0.102273\n",
            "[24]\tvalidation_0-error:0.102273\n",
            "[25]\tvalidation_0-error:0.113636\n",
            "[26]\tvalidation_0-error:0.125\n",
            "[27]\tvalidation_0-error:0.113636\n",
            "[28]\tvalidation_0-error:0.113636\n",
            "[29]\tvalidation_0-error:0.113636\n",
            "[30]\tvalidation_0-error:0.113636\n",
            "[31]\tvalidation_0-error:0.113636\n",
            "[32]\tvalidation_0-error:0.113636\n",
            "[33]\tvalidation_0-error:0.113636\n",
            "[34]\tvalidation_0-error:0.113636\n",
            "[35]\tvalidation_0-error:0.125\n",
            "[36]\tvalidation_0-error:0.125\n",
            "[37]\tvalidation_0-error:0.125\n",
            "[38]\tvalidation_0-error:0.125\n",
            "[39]\tvalidation_0-error:0.125\n",
            "[40]\tvalidation_0-error:0.125\n",
            "[41]\tvalidation_0-error:0.125\n",
            "[42]\tvalidation_0-error:0.113636\n",
            "[43]\tvalidation_0-error:0.125\n",
            "[44]\tvalidation_0-error:0.125\n",
            "[45]\tvalidation_0-error:0.125\n",
            "[46]\tvalidation_0-error:0.125\n",
            "[47]\tvalidation_0-error:0.125\n",
            "[48]\tvalidation_0-error:0.147727\n",
            "[49]\tvalidation_0-error:0.147727\n",
            "[50]\tvalidation_0-error:0.147727\n",
            "[51]\tvalidation_0-error:0.136364\n",
            "[52]\tvalidation_0-error:0.147727\n",
            "[53]\tvalidation_0-error:0.147727\n",
            "[54]\tvalidation_0-error:0.136364\n",
            "[55]\tvalidation_0-error:0.136364\n",
            "[56]\tvalidation_0-error:0.136364\n",
            "[57]\tvalidation_0-error:0.136364\n",
            "[58]\tvalidation_0-error:0.136364\n",
            "[59]\tvalidation_0-error:0.125\n",
            "[60]\tvalidation_0-error:0.136364\n",
            "[61]\tvalidation_0-error:0.125\n",
            "[62]\tvalidation_0-error:0.136364\n",
            "[63]\tvalidation_0-error:0.136364\n",
            "[64]\tvalidation_0-error:0.136364\n",
            "[65]\tvalidation_0-error:0.136364\n",
            "[66]\tvalidation_0-error:0.136364\n",
            "[67]\tvalidation_0-error:0.136364\n",
            "[68]\tvalidation_0-error:0.136364\n",
            "[69]\tvalidation_0-error:0.147727\n",
            "[70]\tvalidation_0-error:0.136364\n",
            "[71]\tvalidation_0-error:0.136364\n",
            "[72]\tvalidation_0-error:0.136364\n",
            "[73]\tvalidation_0-error:0.136364\n",
            "[74]\tvalidation_0-error:0.136364\n",
            "[75]\tvalidation_0-error:0.136364\n",
            "[76]\tvalidation_0-error:0.136364\n",
            "[77]\tvalidation_0-error:0.136364\n",
            "[78]\tvalidation_0-error:0.136364\n",
            "[79]\tvalidation_0-error:0.136364\n",
            "[80]\tvalidation_0-error:0.136364\n",
            "[81]\tvalidation_0-error:0.136364\n",
            "[82]\tvalidation_0-error:0.136364\n",
            "[83]\tvalidation_0-error:0.136364\n",
            "[84]\tvalidation_0-error:0.136364\n",
            "[85]\tvalidation_0-error:0.136364\n",
            "[86]\tvalidation_0-error:0.136364\n",
            "[87]\tvalidation_0-error:0.136364\n",
            "[88]\tvalidation_0-error:0.136364\n",
            "[89]\tvalidation_0-error:0.147727\n",
            "[90]\tvalidation_0-error:0.147727\n",
            "[91]\tvalidation_0-error:0.147727\n",
            "[92]\tvalidation_0-error:0.147727\n",
            "[93]\tvalidation_0-error:0.147727\n",
            "[94]\tvalidation_0-error:0.147727\n",
            "[95]\tvalidation_0-error:0.147727\n",
            "[96]\tvalidation_0-error:0.147727\n",
            "[97]\tvalidation_0-error:0.147727\n",
            "[98]\tvalidation_0-error:0.147727\n",
            "[99]\tvalidation_0-error:0.147727\n"
          ]
        },
        {
          "output_type": "execute_result",
          "data": {
            "text/plain": [
              "XGBClassifier()"
            ]
          },
          "metadata": {},
          "execution_count": 44
        }
      ]
    },
    {
      "cell_type": "markdown",
      "source": [
        "Predicciones:"
      ],
      "metadata": {
        "id": "rLNJzmQeBWpC"
      }
    },
    {
      "cell_type": "code",
      "source": [
        "train_val_preds = clf.predict(X_train)\n",
        "test_preds = clf.predict(X_test)"
      ],
      "metadata": {
        "id": "FLxvqRTKBXqJ"
      },
      "execution_count": null,
      "outputs": []
    },
    {
      "cell_type": "markdown",
      "source": [
        "Métricas:"
      ],
      "metadata": {
        "id": "Q4Q2sjZjBb56"
      }
    },
    {
      "cell_type": "code",
      "source": [
        "print(f'Precisión:')\n",
        "print(f\"- Entrenamiento/Validación: {precision_score(Y_train, train_val_preds,average='weighted'):.2f}\")\n",
        "print(f\"- Prueba: {precision_score(Y_test, test_preds,average='weighted'):.2f}\")\n",
        "print(f'Sensibilidad (recall):')\n",
        "print(f\"- Entrenamiento/Validación: {recall_score(Y_train, train_val_preds,average='weighted'):.2f}\")\n",
        "print(f\"- Prueba: {recall_score(Y_test, test_preds,average='weighted'):.2f}\")\n",
        "print(f'F1:')\n",
        "print(f\"- Entrenamiento/Validación: {f1_score(Y_train, train_val_preds,average='weighted'):.2f}\")\n",
        "print(f\"- Prueba: {f1_score(Y_test, test_preds,average='weighted'):.2f}\")"
      ],
      "metadata": {
        "id": "3-Yx0rM9BhF9",
        "outputId": "b6e09b76-99ad-43f6-ba37-e9a186769226",
        "colab": {
          "base_uri": "https://localhost:8080/"
        }
      },
      "execution_count": null,
      "outputs": [
        {
          "output_type": "stream",
          "name": "stdout",
          "text": [
            "Precisión:\n",
            "- Entrenamiento/Validación: 0.99\n",
            "- Prueba: 0.86\n",
            "Sensibilidad (recall):\n",
            "- Entrenamiento/Validación: 0.99\n",
            "- Prueba: 0.85\n",
            "F1:\n",
            "- Entrenamiento/Validación: 0.99\n",
            "- Prueba: 0.85\n"
          ]
        }
      ]
    },
    {
      "cell_type": "markdown",
      "source": [
        "Este es un escenario de sobreajuste, ya que el modelo se aprende casi perfectamente los datos de entrenamiento."
      ],
      "metadata": {
        "id": "TNJVJbiSSHBY"
      }
    },
    {
      "cell_type": "markdown",
      "source": [
        "# 3) Elección del mejor modelo\n",
        "\n",
        "Considerando que interesa detectar casos que van a sufrir ataques, la sensibilidad (recall), que es la proporción de casos que van a sufrir el ataque detectados, es la métrica más importante. A partir de esta métrica, se obtiene la siguiente comparación:\n",
        "\n",
        "|Modelo | Entrenamiento | Prueba |\n",
        "|--------|--------------|--------|\n",
        "| Regresión logística | 0.95 | 0.82 |\n",
        "| Máquinas de vectores de soporte | 0.65 | 0.66 |\n",
        "| Aprendizaje basado en árboles de decisión | 0.93 | 0.83 |\n",
        "| Bosques aleatorios | 0.90 | 0.88 |\n",
        "| Redes neuronales | 0.86 | 0.85 |\n",
        "| XGBoosting | 0.99 | 0.85 |\n",
        "\n",
        "A partir de la comparación, se deduce que los modelos de regresión logística, aprendizaje basado en árboles de decisión y XGBoosting tienen sobreajuste. De los otros modelos, el modelo de bosques aleatorios tiene las mejores métricas. Sin embargo, comparado con redes neuronales, bien puede ser otro escenario de sobreajuste, aunque menos severo. En este sentido, se concluye que el mejor modelo es el de redes neuronales."
      ],
      "metadata": {
        "id": "YZ0THQ3fMcHU"
      }
    }
  ]
}